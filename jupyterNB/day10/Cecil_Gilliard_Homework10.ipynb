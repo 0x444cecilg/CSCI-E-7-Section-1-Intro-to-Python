{
 "cells": [
  {
   "cell_type": "markdown",
   "metadata": {},
   "source": [
    "# CSCI E 7 Homework 10\n",
    "\n",
    "## 2021"
   ]
  },
  {
   "cell_type": "markdown",
   "metadata": {},
   "source": [
    "## Fill in your name"
   ]
  },
  {
   "cell_type": "code",
   "execution_count": 1,
   "metadata": {},
   "outputs": [
    {
     "name": "stdout",
     "output_type": "stream",
     "text": [
      "Cecil Gilliard\n"
     ]
    }
   ],
   "source": [
    "first_name = \"Cecil\"\n",
    "last_name = \"Gilliard\"\n",
    "\n",
    "assert(len(first_name) != 0)\n",
    "assert(len(last_name)  != 0)\n",
    "print(first_name, last_name)"
   ]
  },
  {
   "cell_type": "markdown",
   "metadata": {},
   "source": [
    "# Problem 1: Subslice\n",
    "\n",
    "List A is a subslice of list B if you can find x and y such that\n",
    "```python\n",
    "A = B[x:y]\n",
    "```\n",
    "Write a function that decides if A is a subslice of B"
   ]
  },
  {
   "cell_type": "code",
   "execution_count": 64,
   "metadata": {},
   "outputs": [
    {
     "name": "stdout",
     "output_type": "stream",
     "text": [
      "True\n"
     ]
    }
   ],
   "source": [
    "def is_subslice(a, b):\n",
    "    \"\"\"Is A a slice from B?\"\"\"\n",
    "    # sort the lists\n",
    "#     a.sort()\n",
    "#     b.sort()\n",
    "    # create sets from lists\n",
    "    seta = set(a)\n",
    "    setb = set(b)\n",
    "    \n",
    "    if len(seta) == 0 and len(setb) == 0:\n",
    "        return True\n",
    "    # https://www.w3schools.com/python/ref_set_issubset.asp\n",
    "    if seta.issubset(setb):\n",
    "        return True\n",
    "    return False\n",
    "\n",
    "lst1 = [1, 2]\n",
    "lst2 = [2, 1]\n",
    "\n",
    "print(set(lst1).intersection(set(lst2)) == set(lst1))"
   ]
  },
  {
   "cell_type": "code",
   "execution_count": 25,
   "metadata": {},
   "outputs": [
    {
     "name": "stdout",
     "output_type": "stream",
     "text": [
      "True\n"
     ]
    }
   ],
   "source": [
    "def is_subslice(a, b):\n",
    "    \"\"\"Is A a slice from B?\"\"\"\n",
    "    if len(a) == 0 and len(b) == 0:\n",
    "        return True\n",
    "    elif len(a) == 0 and len(b) > 0:\n",
    "        return True\n",
    "    elif set(a).intersection(set(b)) == set(a):\n",
    "        return True\n",
    "    return any(a[i:i+len(b)] == b for i in range(len(a)))\n",
    "        \n",
    "\n",
    "    \n",
    "lst1 = [1, 2]\n",
    "lst2 = [2, 1]\n",
    "\n",
    "print(is_subslice(lst1, lst2))"
   ]
  },
  {
   "cell_type": "markdown",
   "metadata": {},
   "source": [
    "### Unit Tests"
   ]
  },
  {
   "cell_type": "code",
   "execution_count": 24,
   "metadata": {},
   "outputs": [
    {
     "ename": "AssertionError",
     "evalue": "",
     "output_type": "error",
     "traceback": [
      "\u001b[0;31m---------------------------------------------------------------------------\u001b[0m",
      "\u001b[0;31mAssertionError\u001b[0m                            Traceback (most recent call last)",
      "\u001b[0;32m<ipython-input-24-d2a179d1c832>\u001b[0m in \u001b[0;36m<module>\u001b[0;34m\u001b[0m\n\u001b[1;32m     18\u001b[0m     \u001b[0mprint\u001b[0m\u001b[0;34m(\u001b[0m\u001b[0;34m'Success!'\u001b[0m\u001b[0;34m)\u001b[0m\u001b[0;34m\u001b[0m\u001b[0;34m\u001b[0m\u001b[0m\n\u001b[1;32m     19\u001b[0m \u001b[0;34m\u001b[0m\u001b[0m\n\u001b[0;32m---> 20\u001b[0;31m \u001b[0mtest_subslice\u001b[0m\u001b[0;34m(\u001b[0m\u001b[0;34m)\u001b[0m\u001b[0;34m\u001b[0m\u001b[0;34m\u001b[0m\u001b[0m\n\u001b[0m",
      "\u001b[0;32m<ipython-input-24-d2a179d1c832>\u001b[0m in \u001b[0;36mtest_subslice\u001b[0;34m()\u001b[0m\n\u001b[1;32m      2\u001b[0m     \u001b[0;32massert\u001b[0m\u001b[0;34m(\u001b[0m\u001b[0mis_subslice\u001b[0m\u001b[0;34m(\u001b[0m\u001b[0;34m[\u001b[0m\u001b[0;34m]\u001b[0m\u001b[0;34m,\u001b[0m \u001b[0;34m[\u001b[0m\u001b[0;34m]\u001b[0m\u001b[0;34m)\u001b[0m\u001b[0;34m)\u001b[0m\u001b[0;34m\u001b[0m\u001b[0;34m\u001b[0m\u001b[0m\n\u001b[1;32m      3\u001b[0m     \u001b[0;32massert\u001b[0m\u001b[0;34m(\u001b[0m\u001b[0mis_subslice\u001b[0m\u001b[0;34m(\u001b[0m\u001b[0;34m[\u001b[0m\u001b[0;34m]\u001b[0m\u001b[0;34m,\u001b[0m \u001b[0;34m[\u001b[0m\u001b[0;36m1\u001b[0m\u001b[0;34m,\u001b[0m \u001b[0;36m2\u001b[0m\u001b[0;34m,\u001b[0m \u001b[0;36m3\u001b[0m\u001b[0;34m,\u001b[0m \u001b[0;36m4\u001b[0m\u001b[0;34m,\u001b[0m \u001b[0;36m5\u001b[0m\u001b[0;34m]\u001b[0m\u001b[0;34m)\u001b[0m\u001b[0;34m)\u001b[0m\u001b[0;34m\u001b[0m\u001b[0;34m\u001b[0m\u001b[0m\n\u001b[0;32m----> 4\u001b[0;31m     \u001b[0;32massert\u001b[0m\u001b[0;34m(\u001b[0m\u001b[0mis_subslice\u001b[0m\u001b[0;34m(\u001b[0m\u001b[0;34m[\u001b[0m\u001b[0;36m1\u001b[0m\u001b[0;34m,\u001b[0m \u001b[0;36m2\u001b[0m\u001b[0;34m,\u001b[0m \u001b[0;36m3\u001b[0m\u001b[0;34m]\u001b[0m\u001b[0;34m,\u001b[0m \u001b[0;34m[\u001b[0m\u001b[0;36m1\u001b[0m\u001b[0;34m,\u001b[0m \u001b[0;36m2\u001b[0m\u001b[0;34m,\u001b[0m \u001b[0;36m3\u001b[0m\u001b[0;34m,\u001b[0m \u001b[0;36m4\u001b[0m\u001b[0;34m,\u001b[0m \u001b[0;36m5\u001b[0m\u001b[0;34m]\u001b[0m\u001b[0;34m)\u001b[0m\u001b[0;34m)\u001b[0m\u001b[0;34m\u001b[0m\u001b[0;34m\u001b[0m\u001b[0m\n\u001b[0m\u001b[1;32m      5\u001b[0m     \u001b[0;32massert\u001b[0m\u001b[0;34m(\u001b[0m\u001b[0mis_subslice\u001b[0m\u001b[0;34m(\u001b[0m\u001b[0;34m[\u001b[0m\u001b[0;36m3\u001b[0m\u001b[0;34m,\u001b[0m \u001b[0;36m4\u001b[0m\u001b[0;34m,\u001b[0m \u001b[0;36m5\u001b[0m\u001b[0;34m]\u001b[0m\u001b[0;34m,\u001b[0m \u001b[0;34m[\u001b[0m\u001b[0;36m1\u001b[0m\u001b[0;34m,\u001b[0m \u001b[0;36m2\u001b[0m\u001b[0;34m,\u001b[0m \u001b[0;36m3\u001b[0m\u001b[0;34m,\u001b[0m \u001b[0;36m4\u001b[0m\u001b[0;34m,\u001b[0m \u001b[0;36m5\u001b[0m\u001b[0;34m]\u001b[0m\u001b[0;34m)\u001b[0m\u001b[0;34m)\u001b[0m\u001b[0;34m\u001b[0m\u001b[0;34m\u001b[0m\u001b[0m\n\u001b[1;32m      6\u001b[0m     \u001b[0;32massert\u001b[0m\u001b[0;34m(\u001b[0m\u001b[0mis_subslice\u001b[0m\u001b[0;34m(\u001b[0m\u001b[0;34m[\u001b[0m\u001b[0;36m3\u001b[0m\u001b[0;34m,\u001b[0m \u001b[0;36m4\u001b[0m\u001b[0;34m,\u001b[0m \u001b[0;36m5\u001b[0m\u001b[0;34m]\u001b[0m\u001b[0;34m,\u001b[0m \u001b[0;34m[\u001b[0m\u001b[0;36m1\u001b[0m\u001b[0;34m,\u001b[0m \u001b[0;36m2\u001b[0m\u001b[0;34m,\u001b[0m \u001b[0;36m3\u001b[0m\u001b[0;34m,\u001b[0m \u001b[0;36m4\u001b[0m\u001b[0;34m,\u001b[0m \u001b[0;36m5\u001b[0m\u001b[0;34m]\u001b[0m\u001b[0;34m)\u001b[0m\u001b[0;34m)\u001b[0m\u001b[0;34m\u001b[0m\u001b[0;34m\u001b[0m\u001b[0m\n",
      "\u001b[0;31mAssertionError\u001b[0m: "
     ]
    }
   ],
   "source": [
    "def test_subslice():\n",
    "    assert(is_subslice([], []))\n",
    "    assert(is_subslice([], [1, 2, 3, 4, 5]))\n",
    "    assert(is_subslice([1, 2, 3], [1, 2, 3, 4, 5]))\n",
    "    assert(is_subslice([3, 4, 5], [1, 2, 3, 4, 5]))\n",
    "    assert(is_subslice([3, 4, 5], [1, 2, 3, 4, 5]))\n",
    "    assert(is_subslice([3, 4, 5], [1, 2, 3, 4, 5]))\n",
    "    assert(is_subslice([5, 3, 4], [5, 1, 2, 5, 3, 4, 5, 3, 2, 1]))\n",
    "    assert(is_subslice([], [1, 2, 3, 4, 5]))\n",
    "    assert(is_subslice([3, 4], [1, 2, 3, 4, 5]))\n",
    "    assert(is_subslice([1, 2, 3], [1, 2, 3]))\n",
    "    assert(is_subslice([1, 2, 3], [1, 2, 1, 2, 3, 4, 5])) # If at first you don't succeed\n",
    "    assert(not is_subslice([1, 2], [12]))\n",
    "    assert(not is_subslice([1, 2], [2, 1]))\n",
    "    assert(not is_subslice([1, 2, 3, 4, 5], [2, 3, 4]))\n",
    "    assert(not is_subslice([1, 3, 5], [1, 2, 3, 4, 5])) # This is a subset, but isn't a subslice\n",
    "    \n",
    "    print('Success!')\n",
    "    \n",
    "test_subslice()"
   ]
  },
  {
   "cell_type": "markdown",
   "metadata": {},
   "source": [
    "# Problem 2: Word Lengths\n",
    "We are interested in the distribution of word lengths in English words.  We will use our file words.txt.  \n",
    "\n",
    "Write a function wordLengths() that takes a path to a list of words and returns a list with tuples holding the number of words of each word length.\n",
    "\n",
    "Sort your list by length of word.\n",
    "\n",
    "Here are my partial results: words.txt holds 85 words of length 2, 908 words of length 3, and 3 words of length 21.\n",
    "```python\n",
    "    [(2, 85), (3, 908), ... (21, 3)]\n",
    "```"
   ]
  },
  {
   "cell_type": "code",
   "execution_count": 1,
   "metadata": {},
   "outputs": [
    {
     "name": "stdout",
     "output_type": "stream",
     "text": [
      "[(2, 85), (3, 908), (4, 3686), (5, 8258), (6, 14374), (7, 21727), (8, 26447), (9, 16658), (10, 9199), (11, 5296), (12, 3166), (13, 1960), (14, 1023), (15, 557), (16, 261), (17, 132), (18, 48), (19, 16), (20, 5), (21, 3)]\n"
     ]
    }
   ],
   "source": [
    "def wordLengths(filepath):\n",
    "    \"\"\"Return sorted list of the number of words of each length\"\"\"\n",
    "    # open file for reading\n",
    "    with open(filepath, \"r\") as file:  \n",
    "        newdict = {}  \n",
    "        # read each word in file\n",
    "        for word in file:\n",
    "            words = word.strip()\n",
    "#             print(words, len(words))\n",
    "            # get the length of each word\n",
    "            key = len(words) \n",
    "            # https://stackoverflow.com/questions/1602934/check-if-a-given-key-already-exists-in-a-dictionary\n",
    "            # check if the key is in the dict, if so add 1 to counter, if not, new key, value 1 \n",
    "            if key in newdict.keys():  \n",
    "                newdict[key] = newdict[key] + 1\n",
    "            else:  \n",
    "                newdict[key] = 1\n",
    "#             print(newdict)\n",
    "        tupleLst = []\n",
    "        # https://stackoverflow.com/questions/9001509/how-can-i-sort-a-dictionary-by-key\n",
    "        # sort dictionary with a for loop        \n",
    "        for key in sorted(newdict):\n",
    "            # create tuples \n",
    "            tulips = (key, newdict[key])\n",
    "#             print(tulips)\n",
    "            # appending tuple to the list.\n",
    "            tupleLst.append(tulips)\n",
    "        return tupleLst;  # return list of tuple.\n",
    "print(wordLengths('words.txt'))"
   ]
  },
  {
   "cell_type": "markdown",
   "metadata": {},
   "source": [
    "### Unit Tests"
   ]
  },
  {
   "cell_type": "code",
   "execution_count": 2,
   "metadata": {},
   "outputs": [
    {
     "name": "stdout",
     "output_type": "stream",
     "text": [
      "[(2, 85), (3, 908), (4, 3686), (5, 8258), (6, 14374), (7, 21727), (8, 26447), (9, 16658), (10, 9199), (11, 5296), (12, 3166), (13, 1960), (14, 1023), (15, 557), (16, 261), (17, 132), (18, 48), (19, 16), (20, 5), (21, 3)]\n",
      "(2, 85)\n",
      "\n",
      "Success!\n"
     ]
    }
   ],
   "source": [
    "## Change this to point to your copy of words.txt\n",
    "filepath = 'words.txt'\n",
    "\n",
    "def test_wordLengths(filepath):\n",
    "    lst = wordLengths(filepath)\n",
    "    print(lst)\n",
    "    \n",
    "    print(lst[0])\n",
    "    assert lst[0] == (2, 85)\n",
    "    assert lst[1] == (3, 908)\n",
    "    assert lst[5] == (7, 21727)\n",
    "    assert lst[-1] == (21, 3)\n",
    "    \n",
    "    print('\\nSuccess!')\n",
    "\n",
    "test_wordLengths(filepath)"
   ]
  },
  {
   "cell_type": "code",
   "execution_count": 12,
   "metadata": {},
   "outputs": [
    {
     "name": "stdout",
     "output_type": "stream",
     "text": [
      "[2, 3, 4, 5, 6, 7, 8, 9, 10, 11, 12, 13, 14, 15, 16, 17, 18, 19, 20, 21]\n"
     ]
    }
   ],
   "source": [
    "lstT = wordLengths('words.txt')\n",
    "fen = [x[1] for x in lstT]\n",
    "ren = [x[0] for x in lstT]\n",
    "print(ren)"
   ]
  },
  {
   "cell_type": "markdown",
   "metadata": {},
   "source": [
    "# Problem 3: Draw a bar chart of the word lengths\n",
    "\n",
    "Use matplotlib to draw a bar chart of the word lengths.  You may want to peek at the documentation\n",
    "\n",
    "https://matplotlib.org/3.3.1/gallery/pyplots/pyplot_text.html#sphx-glr-gallery-pyplots-pyplot-text-py\n",
    "\n",
    "or at this tutorial\n",
    "\n",
    "https://datatofish.com/bar-chart-python-matplotlib/\n",
    "\n",
    "You may want to start with the vidoes I posted in Modules/Video Links/Libraries\n",
    "\n",
    "Your bar chart should lineup with your results from problem 1."
   ]
  },
  {
   "cell_type": "code",
   "execution_count": 25,
   "metadata": {},
   "outputs": [],
   "source": [
    "import matplotlib.pyplot as plt\n",
    "\n",
    "\n",
    "def plot_bar_chart(filepath):\n",
    "    \"\"\"Plot a histogram of word lengths\"\"\"\n",
    "        # open file for reading\n",
    "    with open(filepath, \"r\") as file:  \n",
    "        newdict = {}  \n",
    "        # read each word in file\n",
    "        for word in file:\n",
    "            words = word.strip()\n",
    "#             print(words, len(words))\n",
    "            # get the length of each word\n",
    "            key = len(words) \n",
    "            # https://stackoverflow.com/questions/1602934/check-if-a-given-key-already-exists-in-a-dictionary\n",
    "            # check if the key is in the dict, if so add 1 to counter, if not, new key, value 1 \n",
    "            if key in newdict.keys():  \n",
    "                newdict[key] = newdict[key] + 1\n",
    "            else:  \n",
    "                newdict[key] = 1\n",
    "#             print(newdict)\n",
    "        tupleLst = []\n",
    "        # https://stackoverflow.com/questions/9001509/how-can-i-sort-a-dictionary-by-key\n",
    "        # sort dictionary with a for loop        \n",
    "        for key in sorted(newdict):\n",
    "            # create tuples \n",
    "            tulips = (key, newdict[key])\n",
    "#             print(tulips)\n",
    "            # appending tuple to the list.\n",
    "            tupleLst.append(tulips)\n",
    "        # create 2 lists of letter count & frequency\n",
    "        letterLst = [i[0] for i in tupleLst]\n",
    "        freqLst   = [i[1] for i in tupleLst]\n",
    "#         return(freqLst)\n",
    "        colours = ['blue', 'red', 'purple', 'yellow', 'orange', 'green', 'indigo', 'gold', 'teal']\n",
    "        plt.bar(letterLst, freqLst, color='green')\n",
    "        plt.title('Histogram of Word Length')\n",
    "        plt.xlabel('Word Length')\n",
    "        plt.ylabel('# of words')\n",
    "        plt.xlim(2, 21)\n",
    "        plt.ylim(1, 30000)\n",
    "        plt.grid(True)\n",
    "        plt.show()\n",
    "\n"
   ]
  },
  {
   "cell_type": "markdown",
   "metadata": {},
   "source": [
    "### Unit Test"
   ]
  },
  {
   "cell_type": "code",
   "execution_count": 26,
   "metadata": {},
   "outputs": [
    {
     "data": {
      "image/png": "[encoded data removed]",
      "text/plain": [
       "<Figure size 640x480 with 1 Axes>"
      ]
     },
     "metadata": {},
     "output_type": "display_data"
    }
   ],
   "source": [
    "## Use the variable filepath defined above\n",
    "\n",
    "plot_bar_chart('words.txt')"
   ]
  },
  {
   "cell_type": "markdown",
   "metadata": {},
   "source": [
    "# Problem 4: Count Pairs\n",
    "\n",
    "Write a program to count the frequency of each pair of letters in a Fasta file holding a DNA sequence.\n",
    "\n",
    "Fasta files have a one line header describing the source, and a sequence of lines with information.  \n",
    "They are used to hold DNA or Amino Acid sequences.  \n",
    "\n",
    "For example, the file pACYC184.fasta holds a DNA sequence of length 4245, which starts as\n",
    "\n",
    "```python\n",
    "GAATTCCGG...\n",
    "```\n",
    "\n",
    "That holds the pairs GA, AA, AT, TT, TC, CC, CG, GG, ...\n",
    "\n",
    "You could store your data in a 2D array, a list of 4 lists of length 4, \n",
    "or you could store your data in a Dictionary mapping strings of length 2 to integers.    \n",
    "\n",
    "Count the frequency of each pair, and print a chart.  For pACYC184.fasta, the chart should look like this:\n",
    "\n",
    "```python\n",
    "        A       G       C       T \n",
    "A     251     212     231     262 \n",
    "G     229     287     361     216 \n",
    "C     288     312     291     276 \n",
    "T     188     282     284     274 \n",
    "```\n",
    "The function print_pair_count() has 'print' in the title, so you may print from the function.\n",
    "\n",
    "I suggest having functions to read the data, count the pairs, and print the chart.  "
   ]
  },
  {
   "cell_type": "code",
   "execution_count": 4,
   "metadata": {},
   "outputs": [
    {
     "name": "stdout",
     "output_type": "stream",
     "text": [
      "here is the set: {'a', 'c', 'b'} <class 'set'>\n",
      "here is the string: acb <class 'str'>\n"
     ]
    }
   ],
   "source": [
    "def test():\n",
    "    some_var_set=set('abca')\n",
    "    print(\"here is the set:\",some_var_set,type(some_var_set))\n",
    "    some_var_string=''.join(some_var_set)    \n",
    "    print(\"here is the string:\",some_var_string,type(some_var_string))\n",
    "\n",
    "test()"
   ]
  },
  {
   "cell_type": "code",
   "execution_count": 59,
   "metadata": {},
   "outputs": [
    {
     "name": "stdout",
     "output_type": "stream",
     "text": [
      "      A    G    C    T\n",
      "A   251  229  288  188\n",
      "G   212  287  312  282\n",
      "C   231  361  291  284\n",
      "T   262  216  276  274\n"
     ]
    }
   ],
   "source": [
    "from collections import defaultdict\n",
    "\n",
    "def print_pair_count(filename):\n",
    "    \"\"\"Print a chart showing frequency of base pairs in Fasta file\"\"\"\n",
    "    dict_chart = count_pairs(filename)\n",
    "#     print(dict_chart)\n",
    "#     print('\\t', end = ' ')\n",
    "    lst1 = []\n",
    "    space = \" \"\n",
    "    for item in dict_chart:\n",
    "        lst1.append(item[0])\n",
    "    titles = \"AGCT\"\n",
    "    string_titles =''.join(titles)\n",
    "#     print(string_titles)\n",
    "    # Print the col names\n",
    "    print(' ', end = ' ')    # Leave space for the row names\n",
    "    for pos, _ in enumerate(titles):\n",
    "        print(space * len(str(dict_chart[item])), string_titles[pos], end = '') # line up column titles with numbers\n",
    "    print()\n",
    "    for pos, row_ch in enumerate(titles):\n",
    "        # print row name\n",
    "        print(string_titles[pos], end = ' ')\n",
    "\n",
    "        # print row\n",
    "        for col_ch in titles:\n",
    "            # if the column matches the row find corresponding item in dict and print to cell\n",
    "            for item in dict_chart:\n",
    "                if (col_ch + row_ch) == item:\n",
    "                    print((space * len(row_ch)), dict_chart[item], end=\"\") \n",
    "        # Skip to new line\n",
    "        print()\n",
    "#         print(f'this is string:', str(string_titles[pos]))\n",
    "    \n",
    "def read_file(filename):\n",
    "    \"\"\"make dictionary of the base pairs and their frequency\"\"\"\n",
    "    # open file for reading, skip 1st line and read entire file as one string and remove \\n\n",
    "    with open(filename, \"r\") as dna_file:\n",
    "        next(dna_file)\n",
    "        dna = dna_file.read().replace(\"\\n\", '')\n",
    "        return dna\n",
    "        \n",
    "\n",
    "def count_pairs(filename):\n",
    "    \"\"\"Count the pairs in a string\"\"\"\n",
    "    newdict = defaultdict(int)\n",
    "    string = read_file(filename)\n",
    "#     print(string)\n",
    "    # make list of the pairs from string\n",
    "    # https://stackoverflow.com/questions/66024561/extract-list-of-consecutive-letter-pairs-from-string\n",
    "    pairs = [string[i:i+2] for i in range(len(string)-1)]\n",
    "#     print(len(pairs))\n",
    "    # add pairs to dictionary\n",
    "    for pair in pairs:\n",
    "        newdict[pair] = newdict[pair] + 1  \n",
    "    return(newdict) \n",
    "\n",
    "\n",
    "print_pair_count('pACYC184.fasta')"
   ]
  },
  {
   "cell_type": "markdown",
   "metadata": {},
   "source": [
    "### Unit Tests\n",
    "\n",
    "You will need to have copies of the three datasets in your directory.  \n",
    "\n",
    "Be sure to check the lengths of your strings: you don't want the newlines from the file included in your strings."
   ]
  },
  {
   "cell_type": "markdown",
   "metadata": {},
   "source": [
    "## Run your program on the datasets below"
   ]
  },
  {
   "cell_type": "code",
   "execution_count": 49,
   "metadata": {},
   "outputs": [
    {
     "name": "stdout",
     "output_type": "stream",
     "text": [
      "      A    G    C    T\n",
      "A   859  626  639  546\n",
      "G   623  582  550  638\n",
      "C   560  627  565  601\n",
      "T   629  557  599  786\n"
     ]
    }
   ],
   "source": [
    "print_pair_count('pKLMF-FX.fasta')  # string of length 9988"
   ]
  },
  {
   "cell_type": "code",
   "execution_count": 50,
   "metadata": {},
   "outputs": [
    {
     "name": "stdout",
     "output_type": "stream",
     "text": [
      "         A       G       C       T\n",
      "A   338006  267384  325327  212024\n",
      "G   238013  270252  346793  322379\n",
      "C   256773  384102  271821  267395\n",
      "T   309950  255699  236149  339584\n"
     ]
    }
   ],
   "source": [
    "print_pair_count('ecoli.fasta')     # string of length 4641652"
   ]
  },
  {
   "cell_type": "code",
   "execution_count": 51,
   "metadata": {},
   "outputs": [
    {
     "name": "stdout",
     "output_type": "stream",
     "text": [
      "         A       G       C       T\n",
      "A   2364973  1906206  2414606  1432121\n",
      "G   2360439  2238900  513594  2407152\n",
      "C   1594610  1784420  2237613  1907300\n",
      "T   1797885  1590558  2358130  2355793\n"
     ]
    }
   ],
   "source": [
    "print_pair_count('Human22.fasta')   # string of length 31264301"
   ]
  },
  {
   "cell_type": "markdown",
   "metadata": {},
   "source": [
    "Does anything seem odd in the last table?"
   ]
  },
  {
   "cell_type": "markdown",
   "metadata": {},
   "source": [
    "yes, for some reason my column titles are off... The GC is significantly less than the other base pairs...\n",
    "Possible genetic disorder? 🤔"
   ]
  },
  {
   "cell_type": "markdown",
   "metadata": {},
   "source": [
    "# Problem 5: The Extension School\n",
    "Use Beautiful Soup to examine the base landing page https://www.extension.harvard.edu\n",
    "\n",
    "How many links are there?\n",
    "\n",
    "Links may be relatve or absolute:\n",
    "    /academics/programs/academic-gap-year/ is a relative link: you get an absolute link by adding the base\n",
    "            \n",
    "    https://www.extension.harvard.edu/academics/programs/academic-gap-year/\n",
    "    \n",
    "How many links are relative?  How many are relative, and how many are absolute?\n",
    "\n",
    "(Why would a relative path be useful?)\n",
    "\n",
    "How many links appear twice?\n",
    "\n",
    "Which links appear three times?  "
   ]
  },
  {
   "cell_type": "markdown",
   "metadata": {},
   "source": [
    "## Find all the links"
   ]
  },
  {
   "cell_type": "code",
   "execution_count": 8,
   "metadata": {},
   "outputs": [
    {
     "name": "stdout",
     "output_type": "stream",
     "text": [
      "User-agent: *\n",
      "Disallow: /wp-admin/\n",
      "Allow: /wp-admin/admin-ajax.php\n",
      "Disallow: /wp-content/uploads/sites/8/wpforms/\n",
      "\n"
     ]
    }
   ],
   "source": [
    "from bs4 import BeautifulSoup\n",
    "import requests\n",
    "\n",
    "# first, we want to read the rules of the road\n",
    "webpage = requests.get(\"https://www.extension.harvard.edu/robots.txt\")\n",
    "webtext = webpage.text\n",
    "print(webtext)"
   ]
  },
  {
   "cell_type": "code",
   "execution_count": 9,
   "metadata": {},
   "outputs": [
    {
     "name": "stdout",
     "output_type": "stream",
     "text": [
      "True\n"
     ]
    }
   ],
   "source": [
    "import urllib.robotparser\n",
    "rp = urllib.robotparser.RobotFileParser()\n",
    "rp.set_url(\"https://www.extension.harvard.edu/robots.txt\")\n",
    "rp.read()\n",
    "print(rp.can_fetch(\"*\", \"https://www.extension.harvard.edu/\"))"
   ]
  },
  {
   "cell_type": "code",
   "execution_count": 31,
   "metadata": {},
   "outputs": [
    {
     "name": "stdout",
     "output_type": "stream",
     "text": [
      "24\n"
     ]
    }
   ],
   "source": [
    "webpage = requests.get(\"https://www.extension.harvard.edu/\")\n",
    "webtext = webpage.text\n",
    "soup = BeautifulSoup(webtext, \"html.parser\") \n",
    "links = soup.find_all('a')\n",
    "flst = []\n",
    "for i in links:\n",
    "    if i.get(\"href\").startswith(\"https\"):\n",
    "        continue\n",
    "#      print(i['href'], \":\", i.string) \n",
    "    flst.append(i.get('href'))\n",
    "print(len(flst))  \n",
    "# print(len(links))  # number of links on page"
   ]
  },
  {
   "cell_type": "code",
   "execution_count": 105,
   "metadata": {},
   "outputs": [],
   "source": [
    "## \n"
   ]
  },
  {
   "cell_type": "markdown",
   "metadata": {},
   "source": [
    "## How many links are there?"
   ]
  },
  {
   "cell_type": "code",
   "execution_count": 32,
   "metadata": {},
   "outputs": [
    {
     "name": "stdout",
     "output_type": "stream",
     "text": [
      "114\n"
     ]
    }
   ],
   "source": [
    "from bs4 import BeautifulSoup\n",
    "import requests\n",
    "\n",
    "\n",
    "webpage = requests.get(\"https://www.extension.harvard.edu/\")\n",
    "webtext = webpage.text\n",
    "\n",
    "soup = BeautifulSoup(webtext, \"html.parser\") \n",
    "links = soup.find_all('a') \n",
    "print(len(links))  # number of links on page\n"
   ]
  },
  {
   "cell_type": "markdown",
   "metadata": {},
   "source": [
    "## How many are relative links?"
   ]
  },
  {
   "cell_type": "code",
   "execution_count": 38,
   "metadata": {},
   "outputs": [
    {
     "name": "stdout",
     "output_type": "stream",
     "text": [
      "24\n"
     ]
    }
   ],
   "source": [
    "## \n",
    " \n",
    "links = soup.find_all('a')\n",
    "flst = [i.get(\"href\") for i in links if not i.get(\"href\").startswith(\"https\")] # list of relative links\n",
    "print(len(flst))  \n"
   ]
  },
  {
   "cell_type": "markdown",
   "metadata": {},
   "source": [
    "## How many links appear exactly twice?"
   ]
  },
  {
   "cell_type": "code",
   "execution_count": 62,
   "metadata": {},
   "outputs": [
    {
     "name": "stdout",
     "output_type": "stream",
     "text": [
      "1\n"
     ]
    }
   ],
   "source": [
    "from collections import defaultdict\n",
    "\n",
    "olddict = defaultdict(int)\n",
    "\n",
    "for link in links:\n",
    "    olddict[link] = olddict[link] + 1\n",
    "rst = [olddict[i] for i in olddict] # I was manually looking through to make sure\n",
    "# print(rst)\n",
    "setoflinks = set(links)\n",
    "\n",
    "print(len(links) - len(setoflinks)) # only 1 double\n"
   ]
  },
  {
   "cell_type": "markdown",
   "metadata": {},
   "source": [
    "## Which links appear three or more times?"
   ]
  },
  {
   "cell_type": "code",
   "execution_count": 7,
   "metadata": {},
   "outputs": [],
   "source": [
    "## List the links that appear more than twice\n",
    "\n",
    "## it appears 0 links appear 3 or more times "
   ]
  },
  {
   "cell_type": "markdown",
   "metadata": {},
   "source": [
    "# Post Mortem\n",
    "## How long did it take you to solve this problem set?\n",
    "## Did anything confuse you or cause difficulty?"
   ]
  },
  {
   "cell_type": "code",
   "execution_count": null,
   "metadata": {},
   "outputs": [],
   "source": [
    "## Your thoughts\n",
    "I couldn't figure out on my own how to fix 10.1 and didn't have the time this week to get the help needed. \n",
    "Will be interesting to see the solution.\n",
    "10.4 was an absolute nightmare. That being said, I'm better for having experienced it.🥰\n"
   ]
  }
 ],
 "metadata": {
  "kernelspec": {
   "display_name": "Python 3",
   "language": "python",
   "name": "python3"
  },
  "language_info": {
   "codemirror_mode": {
    "name": "ipython",
    "version": 3
   },
   "file_extension": ".py",
   "mimetype": "text/x-python",
   "name": "python",
   "nbconvert_exporter": "python",
   "pygments_lexer": "ipython3",
   "version": "3.8.11"
  }
 },
 "nbformat": 4,
 "nbformat_minor": 1
}
