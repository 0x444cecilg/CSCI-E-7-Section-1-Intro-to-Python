{
 "cells": [
  {
   "cell_type": "markdown",
   "metadata": {},
   "source": [
    "# Homework 10 Share\n",
    "## 2021"
   ]
  },
  {
   "cell_type": "markdown",
   "metadata": {},
   "source": [
    "# Problem 1: Employees\n",
    "\n",
    "Create an  Object for holding Employees\n",
    "\n",
    "Employees have a name, an age, and a Boolean that tells if they know Python\n",
    "\n",
    "### Populate your company with three Employees, and insert them in a list\n",
    "\n",
    "## The printer has jammed again!!!  \n",
    "\n",
    "Run over your list to find the employees who know Python and ask one of them to fix it.   "
   ]
  },
  {
   "cell_type": "markdown",
   "metadata": {},
   "source": [
    "## Rather than using Objects, we use Named Tuples in Office Hours\n",
    "\n",
    "These are discussed in Downey in chapter 19\n",
    "\n",
    "They provide a simple way to get lists with named fields"
   ]
  },
  {
   "cell_type": "code",
   "execution_count": 70,
   "metadata": {},
   "outputs": [
    {
     "name": "stdout",
     "output_type": "stream",
     "text": [
      "Lisa will fix the printer\n",
      "Lisa will fix the printer\n",
      "12\n",
      "12\n"
     ]
    },
    {
     "data": {
      "text/plain": [
       "True"
      ]
     },
     "execution_count": 70,
     "metadata": {},
     "output_type": "execute_result"
    }
   ],
   "source": [
    "from collections import namedtuple\n",
    "\n",
    "# Define what the names for the tuple will be\n",
    "Employee = namedtuple('Employee', ['Name', 'age', 'Python'])\n",
    "\n",
    "homer = Employee('Homer', 52, False)\n",
    "marge = Employee('Marge', 52, False)\n",
    "lisa  = Employee('Lisa', 12, True)\n",
    "lisa2 = Employee('Lisa', 12, True)\n",
    "\n",
    "\n",
    "lst = [homer, marge, lisa, lisa2]\n",
    "\n",
    "for p in lst:\n",
    "    if p.Python:\n",
    "        print(f\"{p.Name} will fix the printer\") \n",
    "        \n",
    "print(lisa.age)  # or we can say...\n",
    "print(lisa[1])\n",
    "        \n",
    "lisa == lisa2    # == works as you would like"
   ]
  },
  {
   "cell_type": "markdown",
   "metadata": {},
   "source": [
    "# Problem 2: Sudoku\n",
    "\n",
    "In the game Sudoku, the player tries to fil a square with a \n",
    "number from 1 to 9.  The number must not appear in the same row,\n",
    "column, or 3x3 square.\n",
    "\n",
    "You are given 3 lists, holding the values already seen in a\n",
    "row, column, and square.  Produce a list of the legal remaining\n",
    "values.  "
   ]
  },
  {
   "cell_type": "code",
   "execution_count": null,
   "metadata": {},
   "outputs": [],
   "source": [
    "def legal_values(row, col, square):\n",
    "    \"\"\"Which squares are left?\"\"\""
   ]
  },
  {
   "cell_type": "code",
   "execution_count": 23,
   "metadata": {},
   "outputs": [],
   "source": [
    "def legal_values(row, col, square):\n",
    "    \"\"\"Which squares are left?\"\"\"\n",
    "    \n",
    "    # What is already taken\n",
    "    taken = row + col + square\n",
    "    \n",
    "    # Look at the numbers 1, ... 9\n",
    "    res = []\n",
    "    for val in range(1, 10):\n",
    "        \n",
    "        # If val is not already taken\n",
    "        if val not in taken:\n",
    "            res.append(val)\n",
    "    \n",
    "    return res"
   ]
  },
  {
   "cell_type": "code",
   "execution_count": 24,
   "metadata": {},
   "outputs": [
    {
     "name": "stdout",
     "output_type": "stream",
     "text": [
      "Pass!\n"
     ]
    }
   ],
   "source": [
    "def test_sudoku():\n",
    "    assert(legal_values([1], [4], [7]) == [2, 3, 5, 6, 8, 9])\n",
    "    assert(legal_values([1, 2, 3], [4, 5, 6], [7, 8, 9]) == [])\n",
    "    assert(legal_values([1, 2, 3], [1, 2, 3], [7, 8, 9]) == [4, 5, 6])\n",
    "    assert(legal_values([1, 3, 5], [1, 4, 8], [7, 8, 9]) == [2, 6])\n",
    "    assert(legal_values([1, 3, 5, 7, 9], [2, 4, 6, 8], [7, 9]) == [])\n",
    "    assert(legal_values([1, 5, 7, 9], [2, 4, 8], [7, 9]) == [3, 6])\n",
    "    print('Pass!')\n",
    "    \n",
    "test_sudoku()"
   ]
  },
  {
   "cell_type": "markdown",
   "metadata": {},
   "source": [
    "# Problem 3: Inexact pattern match\n",
    "\n",
    "Write function that takes two parameters: the name of a fasta file\n",
    "and a pattern, and finds all strings Hamming Distance 1 or less from the pattern.  \n",
    "\n",
    "Return a list of the matching strings and their position.  \n",
    "\n",
    "Given ecoli.fasta and AAACCCGGGTTT, you should see 8 matches: the first in position 541956 and the last in position 4580164\n",
    "\n",
    "```python\n",
    "    [('AAAGCCGGGTTT', 541956), ... ('AAATCCGGGTTT', 4580164)]\n",
    "```"
   ]
  },
  {
   "cell_type": "markdown",
   "metadata": {},
   "source": [
    "## Let's look at reading and writing\n",
    "\n",
    "Leave the arithmetic to the reader\n",
    "\n",
    "## What does a fasta file look like?\n",
    "\n",
    "```python\n",
    ">gi|58255|emb|X06403.1| Cloning vector pACYC184\n",
    "GAATTCCGGATGAGCATTCATCAGGCGGGCAAGAATGTGAATAAAGGCCGGATAAAACTTGTGCTTATTT\n",
    "TTCTTTACGGTCTTTAAAAAGGCCGTAATATCCAGCTGAACGGTCTGGTTATAGGTACATTGAGCAACTG\n",
    "ACTGAAATGCCTCAAAATGTTCTTTACGATGCCATTGGGATATATCAACGGTGGTATATCCAGTGATTTT\n",
    "....\n",
    "```"
   ]
  },
  {
   "cell_type": "code",
   "execution_count": 109,
   "metadata": {},
   "outputs": [
    {
     "name": "stdout",
     "output_type": "stream",
     "text": [
      ">gi|58255|emb|X06403.1| Cloning vector pACYC184\r\n",
      "GAATTCCGGATGAGCATTCATCAGGCGGGCAAGAATGTGAATAAAGGCCGGATAAAACTTGTGCTTATTT\r\n",
      "TTCTTTACGGTCTTTAAAAAGGCCGTAATATCCAGCTGAACGGTCTGGTTATAGGTACATTGAGCAACTG\r\n",
      "ACTGAAATGCCTCAAAATGTTCTTTACGATGCCATTGGGATATATCAACGGTGGTATATCCAGTGATTTT\r\n"
     ]
    }
   ],
   "source": [
    "## Run a Unix command to see the first 4 lines of the file\n",
    "\n",
    "! head -n 4 ../Data/pACYC184.fasta"
   ]
  },
  {
   "cell_type": "markdown",
   "metadata": {},
   "source": [
    "## Be sure to remove the Newlines\n",
    "\n",
    "Each of these Fasta files contains a single strand of DNA.\n",
    "\n",
    "You need to join the lines together into a single string."
   ]
  },
  {
   "cell_type": "code",
   "execution_count": 10,
   "metadata": {},
   "outputs": [
    {
     "name": "stdout",
     "output_type": "stream",
     "text": [
      "s = 'ACCCGT\\nTGAACC\\nCCCCCC\\n'\n",
      "s = 'ACCCGTTGAACCCCCCCC'\n"
     ]
    }
   ],
   "source": [
    "s = 'ACCCGT\\nTGAACC\\nCCCCCC\\n'\n",
    "\n",
    "print(f\"{s = }\")\n",
    "\n",
    "s = s.replace('\\n', '')\n",
    "\n",
    "print(f\"{s = }\")"
   ]
  },
  {
   "cell_type": "markdown",
   "metadata": {},
   "source": [
    "## How can we print a table?\n",
    "\n",
    "The table we print below is called a dot plot.  These are used as a quick visualization.  See, for example, \n",
    "\n",
    "https://www.ncbi.nlm.nih.gov/pmc/articles/PMC5991294/\n",
    "\n",
    "To print a table we use nested for loops.  The outer loop prints a single row: the inner loop prints each column in the row.\n",
    "\n",
    "You can see repeats, such as GTT, and you can see reverals, such as ACT at start vs TCA at end.\n",
    "\n",
    "Try the palindrome below by uncommenting the third line"
   ]
  },
  {
   "cell_type": "code",
   "execution_count": 14,
   "metadata": {},
   "outputs": [
    {
     "name": "stdout",
     "output_type": "stream",
     "text": [
      "  A C T G G T T G A A C G T T C A \n",
      "A *               * *           * \n",
      "C   *                 *       *   \n",
      "T     *     * *           * *     \n",
      "G       * *     *       *         \n",
      "G       * *     *       *         \n",
      "T     *     * *           * *     \n",
      "T     *     * *           * *     \n",
      "G       * *     *       *         \n",
      "A *               * *           * \n",
      "A *               * *           * \n",
      "C   *                 *       *   \n",
      "G       * *     *       *         \n",
      "T     *     * *           * *     \n",
      "T     *     * *           * *     \n",
      "C   *                 *       *   \n",
      "A *               * *           * \n"
     ]
    }
   ],
   "source": [
    "\n",
    "\n",
    "s = 'ACTGGTTGAACGTTCA'\n",
    "# s = \"madam, I'm adam\"      # Uncomment these strings \n",
    "# s = count_pairs('pACYC184.fasta')\n",
    "\n",
    "\n",
    "# Print the col names\n",
    "print(' ', end = ' ')    # Leave space for the row names\n",
    "for pos, _ in enumerate(s):\n",
    "    print(s[pos], end = ' ')\n",
    "print()\n",
    "\n",
    "\n",
    "for pos, row_ch in enumerate(s):\n",
    "    # print row name\n",
    "    print(s[pos], end = ' ')\n",
    "    \n",
    "    # print row\n",
    "    for col_ch in s:\n",
    "        if row_ch == col_ch:\n",
    "            print('*', end = ' ')\n",
    "        else:\n",
    "            print(' ', end = ' ')\n",
    "            \n",
    "    # Skip to new line\n",
    "    print()"
   ]
  },
  {
   "cell_type": "code",
   "execution_count": 11,
   "metadata": {},
   "outputs": [],
   "source": [
    "def find_matches(filename, pattern):\n",
    "    \"\"\"Where are there near matches to pattern?\"\"\"\n",
    "    pass"
   ]
  },
  {
   "cell_type": "code",
   "execution_count": 21,
   "metadata": {},
   "outputs": [
    {
     "ename": "TypeError",
     "evalue": "object of type 'NoneType' has no len()",
     "output_type": "error",
     "traceback": [
      "\u001b[0;31m---------------------------------------------------------------------------\u001b[0m",
      "\u001b[0;31mTypeError\u001b[0m                                 Traceback (most recent call last)",
      "\u001b[0;32m<ipython-input-21-f6242d23c964>\u001b[0m in \u001b[0;36m<module>\u001b[0;34m\u001b[0m\n\u001b[1;32m     14\u001b[0m     \u001b[0mprint\u001b[0m\u001b[0;34m(\u001b[0m\u001b[0mlst\u001b[0m\u001b[0;34m)\u001b[0m\u001b[0;34m\u001b[0m\u001b[0;34m\u001b[0m\u001b[0m\n\u001b[1;32m     15\u001b[0m \u001b[0;34m\u001b[0m\u001b[0m\n\u001b[0;32m---> 16\u001b[0;31m \u001b[0mtest_match\u001b[0m\u001b[0;34m(\u001b[0m\u001b[0;34m)\u001b[0m\u001b[0;34m\u001b[0m\u001b[0;34m\u001b[0m\u001b[0m\n\u001b[0m",
      "\u001b[0;32m<ipython-input-21-f6242d23c964>\u001b[0m in \u001b[0;36mtest_match\u001b[0;34m()\u001b[0m\n\u001b[1;32m      4\u001b[0m     \u001b[0mpattern\u001b[0m \u001b[0;34m=\u001b[0m \u001b[0;34m'AAACCCGGGTTT'\u001b[0m\u001b[0;34m\u001b[0m\u001b[0;34m\u001b[0m\u001b[0m\n\u001b[1;32m      5\u001b[0m     \u001b[0mlst\u001b[0m \u001b[0;34m=\u001b[0m \u001b[0mfind_matches\u001b[0m\u001b[0;34m(\u001b[0m\u001b[0mfilename\u001b[0m\u001b[0;34m,\u001b[0m \u001b[0mpattern\u001b[0m\u001b[0;34m)\u001b[0m\u001b[0;34m\u001b[0m\u001b[0;34m\u001b[0m\u001b[0m\n\u001b[0;32m----> 6\u001b[0;31m     \u001b[0;32massert\u001b[0m\u001b[0;34m(\u001b[0m\u001b[0mlen\u001b[0m\u001b[0;34m(\u001b[0m\u001b[0mlst\u001b[0m\u001b[0;34m)\u001b[0m \u001b[0;34m==\u001b[0m \u001b[0;36m8\u001b[0m\u001b[0;34m)\u001b[0m\u001b[0;34m\u001b[0m\u001b[0;34m\u001b[0m\u001b[0m\n\u001b[0m\u001b[1;32m      7\u001b[0m     \u001b[0mprint\u001b[0m\u001b[0;34m(\u001b[0m\u001b[0mlst\u001b[0m\u001b[0;34m)\u001b[0m\u001b[0;34m\u001b[0m\u001b[0;34m\u001b[0m\u001b[0m\n\u001b[1;32m      8\u001b[0m \u001b[0;34m\u001b[0m\u001b[0m\n",
      "\u001b[0;31mTypeError\u001b[0m: object of type 'NoneType' has no len()"
     ]
    }
   ],
   "source": [
    "filename = 'ecoli.fasta'\n",
    "\n",
    "def test_match():\n",
    "    pattern = 'AAACCCGGGTTT'\n",
    "    lst = find_matches(filename, pattern)\n",
    "    assert(len(lst) == 8)\n",
    "    print(lst)\n",
    "\n",
    "    print()\n",
    "\n",
    "    pattern = 'TTTCTGCGTTCCA'\n",
    "    lst = find_matches(filename, pattern)\n",
    "    assert(len(lst) == 3)\n",
    "    print(lst)\n",
    "    \n",
    "test_match()"
   ]
  },
  {
   "cell_type": "markdown",
   "metadata": {},
   "source": [
    "# Problem 4: Anagrams\n",
    "\n",
    "Two words are anagrams if you can rearange the letters of the first to get the second.\n",
    "\n",
    "Our old friends 'abut' and 'tuba' are anagrams, but so are 'abets' and 'beats'.  \n",
    "\n",
    "However, 'hash' and 'sash', though they are the same length and made up of the same letters, are not anagrams. "
   ]
  },
  {
   "cell_type": "code",
   "execution_count": 22,
   "metadata": {},
   "outputs": [],
   "source": [
    "# Are the two words anagrams?\n",
    "def are_anagrams(word1, word2):\n",
    "    pass"
   ]
  },
  {
   "cell_type": "markdown",
   "metadata": {},
   "source": [
    "## We look at a number of different ways to attack this problem"
   ]
  },
  {
   "cell_type": "markdown",
   "metadata": {},
   "source": [
    "## Two Anagrams have the same set of letters"
   ]
  },
  {
   "cell_type": "code",
   "execution_count": 23,
   "metadata": {},
   "outputs": [],
   "source": [
    "def are_anagrams(word1, word2):\n",
    "    return set(word1) == set(word2)"
   ]
  },
  {
   "cell_type": "code",
   "execution_count": 24,
   "metadata": {},
   "outputs": [
    {
     "ename": "AssertionError",
     "evalue": "",
     "output_type": "error",
     "traceback": [
      "\u001b[0;31m---------------------------------------------------------------------------\u001b[0m",
      "\u001b[0;31mAssertionError\u001b[0m                            Traceback (most recent call last)",
      "\u001b[0;32m<ipython-input-24-7b00bb443eb8>\u001b[0m in \u001b[0;36m<module>\u001b[0;34m\u001b[0m\n\u001b[1;32m      9\u001b[0m     \u001b[0mprint\u001b[0m\u001b[0;34m(\u001b[0m\u001b[0;34m'Pass'\u001b[0m\u001b[0;34m)\u001b[0m\u001b[0;34m\u001b[0m\u001b[0;34m\u001b[0m\u001b[0m\n\u001b[1;32m     10\u001b[0m \u001b[0;34m\u001b[0m\u001b[0m\n\u001b[0;32m---> 11\u001b[0;31m \u001b[0mtest_anagrams\u001b[0m\u001b[0;34m(\u001b[0m\u001b[0;34m)\u001b[0m\u001b[0;34m\u001b[0m\u001b[0;34m\u001b[0m\u001b[0m\n\u001b[0m",
      "\u001b[0;32m<ipython-input-24-7b00bb443eb8>\u001b[0m in \u001b[0;36mtest_anagrams\u001b[0;34m()\u001b[0m\n\u001b[1;32m      2\u001b[0m     \u001b[0;32massert\u001b[0m\u001b[0;34m(\u001b[0m\u001b[0mare_anagrams\u001b[0m\u001b[0;34m(\u001b[0m\u001b[0;34m'abets'\u001b[0m\u001b[0;34m,\u001b[0m \u001b[0;34m'beats'\u001b[0m\u001b[0;34m)\u001b[0m\u001b[0;34m)\u001b[0m\u001b[0;34m\u001b[0m\u001b[0;34m\u001b[0m\u001b[0m\n\u001b[1;32m      3\u001b[0m     \u001b[0;32massert\u001b[0m\u001b[0;34m(\u001b[0m\u001b[0mare_anagrams\u001b[0m\u001b[0;34m(\u001b[0m\u001b[0;34m'hash'\u001b[0m\u001b[0;34m,\u001b[0m \u001b[0;34m'shah'\u001b[0m\u001b[0;34m)\u001b[0m\u001b[0;34m)\u001b[0m\u001b[0;34m\u001b[0m\u001b[0;34m\u001b[0m\u001b[0m\n\u001b[0;32m----> 4\u001b[0;31m     \u001b[0;32massert\u001b[0m\u001b[0;34m(\u001b[0m\u001b[0;32mnot\u001b[0m \u001b[0mare_anagrams\u001b[0m\u001b[0;34m(\u001b[0m\u001b[0;34m'hash'\u001b[0m\u001b[0;34m,\u001b[0m \u001b[0;34m'sash'\u001b[0m\u001b[0;34m)\u001b[0m\u001b[0;34m)\u001b[0m\u001b[0;34m\u001b[0m\u001b[0;34m\u001b[0m\u001b[0m\n\u001b[0m\u001b[1;32m      5\u001b[0m     \u001b[0;32massert\u001b[0m\u001b[0;34m(\u001b[0m\u001b[0;32mnot\u001b[0m \u001b[0mare_anagrams\u001b[0m\u001b[0;34m(\u001b[0m\u001b[0;34m'sash'\u001b[0m\u001b[0;34m,\u001b[0m \u001b[0;34m'hash'\u001b[0m\u001b[0;34m)\u001b[0m\u001b[0;34m)\u001b[0m\u001b[0;34m\u001b[0m\u001b[0;34m\u001b[0m\u001b[0m\n\u001b[1;32m      6\u001b[0m     \u001b[0;32massert\u001b[0m\u001b[0;34m(\u001b[0m\u001b[0;32mnot\u001b[0m \u001b[0mare_anagrams\u001b[0m\u001b[0;34m(\u001b[0m\u001b[0;34m'abets'\u001b[0m\u001b[0;34m,\u001b[0m \u001b[0;34m'beats zzzzzzzzzzzz'\u001b[0m\u001b[0;34m)\u001b[0m\u001b[0;34m)\u001b[0m\u001b[0;34m\u001b[0m\u001b[0;34m\u001b[0m\u001b[0m\n",
      "\u001b[0;31mAssertionError\u001b[0m: "
     ]
    }
   ],
   "source": [
    "def test_anagrams():\n",
    "    assert(are_anagrams('abets', 'beats'))\n",
    "    assert(are_anagrams('hash', 'shah'))\n",
    "    assert(not are_anagrams('hash', 'sash'))\n",
    "    assert(not are_anagrams('sash', 'hash'))\n",
    "    assert(not are_anagrams('abets', 'beats zzzzzzzzzzzz'))\n",
    "    \n",
    "    \n",
    "    print('Pass')\n",
    "\n",
    "test_anagrams()"
   ]
  },
  {
   "cell_type": "markdown",
   "metadata": {},
   "source": [
    "## While hash and sash have the same letters, they are not anagrams\n",
    "\n",
    "We need to track the frequency of each letter.\n",
    "\n",
    "Let's look at each letter in the first word, and match it with a letter in the second word."
   ]
  },
  {
   "cell_type": "code",
   "execution_count": 25,
   "metadata": {},
   "outputs": [],
   "source": [
    "def are_anagrams(word1, word2):\n",
    "    \n",
    "    for ch in word1:\n",
    "        if not ch in word2:\n",
    "            return False\n",
    "        else:\n",
    "            word2 = word2.replace(ch, '')\n",
    "            \n",
    "    return True"
   ]
  },
  {
   "cell_type": "code",
   "execution_count": 26,
   "metadata": {},
   "outputs": [
    {
     "ename": "AssertionError",
     "evalue": "",
     "output_type": "error",
     "traceback": [
      "\u001b[0;31m---------------------------------------------------------------------------\u001b[0m",
      "\u001b[0;31mAssertionError\u001b[0m                            Traceback (most recent call last)",
      "\u001b[0;32m<ipython-input-26-11829b148b57>\u001b[0m in \u001b[0;36m<module>\u001b[0;34m\u001b[0m\n\u001b[0;32m----> 1\u001b[0;31m \u001b[0mtest_anagrams\u001b[0m\u001b[0;34m(\u001b[0m\u001b[0;34m)\u001b[0m\u001b[0;34m\u001b[0m\u001b[0;34m\u001b[0m\u001b[0m\n\u001b[0m",
      "\u001b[0;32m<ipython-input-24-7b00bb443eb8>\u001b[0m in \u001b[0;36mtest_anagrams\u001b[0;34m()\u001b[0m\n\u001b[1;32m      1\u001b[0m \u001b[0;32mdef\u001b[0m \u001b[0mtest_anagrams\u001b[0m\u001b[0;34m(\u001b[0m\u001b[0;34m)\u001b[0m\u001b[0;34m:\u001b[0m\u001b[0;34m\u001b[0m\u001b[0;34m\u001b[0m\u001b[0m\n\u001b[1;32m      2\u001b[0m     \u001b[0;32massert\u001b[0m\u001b[0;34m(\u001b[0m\u001b[0mare_anagrams\u001b[0m\u001b[0;34m(\u001b[0m\u001b[0;34m'abets'\u001b[0m\u001b[0;34m,\u001b[0m \u001b[0;34m'beats'\u001b[0m\u001b[0;34m)\u001b[0m\u001b[0;34m)\u001b[0m\u001b[0;34m\u001b[0m\u001b[0;34m\u001b[0m\u001b[0m\n\u001b[0;32m----> 3\u001b[0;31m     \u001b[0;32massert\u001b[0m\u001b[0;34m(\u001b[0m\u001b[0mare_anagrams\u001b[0m\u001b[0;34m(\u001b[0m\u001b[0;34m'hash'\u001b[0m\u001b[0;34m,\u001b[0m \u001b[0;34m'shah'\u001b[0m\u001b[0;34m)\u001b[0m\u001b[0;34m)\u001b[0m\u001b[0;34m\u001b[0m\u001b[0;34m\u001b[0m\u001b[0m\n\u001b[0m\u001b[1;32m      4\u001b[0m     \u001b[0;32massert\u001b[0m\u001b[0;34m(\u001b[0m\u001b[0;32mnot\u001b[0m \u001b[0mare_anagrams\u001b[0m\u001b[0;34m(\u001b[0m\u001b[0;34m'hash'\u001b[0m\u001b[0;34m,\u001b[0m \u001b[0;34m'sash'\u001b[0m\u001b[0;34m)\u001b[0m\u001b[0;34m)\u001b[0m\u001b[0;34m\u001b[0m\u001b[0;34m\u001b[0m\u001b[0m\n\u001b[1;32m      5\u001b[0m     \u001b[0;32massert\u001b[0m\u001b[0;34m(\u001b[0m\u001b[0;32mnot\u001b[0m \u001b[0mare_anagrams\u001b[0m\u001b[0;34m(\u001b[0m\u001b[0;34m'sash'\u001b[0m\u001b[0;34m,\u001b[0m \u001b[0;34m'hash'\u001b[0m\u001b[0;34m)\u001b[0m\u001b[0;34m)\u001b[0m\u001b[0;34m\u001b[0m\u001b[0;34m\u001b[0m\u001b[0m\n",
      "\u001b[0;31mAssertionError\u001b[0m: "
     ]
    }
   ],
   "source": [
    "test_anagrams()"
   ]
  },
  {
   "cell_type": "markdown",
   "metadata": {},
   "source": [
    "## String replace replaces all copies\n",
    "\n",
    "We need to keep track of the frequency, and string replace can remove one copy or many"
   ]
  },
  {
   "cell_type": "code",
   "execution_count": 27,
   "metadata": {},
   "outputs": [
    {
     "name": "stdout",
     "output_type": "stream",
     "text": [
      "s = 'test'\n",
      "s = 'es'\n"
     ]
    }
   ],
   "source": [
    "s = 'test'\n",
    "print(f\"{s = }\")\n",
    "\n",
    "s = s.replace('t', '')\n",
    "print(f\"{s = }\")"
   ]
  },
  {
   "cell_type": "markdown",
   "metadata": {},
   "source": [
    "## We can use list remove to remove things from word2\n",
    "\n",
    "String replace replaces all copies, so we loose track of the frequency of a letter.\n",
    "\n",
    "List remove removes a single instance each time."
   ]
  },
  {
   "cell_type": "code",
   "execution_count": 28,
   "metadata": {},
   "outputs": [
    {
     "name": "stdout",
     "output_type": "stream",
     "text": [
      "s = ['t', 'e', 's', 't']\n",
      "s = ['e', 's', 't']\n"
     ]
    }
   ],
   "source": [
    "s = list('test')\n",
    "print(f\"{s = }\")\n",
    "\n",
    "s.remove('t')\n",
    "print(f\"{s = }\")"
   ]
  },
  {
   "cell_type": "code",
   "execution_count": 29,
   "metadata": {},
   "outputs": [],
   "source": [
    "def are_anagrams(word1, word2):\n",
    "    lst1 = list(word1.lower())\n",
    "    lst2 = list(word2.lower())\n",
    "    \n",
    "    for ch in lst1:\n",
    "        if not ch in lst2:\n",
    "            return False\n",
    "        else:\n",
    "            lst2.remove(ch)\n",
    "            \n",
    "    return len(lst2) == 0"
   ]
  },
  {
   "cell_type": "code",
   "execution_count": 30,
   "metadata": {},
   "outputs": [
    {
     "name": "stdout",
     "output_type": "stream",
     "text": [
      "Pass\n"
     ]
    }
   ],
   "source": [
    "test_anagrams()"
   ]
  },
  {
   "cell_type": "markdown",
   "metadata": {},
   "source": [
    "## We can look for a representative\n",
    "\n",
    "Counters are a special form of Dictionary: the value measures the frequency.\n",
    "\n",
    "This captures the frequency of each letter: what we need for this problem.\n",
    "    \n",
    "Downey also discusses Counters in Chapter 19.  There is a reason it is called 'The Goodies'."
   ]
  },
  {
   "cell_type": "code",
   "execution_count": 31,
   "metadata": {},
   "outputs": [],
   "source": [
    "from collections import Counter\n",
    "import sys\n",
    "\n",
    "def are_anagrams(word1, word2):\n",
    "    count1 = Counter(word1)\n",
    "    count2 = Counter(word2)\n",
    "    \n",
    "    # Debugging\n",
    "    print(f\"{count1 = }\") \n",
    "\n",
    "    return count1 == count2"
   ]
  },
  {
   "cell_type": "code",
   "execution_count": 32,
   "metadata": {},
   "outputs": [
    {
     "name": "stdout",
     "output_type": "stream",
     "text": [
      "count1 = Counter({'a': 1, 'b': 1, 'e': 1, 't': 1, 's': 1})\n",
      "count1 = Counter({'h': 2, 'a': 1, 's': 1})\n",
      "count1 = Counter({'h': 2, 'a': 1, 's': 1})\n",
      "count1 = Counter({'s': 2, 'a': 1, 'h': 1})\n",
      "count1 = Counter({'a': 1, 'b': 1, 'e': 1, 't': 1, 's': 1})\n",
      "Pass\n"
     ]
    }
   ],
   "source": [
    "test_anagrams()"
   ]
  },
  {
   "cell_type": "markdown",
   "metadata": {},
   "source": [
    "## We can use Sorted Lists as representatives\n",
    "\n",
    "They take less memory than a Dictionary, and Counters are Dictionaries."
   ]
  },
  {
   "cell_type": "code",
   "execution_count": 104,
   "metadata": {},
   "outputs": [],
   "source": [
    "from collections import Counter\n",
    "import sys\n",
    "\n",
    "def are_anagrams(word1, word2):\n",
    "    ls1 = sorted(list(word1))\n",
    "    ls2 = sorted(list(word2))\n",
    "    print(f\"{ls1 = }\")\n",
    "    return ls1 == ls2"
   ]
  },
  {
   "cell_type": "code",
   "execution_count": 105,
   "metadata": {},
   "outputs": [
    {
     "name": "stdout",
     "output_type": "stream",
     "text": [
      "ls1 = ['a', 'b', 'e', 's', 't']\n",
      "ls1 = ['a', 'h', 'h', 's']\n",
      "ls1 = ['a', 'h', 'h', 's']\n",
      "ls1 = ['a', 'h', 's', 's']\n",
      "ls1 = ['a', 'b', 'e', 's', 't']\n",
      "Pass\n"
     ]
    }
   ],
   "source": [
    "test_anagrams()"
   ]
  },
  {
   "cell_type": "markdown",
   "metadata": {},
   "source": [
    "## Even smaller Representative\n",
    "\n",
    "We can join the list into a string, which takes less space than a list of letters."
   ]
  },
  {
   "cell_type": "code",
   "execution_count": 106,
   "metadata": {},
   "outputs": [],
   "source": [
    "from collections import Counter\n",
    "import sys\n",
    "\n",
    "def are_anagrams(word1, word2):\n",
    "    ls1 = ''.join(sorted(list(word1)))\n",
    "    ls2 = ''.join(sorted(list(word2)))\n",
    "    print(f\"{ls1 = }\")\n",
    "    return ls1 == ls2"
   ]
  },
  {
   "cell_type": "code",
   "execution_count": 107,
   "metadata": {},
   "outputs": [
    {
     "name": "stdout",
     "output_type": "stream",
     "text": [
      "ls1 = 'abest'\n",
      "ls1 = 'ahhs'\n",
      "ls1 = 'ahhs'\n",
      "ls1 = 'ahss'\n",
      "ls1 = 'abest'\n",
      "Pass\n"
     ]
    }
   ],
   "source": [
    "test_anagrams()"
   ]
  }
 ],
 "metadata": {
  "kernelspec": {
   "display_name": "Python 3",
   "language": "python",
   "name": "python3"
  },
  "language_info": {
   "codemirror_mode": {
    "name": "ipython",
    "version": 3
   },
   "file_extension": ".py",
   "mimetype": "text/x-python",
   "name": "python",
   "nbconvert_exporter": "python",
   "pygments_lexer": "ipython3",
   "version": "3.8.11"
  }
 },
 "nbformat": 4,
 "nbformat_minor": 1
}
