{
 "cells": [
  {
   "cell_type": "markdown",
   "metadata": {},
   "source": [
    "# Introduction to Programming with Python\n",
    "## Day 3 Notebook: Loops and the Turtle\n",
    "## Fall 2021 (c) Jeff Parker "
   ]
  },
  {
   "cell_type": "markdown",
   "metadata": {},
   "source": [
    "# Topics\n",
    "- Documenting your work\n",
    "- Loops\n",
    "- Turtle Graphics\n",
    "- Using PyCharm to debug a program"
   ]
  },
  {
   "cell_type": "markdown",
   "metadata": {},
   "source": [
    "# Documenting your work\n",
    "\n",
    "## Doc (Document) strings for functions"
   ]
  },
  {
   "cell_type": "code",
   "execution_count": null,
   "metadata": {},
   "outputs": [],
   "source": [
    "def greeting(name):                   # define greeting() function\n",
    "    return f'Hello, {name}!'          # return a string\n",
    "\n",
    "\n",
    "print(greeting('Sam'))                # call function and print it"
   ]
  },
  {
   "cell_type": "code",
   "execution_count": null,
   "metadata": {},
   "outputs": [],
   "source": [
    "help(greeting)"
   ]
  },
  {
   "cell_type": "code",
   "execution_count": null,
   "metadata": {},
   "outputs": [],
   "source": [
    "def greet_hello(aka):\n",
    "    return f'"
   ]
  },
  {
   "cell_type": "markdown",
   "metadata": {},
   "source": [
    "## Let's add Type Hints and try again"
   ]
  },
  {
   "cell_type": "code",
   "execution_count": null,
   "metadata": {},
   "outputs": [],
   "source": [
    "def greeting(name: str) -> str:        # define greeting() function\n",
    "    return f'Hello, {name}!'          # return a string"
   ]
  },
  {
   "cell_type": "code",
   "execution_count": null,
   "metadata": {},
   "outputs": [],
   "source": [
    "help(greeting)"
   ]
  },
  {
   "cell_type": "markdown",
   "metadata": {},
   "source": [
    "## Add a string describing function after the first line\n",
    "### This is called a \"Doc string\" or Document string "
   ]
  },
  {
   "cell_type": "code",
   "execution_count": null,
   "metadata": {},
   "outputs": [],
   "source": [
    "def greeting(name: str)-> str:        \n",
    "    \"Return a greeting to 'name'\"    # Doc string\n",
    "    return f'Hello, {name}!'"
   ]
  },
  {
   "cell_type": "code",
   "execution_count": null,
   "metadata": {},
   "outputs": [],
   "source": [
    "help(greeting)"
   ]
  },
  {
   "cell_type": "markdown",
   "metadata": {},
   "source": [
    "## Let's look at where the doc string was stored\n",
    "\n",
    "Use the builtin function dir().  \n",
    "\n",
    "https://docs.python.org/3/library/functions.html\n",
    "\n",
    "```python\n",
    "dir([object])\n",
    "\n",
    "Without arguments, return the list of names in the current local scope.   With an argument, attempt to return a list of valid attributes for that object.\n",
    "```"
   ]
  },
  {
   "cell_type": "code",
   "execution_count": null,
   "metadata": {},
   "outputs": [],
   "source": [
    "help(dir)"
   ]
  },
  {
   "cell_type": "code",
   "execution_count": null,
   "metadata": {},
   "outputs": [],
   "source": [
    "dir(greeting)"
   ]
  },
  {
   "cell_type": "code",
   "execution_count": null,
   "metadata": {},
   "outputs": [],
   "source": [
    "greeting.__doc__"
   ]
  },
  {
   "cell_type": "markdown",
   "metadata": {},
   "source": [
    "## *We store the doc string for greeting in greeting dunder doc*"
   ]
  },
  {
   "cell_type": "markdown",
   "metadata": {},
   "source": [
    "## *We call _ underbar, and we call __ double underbar.*\n",
    "### This \"Double underbar doc double underbar\" or \"Dunder doc\"\n",
    "\n",
    "### Pronounce the following function name:\n",
    "\n",
    "```python\n",
    "    __Mifflin__()\n",
    "```\n",
    "### *We will look at doc strings for functions we learn today*"
   ]
  },
  {
   "cell_type": "markdown",
   "metadata": {},
   "source": [
    "# Turtle Graphics"
   ]
  },
  {
   "cell_type": "code",
   "execution_count": null,
   "metadata": {},
   "outputs": [],
   "source": [
    "import turtle\n",
    "\n",
    "bob = turtle.Turtle()    # Create a turtle Object\n",
    "print(bob)\n",
    "\n",
    "bob.fd(100)              # fd() - Move forward\n",
    "bob.lt(90)               # lt() - Left Turn 90 degrees\n",
    "bob.fd(100)"
   ]
  },
  {
   "cell_type": "markdown",
   "metadata": {},
   "source": [
    "# Stop the SBOD! \n",
    "### https://www.urbandictionary.com/define.php?term=SBOD"
   ]
  },
  {
   "cell_type": "code",
   "execution_count": null,
   "metadata": {},
   "outputs": [],
   "source": [
    "import turtle\n",
    "\n",
    "bob = turtle.Turtle()    # Create a turtle Object\n",
    "print(bob)\n",
    "\n",
    "bob.fd(100)              # fd() - Move forward\n",
    "bob.lt(90)               # lt() - Left Turn 90 degrees\n",
    "bob.fd(100)\n",
    "\n",
    "turtle.mainloop()        # Stop SBOD"
   ]
  },
  {
   "cell_type": "markdown",
   "metadata": {},
   "source": [
    "## What does mainloop() do?"
   ]
  },
  {
   "cell_type": "code",
   "execution_count": null,
   "metadata": {},
   "outputs": [],
   "source": [
    "import turtle\n",
    "\n",
    "help(turtle.mainloop)"
   ]
  },
  {
   "cell_type": "markdown",
   "metadata": {},
   "source": [
    "## Let's look in the implementation of turtle\n",
    "\n",
    "My copy of the library is in \n",
    "/Users/jparker/opt/anaconda3/lib/python3.8/turtle.py\n",
    "\n",
    "We will learn how to find libraries shortly\n",
    "\n",
    "The definition of function mainloop() starts at line 801:\n",
    "```python\n",
    "def mainloop(self):\n",
    "    \"\"\"Starts event loop - calling Tkinter's mainloop function.\n",
    "\n",
    "    No argument.\n",
    "\n",
    "    Must be last statement in a turtle graphics program.\n",
    "    Must NOT be used if a script is run from within IDLE in -n mode\n",
    "    (No subprocess) - for interactive use of turtle graphics.\n",
    "\n",
    "    Example (for a TurtleScreen instance named screen):\n",
    "    >>> screen.mainloop()\n",
    "```\n",
    "\n",
    "The Docstring is the help text"
   ]
  },
  {
   "cell_type": "markdown",
   "metadata": {},
   "source": [
    "## Running more than once\n",
    "\n",
    "When running the Turtle from a notebook, I find I need to kill the Python process that runs the Turtle programs\n",
    "\n",
    "On MacOS I open Apple/ForceQuit and use that window to kill the Python process\n",
    "\n",
    "The following code helps to avoid this annoyance\n",
    "\n",
    "```python\n",
    "# Wait for the user\n",
    "turtle.mainloop()\n",
    "\n",
    "try:\n",
    "    turtle.bye()\n",
    "except:\n",
    "    print(\"bye\") \n",
    "```\n",
    "\n",
    "Despite the documentation's statement that mainloop() should be last, put this after mainloop.  \n",
    "\n",
    "I'm printing 'bye' to show what is going on here: later I will silently catch the exception."
   ]
  },
  {
   "cell_type": "code",
   "execution_count": null,
   "metadata": {},
   "outputs": [],
   "source": [
    "import turtle\n",
    "\n",
    "help(turtle.bye)"
   ]
  },
  {
   "cell_type": "markdown",
   "metadata": {},
   "source": [
    "# For loop\n",
    "## When you're having more than one"
   ]
  },
  {
   "cell_type": "code",
   "execution_count": null,
   "metadata": {},
   "outputs": [],
   "source": [
    "import turtle\n",
    "\n",
    "bob = turtle.Turtle()    # Create a turtle Object\n",
    "\n",
    "for i in range(4):       # for i in [0, 1, 2, 3]\n",
    "    bob.fd(100)          # fd() - Move forward\n",
    "    bob.lt(90)           # lt() - Left Turn\n",
    "\n",
    "turtle.mainloop()        # Stop SBOD\n",
    "\n",
    "try:                     # \n",
    "    turtle.bye()\n",
    "except:\n",
    "    print(\"bye\") "
   ]
  },
  {
   "cell_type": "markdown",
   "metadata": {},
   "source": [
    "## Print 4 numbers"
   ]
  },
  {
   "cell_type": "code",
   "execution_count": null,
   "metadata": {},
   "outputs": [],
   "source": [
    "for i in range(4): \n",
    "    print(i)"
   ]
  },
  {
   "cell_type": "markdown",
   "metadata": {},
   "source": [
    "## Components\n",
    "- for - Keyword\n",
    "- i - Loop variable\n",
    "- range(4) - yields 0, 1, 2, 3\n",
    "- : - start of block\n",
    "- print(i) - Block to repeat"
   ]
  },
  {
   "cell_type": "markdown",
   "metadata": {},
   "source": [
    "## Bart's helper\n",
    "\n",
    "http://bartsblackboard.com/i-will-not-waste-chalk/season-1/3/"
   ]
  },
  {
   "cell_type": "code",
   "execution_count": null,
   "metadata": {},
   "outputs": [],
   "source": [
    "def help_bart(s):\n",
    "    for i in range(100):\n",
    "        print(s)\n",
    "        \n",
    "help_bart(\"I will not print inside a function\")"
   ]
  },
  {
   "cell_type": "markdown",
   "metadata": {},
   "source": [
    "# We can iterate over a string using indexing"
   ]
  },
  {
   "cell_type": "code",
   "execution_count": null,
   "metadata": {},
   "outputs": [],
   "source": [
    "s = 'frog'\n",
    "\n",
    "for i in range(len(s)):\n",
    "    print(s[i])"
   ]
  },
  {
   "cell_type": "markdown",
   "metadata": {},
   "source": [
    "### More Pythonic to skip range(), len() and iterate directly"
   ]
  },
  {
   "cell_type": "code",
   "execution_count": null,
   "metadata": {},
   "outputs": [],
   "source": [
    "s = 'frog'\n",
    "\n",
    "for ch in s:       # More Pythonic loop\n",
    "    print(ch)"
   ]
  },
  {
   "cell_type": "markdown",
   "metadata": {},
   "source": [
    "Replace\n",
    "```python\n",
    "    for i in range(len(s)):\n",
    "        print(s[i])\n",
    "```\n",
    "with\n",
    "```python\n",
    "    for ch in s:\n",
    "        print(ch)\n",
    "```\n",
    "## Loop variable ch takes on each character in turn\n",
    "\n",
    "## *Better because it is simpler*\n",
    "\n",
    "We don't need len(), range(), and indexing."
   ]
  },
  {
   "cell_type": "markdown",
   "metadata": {},
   "source": [
    "# Iterate over a slice"
   ]
  },
  {
   "cell_type": "code",
   "execution_count": null,
   "metadata": {},
   "outputs": [],
   "source": [
    "s = \"small red dog\"\n",
    "\n",
    "for ch in s[6:9]:\n",
    "    print(ch)"
   ]
  },
  {
   "cell_type": "code",
   "execution_count": null,
   "metadata": {},
   "outputs": [],
   "source": [
    "s = \"small\"\n",
    "\n",
    "for ch in s[::2]:\n",
    "    print(ch)"
   ]
  },
  {
   "cell_type": "code",
   "execution_count": null,
   "metadata": {},
   "outputs": [],
   "source": [
    "s = \"small\"\n",
    "\n",
    "for ch in s[::-2]:\n",
    "    print(ch)"
   ]
  },
  {
   "cell_type": "markdown",
   "metadata": {},
   "source": [
    "# Iterate over a list"
   ]
  },
  {
   "cell_type": "code",
   "execution_count": null,
   "metadata": {},
   "outputs": [],
   "source": [
    "lst = [3, 10, 5, 16, 8, 4, 2, 1]\n",
    "\n",
    "for i in lst:\n",
    "    print(i)"
   ]
  },
  {
   "cell_type": "code",
   "execution_count": null,
   "metadata": {},
   "outputs": [],
   "source": [
    "lst = [\"one\", \"two\", \"three\"]\n",
    "\n",
    "for word in lst:\n",
    "    print(word)"
   ]
  },
  {
   "cell_type": "markdown",
   "metadata": {},
   "source": [
    "## *We can iterate over many Python collections*"
   ]
  },
  {
   "cell_type": "markdown",
   "metadata": {},
   "source": [
    "# Return to task: For loops with a Turtle"
   ]
  },
  {
   "cell_type": "code",
   "execution_count": null,
   "metadata": {},
   "outputs": [],
   "source": [
    "import turtle\n",
    "\n",
    "bob = turtle.Turtle()\n",
    "\n",
    "for i in range(45): \n",
    "    bob.fd(100)\n",
    "    bob.lt(88)           # A bit less than a right angle\n",
    "    \n",
    "turtle.mainloop() \n",
    "\n",
    "try:\n",
    "    turtle.bye()\n",
    "except:\n",
    "    pass "
   ]
  },
  {
   "cell_type": "markdown",
   "metadata": {},
   "source": [
    "# Write function to draw a square with Turtle"
   ]
  },
  {
   "cell_type": "code",
   "execution_count": null,
   "metadata": {},
   "outputs": [],
   "source": [
    "import turtle\n",
    "\n",
    "def square():\n",
    "    \"\"\"Use the Turtle to draw a Square\"\"\"\n",
    "    for i in range(4): \n",
    "        bob.fd(100)\n",
    "        bob.lt(90)\n",
    "\n",
    "bob = turtle.Turtle()\n",
    "\n",
    "square()\n",
    "bob.fd(200)\n",
    "square()\n",
    "\n",
    "turtle.mainloop() \n",
    "\n",
    "try:\n",
    "    turtle.bye()\n",
    "except:\n",
    "    pass"
   ]
  },
  {
   "cell_type": "markdown",
   "metadata": {},
   "source": [
    "# What parameters should square() take?\n",
    "## Add Parameter for turtle and edge length?"
   ]
  },
  {
   "cell_type": "code",
   "execution_count": null,
   "metadata": {},
   "outputs": [],
   "source": [
    "import turtle\n",
    "\n",
    "def square(t, edge):        # Parameter list\n",
    "    \"\"\"Use the Turtle t to draw a Square of size edge\"\"\"   \n",
    "    for i in range(4): \n",
    "        t.fd(edge)\n",
    "        t.lt(90)\n",
    "       \n",
    "    \n",
    "bob = turtle.Turtle()\n",
    "\n",
    "square(bob, 100)              # Arguments are bob and 100\n",
    "bob.fd(200)\n",
    "square(bob, 50)               # Arguments are bob and  50\n",
    "\n",
    "turtle.mainloop() \n",
    "\n",
    "try:\n",
    "    turtle.bye()\n",
    "except:\n",
    "    pass "
   ]
  },
  {
   "cell_type": "markdown",
   "metadata": {},
   "source": [
    "## Polygon: turtle, number of edges, and edge length"
   ]
  },
  {
   "cell_type": "code",
   "execution_count": null,
   "metadata": {},
   "outputs": [],
   "source": [
    "import turtle\n",
    "\n",
    "def polygon(t, n, edge):\n",
    "    \"\"\"Use Turtle t to draw a polygon with n sides of lenth edge\"\"\"   \n",
    "    angle = 360 / n\n",
    "    for i in range(n):\n",
    "        t.fd(edge)\n",
    "        t.lt(angle)\n",
    "        \n",
    "        \n",
    "bob = turtle.Turtle()\n",
    "\n",
    "polygon(bob, 5, 100)              # Arguments are bob, 5, and 100\n",
    "bob.fd(200)\n",
    "polygon(bob, 7, 50)               # Arguments are bob, 7, and  50\n",
    "\n",
    "turtle.mainloop() \n",
    "\n",
    "try:\n",
    "    turtle.bye()\n",
    "except:\n",
    "    pass"
   ]
  },
  {
   "cell_type": "markdown",
   "metadata": {},
   "source": [
    "# What else does Turtle Library provide?"
   ]
  },
  {
   "cell_type": "code",
   "execution_count": null,
   "metadata": {},
   "outputs": [],
   "source": [
    "import turtle\n",
    "\n",
    "dir(turtle)"
   ]
  },
  {
   "cell_type": "markdown",
   "metadata": {},
   "source": [
    "- Methods we know, such as fd() and lt()\n",
    "- Other methods we might want to investigate\n",
    "- Note the 'Dunder' ('Double Under') methods: (underbar underbar name underbar underbar) methods"
   ]
  },
  {
   "cell_type": "markdown",
   "metadata": {},
   "source": [
    "# Debugging\n",
    "\n",
    "We will look at two Turtle Programs in the PyCharm debugger, documented here:\n",
    "\n",
    "https://www.jetbrains.com/help/pycharm/debugging-code.html\n",
    "\n",
    "You could run these from the Notebook, but the debugger makes it much clearer what is going on.\n",
    "\n",
    "We can put breakpoints in the program to follow the logic.  "
   ]
  },
  {
   "cell_type": "markdown",
   "metadata": {},
   "source": [
    "## *These programs lack documentation*\n",
    "\n",
    "They are well written programs, but lack the comments a beginner needs to follow.  \n",
    "\n",
    "I'll add some comments as we go along.\n",
    "\n",
    "There are more details in the Lecture Slides"
   ]
  },
  {
   "cell_type": "code",
   "execution_count": null,
   "metadata": {},
   "outputs": [],
   "source": [
    "#!/usr/bin/env python3\n",
    "\"\"\"       turtle-example-suite:\n",
    "\n",
    "            tdemo_yinyang.py\n",
    "\n",
    "Another drawing suitable as a beginner's\n",
    "programming example.\n",
    "\n",
    "The small circles are drawn by the circle\n",
    "command.\n",
    "\n",
    "\"\"\"\n",
    "\n",
    "from turtle import *\n",
    "\n",
    "def yin(radius, color1, color2):\n",
    "    width(3)\n",
    "    color(\"black\", color1)\n",
    "    begin_fill()\n",
    "    circle(radius/2., 180)\n",
    "    circle(radius, 180)\n",
    "    left(180)\n",
    "    circle(-radius/2., 180)\n",
    "    end_fill()\n",
    "    left(90)\n",
    "    up()\n",
    "    forward(radius*0.35)\n",
    "    right(90)\n",
    "    down()\n",
    "    color(color1, color2)\n",
    "    begin_fill()\n",
    "    circle(radius*0.15)\n",
    "    end_fill()\n",
    "    left(90)\n",
    "    up()\n",
    "    backward(radius*0.35)\n",
    "    down()\n",
    "    left(90)\n",
    "\n",
    "def main():\n",
    "    reset()\n",
    "    yin(200, \"black\", \"white\")\n",
    "    yin(200, \"white\", \"black\")\n",
    "    ht()\n",
    "    return \"Done!\"\n",
    "\n",
    "if __name__ == '__main__':\n",
    "    main()\n",
    "    mainloop()\n",
    "    \n",
    "    try:\n",
    "        turtle.bye()\n",
    "    except:\n",
    "        pass"
   ]
  },
  {
   "cell_type": "markdown",
   "metadata": {},
   "source": [
    "## Paint.py\n",
    "\n",
    "This requires a 3-button mouse to see the full effect.\n",
    "\n",
    "While you might be able to trace what YinYang does without a debugger, it would be difficult to figure \n",
    "out how Paint.py works without a debugger's help"
   ]
  },
  {
   "cell_type": "code",
   "execution_count": null,
   "metadata": {},
   "outputs": [],
   "source": [
    "#!/usr/bin/env python3\n",
    "\"\"\"       turtle-example-suite:\n",
    "\n",
    "            tdemo_paint.py\n",
    "\n",
    "A simple  event-driven paint program\n",
    "\n",
    "- left mouse button moves turtle\n",
    "- middle mouse button changes color\n",
    "- right mouse button toogles betweem pen up\n",
    "(no line drawn when the turtle moves) and\n",
    "pen down (line is drawn). If pen up follows\n",
    "at least two pen-down moves, the polygon that\n",
    "includes the starting point is filled.\n",
    " -------------------------------------------\n",
    " Play around by clicking into the canvas\n",
    " using all three mouse buttons.\n",
    " -------------------------------------------\n",
    "          To exit press STOP button\n",
    " -------------------------------------------\n",
    "\"\"\"\n",
    "from turtle import *\n",
    "\n",
    "def switchupdown(x=0, y=0):\n",
    "    if pen()[\"pendown\"]:\n",
    "        end_fill()\n",
    "        up()\n",
    "    else:\n",
    "        down()\n",
    "        begin_fill()\n",
    "\n",
    "def changecolor(x=0, y=0):\n",
    "    global colors\n",
    "    colors = colors[1:]+colors[:1]\n",
    "    color(colors[0])\n",
    "\n",
    "def main():\n",
    "    global colors\n",
    "    shape(\"circle\")\n",
    "    resizemode(\"user\")\n",
    "    shapesize(.5)\n",
    "    width(3)\n",
    "    colors=[\"red\", \"green\", \"blue\", \"yellow\"]\n",
    "    color(colors[0])\n",
    "    switchupdown()\n",
    "    onscreenclick(goto,1)\n",
    "    onscreenclick(changecolor,2)\n",
    "    onscreenclick(switchupdown,3)\n",
    "    return \"EVENTLOOP\"\n",
    "\n",
    "if __name__ == \"__main__\":\n",
    "    msg = main()\n",
    "    print(msg)\n",
    "    mainloop()\n",
    "    \n",
    "    try:\n",
    "        turtle.bye()\n",
    "    except:\n",
    "        pass"
   ]
  },
  {
   "cell_type": "code",
   "execution_count": null,
   "metadata": {},
   "outputs": [],
   "source": [
    "import turtle\n",
    "\n",
    "help(turtle.goto)"
   ]
  },
  {
   "cell_type": "markdown",
   "metadata": {},
   "source": [
    "## If you don’t know how to program, what can you learn in this class?\n",
    "- Syntax of Python\n",
    "- Semantics of Python\n",
    "\n",
    "### But I want you to learn more\n",
    "- How to express yourself in any language\n",
    "- How to pick good test cases\n",
    "- How to find your own darn bugs"
   ]
  },
  {
   "cell_type": "markdown",
   "metadata": {},
   "source": [
    "# Tips on solving Homework (reprise)\n",
    "- Don't wait until the last minute\n",
    "- *These problems will require thought*\n",
    "- Break the problem into steps\n",
    "- Solve one step at a time, and test each step"
   ]
  },
  {
   "cell_type": "markdown",
   "metadata": {},
   "source": [
    "## We assume you are here to learn to program\n",
    "## We have tried to pick problems: \n",
    "- That are simple enough to do\n",
    "- That address common problems\n",
    "\n",
    "## Many of these problems are classic\n",
    "### *Googling a solution will not teach you how to solve problems yourself*"
   ]
  },
  {
   "cell_type": "markdown",
   "metadata": {},
   "source": [
    "# Inspiration\n",
    "\n",
    "## Go to this page: http://www.fractalcurves.com  \n",
    "\n",
    "Scroll down to the \"Videos about Fractal Curves\" section at the bottom of the page.  Some of these videos are quite long: others are pretty short.  Some of them are 404.   "
   ]
  },
  {
   "cell_type": "markdown",
   "metadata": {},
   "source": [
    "# Wow!  That's Fantastic!\n",
    "## Byte code disassembly\n",
    "\n",
    "Python is compiled into Byte Code, which the interpreter runs"
   ]
  },
  {
   "cell_type": "code",
   "execution_count": null,
   "metadata": {},
   "outputs": [],
   "source": [
    "# https://docs.python.org/3.7/library/dis.html\n",
    "\n",
    "import dis\n",
    "\n",
    "def greet(name:str) -> str:\n",
    "    return \"Hello,\" + name\n",
    "\n",
    "# Disassemble the function greet\n",
    "dis.dis(greet)"
   ]
  },
  {
   "cell_type": "code",
   "execution_count": null,
   "metadata": {},
   "outputs": [],
   "source": [
    "import dis\n",
    "import turtle\n",
    "\n",
    "def square():\n",
    "    \"\"\"Use the Turtle to draw a Square\"\"\"\n",
    "    for i in range(4): \n",
    "        bob.fd(100)\n",
    "        bob.lt(90)\n",
    "\n",
    "\n",
    "dis.dis(square) "
   ]
  },
  {
   "cell_type": "code",
   "execution_count": null,
   "metadata": {},
   "outputs": [],
   "source": []
  }
 ],
 "metadata": {
  "kernelspec": {
   "display_name": "Python 3",
   "language": "python",
   "name": "python3"
  },
  "language_info": {
   "codemirror_mode": {
    "name": "ipython",
    "version": 3
   },
   "file_extension": ".py",
   "mimetype": "text/x-python",
   "name": "python",
   "nbconvert_exporter": "python",
   "pygments_lexer": "ipython3",
   "version": "3.8.11"
  }
 },
 "nbformat": 4,
 "nbformat_minor": 2
}
