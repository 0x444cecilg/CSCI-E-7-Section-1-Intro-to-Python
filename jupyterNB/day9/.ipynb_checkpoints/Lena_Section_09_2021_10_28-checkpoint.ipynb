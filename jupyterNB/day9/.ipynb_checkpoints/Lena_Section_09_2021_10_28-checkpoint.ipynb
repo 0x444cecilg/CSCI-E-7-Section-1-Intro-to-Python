{
 "cells": [
  {
   "cell_type": "markdown",
   "id": "6f17fb29",
   "metadata": {},
   "source": [
    "# Section 09: 2021-08\n",
    "GOALS\n",
    "- HW read thru\n",
    "- Questions?\n",
    "- Generators!"
   ]
  },
  {
   "cell_type": "code",
   "execution_count": null,
   "id": "82a43b12",
   "metadata": {},
   "outputs": [],
   "source": []
  },
  {
   "cell_type": "code",
   "execution_count": null,
   "id": "6eeaba3c",
   "metadata": {},
   "outputs": [],
   "source": []
  },
  {
   "cell_type": "markdown",
   "id": "9965f1fb",
   "metadata": {},
   "source": [
    "### Generators\n",
    "Wait...what? Why?\n",
    "- its a function that we can use to iterate through things\n",
    "- don't need to store all possible values at first the way we would have to with a list\n",
    "- can save our spot in execution\n",
    "- can be used for inifite things like numbers!\n",
    "\n",
    "examples of generators:\n",
    "- os.walk()! "
   ]
  },
  {
   "cell_type": "code",
   "execution_count": 1,
   "id": "93ffa4f8",
   "metadata": {},
   "outputs": [
    {
     "name": "stdout",
     "output_type": "stream",
     "text": [
      "1\n",
      "2\n"
     ]
    }
   ],
   "source": [
    "list(range(1,2))\n",
    "for i in range(1,3):\n",
    "    print(i)"
   ]
  },
  {
   "cell_type": "code",
   "execution_count": 3,
   "id": "2322a051",
   "metadata": {},
   "outputs": [
    {
     "data": {
      "text/plain": [
       "[2, 3, 4, 5, 6, 7, 8]"
      ]
     },
     "execution_count": 3,
     "metadata": {},
     "output_type": "execute_result"
    }
   ],
   "source": [
    "list(range(2,9))"
   ]
  },
  {
   "cell_type": "code",
   "execution_count": 4,
   "id": "a0c71cbe",
   "metadata": {},
   "outputs": [
    {
     "name": "stdout",
     "output_type": "stream",
     "text": [
      "1\n",
      "2\n"
     ]
    }
   ],
   "source": [
    "for i in range(1,3):\n",
    "    print(i)"
   ]
  },
  {
   "cell_type": "code",
   "execution_count": 5,
   "id": "eb78ce60",
   "metadata": {},
   "outputs": [],
   "source": [
    "def odd_number_generator(n):\n",
    "    \"\"\" Starting with n, find the next odd number\"\"\"\n",
    "    if n % 2 == 0:\n",
    "        n = n +1 \n",
    "    while True:\n",
    "        # warning, potentially dangerous if you try to call list() on this\n",
    "        yield n # imagine this as a return\n",
    "        n = n + 2 "
   ]
  },
  {
   "cell_type": "code",
   "execution_count": 6,
   "id": "e627e662",
   "metadata": {},
   "outputs": [],
   "source": [
    "odd_nums = odd_number_generator(3)"
   ]
  },
  {
   "cell_type": "code",
   "execution_count": 7,
   "id": "f2d06fe5",
   "metadata": {},
   "outputs": [
    {
     "data": {
      "text/plain": [
       "3"
      ]
     },
     "execution_count": 7,
     "metadata": {},
     "output_type": "execute_result"
    }
   ],
   "source": [
    "next(odd_nums)"
   ]
  },
  {
   "cell_type": "code",
   "execution_count": 8,
   "id": "bc227864",
   "metadata": {},
   "outputs": [
    {
     "data": {
      "text/plain": [
       "5"
      ]
     },
     "execution_count": 8,
     "metadata": {},
     "output_type": "execute_result"
    }
   ],
   "source": [
    "next(odd_nums)"
   ]
  },
  {
   "cell_type": "code",
   "execution_count": 9,
   "id": "41eabaea",
   "metadata": {},
   "outputs": [
    {
     "data": {
      "text/plain": [
       "7"
      ]
     },
     "execution_count": 9,
     "metadata": {},
     "output_type": "execute_result"
    }
   ],
   "source": [
    "next(odd_nums)"
   ]
  },
  {
   "cell_type": "code",
   "execution_count": 10,
   "id": "c5fbc0c3",
   "metadata": {},
   "outputs": [
    {
     "name": "stdout",
     "output_type": "stream",
     "text": [
      "9\n",
      "11\n",
      "13\n",
      "15\n",
      "17\n",
      "19\n",
      "21\n",
      "23\n",
      "25\n",
      "27\n",
      "29\n",
      "31\n",
      "33\n",
      "35\n",
      "37\n",
      "39\n",
      "41\n",
      "43\n",
      "45\n"
     ]
    }
   ],
   "source": [
    "for i in range(1,20):\n",
    "    print(next(odd_nums))"
   ]
  },
  {
   "cell_type": "code",
   "execution_count": 11,
   "id": "8f3cc055",
   "metadata": {},
   "outputs": [],
   "source": [
    "odd_nums2 = odd_number_generator(3)\n"
   ]
  },
  {
   "cell_type": "code",
   "execution_count": 12,
   "id": "4bbef1f1",
   "metadata": {},
   "outputs": [
    {
     "data": {
      "text/plain": [
       "3"
      ]
     },
     "execution_count": 12,
     "metadata": {},
     "output_type": "execute_result"
    }
   ],
   "source": [
    "next(odd_nums2)"
   ]
  },
  {
   "cell_type": "code",
   "execution_count": 13,
   "id": "f8b3a0fc",
   "metadata": {},
   "outputs": [
    {
     "data": {
      "text/plain": [
       "47"
      ]
     },
     "execution_count": 13,
     "metadata": {},
     "output_type": "execute_result"
    }
   ],
   "source": [
    "next(odd_nums)"
   ]
  },
  {
   "cell_type": "code",
   "execution_count": 14,
   "id": "bda80091",
   "metadata": {},
   "outputs": [
    {
     "name": "stdout",
     "output_type": "stream",
     "text": [
      "3\n"
     ]
    }
   ],
   "source": [
    "# restart\n",
    "odd_nums = odd_number_generator(3)\n",
    "print(next(odd_nums))"
   ]
  },
  {
   "cell_type": "code",
   "execution_count": 15,
   "id": "9d444c7d",
   "metadata": {},
   "outputs": [
    {
     "name": "stdout",
     "output_type": "stream",
     "text": [
      "5\n"
     ]
    }
   ],
   "source": [
    "print(next(odd_nums))"
   ]
  },
  {
   "cell_type": "code",
   "execution_count": 16,
   "id": "ad8930d9",
   "metadata": {},
   "outputs": [
    {
     "name": "stdout",
     "output_type": "stream",
     "text": [
      "7\n",
      "9\n",
      "11\n",
      "13\n",
      "15\n",
      "17\n",
      "19\n",
      "21\n",
      "23\n",
      "25\n",
      "27\n",
      "29\n",
      "31\n",
      "33\n",
      "35\n",
      "37\n",
      "39\n",
      "41\n",
      "43\n",
      "45\n",
      "47\n",
      "49\n",
      "51\n",
      "53\n",
      "55\n",
      "57\n",
      "59\n",
      "61\n",
      "63\n",
      "65\n",
      "67\n",
      "69\n",
      "71\n",
      "73\n",
      "75\n",
      "77\n",
      "79\n",
      "81\n",
      "83\n",
      "85\n",
      "87\n",
      "89\n",
      "91\n",
      "93\n",
      "95\n",
      "97\n",
      "99\n",
      "101\n",
      "103\n",
      "105\n",
      "107\n",
      "109\n",
      "111\n",
      "113\n",
      "115\n",
      "117\n",
      "119\n",
      "121\n",
      "123\n",
      "125\n",
      "127\n",
      "129\n",
      "131\n",
      "133\n",
      "135\n",
      "137\n",
      "139\n",
      "141\n",
      "143\n",
      "145\n",
      "147\n",
      "149\n",
      "151\n",
      "153\n",
      "155\n",
      "157\n",
      "159\n",
      "161\n",
      "163\n",
      "165\n",
      "167\n",
      "169\n",
      "171\n",
      "173\n",
      "175\n",
      "177\n",
      "179\n",
      "181\n",
      "183\n",
      "185\n",
      "187\n",
      "189\n",
      "191\n",
      "193\n",
      "195\n",
      "197\n",
      "199\n",
      "201\n",
      "203\n"
     ]
    }
   ],
   "source": [
    "for i in range(1,100):\n",
    "    print(next(odd_nums))"
   ]
  },
  {
   "cell_type": "code",
   "execution_count": 17,
   "id": "4fc4cbeb",
   "metadata": {},
   "outputs": [],
   "source": [
    "# implement range as a generator\n",
    "\n",
    "def range_generator(start,end_plus_1, step=1):\n",
    "    \"\"\"\n",
    "    implements range() as a generator \n",
    "    note: range looks like a generator, but is not a generator\n",
    "    \"\"\"\n",
    "    current = start\n",
    "    while current < end_plus_1:\n",
    "        yield current\n",
    "        current = current + step"
   ]
  },
  {
   "cell_type": "code",
   "execution_count": 18,
   "id": "9bc61a0e",
   "metadata": {},
   "outputs": [],
   "source": [
    "range_2_thru_10 = range_generator(2,10)"
   ]
  },
  {
   "cell_type": "code",
   "execution_count": 19,
   "id": "8fba2d29",
   "metadata": {},
   "outputs": [
    {
     "name": "stdout",
     "output_type": "stream",
     "text": [
      "2\n",
      "3\n",
      "4\n",
      "5\n",
      "6\n",
      "7\n",
      "8\n",
      "9\n"
     ]
    },
    {
     "ename": "StopIteration",
     "evalue": "",
     "output_type": "error",
     "traceback": [
      "\u001b[0;31m---------------------------------------------------------------------------\u001b[0m",
      "\u001b[0;31mStopIteration\u001b[0m                             Traceback (most recent call last)",
      "\u001b[0;32m/var/folders/3j/3h2d5r093l90bkjz184m0vsc0000gp/T/ipykernel_99394/4267738480.py\u001b[0m in \u001b[0;36m<module>\u001b[0;34m\u001b[0m\n\u001b[1;32m      1\u001b[0m \u001b[0;32mfor\u001b[0m \u001b[0mx\u001b[0m \u001b[0;32min\u001b[0m \u001b[0mrange\u001b[0m\u001b[0;34m(\u001b[0m\u001b[0;36m2\u001b[0m\u001b[0;34m,\u001b[0m\u001b[0;36m11\u001b[0m\u001b[0;34m)\u001b[0m\u001b[0;34m:\u001b[0m\u001b[0;34m\u001b[0m\u001b[0;34m\u001b[0m\u001b[0m\n\u001b[0;32m----> 2\u001b[0;31m     \u001b[0mprint\u001b[0m\u001b[0;34m(\u001b[0m\u001b[0mnext\u001b[0m\u001b[0;34m(\u001b[0m\u001b[0mrange_2_thru_10\u001b[0m\u001b[0;34m)\u001b[0m\u001b[0;34m)\u001b[0m\u001b[0;34m\u001b[0m\u001b[0;34m\u001b[0m\u001b[0m\n\u001b[0m",
      "\u001b[0;31mStopIteration\u001b[0m: "
     ]
    }
   ],
   "source": [
    "for x in range(2,11):\n",
    "    print(next(range_2_thru_10))"
   ]
  },
  {
   "cell_type": "code",
   "execution_count": 20,
   "id": "c07dcaf7",
   "metadata": {},
   "outputs": [
    {
     "ename": "StopIteration",
     "evalue": "",
     "output_type": "error",
     "traceback": [
      "\u001b[0;31m---------------------------------------------------------------------------\u001b[0m",
      "\u001b[0;31mStopIteration\u001b[0m                             Traceback (most recent call last)",
      "\u001b[0;32m/var/folders/3j/3h2d5r093l90bkjz184m0vsc0000gp/T/ipykernel_99394/261541943.py\u001b[0m in \u001b[0;36m<module>\u001b[0;34m\u001b[0m\n\u001b[0;32m----> 1\u001b[0;31m \u001b[0mnext\u001b[0m\u001b[0;34m(\u001b[0m\u001b[0mrange_2_thru_10\u001b[0m\u001b[0;34m)\u001b[0m\u001b[0;34m\u001b[0m\u001b[0;34m\u001b[0m\u001b[0m\n\u001b[0m",
      "\u001b[0;31mStopIteration\u001b[0m: "
     ]
    }
   ],
   "source": [
    "next(range_2_thru_10)\n"
   ]
  },
  {
   "cell_type": "code",
   "execution_count": 21,
   "id": "163ff800",
   "metadata": {},
   "outputs": [
    {
     "data": {
      "text/plain": [
       "[2, 3, 4, 5, 6, 7, 8, 9]"
      ]
     },
     "execution_count": 21,
     "metadata": {},
     "output_type": "execute_result"
    }
   ],
   "source": [
    "range_2_thru_10 = range_generator(2,10)\n",
    "list(range_2_thru_10)"
   ]
  },
  {
   "cell_type": "code",
   "execution_count": 22,
   "id": "298dbca2",
   "metadata": {},
   "outputs": [
    {
     "data": {
      "text/plain": [
       "[2, 3, 4, 5, 6, 7, 8, 9]"
      ]
     },
     "execution_count": 22,
     "metadata": {},
     "output_type": "execute_result"
    }
   ],
   "source": [
    "list(range(2,10))"
   ]
  },
  {
   "cell_type": "code",
   "execution_count": 23,
   "id": "c07c7470",
   "metadata": {},
   "outputs": [
    {
     "data": {
      "text/plain": [
       "[3, 6, 9, 12, 15, 18, 21, 24, 27, 30]"
      ]
     },
     "execution_count": 23,
     "metadata": {},
     "output_type": "execute_result"
    }
   ],
   "source": [
    "range_step_3 = range(3, 33, 3)\n",
    "list(range_step_3)"
   ]
  },
  {
   "cell_type": "code",
   "execution_count": 24,
   "id": "45f94112",
   "metadata": {},
   "outputs": [
    {
     "data": {
      "text/plain": [
       "[3, 6, 9, 12, 15, 18, 21, 24, 27, 30]"
      ]
     },
     "execution_count": 24,
     "metadata": {},
     "output_type": "execute_result"
    }
   ],
   "source": [
    "range_gen_step_3 = range_generator(3,33,3)\n",
    "list(range_gen_step_3)"
   ]
  },
  {
   "cell_type": "code",
   "execution_count": 28,
   "id": "88541ae9",
   "metadata": {},
   "outputs": [],
   "source": [
    "def fib_gen():\n",
    "    \"\"\" Generates next number in fibonacci sequence \"\"\"\n",
    "    # 0, 1, 1, 2, 3, 5, 8, ect\n",
    "    # first two numbers is 0 and 1\n",
    "    a = 0\n",
    "    b = 1\n",
    "    while True:\n",
    "        yield a\n",
    "        next_num = a + b\n",
    "        a = b\n",
    "        b = next_num"
   ]
  },
  {
   "cell_type": "code",
   "execution_count": 29,
   "id": "176e3140",
   "metadata": {},
   "outputs": [],
   "source": [
    "fibonacci_numbers = fib_gen()"
   ]
  },
  {
   "cell_type": "code",
   "execution_count": 30,
   "id": "1e9d00ae",
   "metadata": {},
   "outputs": [
    {
     "name": "stdout",
     "output_type": "stream",
     "text": [
      "0\n",
      "1\n",
      "1\n",
      "2\n",
      "3\n",
      "5\n",
      "8\n",
      "13\n",
      "21\n",
      "34\n",
      "55\n",
      "89\n",
      "144\n",
      "233\n",
      "377\n",
      "610\n",
      "987\n",
      "1597\n",
      "2584\n",
      "4181\n",
      "6765\n",
      "10946\n",
      "17711\n",
      "28657\n",
      "46368\n",
      "75025\n",
      "121393\n",
      "196418\n",
      "317811\n",
      "514229\n",
      "832040\n",
      "1346269\n",
      "2178309\n",
      "3524578\n",
      "5702887\n",
      "9227465\n",
      "14930352\n",
      "24157817\n",
      "39088169\n",
      "63245986\n",
      "102334155\n",
      "165580141\n",
      "267914296\n",
      "433494437\n",
      "701408733\n",
      "1134903170\n",
      "1836311903\n",
      "2971215073\n",
      "4807526976\n",
      "7778742049\n",
      "12586269025\n",
      "20365011074\n",
      "32951280099\n",
      "53316291173\n",
      "86267571272\n",
      "139583862445\n",
      "225851433717\n",
      "365435296162\n",
      "591286729879\n",
      "956722026041\n",
      "1548008755920\n",
      "2504730781961\n",
      "4052739537881\n",
      "6557470319842\n",
      "10610209857723\n",
      "17167680177565\n",
      "27777890035288\n",
      "44945570212853\n",
      "72723460248141\n",
      "117669030460994\n",
      "190392490709135\n",
      "308061521170129\n",
      "498454011879264\n",
      "806515533049393\n",
      "1304969544928657\n",
      "2111485077978050\n",
      "3416454622906707\n",
      "5527939700884757\n",
      "8944394323791464\n",
      "14472334024676221\n",
      "23416728348467685\n",
      "37889062373143906\n",
      "61305790721611591\n",
      "99194853094755497\n",
      "160500643816367088\n",
      "259695496911122585\n",
      "420196140727489673\n",
      "679891637638612258\n",
      "1100087778366101931\n",
      "1779979416004714189\n",
      "2880067194370816120\n",
      "4660046610375530309\n",
      "7540113804746346429\n",
      "12200160415121876738\n",
      "19740274219868223167\n",
      "31940434634990099905\n",
      "51680708854858323072\n",
      "83621143489848422977\n",
      "135301852344706746049\n",
      "218922995834555169026\n"
     ]
    }
   ],
   "source": [
    "for i in range(0,100):\n",
    "    print(next(fibonacci_numbers))"
   ]
  },
  {
   "cell_type": "code",
   "execution_count": 31,
   "id": "e4984266",
   "metadata": {},
   "outputs": [
    {
     "data": {
      "text/plain": [
       "354224848179261915075"
      ]
     },
     "execution_count": 31,
     "metadata": {},
     "output_type": "execute_result"
    }
   ],
   "source": [
    "next(fibonacci_numbers)"
   ]
  },
  {
   "cell_type": "code",
   "execution_count": null,
   "id": "692d14d3",
   "metadata": {},
   "outputs": [],
   "source": []
  }
 ],
 "metadata": {
  "kernelspec": {
   "display_name": "Python 3",
   "language": "python",
   "name": "python3"
  },
  "language_info": {
   "codemirror_mode": {
    "name": "ipython",
    "version": 3
   },
   "file_extension": ".py",
   "mimetype": "text/x-python",
   "name": "python",
   "nbconvert_exporter": "python",
   "pygments_lexer": "ipython3",
   "version": "3.8.11"
  }
 },
 "nbformat": 4,
 "nbformat_minor": 5
}
