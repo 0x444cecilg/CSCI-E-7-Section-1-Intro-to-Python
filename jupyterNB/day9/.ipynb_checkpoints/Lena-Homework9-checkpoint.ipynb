{
 "cells": [
  {
   "cell_type": "markdown",
   "metadata": {},
   "source": [
    "# Homework 9\n",
    "\n",
    "## 2021"
   ]
  },
  {
   "cell_type": "code",
   "execution_count": null,
   "metadata": {},
   "outputs": [],
   "source": [
    "first_name = \"\"\n",
    "last_name = \"\"\n",
    "\n",
    "assert(len(first_name) != 0)\n",
    "assert(len(last_name)  != 0)"
   ]
  },
  {
   "cell_type": "markdown",
   "metadata": {},
   "source": [
    "# 1) Point\n",
    "\n",
    "Modify class Point defined below to provide working versions of `__str__()` and `__eq__()`.\n",
    "\n",
    "Edit the class so that two Points with the same x and y are the same, and so that points are printed as tuples.\n",
    "\n",
    "## Printing\n",
    "\n",
    "```python\n",
    "one = Point(3, 4)\n",
    "print(one)\n",
    "```\n",
    "### Should produce:\n",
    "```python\n",
    "(3, 4)\n",
    "```\n",
    "\n",
    "## Double Equals\n",
    "\n",
    "```python\n",
    "one = Point(3, 4)\n",
    "two = Point(3, 4)\n",
    "print(one == two)\n",
    "```\n",
    "### Should produce:\n",
    "```python\n",
    "True\n",
    "```"
   ]
  },
  {
   "cell_type": "code",
   "execution_count": null,
   "metadata": {},
   "outputs": [],
   "source": [
    "class Point(object):\n",
    "    \"\"\"Represents a point in 2-D space.\"\"\"\n",
    "\n",
    "    def __init__(self, x, y):\n",
    "        self.x = x\n",
    "        self.y = y\n",
    "\n",
    "    def __str__(self):\n",
    "        return \"Not implemented yet\"\n",
    "    \n",
    "    def __eq__(self, other):\n",
    "        pass"
   ]
  },
  {
   "cell_type": "markdown",
   "metadata": {},
   "source": [
    "## Unit Test for Point"
   ]
  },
  {
   "cell_type": "code",
   "execution_count": null,
   "metadata": {},
   "outputs": [],
   "source": [
    "def test_point():\n",
    "    p = Point(3, 4)\n",
    "    q = Point(3, 4)\n",
    "\n",
    "    assert p.__str__() == '(3, 4)', \"Should yield (3 4)\"\n",
    "    assert not p is q\n",
    "    assert p == q, \"Should be equal\"\n",
    "\n",
    "    q = Point(4, 3)\n",
    "    assert not p == q\n",
    "    \n",
    "    print('Success!')\n",
    "    \n",
    "test_point()"
   ]
  },
  {
   "cell_type": "code",
   "execution_count": 1,
   "metadata": {},
   "outputs": [
    {
     "data": {
      "text/plain": [
       "False"
      ]
     },
     "execution_count": 1,
     "metadata": {},
     "output_type": "execute_result"
    }
   ],
   "source": [
    "'(3 4)' == '(3, 4)'"
   ]
  },
  {
   "cell_type": "markdown",
   "metadata": {},
   "source": [
    "# 2) Collatz sequence\n",
    "\n",
    "The Collatz sequence, also know as the Hailstone sequence, is a sequence of numbers.\n",
    "\n",
    "If the current number is n, the next number is n / 2 if n is even, and 3n + 1 if n is odd. \n",
    "\n",
    "It has not been shown that there isn't a sequence which never repeats.  \n",
    "All known sequences end by repeating 4, 2, 1, 4, 2, 1, ...   \n",
    "\n",
    "Write a generator collatz(n) **that starts at n** and generates the rest of the sequence down to 1.  \n",
    "Your generator should raise a StopIteration exception after yielding 1.  "
   ]
  },
  {
   "cell_type": "markdown",
   "metadata": {},
   "source": [
    "for more info! \n",
    "\n",
    "https://www.youtube.com/watch?v=094y1Z2wpJg "
   ]
  },
  {
   "cell_type": "code",
   "execution_count": null,
   "metadata": {},
   "outputs": [],
   "source": [
    "def collatz(n):\n",
    "    \"Generate the next term in the Collatz sequence\"\n",
    "    pass"
   ]
  },
  {
   "cell_type": "code",
   "execution_count": 3,
   "metadata": {},
   "outputs": [
    {
     "data": {
      "text/plain": [
       "1"
      ]
     },
     "execution_count": 3,
     "metadata": {},
     "output_type": "execute_result"
    }
   ],
   "source": [
    "3 % 2 \n"
   ]
  },
  {
   "cell_type": "code",
   "execution_count": 4,
   "metadata": {},
   "outputs": [
    {
     "data": {
      "text/plain": [
       "0"
      ]
     },
     "execution_count": 4,
     "metadata": {},
     "output_type": "execute_result"
    }
   ],
   "source": [
    "10 % 2"
   ]
  },
  {
   "cell_type": "code",
   "execution_count": 8,
   "metadata": {},
   "outputs": [
    {
     "data": {
      "text/plain": [
       "1"
      ]
     },
     "execution_count": 8,
     "metadata": {},
     "output_type": "execute_result"
    }
   ],
   "source": [
    "3 / 2 "
   ]
  },
  {
   "cell_type": "code",
   "execution_count": 10,
   "metadata": {},
   "outputs": [
    {
     "data": {
      "text/plain": [
       "3"
      ]
     },
     "execution_count": 10,
     "metadata": {},
     "output_type": "execute_result"
    }
   ],
   "source": [
    "4 // 2 + 1"
   ]
  },
  {
   "cell_type": "code",
   "execution_count": 5,
   "metadata": {},
   "outputs": [
    {
     "name": "stdout",
     "output_type": "stream",
     "text": [
      "10\n",
      "9\n",
      "8\n",
      "7\n",
      "6\n",
      "5\n",
      "4\n",
      "3\n",
      "2\n",
      "1\n"
     ]
    }
   ],
   "source": [
    "# on using break vs not break\n",
    "i = 10\n",
    "while True:\n",
    "    # warning: while True is dangerous if you dont use a break\n",
    "    print(i)\n",
    "    i = i - 1\n",
    "    if i == 0:\n",
    "        break"
   ]
  },
  {
   "cell_type": "code",
   "execution_count": 6,
   "metadata": {},
   "outputs": [
    {
     "name": "stdout",
     "output_type": "stream",
     "text": [
      "10\n",
      "9\n",
      "8\n",
      "7\n",
      "6\n",
      "5\n",
      "4\n",
      "3\n",
      "2\n",
      "1\n"
     ]
    }
   ],
   "source": [
    "i = 10\n",
    "while i > 0:\n",
    "    print(i)\n",
    "    i = i - 1"
   ]
  },
  {
   "cell_type": "markdown",
   "metadata": {},
   "source": [
    "n = 5 \n",
    "since 5 is odd, n = 3(5) + 1\n",
    "n = 16 \n",
    "since n is even, n = (16) / 2\n",
    "n = 8\n",
    "since n is still even, n = (8) / 2\n",
    "n = 4 \n",
    "n is still even n = (4) / 2\n",
    "n = 2\n",
    "n is still even, n = (2) / 1\n",
    "n = 1\n",
    "now n is odd, n = 3(1) + 1\n",
    "n = 4"
   ]
  },
  {
   "cell_type": "code",
   "execution_count": null,
   "metadata": {},
   "outputs": [],
   "source": [
    "# you DO not need to write out this snippet of code\n",
    "raise StopIteration('blah blah') # python does it for you for free\n",
    "# look at the lecture Trey Hunner reference (and then theres more sources in there!)! \n",
    "#(hint provided by Helmut Kaczmarek)"
   ]
  },
  {
   "cell_type": "markdown",
   "metadata": {},
   "source": [
    "## Unit Tests"
   ]
  },
  {
   "cell_type": "code",
   "execution_count": null,
   "metadata": {},
   "outputs": [],
   "source": [
    "def test_collatz():\n",
    "    assert [n for n in collatz(4)] == [4, 2, 1]\n",
    "    assert [n for n in collatz(11)] == [11, 34, 17, 52, 26, 13, 40, 20, 10, 5, 16, 8, 4, 2, 1]\n",
    "    assert [n for n in collatz(29)] == [29, 88, 44, 22, 11, 34, 17, 52, 26, 13, 40, 20, 10, 5, 16, 8, 4, 2, 1]\n",
    "    print('Success!')\n",
    "    \n",
    "test_collatz()"
   ]
  },
  {
   "cell_type": "markdown",
   "metadata": {},
   "source": [
    "# 3) Next Month\n",
    "\n",
    "Write a generator that will return a sequence of month names.  Thus\n",
    "\n",
    "    gen = next_month('October')\n",
    "    \n",
    "should create a generator that yields the strings 'November', 'December', 'January' and so on.  \n",
    "If the caller supplies an illegal month name, your function should raise a ValueError exception with text explaining the problem.  "
   ]
  },
  {
   "cell_type": "markdown",
   "metadata": {},
   "source": [
    "in this case, you SHOULD write some code that looks like `raise ValueError('This month is invalid')` (idk make the message more interesting"
   ]
  },
  {
   "cell_type": "code",
   "execution_count": 26,
   "metadata": {},
   "outputs": [],
   "source": [
    "month_names = ['January', 'February', 'March', 'April', 'May', 'June',\n",
    "                'July', 'August', 'September', 'October', 'November', 'December']\n",
    "\n",
    "def next_month(name: str) -> str:\n",
    "    \"Return a stream of the following months\"\n",
    "    global month_names\n",
    "    \n",
    "    # check to see if the month we passed in is in the list\n",
    "    # find the index (...think way back to hw 1 or 2)\n",
    "    # add 1 to index \n",
    "    # print month that corresponds to that index\n",
    "    \n",
    "    # what to do when the month is december to make sure you loop back to january \n",
    "    # i've seen people implement this by using if statements, and I've also seen people use \n",
    "    # modulo to implement this\n",
    "    \n",
    "    # also case does not matter\n",
    "    pass"
   ]
  },
  {
   "cell_type": "code",
   "execution_count": 27,
   "metadata": {},
   "outputs": [
    {
     "name": "stdout",
     "output_type": "stream",
     "text": [
      "blah blah blah\n"
     ]
    },
    {
     "ename": "UnboundLocalError",
     "evalue": "local variable 'test' referenced before assignment",
     "output_type": "error",
     "traceback": [
      "\u001b[0;31m---------------------------------------------------------------------------\u001b[0m",
      "\u001b[0;31mUnboundLocalError\u001b[0m                         Traceback (most recent call last)",
      "\u001b[0;32m/var/folders/3j/3h2d5r093l90bkjz184m0vsc0000gp/T/ipykernel_98446/2565964764.py\u001b[0m in \u001b[0;36m<module>\u001b[0;34m\u001b[0m\n\u001b[1;32m      5\u001b[0m \u001b[0;34m\u001b[0m\u001b[0m\n\u001b[1;32m      6\u001b[0m \u001b[0mprint\u001b[0m\u001b[0;34m(\u001b[0m\u001b[0mtest\u001b[0m\u001b[0;34m)\u001b[0m\u001b[0;34m\u001b[0m\u001b[0;34m\u001b[0m\u001b[0m\n\u001b[0;32m----> 7\u001b[0;31m \u001b[0mprint\u001b[0m\u001b[0;34m(\u001b[0m\u001b[0mdont_call_global\u001b[0m\u001b[0;34m(\u001b[0m\u001b[0;34m)\u001b[0m\u001b[0;34m)\u001b[0m\u001b[0;34m\u001b[0m\u001b[0;34m\u001b[0m\u001b[0m\n\u001b[0m\u001b[1;32m      8\u001b[0m \u001b[0mprint\u001b[0m\u001b[0;34m(\u001b[0m\u001b[0mtest\u001b[0m\u001b[0;34m)\u001b[0m\u001b[0;34m\u001b[0m\u001b[0;34m\u001b[0m\u001b[0m\n",
      "\u001b[0;32m/var/folders/3j/3h2d5r093l90bkjz184m0vsc0000gp/T/ipykernel_98446/2565964764.py\u001b[0m in \u001b[0;36mdont_call_global\u001b[0;34m()\u001b[0m\n\u001b[1;32m      1\u001b[0m \u001b[0mtest\u001b[0m \u001b[0;34m=\u001b[0m \u001b[0;34m'blah blah blah'\u001b[0m\u001b[0;34m\u001b[0m\u001b[0;34m\u001b[0m\u001b[0m\n\u001b[1;32m      2\u001b[0m \u001b[0;32mdef\u001b[0m \u001b[0mdont_call_global\u001b[0m\u001b[0;34m(\u001b[0m\u001b[0;34m)\u001b[0m\u001b[0;34m:\u001b[0m\u001b[0;34m\u001b[0m\u001b[0;34m\u001b[0m\u001b[0m\n\u001b[0;32m----> 3\u001b[0;31m     \u001b[0mtest\u001b[0m \u001b[0;34m=\u001b[0m \u001b[0mtest\u001b[0m\u001b[0;34m.\u001b[0m\u001b[0mtitle\u001b[0m\u001b[0;34m(\u001b[0m\u001b[0;34m)\u001b[0m\u001b[0;34m\u001b[0m\u001b[0;34m\u001b[0m\u001b[0m\n\u001b[0m\u001b[1;32m      4\u001b[0m     \u001b[0;32mreturn\u001b[0m\u001b[0;34m(\u001b[0m\u001b[0mtest\u001b[0m\u001b[0;34m)\u001b[0m\u001b[0;34m\u001b[0m\u001b[0;34m\u001b[0m\u001b[0m\n\u001b[1;32m      5\u001b[0m \u001b[0;34m\u001b[0m\u001b[0m\n",
      "\u001b[0;31mUnboundLocalError\u001b[0m: local variable 'test' referenced before assignment"
     ]
    }
   ],
   "source": [
    "test = 'blah blah blah'\n",
    "def dont_call_global():\n",
    "    test = test.title()\n",
    "    return(test)\n",
    "\n",
    "print(test)\n",
    "print(dont_call_global())\n",
    "print(test)"
   ]
  },
  {
   "cell_type": "code",
   "execution_count": 30,
   "metadata": {},
   "outputs": [
    {
     "name": "stdout",
     "output_type": "stream",
     "text": [
      "blah blah blah\n",
      "Blah Blah Blah\n",
      "Blah Blah Blah\n"
     ]
    }
   ],
   "source": [
    "test = 'blah blah blah'\n",
    "def call_global():\n",
    "    global test\n",
    "    test = test.title()\n",
    "    return(test)\n",
    "\n",
    "print(test)\n",
    "print(call_global())\n",
    "print(test)"
   ]
  },
  {
   "cell_type": "code",
   "execution_count": 32,
   "metadata": {},
   "outputs": [
    {
     "name": "stdout",
     "output_type": "stream",
     "text": [
      "blah blah blah\n",
      "Blah Blah Blah\n",
      "blah blah blah\n"
     ]
    }
   ],
   "source": [
    "test = 'blah blah blah'\n",
    "def dont_call_global():\n",
    "    return(test.title())\n",
    "\n",
    "\n",
    "print(test)\n",
    "print(dont_call_global())\n",
    "print(test)"
   ]
  },
  {
   "cell_type": "markdown",
   "metadata": {},
   "source": [
    "- you can use this: https://www.pythontutorial.net/python-string-methods/python-titlecase/\n",
    "- you are also allowed to alter month_names (with code) "
   ]
  },
  {
   "cell_type": "markdown",
   "metadata": {},
   "source": [
    "## Unit Tests"
   ]
  },
  {
   "cell_type": "code",
   "execution_count": null,
   "metadata": {},
   "outputs": [],
   "source": [
    "def test_months():\n",
    "    gen = next_month('October')\n",
    "    lst = [next(gen) for i in range(15)]\n",
    "    assert(lst == ['November', 'December', 'January', 'February', 'March', 'April', 'May', 'June', 'July', 'August', 'September', 'October', 'November', 'December', 'January'])\n",
    "    \n",
    "    gen = next_month('december')\n",
    "    assert next(gen) == 'January'\n",
    "    print('Success!')\n",
    "    \n",
    "test_months()"
   ]
  },
  {
   "cell_type": "markdown",
   "metadata": {},
   "source": [
    "### The following should raise a ValueError with text explaining the problem"
   ]
  },
  {
   "cell_type": "code",
   "execution_count": null,
   "metadata": {},
   "outputs": [],
   "source": [
    "try: # This should throw a Value Error\n",
    "    gen = next_month('Thermador')\n",
    "\n",
    "    m = next(gen)\n",
    "\n",
    "    print(1/0)\n",
    "except ValueError:\n",
    "    print('Success!')"
   ]
  },
  {
   "cell_type": "code",
   "execution_count": 11,
   "metadata": {},
   "outputs": [],
   "source": [
    "def fake_exception(num):\n",
    "    if num % 2 != 0:\n",
    "        raise ValueError('Hey I wanted an even number')\n",
    "        "
   ]
  },
  {
   "cell_type": "code",
   "execution_count": 13,
   "metadata": {},
   "outputs": [
    {
     "ename": "ValueError",
     "evalue": "Hey I wanted an even number",
     "output_type": "error",
     "traceback": [
      "\u001b[0;31m---------------------------------------------------------------------------\u001b[0m",
      "\u001b[0;31mValueError\u001b[0m                                Traceback (most recent call last)",
      "\u001b[0;32m/var/folders/3j/3h2d5r093l90bkjz184m0vsc0000gp/T/ipykernel_98446/85951028.py\u001b[0m in \u001b[0;36m<module>\u001b[0;34m\u001b[0m\n\u001b[0;32m----> 1\u001b[0;31m \u001b[0mfake_exception\u001b[0m\u001b[0;34m(\u001b[0m\u001b[0;36m9\u001b[0m\u001b[0;34m)\u001b[0m\u001b[0;34m\u001b[0m\u001b[0;34m\u001b[0m\u001b[0m\n\u001b[0m",
      "\u001b[0;32m/var/folders/3j/3h2d5r093l90bkjz184m0vsc0000gp/T/ipykernel_98446/4082221351.py\u001b[0m in \u001b[0;36mfake_exception\u001b[0;34m(num)\u001b[0m\n\u001b[1;32m      1\u001b[0m \u001b[0;32mdef\u001b[0m \u001b[0mfake_exception\u001b[0m\u001b[0;34m(\u001b[0m\u001b[0mnum\u001b[0m\u001b[0;34m)\u001b[0m\u001b[0;34m:\u001b[0m\u001b[0;34m\u001b[0m\u001b[0;34m\u001b[0m\u001b[0m\n\u001b[1;32m      2\u001b[0m     \u001b[0;32mif\u001b[0m \u001b[0mnum\u001b[0m \u001b[0;34m%\u001b[0m \u001b[0;36m2\u001b[0m \u001b[0;34m!=\u001b[0m \u001b[0;36m0\u001b[0m\u001b[0;34m:\u001b[0m\u001b[0;34m\u001b[0m\u001b[0;34m\u001b[0m\u001b[0m\n\u001b[0;32m----> 3\u001b[0;31m         \u001b[0;32mraise\u001b[0m \u001b[0mValueError\u001b[0m\u001b[0;34m(\u001b[0m\u001b[0;34m'Hey I wanted an even number'\u001b[0m\u001b[0;34m)\u001b[0m\u001b[0;34m\u001b[0m\u001b[0;34m\u001b[0m\u001b[0m\n\u001b[0m\u001b[1;32m      4\u001b[0m \u001b[0;34m\u001b[0m\u001b[0m\n",
      "\u001b[0;31mValueError\u001b[0m: Hey I wanted an even number"
     ]
    }
   ],
   "source": [
    "fake_exception(9)"
   ]
  },
  {
   "cell_type": "code",
   "execution_count": 14,
   "metadata": {},
   "outputs": [
    {
     "name": "stdout",
     "output_type": "stream",
     "text": [
      "Caught an error\n"
     ]
    }
   ],
   "source": [
    "try:\n",
    "    fake_exception(9)\n",
    "except ValueError as e:\n",
    "    print('Caught an error')"
   ]
  },
  {
   "cell_type": "code",
   "execution_count": 25,
   "metadata": {},
   "outputs": [
    {
     "name": "stdout",
     "output_type": "stream",
     "text": [
      "Hey I wanted an even number\n",
      "You provided an odd number, please provide even\n"
     ]
    }
   ],
   "source": [
    "try:\n",
    "    fake_exception(9)\n",
    "except ValueError as e:\n",
    "    # is is a ValueError object, so i can search the '__str__' message of \n",
    "    print(e) # print of an object calls __str__()\n",
    "    if 'even' in str(e):\n",
    "        print('You provided an odd number, please provide even')"
   ]
  },
  {
   "cell_type": "code",
   "execution_count": null,
   "metadata": {},
   "outputs": [],
   "source": []
  },
  {
   "cell_type": "code",
   "execution_count": null,
   "metadata": {},
   "outputs": [],
   "source": []
  },
  {
   "cell_type": "code",
   "execution_count": null,
   "metadata": {},
   "outputs": [],
   "source": []
  },
  {
   "cell_type": "code",
   "execution_count": null,
   "metadata": {},
   "outputs": [],
   "source": []
  },
  {
   "cell_type": "markdown",
   "metadata": {},
   "source": [
    "## Problem 4: Time after Time\n",
    "\n",
    "You will not write a lot of code for this problem, but it is a realistic introduction to maintaining a piece of software.  Downey's program works, but we want to make two changes.  \n",
    "\n",
    "- Downey prints time as they do in the Army: 17:30:00 hours.  We want to print that as 5:30 PM.  \n",
    "- Downey lets you define the time 25:00:00 - we want to turn over at 23:59:59 to 00:00:00.  \n",
    "\n",
    "My advice is to spend more time thinking and tracing out the logic and less time editing.  \n",
    "\n",
    "### Make a backup of the cell below before you make any changes \n",
    "\n",
    "We will want you to identify your changes, so sign everything you do \n",
    "```python\n",
    "                       # like this - jdp\n",
    "```\n",
    "### Modify Downey's Time2.py file to make the following changes.\n",
    "\n",
    "A) Rewrite the dunder str() method used to print the time.  It currently prints Time(17, 30, 0) as\n",
    "\n",
    "```python\n",
    "    17:30:00\n",
    "```            \n",
    "       \n",
    "Modify it to return \n",
    "\n",
    "```python\n",
    "    5:30 PM\n",
    "```   \n",
    "\n",
    "Hours are numbers between 1 and 12 inclusive, seconds are suppressed, and times end with AM or PM.  Midnight is AM, while noon is PM.  \n",
    "\n",
    "\n",
    "B) Time2.py [ this code] currently allows you to create times with hours greater than 23.  Modify the class to keep hours less than 24.  \n",
    "\n",
    "C) Sign each change you made with a comment, and provide a list below of the changes you made.  \n",
    "\n",
    "D) Include the tests you have used to verify your changes.\n",
    "\n",
    "Run the unit tests: all times should be within 24 hours\n",
    "\n",
    "### Make your changes in the cell below\n",
    "#### Be sure to make a backup and be sure to sign all your changes"
   ]
  },
  {
   "cell_type": "markdown",
   "metadata": {},
   "source": [
    "- for part B, you can use modulo, you can use if statemens, just make sure that anything over 23:59 rolls over to 00:00 or midnight \n",
    "- we're assuming you're not writing this code blindly, so show us how you tested\n",
    "- i'm assuming you're running something like Time(17, 30, 0) and checkign to see if it came out as 5:30pm, \n",
    "- so you can write something like `assert print(Time(17,30,0) == '5:30 PM')`\n",
    "- "
   ]
  },
  {
   "cell_type": "code",
   "execution_count": null,
   "metadata": {},
   "outputs": [],
   "source": [
    "\"\"\"\n",
    "  \n",
    "Code example from Think Python, by Allen B. Downey.\n",
    "Available from http://thinkpython.com\n",
    "\n",
    "Copyright 2012 Allen B. Downey.\n",
    "Distributed under the GNU General Public License at gnu.org/licenses/gpl.html.\n",
    "\n",
    "\"\"\"\n",
    "\n",
    "class Time(object):\n",
    "    \"\"\"Represents the time of day.\n",
    "\n",
    "    attributes: hour, minute, second\n",
    "    \"\"\"\n",
    "    def __init__(self, hour=0, minute=0, second=0):\n",
    "        self.hour = hour\n",
    "        self.minute = minute\n",
    "        self.second = second\n",
    "        assert self.is_valid()\n",
    "\n",
    "    # Modify this routine - jdp\n",
    "    def __str__(self):\n",
    "        return f'{self.minute}, {self.hour}'  # this is bad code, but i'm signing it -LJH\n",
    "\n",
    "    def print_time(self):\n",
    "        print(str(self))\n",
    "\n",
    "    def time_to_int(self):\n",
    "        \"\"\"Computes the number of seconds since midnight.\"\"\"\n",
    "        minutes = self.hour * 60 + self.minute\n",
    "        seconds = minutes * 60 + self.second\n",
    "        return seconds\n",
    "\n",
    "    def is_after(self, other):\n",
    "        \"\"\"Returns True if t1 is after t2; false otherwise.\"\"\"\n",
    "        assert self.is_valid() and other.is_valid()\n",
    "        return self.time_to_int() > other.time_to_int()\n",
    "\n",
    "    def __add__(self, other):\n",
    "        \"\"\"Adds two Time objects or a Time object and a number.\n",
    "\n",
    "        other: Time object or number of seconds\n",
    "        \"\"\"\n",
    "        assert self.is_valid()\n",
    "        if isinstance(other, Time):\n",
    "            return self.add_time(other)\n",
    "        else:\n",
    "            return self.increment(other)\n",
    "\n",
    "    def __radd__(self, other):\n",
    "        \"\"\"Adds two Time objects or a Time object and a number.\"\"\"\n",
    "        return self.__add__(other)\n",
    "\n",
    "    def add_time(self, other):\n",
    "        \"\"\"Adds two time objects.\"\"\"\n",
    "        assert self.is_valid() and other.is_valid()\n",
    "        seconds = self.time_to_int() + other.time_to_int()\n",
    "        return int_to_time(seconds)\n",
    "\n",
    "    def increment(self, seconds):\n",
    "        \"\"\"Returns a new Time that is the sum of this time and seconds.\"\"\"\n",
    "        seconds += self.time_to_int()\n",
    "        return int_to_time(seconds)\n",
    "\n",
    "    def is_valid(self):\n",
    "        \"\"\"Checks whether a Time object satisfies the invariants.\"\"\"\n",
    "        if self.hour < 0 or self.minute < 0 or self.second < 0:\n",
    "            return False\n",
    "        if self.minute >= 60 or self.second >= 60:\n",
    "            return False\n",
    "        return True\n",
    "\n",
    "\n",
    "def int_to_time(seconds):\n",
    "    \"\"\"Makes a new Time object.\n",
    "\n",
    "    seconds: int seconds since midnight.\n",
    "    \"\"\"\n",
    "    minutes, second = divmod(seconds, 60)\n",
    "    hour, minute = divmod(minutes, 60)\n",
    "    time = Time(hour, minute, second)\n",
    "    return time"
   ]
  },
  {
   "cell_type": "code",
   "execution_count": null,
   "metadata": {},
   "outputs": [],
   "source": [
    "\"\"\"\n",
    "  \n",
    "Code example from Think Python, by Allen B. Downey.\n",
    "Available from http://thinkpython.com\n",
    "\n",
    "Copyright 2012 Allen B. Downey.\n",
    "Distributed under the GNU General Public License at gnu.org/licenses/gpl.html.\n",
    "\n",
    "\"\"\"\n",
    "\n",
    "class Time(object):\n",
    "    \"\"\"Represents the time of day.\n",
    "\n",
    "    attributes: hour, minute, second\n",
    "    \"\"\"\n",
    "    def __init__(self, hour=0, minute=0, second=0):\n",
    "        self.hour = hour\n",
    "        self.minute = minute\n",
    "        self.second = second\n",
    "        assert self.is_valid()\n",
    "\n",
    "    # Modify this routine - jdp\n",
    "    def __str__(self):\n",
    "        return '%.2d:%.2d:%.2d' % (self.hour, self.minute, self.second)\n",
    "\n",
    "    def print_time(self):\n",
    "        print(str(self))\n",
    "\n",
    "    def time_to_int(self):\n",
    "        \"\"\"Computes the number of seconds since midnight.\"\"\"\n",
    "        minutes = self.hour * 60 + self.minute\n",
    "        seconds = minutes * 60 + self.second\n",
    "        return seconds\n",
    "\n",
    "    def is_after(self, other):\n",
    "        \"\"\"Returns True if t1 is after t2; false otherwise.\"\"\"\n",
    "        assert self.is_valid() and other.is_valid()\n",
    "        return self.time_to_int() > other.time_to_int()\n",
    "\n",
    "    def __add__(self, other):\n",
    "        \"\"\"Adds two Time objects or a Time object and a number.\n",
    "\n",
    "        other: Time object or number of seconds\n",
    "        \"\"\"\n",
    "        assert self.is_valid()\n",
    "        if isinstance(other, Time):\n",
    "            return self.add_time(other)\n",
    "        else:\n",
    "            return self.increment(other)\n",
    "\n",
    "    def __radd__(self, other):\n",
    "        \"\"\"Adds two Time objects or a Time object and a number.\"\"\"\n",
    "        return self.__add__(other)\n",
    "\n",
    "    def add_time(self, other):\n",
    "        \"\"\"Adds two time objects.\"\"\"\n",
    "        assert self.is_valid() and other.is_valid()\n",
    "        seconds = self.time_to_int() + other.time_to_int()\n",
    "        return int_to_time(seconds)\n",
    "\n",
    "    def increment(self, seconds):\n",
    "        \"\"\"Returns a new Time that is the sum of this time and seconds.\"\"\"\n",
    "        seconds += self.time_to_int()\n",
    "        return int_to_time(seconds)\n",
    "\n",
    "    def is_valid(self):\n",
    "        \"\"\"Checks whether a Time object satisfies the invariants.\"\"\"\n",
    "        if self.hour < 0 or self.minute < 0 or self.second < 0:\n",
    "            return False\n",
    "        if self.minute >= 60 or self.second >= 60:\n",
    "            return False\n",
    "        return True\n",
    "\n",
    "\n",
    "def int_to_time(seconds):\n",
    "    \"\"\"Makes a new Time object.\n",
    "\n",
    "    seconds: int seconds since midnight.\n",
    "    \"\"\"\n",
    "    minutes, second = divmod(seconds, 60)\n",
    "    hour, minute = divmod(minutes, 60)\n",
    "    time = Time(hour, minute, second)\n",
    "    return time"
   ]
  },
  {
   "cell_type": "markdown",
   "metadata": {},
   "source": [
    "## Test the original API"
   ]
  },
  {
   "cell_type": "code",
   "execution_count": null,
   "metadata": {},
   "outputs": [],
   "source": [
    "# Test some of the features of Class Time - jdp\n",
    "def main():    # jdp\n",
    "    start = Time(9, 45, 00)\n",
    "    start.print_time()\n",
    "\n",
    "    end = start.increment(1337)\n",
    "    end.print_time()\n",
    "\n",
    "    print('Is end after start?', end=\" \")\n",
    "    print(end.is_after(start))\n",
    "\n",
    "    # Testing __str__\n",
    "    print(f'Using __str__: {start} {end}')\n",
    "\n",
    "    # Testing addition\n",
    "    start = Time(9, 45)\n",
    "    duration = Time(1, 35)\n",
    "    print(start + duration)\n",
    "    print(start + 1337)\n",
    "    print(1337 + start)\n",
    "\n",
    "    print('Example of polymorphism')\n",
    "    t1 = Time(7, 43)\n",
    "    t2 = Time(7, 41)\n",
    "    t3 = Time(7, 37)\n",
    "    total = sum([t1, t2, t3])\n",
    "    print(total)\n",
    "\n",
    "    # A time that is invalid\n",
    "    t1 = Time(50)\n",
    "    print(t1)\n",
    "    print('Success!')\n",
    "    \n",
    "main()"
   ]
  },
  {
   "cell_type": "markdown",
   "metadata": {},
   "source": [
    "## Your tests\n",
    "\n",
    "Put your tests in the cell below.  These might be assertions, or might be simple print statements\n",
    "\n",
    "You should have at least three tests"
   ]
  },
  {
   "cell_type": "code",
   "execution_count": null,
   "metadata": {},
   "outputs": [],
   "source": []
  },
  {
   "cell_type": "markdown",
   "metadata": {},
   "source": [
    "## List your changes\n",
    "\n",
    "Copy the changes you made to the cell below.  This is easy to do if you have signed all your edits.\n",
    "\n",
    "If you didn't sign, refer to your backup of the original and compare line by line.  This is a good place to use a diff function.\n",
    "\n",
    "If you didn't make a backup, download the assignment again and compare the original with your version."
   ]
  },
  {
   "cell_type": "code",
   "execution_count": null,
   "metadata": {},
   "outputs": [],
   "source": []
  },
  {
   "cell_type": "markdown",
   "metadata": {},
   "source": [
    "## More Unit Tests"
   ]
  },
  {
   "cell_type": "code",
   "execution_count": null,
   "metadata": {},
   "outputs": [],
   "source": [
    "def test_time():\n",
    "    # Test __str__()\n",
    "    assert Time(0, 0, 0).__str__() == '12:00 AM'\n",
    "    assert Time(0, 1, 2).__str__() == '12:01 AM'\n",
    "    assert Time(0, 1, 59).__str__() == '12:01 AM'\n",
    "    assert Time(11, 30, 59).__str__() == '11:30 AM'\n",
    "    \n",
    "    assert Time(12, 0, 3).__str__() == '12:00 PM'\n",
    "    assert Time(23, 2, 13).__str__() == '11:02 PM'\n",
    "\n",
    "    # Test changes to keep time within 24 hours\n",
    "    # We look at different ways to create a time object\n",
    "    assert Time(25, 45, 00).__str__() == '01:45 AM'\n",
    "    \n",
    "    t = Time(20, 45, 00) + Time(20, 45, 00)\n",
    "    assert t.__str__() == '05:30 PM'\n",
    "    \n",
    "    t = Time(23, 45, 00) + 72000\n",
    "    assert t.__str__() == '07:45 PM'\n",
    "    \n",
    "    t = 72000 + Time(23, 45, 00)\n",
    "    assert t.__str__() == '07:45 PM'\n",
    "    \n",
    "    assert Time(25, 45, 00).increment(72000).__str__() == '09:45 PM'\n",
    "    assert int_to_time(180000).__str__() == '02:00 AM'\n",
    "    \n",
    "    print('Success!')\n",
    "    \n",
    "test_time()"
   ]
  }
 ],
 "metadata": {
  "kernelspec": {
   "display_name": "Python 3",
   "language": "python",
   "name": "python3"
  },
  "language_info": {
   "codemirror_mode": {
    "name": "ipython",
    "version": 3
   },
   "file_extension": ".py",
   "mimetype": "text/x-python",
   "name": "python",
   "nbconvert_exporter": "python",
   "pygments_lexer": "ipython3",
   "version": "3.8.11"
  }
 },
 "nbformat": 4,
 "nbformat_minor": 2
}
