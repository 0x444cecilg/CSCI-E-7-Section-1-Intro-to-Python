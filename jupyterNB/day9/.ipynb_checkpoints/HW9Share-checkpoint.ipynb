{
 "cells": [
  {
   "cell_type": "markdown",
   "metadata": {},
   "source": [
    "# Homework 9 Share\n",
    "## Problems to discuss in section or Piazza\n",
    "### October 2021"
   ]
  },
  {
   "cell_type": "markdown",
   "metadata": {},
   "source": [
    "## Generators"
   ]
  },
  {
   "cell_type": "markdown",
   "metadata": {},
   "source": [
    "### 1) Write a generator that returns squares"
   ]
  },
  {
   "cell_type": "code",
   "execution_count": 19,
   "metadata": {
    "scrolled": false
   },
   "outputs": [],
   "source": [
    "def song():\n",
    "    yield \"Baa Baa\"\n",
    "    yield \"Baa Baa\"\n",
    "    yield \"Baa Baa\"\n",
    "    \n",
    "gen = song()"
   ]
  },
  {
   "cell_type": "code",
   "execution_count": 16,
   "metadata": {},
   "outputs": [
    {
     "name": "stdout",
     "output_type": "stream",
     "text": [
      "Baa Baa\n",
      "Baa Baa\n",
      "Baa Baa\n"
     ]
    }
   ],
   "source": [
    "for s in gen:\n",
    "    print(s)"
   ]
  },
  {
   "cell_type": "code",
   "execution_count": 20,
   "metadata": {},
   "outputs": [
    {
     "name": "stdout",
     "output_type": "stream",
     "text": [
      "['Baa Baa', 'Baa Baa', 'Baa Baa']\n"
     ]
    }
   ],
   "source": [
    "lst = [s for s in gen]\n",
    "print(lst)"
   ]
  },
  {
   "cell_type": "code",
   "execution_count": 12,
   "metadata": {},
   "outputs": [
    {
     "ename": "StopIteration",
     "evalue": "",
     "output_type": "error",
     "traceback": [
      "\u001b[0;31m---------------------------------------------------------------------------\u001b[0m",
      "\u001b[0;31mStopIteration\u001b[0m                             Traceback (most recent call last)",
      "\u001b[0;32m<ipython-input-12-6e72e47198db>\u001b[0m in \u001b[0;36m<module>\u001b[0;34m\u001b[0m\n\u001b[0;32m----> 1\u001b[0;31m \u001b[0mnext\u001b[0m\u001b[0;34m(\u001b[0m\u001b[0mgen\u001b[0m\u001b[0;34m)\u001b[0m\u001b[0;34m\u001b[0m\u001b[0;34m\u001b[0m\u001b[0m\n\u001b[0m",
      "\u001b[0;31mStopIteration\u001b[0m: "
     ]
    }
   ],
   "source": [
    "next(gen)\n"
   ]
  },
  {
   "cell_type": "code",
   "execution_count": null,
   "metadata": {},
   "outputs": [],
   "source": []
  },
  {
   "cell_type": "markdown",
   "metadata": {},
   "source": [
    "### 2) Write a generator that returns python files below a point in the file system\n",
    "\n",
    "```python\n",
    "    def find_files(dirname: str):\n",
    "        pass\n",
    "````\n",
    "\n",
    "Modify this to return files with an arbitrary extension\n",
    "\n",
    "```python\n",
    "    def find_files(dirname: str, ext: str):\n",
    "        pass\n",
    "````"
   ]
  },
  {
   "cell_type": "code",
   "execution_count": 25,
   "metadata": {},
   "outputs": [
    {
     "name": "stdout",
     "output_type": "stream",
     "text": [
      "('..', ['day4', 'day3', 'day2', 'day5', 'day7', 'day9', 'day8', 'day6', 'day1', '.ipynb_checkpoints'], ['.DS_Store'])\n"
     ]
    }
   ],
   "source": [
    "gen = os.walk('..')\n",
    "p = next(gen)\n",
    "print(p)"
   ]
  },
  {
   "cell_type": "code",
   "execution_count": 28,
   "metadata": {},
   "outputs": [
    {
     "name": "stdout",
     "output_type": "stream",
     "text": [
      "Day9.ipynb      HW9Share.ipynb  Homework9.ipynb words.txt\r\n"
     ]
    }
   ],
   "source": [
    "! ls\n"
   ]
  },
  {
   "cell_type": "code",
   "execution_count": 30,
   "metadata": {
    "scrolled": false
   },
   "outputs": [
    {
     "name": "stdout",
     "output_type": "stream",
     "text": [
      "../day4/mycopy.py\n",
      "../day3/clock.py\n",
      "../day3/yinyang.py\n",
      "../day3/hopscotch.py\n",
      "../day2/system.py\n",
      "../day2/Koch.py\n",
      "../day2/script_sum.py\n",
      "../day2/sum.py\n",
      "../day2/double.py\n",
      "../day2/script.py\n",
      "../day5/walk.py\n",
      "../day6/findLibrary.py\n",
      "../day6/game.py\n",
      "../day6/stripComments.py\n",
      "../day6/FailedBanks.py\n"
     ]
    }
   ],
   "source": [
    "import os\n",
    "\n",
    "def find_files(dirname):\n",
    "    \"\"\"yield stream of python files\"\"\"\n",
    "    # print(f'find_files({dir_name})')\n",
    "    gen = os.walk(dirname)\n",
    "    try:\n",
    "        while True:\n",
    "            tuple = next(gen)\n",
    "#             print(type(tuple), tuple)\n",
    "            dir_path = tuple[0]\n",
    "            for fileName in tuple[2]:\n",
    "                if fileName.endswith('.py'):\n",
    "                    \n",
    "                    yield(os.path.join(dir_path, fileName))\n",
    "\n",
    "    except StopIteration:\n",
    "        return\n",
    "    \n",
    "gen = find_files('..')\n",
    "for p in gen:\n",
    "    print(p)"
   ]
  },
  {
   "cell_type": "markdown",
   "metadata": {},
   "source": [
    "### 3) Write a generator to return lines in a file longer than 40 characters\n",
    "\n",
    "```python\n",
    "    def find_files(path: str, len: int):\n",
    "        pass\n",
    "````\n",
    "\n",
    "Modify this to return lines longer than an arbitrary value\n",
    "\n",
    "Modify this to handle tabs correctly: a tab will take you past the next column that is a multiple of 8\n",
    "that is, _ _ \\t X translates to _ _ _ _ _ _ _ _ X.  Don't count characters: count spaces"
   ]
  },
  {
   "cell_type": "code",
   "execution_count": null,
   "metadata": {
    "scrolled": false
   },
   "outputs": [],
   "source": []
  },
  {
   "cell_type": "markdown",
   "metadata": {},
   "source": [
    "### 4) Sieve of Eratosthones\n",
    "\n",
    "(Mathematical) Write a generator to produce the prime numbers using the Sieve of Eratosthones\n",
    "\n",
    "```python\n",
    "    def sieve():\n",
    "        pass\n",
    "````\n",
    "\n",
    "https://en.wikipedia.org/wiki/Sieve_of_Eratosthenes"
   ]
  },
  {
   "cell_type": "code",
   "execution_count": null,
   "metadata": {
    "scrolled": false
   },
   "outputs": [],
   "source": []
  },
  {
   "cell_type": "markdown",
   "metadata": {},
   "source": [
    "## Objects"
   ]
  },
  {
   "cell_type": "markdown",
   "metadata": {},
   "source": [
    "### 5) Intersects\n",
    "\n",
    "Define rectangles, and write a rectangle method intersects() that decides if a point intersects a rectangle"
   ]
  },
  {
   "cell_type": "code",
   "execution_count": 7,
   "metadata": {
    "scrolled": false
   },
   "outputs": [
    {
     "name": "stdout",
     "output_type": "stream",
     "text": [
      "((1, 1), (3, 5))\n"
     ]
    },
    {
     "data": {
      "text/plain": [
       "False"
      ]
     },
     "execution_count": 7,
     "metadata": {},
     "output_type": "execute_result"
    }
   ],
   "source": [
    "class Rectangle(object):\n",
    "    \n",
    "    def __init__(self, cor1, cor2):\n",
    "        \"\"\"Initialize Rectangle\"\"\"\n",
    "        self.upperLeft  = ( min(cor1[0], cor2[0]), min(cor1[1], cor2[1])) \n",
    "        self.lowerRight = ( max(cor1[0], cor2[0]), max(cor1[1], cor2[1]))\n",
    "        \n",
    "    def __str__(self):\n",
    "        \"\"\"Produce string describing Rectangle\"\"\"\n",
    "        return f\"({self.upperLeft}, {self.lowerRight})\"\n",
    "    \n",
    "    def intersects(self, p):\n",
    "        \"\"\"Does p lie inside or on Rectangle\"\"\"\n",
    "        return (self.upperLeft[0] <= p[0] and p[0] <= self.lowerRight[0]) and \\\n",
    "            (self.upperLeft[1] <= p[1] and p[1] <= self.lowerRight[1])\n",
    "    \n",
    "    def __eq__(self, other):\n",
    "        return self.lowerRight == other.lowerRight and self.upperLeft == other.upperLeft\n",
    "    \n",
    "r1 = Rectangle((3, 5), (1, 1))\n",
    "r2 = Rectangle(())\n",
    "print(r1)  \n",
    "r1.intersects((2, 0))"
   ]
  },
  {
   "cell_type": "markdown",
   "metadata": {},
   "source": [
    "### 6) Intersects\n",
    "\n",
    "Use #5 to write methods to decide if two rectangles intersect.\n",
    "\n",
    "They intersect if either rectangle contains any corner of the other rectangle.  "
   ]
  },
  {
   "cell_type": "code",
   "execution_count": null,
   "metadata": {
    "scrolled": false
   },
   "outputs": [],
   "source": []
  },
  {
   "cell_type": "markdown",
   "metadata": {},
   "source": [
    "### 7) Formatting\n",
    "\n",
    "Explain what is happening below"
   ]
  },
  {
   "cell_type": "code",
   "execution_count": null,
   "metadata": {
    "scrolled": false
   },
   "outputs": [],
   "source": [
    "three = 3\n",
    "four = 4\n",
    "seven = three + four\n",
    "\n",
    "print(f\"->{three}->{four:2}->{seven:03}\")"
   ]
  }
 ],
 "metadata": {
  "kernelspec": {
   "display_name": "Python 3",
   "language": "python",
   "name": "python3"
  },
  "language_info": {
   "codemirror_mode": {
    "name": "ipython",
    "version": 3
   },
   "file_extension": ".py",
   "mimetype": "text/x-python",
   "name": "python",
   "nbconvert_exporter": "python",
   "pygments_lexer": "ipython3",
   "version": "3.8.11"
  }
 },
 "nbformat": 4,
 "nbformat_minor": 4
}
