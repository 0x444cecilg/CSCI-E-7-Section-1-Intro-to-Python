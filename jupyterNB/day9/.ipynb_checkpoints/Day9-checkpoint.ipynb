{
 "cells": [
  {
   "cell_type": "markdown",
   "metadata": {},
   "source": [
    "# Introduction to Programming with Python\n",
    "# Day 9 Notebook -  Iterators and Generators\n",
    "# FALL 2019 - (c) Jeff Parker"
   ]
  },
  {
   "cell_type": "markdown",
   "metadata": {},
   "source": [
    "## Topics\n",
    "\n",
    "- Command line iterators: _more_ and _pipelines_\n",
    "- Iterators\n",
    "- Generators\n",
    "- Generator Expressions\n",
    "- GIT?\n",
    "- Heapsort?\n",
    "- Pickle?"
   ]
  },
  {
   "cell_type": "markdown",
   "metadata": {},
   "source": [
    "# Lazy Evaluation\n",
    "\n",
    "My Mom always had more advice.  \n",
    "\n",
    "It was not a fixed list of remarks, but a stream of new comments.\n",
    "\n",
    "Apparently, I always had room for improvement.  "
   ]
  },
  {
   "cell_type": "markdown",
   "metadata": {},
   "source": [
    "## A Unix Example"
   ]
  },
  {
   "cell_type": "code",
   "execution_count": null,
   "metadata": {},
   "outputs": [],
   "source": [
    "# At Unix command line\n",
    "! more ../words.txt"
   ]
  },
  {
   "cell_type": "markdown",
   "metadata": {},
   "source": [
    "## Pipelines\n",
    "\n",
    "We can run several independant commands at the same time, and link them with pipelines. \n",
    "\n",
    "Let's filter the dictionary for 4 letter words using grep (Global Regular Expression Print)\n",
    "\n",
    "\\^ matches the start of a line\n",
    "\n",
    "\\$ matches the end of a line"
   ]
  },
  {
   "cell_type": "code",
   "execution_count": null,
   "metadata": {},
   "outputs": [],
   "source": [
    "# At Unix command line\n",
    "! grep ^.....$ ../words.txt"
   ]
  },
  {
   "cell_type": "markdown",
   "metadata": {},
   "source": [
    "```python\n",
    "albs\n",
    "alec\n",
    "alee\n",
    "...\n",
    "zori\n",
    "zyme\n",
    "```"
   ]
  },
  {
   "cell_type": "markdown",
   "metadata": {},
   "source": [
    "## Let's look for four letter words ending in t"
   ]
  },
  {
   "cell_type": "code",
   "execution_count": null,
   "metadata": {},
   "outputs": [],
   "source": [
    "! grep ^.....$ ../words.txt | grep t.$"
   ]
  },
  {
   "cell_type": "markdown",
   "metadata": {},
   "source": [
    "```python\n",
    "abet\n",
    "abut\n",
    "...\n",
    "yett\n",
    "yurt\n",
    "zest\n",
    "```"
   ]
  },
  {
   "cell_type": "markdown",
   "metadata": {},
   "source": [
    "## Count number of 4 letter words ending in t: use Word Count (wc)"
   ]
  },
  {
   "cell_type": "code",
   "execution_count": null,
   "metadata": {},
   "outputs": [],
   "source": [
    "! grep ^.....$ ../words.txt | grep t.$ | wc"
   ]
  },
  {
   "cell_type": "markdown",
   "metadata": {},
   "source": [
    "```python\n",
    "    316     316    1896\n",
    "```"
   ]
  },
  {
   "cell_type": "markdown",
   "metadata": {},
   "source": [
    "## List the running processes\n",
    "\n",
    "ps -ax\n",
    "\n",
    "### Send the output to a file, processes.txt\n",
    "\n",
    "tee processes.txt\n",
    "\n",
    "### And show me the output one screen at a time\n",
    "\n",
    "more"
   ]
  },
  {
   "cell_type": "code",
   "execution_count": null,
   "metadata": {},
   "outputs": [],
   "source": [
    "! ps -ax | tee processes.txt | more"
   ]
  },
  {
   "cell_type": "markdown",
   "metadata": {},
   "source": [
    "I might see something like this\n",
    "\n",
    "```python\n",
    "  PID TTY           TIME CMD\n",
    "    1 ??         1:30.56 /sbin/launchd\n",
    "   64 ??         0:01.97 /usr/sbin/syslogd\n",
    "   65 ??         0:01.25 /usr/libexec/UserEventAgent (System)\n",
    "   67 ??         0:15.75 /Library/Application Support/Malwarebytes/MBAM/Engine.bundle/Contents/PlugIns/RTProtectionDaemon.app/Contents/MacOS/RTProtectionDaemon -i 0AECD85D-2403-493F-9E73-1F06D326F25E.pkg\n",
    "   69 ??         0:01.04 /System/Library/PrivateFrameworks/Uninstall.framework/Resources/uninstalld\n",
    "   70 ??         0:10.55 /usr/libexec/kextd\n",
    "   71 ??         0:11.17 /System/Library/Frameworks/CoreServices.framework/Versions/A/Frameworks/FSEvents.framework/Versions/A/Support/fseventsd\n",
    "   73 ??         0:01.77 /System/Library/PrivateFrameworks/MediaRemote.framework/Support/mediaremoted\n",
    "   75 ??         0:01.92 /Library/KeyAccess/KeyAccess.app/Contents/SharedSupport/karl.app/Contents/MacOS/karl -c\n",
    "   77 ??         0:00.27 /System/Library/CoreServices/appleeventsd --server\n",
    "   78 ??         0:04.67 /usr/sbin/systemstats --daemon\n",
    "   80 ??         0:02.97 /usr/libexec/configd\n",
    "   81 ??         0:06.70 /System/Library/CoreServices/powerd.bundle/powerd\n",
    "   82 ??         0:20.93 /Library/Application Support/Fitbit Connect/galileod\n",
    "   85 ??         0:18.01 /usr/libexec/logd\n",
    "   86 ??         0:00.01 /usr/libexec/keybagd -t 15\n",
    ":\n",
    "```"
   ]
  },
  {
   "cell_type": "markdown",
   "metadata": {},
   "source": [
    "## Now filter for processes running notebooks"
   ]
  },
  {
   "cell_type": "code",
   "execution_count": null,
   "metadata": {},
   "outputs": [],
   "source": [
    "!  ps -ax | grep notebook"
   ]
  },
  {
   "cell_type": "markdown",
   "metadata": {},
   "source": [
    "```python\n",
    " 1790 ttys001    0:34.19 /Users/jparker/anaconda3/bin/python /Users/jparker/anaconda3/bin/jupyter-notebook\n",
    " 3171 ttys002    0:00.01 /bin/sh -c   ps -ax | grep notebook\n",
    " 3173 ttys002    0:00.00 grep notebook\n",
    "```"
   ]
  },
  {
   "cell_type": "markdown",
   "metadata": {},
   "source": [
    "### The processes run enough to fill the pipeline\n",
    "\n",
    "### When you say _% more words.txt_ you may not read the whole file"
   ]
  },
  {
   "cell_type": "markdown",
   "metadata": {},
   "source": [
    "## Application: Look for program with \"point\" in the name\n",
    "\n",
    "Here is an Unix command I use many times a day \n",
    "\n",
    "List the files below my current working directory\n",
    "```python\n",
    "find .\n",
    "```\n",
    "\n",
    "Now let's filter that for files with 'point' in the name using grep (Global Regular Expression Print)\n",
    "\n",
    "The option -i says \"Ignore case\""
   ]
  },
  {
   "cell_type": "code",
   "execution_count": null,
   "metadata": {},
   "outputs": [],
   "source": [
    "! find .. | grep -i point"
   ]
  },
  {
   "cell_type": "markdown",
   "metadata": {},
   "source": [
    "```python\n",
    "../day4/.ipynb_checkpoints\n",
    "../day4/.ipynb_checkpoints/Day4-checkpoint.ipynb\n",
    "../assignment6/.ipynb_checkpoints\n",
    "../assignment6/.ipynb_checkpoints/Solution6-checkpoint.ipynb\n",
    "../assignment6/.ipynb_checkpoints/Assignment6-checkpoint.ipynb\n",
    "../day3/.ipynb_checkpoints\n",
    "../day3/.ipynb_checkpoints/Debug-checkpoint.ipynb\n",
    "../day3/.ipynb_checkpoints/Untitled-checkpoint.ipynb\n",
    "../day3/.ipynb_checkpoints/Week3Section-checkpoint.ipynb\n",
    "../day3/.ipynb_checkpoints/Day3-checkpoint.ipynb\n",
    "...\n",
    "```"
   ]
  },
  {
   "cell_type": "markdown",
   "metadata": {},
   "source": [
    "## Filter out 'checkpoint'"
   ]
  },
  {
   "cell_type": "code",
   "execution_count": null,
   "metadata": {},
   "outputs": [],
   "source": [
    "!find .. | grep -i point | grep -v checkpoint"
   ]
  },
  {
   "cell_type": "markdown",
   "metadata": {},
   "source": [
    "```python\n",
    "../ThinkPython/Point1_soln.py\n",
    "../ThinkPython/Point1.py\n",
    "../day8/Point2.py\n",
    "../day8/Point1.py\n",
    "../pymotw/PyMOTW-3-1.0/source/math/math_distance_2_points.py\n",
    "../ClassicCSProblems/Chapter6/data_point.py\n",
    "```"
   ]
  },
  {
   "cell_type": "markdown",
   "metadata": {},
   "source": [
    "# Iterators"
   ]
  },
  {
   "cell_type": "markdown",
   "metadata": {},
   "source": [
    "We have been able to use a for loop on\n",
    "\n",
    "- range()\n",
    "- strings\n",
    "- lists\n",
    "- dictionaries\n",
    "\n",
    "How is this possible?  How can expect the same behavior from these different types?\n",
    "\n",
    "## Iterators support the method next() "
   ]
  },
  {
   "cell_type": "markdown",
   "metadata": {},
   "source": [
    "## Let's see if we can iterate over range(10)"
   ]
  },
  {
   "cell_type": "code",
   "execution_count": null,
   "metadata": {},
   "outputs": [],
   "source": [
    "it = range(10)\n",
    "while True:\n",
    "    print(next(it))"
   ]
  },
  {
   "cell_type": "markdown",
   "metadata": {},
   "source": [
    "```python\n",
    "TypeError                                 Traceback (most recent call last)\n",
    "<ipython-input-19-16891c1754ae> in <module>\n",
    "      1 it = range(10)\n",
    "      2 while True:\n",
    "----> 3     print(next(it))\n",
    "\n",
    "TypeError: 'range' object is not an iterator\n",
    "```"
   ]
  },
  {
   "cell_type": "markdown",
   "metadata": {},
   "source": [
    "## range() is iterable\n",
    "\n",
    "## range() is not an Iterator, but it can produce one.\n",
    "\n",
    "## Iterables are objects that can return an Iterator \n",
    "### An iterable implements \\_\\_iter\\_\\_(),  which returns an iterator\n",
    "\n",
    "### An iterator is an object that implements \\_\\_next\\_\\_()\n",
    "#### \\_\\_next\\_\\_() is expected to return the next element of the iterable object. \n",
    "\n",
    "### The Iterator \\_\\_iter\\_\\_() returns might be the original object \n",
    "\n",
    "### An iterator raises a StopIteration exception when no more elements are available.\n",
    "\n",
    "Trey Hunner on Iterators and Iterables\n",
    "\n",
    "https://treyhunner.com/2018/06/how-to-make-an-iterator-in-python/"
   ]
  },
  {
   "cell_type": "code",
   "execution_count": null,
   "metadata": {},
   "outputs": [],
   "source": [
    "it = iter(range(10))\n",
    "\n",
    "while True:\n",
    "    print(next(it))"
   ]
  },
  {
   "cell_type": "markdown",
   "metadata": {},
   "source": [
    "## Catch the StopIteration exception"
   ]
  },
  {
   "cell_type": "code",
   "execution_count": null,
   "metadata": {},
   "outputs": [],
   "source": [
    "it = iter(range(10))\n",
    "\n",
    "while True:\n",
    "    try:\n",
    "        print(next(it))\n",
    "    except StopIteration:\n",
    "        print('Caught StopIteration!')\n",
    "        break"
   ]
  },
  {
   "cell_type": "code",
   "execution_count": null,
   "metadata": {},
   "outputs": [],
   "source": [
    "it = iter('Hello, World')\n",
    "while True:\n",
    "    try:\n",
    "        print(next(it))\n",
    "    except StopIteration:\n",
    "        print('Caught StopIteration!')\n",
    "        break"
   ]
  },
  {
   "cell_type": "markdown",
   "metadata": {},
   "source": [
    "# Hamming Distance Solution \n",
    "\n",
    "Here is how we solved it in HW #5"
   ]
  },
  {
   "cell_type": "code",
   "execution_count": null,
   "metadata": {},
   "outputs": [],
   "source": [
    "# Return the number of differences \n",
    "# Takes two strings, return non-negative integer\n",
    "# Throws ValueError if the strings have different length\n",
    "#\n",
    "def hamming_distance(strand_a, strand_b):\n",
    "    if len(strand_a) != len(strand_b):\n",
    "        raise ValueError(f'Strings {strand_a}, {strand_b} should have the same length')\n",
    "        \n",
    "    count = 0\n",
    "    strand_a = strand_a.lower()\n",
    "    strand_b = strand_b.lower()\n",
    "     \n",
    "    for pos in range(len(strand_a)):   \n",
    "        if strand_a[pos] != strand_b[pos]:\n",
    "            count = count + 1\n",
    "            \n",
    "    return count"
   ]
  },
  {
   "cell_type": "markdown",
   "metadata": {},
   "source": [
    "## We can use the zip() iterator, which ties two streams together"
   ]
  },
  {
   "cell_type": "code",
   "execution_count": null,
   "metadata": {},
   "outputs": [],
   "source": [
    "for t in zip('dog', 'cat'):\n",
    "    print(t)"
   ]
  },
  {
   "cell_type": "markdown",
   "metadata": {},
   "source": [
    "### We can unwrap the tuple"
   ]
  },
  {
   "cell_type": "code",
   "execution_count": null,
   "metadata": {},
   "outputs": [],
   "source": [
    "for ch1, ch2 in zip('dog', 'cat'):\n",
    "    print(ch1, ch2)"
   ]
  },
  {
   "cell_type": "markdown",
   "metadata": {},
   "source": [
    "## Apply these ideas to Hamming Distance"
   ]
  },
  {
   "cell_type": "code",
   "execution_count": null,
   "metadata": {},
   "outputs": [],
   "source": [
    "# Return the number of differences \n",
    "def hamming_distance(str1, str2):\n",
    "    # check to make sure the strings are the same length\n",
    "    if len(str1) != len(str2):\n",
    "        raise ValueError(\"the strings have different lengths\")\n",
    "    \n",
    "    return len([1 for ch1, ch2 in zip(str1.lower(), str2.lower())\n",
    "         if ch1 != ch2])\n",
    "\n",
    "hamming_distance('dog', 'cat')"
   ]
  },
  {
   "cell_type": "code",
   "execution_count": 2,
   "metadata": {},
   "outputs": [
    {
     "name": "stdout",
     "output_type": "stream",
     "text": [
      "<zip object at 0x7f92e744a040>\n"
     ]
    }
   ],
   "source": [
    "nums = [1, 2, 3]\n",
    "lets = ['a', 'b', 'c']\n",
    "z = zip(nums, lets)\n",
    "print(z) "
   ]
  },
  {
   "cell_type": "code",
   "execution_count": 3,
   "metadata": {},
   "outputs": [
    {
     "name": "stdout",
     "output_type": "stream",
     "text": [
      "(1, 'a')\n",
      "(2, 'b')\n",
      "(3, 'c')\n"
     ]
    }
   ],
   "source": [
    "for p in z:\n",
    "    print(p)"
   ]
  },
  {
   "cell_type": "markdown",
   "metadata": {},
   "source": [
    "## zip() returns an iterator"
   ]
  },
  {
   "cell_type": "code",
   "execution_count": null,
   "metadata": {},
   "outputs": [],
   "source": [
    "from collections.abc import Iterable\n",
    "\n",
    "z = zip(nums, lets)\n",
    "print(type(z))\n",
    "isinstance(z, Iterable)"
   ]
  },
  {
   "cell_type": "code",
   "execution_count": null,
   "metadata": {},
   "outputs": [],
   "source": [
    "while True:\n",
    "    try:\n",
    "        print(next(z))\n",
    "    except StopIteration:\n",
    "        break"
   ]
  },
  {
   "cell_type": "markdown",
   "metadata": {},
   "source": [
    "## Read more here:\n",
    "\n",
    "https://docs.python.org/3/library/stdtypes.html#iterator-types"
   ]
  },
  {
   "cell_type": "markdown",
   "metadata": {},
   "source": [
    "# Interface vs Subclasses\n",
    "## Key notion - these are not all subclasses of Iterator\n",
    "## They are classes that implement an interface:\n",
    "## 1) Iterables must implement \\_\\_iter\\_\\_() and return an Iterator\n",
    "## 2) Iterators must implement \\_\\_next\\_\\_()\n",
    "\n",
    "\"Rather than subclassing, just use pure interfaces. It's not so much that class inheritance is particularly bad. It just has problems.\" - James Gosling"
   ]
  },
  {
   "cell_type": "markdown",
   "metadata": {},
   "source": [
    "# Let's define our own Iterator"
   ]
  },
  {
   "cell_type": "code",
   "execution_count": null,
   "metadata": {},
   "outputs": [],
   "source": [
    "class MyCounter(object):\n",
    "    '''iterator that yields integers in sequence'''\n",
    "    \n",
    "    def __init__(self, limit: int):\n",
    "        \"Initialize limits to a counter\"\n",
    "        self.limit = limit\n",
    "        self.count = 1\n",
    "    \n",
    "    def __iter__(self):\n",
    "        \"We are both Iterable and Iterator\"\n",
    "        return self\n",
    "\n",
    "    def __next__(self):\n",
    "        \"Return the next value of the counter\"\n",
    "        val = self.count\n",
    "        if val > self.limit:\n",
    "            raise StopIteration\n",
    "        self.count = self.count + 1\n",
    "        return val"
   ]
  },
  {
   "cell_type": "markdown",
   "metadata": {},
   "source": [
    "## Try out our new class"
   ]
  },
  {
   "cell_type": "code",
   "execution_count": null,
   "metadata": {},
   "outputs": [],
   "source": [
    "sequence = MyCounter(10)   # Create a new MyCounter object\n",
    "print(sequence)\n",
    "print(type(sequence))      # Object is of class MyCounter\n",
    "print(sequence.__class__)\n",
    "print(sequence.__doc__)"
   ]
  },
  {
   "cell_type": "markdown",
   "metadata": {},
   "source": [
    "## In action"
   ]
  },
  {
   "cell_type": "code",
   "execution_count": null,
   "metadata": {},
   "outputs": [],
   "source": [
    "c = MyCounter(5)\n",
    "\n",
    "print(next(c))"
   ]
  },
  {
   "cell_type": "code",
   "execution_count": null,
   "metadata": {},
   "outputs": [],
   "source": [
    "print(next(c))"
   ]
  },
  {
   "cell_type": "code",
   "execution_count": null,
   "metadata": {},
   "outputs": [],
   "source": [
    "print(next(c))"
   ]
  },
  {
   "cell_type": "code",
   "execution_count": null,
   "metadata": {},
   "outputs": [],
   "source": [
    "print(next(c))"
   ]
  },
  {
   "cell_type": "code",
   "execution_count": null,
   "metadata": {},
   "outputs": [],
   "source": [
    "print(next(c))"
   ]
  },
  {
   "cell_type": "code",
   "execution_count": null,
   "metadata": {},
   "outputs": [],
   "source": [
    "print(next(c))"
   ]
  },
  {
   "cell_type": "markdown",
   "metadata": {},
   "source": [
    "## Or we can step through with a for loop"
   ]
  },
  {
   "cell_type": "code",
   "execution_count": null,
   "metadata": {},
   "outputs": [],
   "source": [
    "for i in MyCounter(4):\n",
    "    print(next(sequence))"
   ]
  },
  {
   "cell_type": "code",
   "execution_count": null,
   "metadata": {},
   "outputs": [],
   "source": [
    "print(next(sequence))"
   ]
  },
  {
   "cell_type": "markdown",
   "metadata": {},
   "source": [
    "## Watch the sequence in the debugger\n",
    "\n",
    "Put breakpoints in key spots and watch it chug through"
   ]
  },
  {
   "cell_type": "markdown",
   "metadata": {},
   "source": [
    "## Another example: range()"
   ]
  },
  {
   "cell_type": "code",
   "execution_count": null,
   "metadata": {},
   "outputs": [],
   "source": [
    "r = range(1, 13, 2)\n",
    "print(r)\n",
    "print(type(r))"
   ]
  },
  {
   "cell_type": "code",
   "execution_count": null,
   "metadata": {},
   "outputs": [],
   "source": [
    "print(next(r))"
   ]
  },
  {
   "cell_type": "code",
   "execution_count": null,
   "metadata": {},
   "outputs": [],
   "source": [
    "# range() is not an iterator\n",
    "# \n",
    "# But it can make you one\n",
    "#\n",
    "r = range(3)\n",
    "\n",
    "it = iter(r)\n",
    "print(it)\n",
    "print(type(it))"
   ]
  },
  {
   "cell_type": "code",
   "execution_count": null,
   "metadata": {},
   "outputs": [],
   "source": [
    "print(next(it))"
   ]
  },
  {
   "cell_type": "code",
   "execution_count": null,
   "metadata": {},
   "outputs": [],
   "source": [
    "print(next(it))"
   ]
  },
  {
   "cell_type": "code",
   "execution_count": null,
   "metadata": {},
   "outputs": [],
   "source": [
    "print(next(it))"
   ]
  },
  {
   "cell_type": "code",
   "execution_count": null,
   "metadata": {},
   "outputs": [],
   "source": [
    "print(next(it))"
   ]
  },
  {
   "cell_type": "markdown",
   "metadata": {},
   "source": [
    "## What about strings?"
   ]
  },
  {
   "cell_type": "code",
   "execution_count": null,
   "metadata": {},
   "outputs": [],
   "source": [
    "s = 'Hi!'\n",
    "it = iter(s)\n",
    "print(it)\n",
    "print(type(it))"
   ]
  },
  {
   "cell_type": "code",
   "execution_count": null,
   "metadata": {},
   "outputs": [],
   "source": [
    "print(next(it))"
   ]
  },
  {
   "cell_type": "code",
   "execution_count": null,
   "metadata": {},
   "outputs": [],
   "source": [
    "print(next(it))"
   ]
  },
  {
   "cell_type": "code",
   "execution_count": null,
   "metadata": {},
   "outputs": [],
   "source": [
    "print(next(it))"
   ]
  },
  {
   "cell_type": "code",
   "execution_count": null,
   "metadata": {},
   "outputs": [],
   "source": [
    "print(next(it))"
   ]
  },
  {
   "cell_type": "markdown",
   "metadata": {},
   "source": [
    "# Directory Iterator with scandir()\n",
    "## scandir() is a generator: a simpler way to generate an Iterator"
   ]
  },
  {
   "cell_type": "code",
   "execution_count": null,
   "metadata": {},
   "outputs": [],
   "source": [
    "import os\n",
    "\n",
    "it = os.scandir('.')\n",
    "\n",
    "while True:\n",
    "    try:\n",
    "        print(next(it))\n",
    "    except StopIteration:\n",
    "        break"
   ]
  },
  {
   "cell_type": "markdown",
   "metadata": {},
   "source": [
    "```python\n",
    "<DirEntry 'listComprehension.py'>\n",
    "<DirEntry 'frequency.py'>\n",
    "<DirEntry 'listReverse.py'>\n",
    "<DirEntry 'fibIterator.py'>\n",
    "...\n",
    "```"
   ]
  },
  {
   "cell_type": "markdown",
   "metadata": {},
   "source": [
    "## We don't need to do this by hand: can use for-loop"
   ]
  },
  {
   "cell_type": "code",
   "execution_count": null,
   "metadata": {},
   "outputs": [],
   "source": [
    "# Rewrite and go up one level\n",
    "import os\n",
    "\n",
    "for entry in os.scandir('.'):\n",
    "    print(entry) \n",
    "    \n",
    "# Note the hidden files: .DS_Store, .ipynb_checkpoints"
   ]
  },
  {
   "cell_type": "markdown",
   "metadata": {},
   "source": [
    "```python\n",
    "<DirEntry 'listComprehension.py'>\n",
    "<DirEntry 'frequency.py'>\n",
    "<DirEntry 'listReverse.py'>\n",
    "<DirEntry 'fibIterator.py'>\n",
    "...\n",
    "```"
   ]
  },
  {
   "cell_type": "markdown",
   "metadata": {},
   "source": [
    "## Let's make some familiar iterators\n",
    "\n",
    "## enumerate()\n",
    "\n",
    "Return the position and the next value.  Here is the real thing in action."
   ]
  },
  {
   "cell_type": "code",
   "execution_count": null,
   "metadata": {},
   "outputs": [],
   "source": [
    "s = 'hello'\n",
    "for pos, val in enumerate(s):\n",
    "    print(f\"{pos = } {val = }\")"
   ]
  },
  {
   "cell_type": "markdown",
   "metadata": {},
   "source": [
    "## Let's reimplement enumerate()"
   ]
  },
  {
   "cell_type": "code",
   "execution_count": null,
   "metadata": {},
   "outputs": [],
   "source": [
    "class MyEnumerate(object):\n",
    "    '''iterator that yields position, value'''\n",
    "    \n",
    "    def __init__(self, obj):\n",
    "        \"Initialize limits to a counter\"\n",
    "        self.count = 0\n",
    "        self.iter = iter(obj)\n",
    "    \n",
    "    def __iter__(self):\n",
    "        \"We are both Iterable and Iterator\"\n",
    "        return self\n",
    "\n",
    "    def __next__(self):\n",
    "        \"Return the next tupple\"\n",
    "        retVal = (self.count, next(self.iter))\n",
    "        self.count = self.count + 1\n",
    "        return retVal"
   ]
  },
  {
   "cell_type": "code",
   "execution_count": null,
   "metadata": {},
   "outputs": [],
   "source": [
    "s = 'hello'\n",
    "for pos, val in MyEnumerate(s):\n",
    "    print(f\"{pos = } {val = }\")"
   ]
  },
  {
   "cell_type": "markdown",
   "metadata": {},
   "source": [
    "## Who raised the StopIteration?\n",
    "\n",
    "We wrapped an iterator around an iterator\n",
    "\n",
    "The original iterator raises the exception: rather than catch it, we pass it on"
   ]
  },
  {
   "cell_type": "markdown",
   "metadata": {},
   "source": [
    "## zip()\n",
    "\n",
    "Link two strands together to yield a sequence of tuples"
   ]
  },
  {
   "cell_type": "code",
   "execution_count": null,
   "metadata": {},
   "outputs": [],
   "source": [
    "for t in zip('hot', 'dog'):\n",
    "    print(t)"
   ]
  },
  {
   "cell_type": "markdown",
   "metadata": {},
   "source": [
    "## Let's reimplement zip()"
   ]
  },
  {
   "cell_type": "code",
   "execution_count": null,
   "metadata": {},
   "outputs": [],
   "source": [
    "class MyZip(object):\n",
    "    '''iterator that yields position, value'''\n",
    "    \n",
    "    def __init__(self, obj1, obj2):\n",
    "        \"Initialize limits to a counter\"\n",
    "        self.iter1 = iter(obj1)\n",
    "        self.iter2 = iter(obj2)\n",
    "        \n",
    "    def __iter__(self):\n",
    "        \"We are both Iterable and Iterator\"\n",
    "        return self\n",
    "\n",
    "    def __next__(self):\n",
    "        \"Return the next value of the counter\"\n",
    "        return (next(self.iter1), next(self.iter2))"
   ]
  },
  {
   "cell_type": "code",
   "execution_count": null,
   "metadata": {},
   "outputs": [],
   "source": [
    "for t in MyZip('hot', 'dog'):\n",
    "    print(t)"
   ]
  },
  {
   "cell_type": "markdown",
   "metadata": {},
   "source": [
    "## Who raised the StopIteration?\n",
    "\n",
    "We wrapped an iterator around two iterators\n",
    "\n",
    "When either original iterator raises an exception, we pass it on"
   ]
  },
  {
   "cell_type": "code",
   "execution_count": null,
   "metadata": {},
   "outputs": [],
   "source": [
    "for t in MyZip('long', 'short'):\n",
    "    print(t)"
   ]
  },
  {
   "cell_type": "code",
   "execution_count": null,
   "metadata": {},
   "outputs": [],
   "source": [
    "for t in MyZip('short', 'long'):\n",
    "    print(t)"
   ]
  },
  {
   "cell_type": "markdown",
   "metadata": {},
   "source": [
    "## Fibonacci Sequence: often used as example of recursion\n",
    "\n",
    "### It is a terrible recursive example.  \n",
    "- Mathematical\n",
    "- Wasteful - inefficient recursive algorithm\n",
    "- There are many better ways to write it.  Here is one:\n",
    "\n",
    "### Here it is as an iterator.  Note the dependence on tuples\n",
    "### This implementation is efficient"
   ]
  },
  {
   "cell_type": "code",
   "execution_count": null,
   "metadata": {},
   "outputs": [],
   "source": [
    "class Fib:\n",
    "    ''' Generate Fibonacci numbers upto a limit\n",
    "        iterator that yields numbers in the Fibonacci sequence'''\n",
    "\n",
    "    # Initialize the limits\n",
    "    def __init__(self, limit: int):\n",
    "        self.limit = limit\n",
    "\n",
    "    # Create an iterable\n",
    "    def __iter__(self):\n",
    "        self.a = 1\n",
    "        self.b = 1\n",
    "        return self\n",
    "\n",
    "    # Produce the next element of the sequence\n",
    "    def __next__(self):\n",
    "        fib = self.a\n",
    "        if fib > self.limit:\n",
    "            raise StopIteration\n",
    "        self.a, self.b = self.b, self.a + self.b\n",
    "        return fib"
   ]
  },
  {
   "cell_type": "code",
   "execution_count": null,
   "metadata": {},
   "outputs": [],
   "source": [
    "fib = Fib(100)\n",
    "print(fib)\n",
    "print(type(fib))\n",
    "print(fib.__class__)\n",
    "print(fib.__doc__)"
   ]
  },
  {
   "cell_type": "code",
   "execution_count": null,
   "metadata": {},
   "outputs": [],
   "source": [
    "for n in fib:\n",
    "    print(n, end=' ')"
   ]
  },
  {
   "cell_type": "markdown",
   "metadata": {},
   "source": [
    "## What else can we test?"
   ]
  },
  {
   "cell_type": "code",
   "execution_count": null,
   "metadata": {},
   "outputs": [],
   "source": [
    "it = iter('Hello, world!')\n",
    "\n",
    "print(type(it))"
   ]
  },
  {
   "cell_type": "code",
   "execution_count": null,
   "metadata": {},
   "outputs": [],
   "source": [
    "hasattr(it, '__iter__')"
   ]
  },
  {
   "cell_type": "code",
   "execution_count": null,
   "metadata": {},
   "outputs": [],
   "source": [
    "from collections.abc import Iterable\n",
    "\n",
    "print(isinstance(it, Iterable))"
   ]
  },
  {
   "cell_type": "markdown",
   "metadata": {},
   "source": [
    "# Generator\n",
    "\n",
    "Another way to create an iterator is to build a generator.  \n",
    "A generator is a function that _yields_ a result when asked, rather than _returning_   \n",
    "The next time we call it, it picks up after the last yield\n",
    "\n",
    "We start with Cab Calloway\n",
    "\n",
    "https://www.youtube.com/watch?v=jDK7sRLn-3E"
   ]
  },
  {
   "cell_type": "code",
   "execution_count": null,
   "metadata": {},
   "outputs": [],
   "source": [
    "def Hi_de_ho_man() -> str:\n",
    "    \"\"\"Chorus from Cab Calloway's Hi De Ho Man\"\"\"\n",
    "    yield 'Hi-de hi-de hi-de-hi'\n",
    "    yield '\\t(Hi-de hi-de hi-de-hi)'\n",
    "    yield 'Hey-de hey-de hey-de hey'\n",
    "    yield '\\t(Hey-de hey-de hey-de hey)'\n",
    "    yield 'He-de he-de he-de he'\n",
    "    yield '\\t(He-de he-de he-de he)'\n",
    "    yield 'Hi-de hi-de hi-de-hi'\n",
    "    yield '\\t(Hi-de hi-de hi-de-hi)'"
   ]
  },
  {
   "cell_type": "markdown",
   "metadata": {},
   "source": [
    "## Now use our new generator"
   ]
  },
  {
   "cell_type": "code",
   "execution_count": null,
   "metadata": {},
   "outputs": [],
   "source": [
    "Cab = Hi_de_ho_man()\n",
    "print(Cab)\n",
    "print(type(Cab))"
   ]
  },
  {
   "cell_type": "code",
   "execution_count": null,
   "metadata": {},
   "outputs": [],
   "source": [
    "print(Cab.__class__)\n",
    "print(Cab.__doc__)"
   ]
  },
  {
   "cell_type": "code",
   "execution_count": null,
   "metadata": {},
   "outputs": [],
   "source": [
    "help(Cab)"
   ]
  },
  {
   "cell_type": "code",
   "execution_count": null,
   "metadata": {},
   "outputs": [],
   "source": [
    "for s in Cab:\n",
    "    print(s)"
   ]
  },
  {
   "cell_type": "markdown",
   "metadata": {},
   "source": [
    "## And try it by hand"
   ]
  },
  {
   "cell_type": "code",
   "execution_count": null,
   "metadata": {},
   "outputs": [],
   "source": [
    "Cab = Hi_de_ho_man()\n",
    "\n",
    "print(next(Cab))"
   ]
  },
  {
   "cell_type": "code",
   "execution_count": null,
   "metadata": {},
   "outputs": [],
   "source": [
    "print(next(Cab))"
   ]
  },
  {
   "cell_type": "code",
   "execution_count": null,
   "metadata": {},
   "outputs": [],
   "source": [
    "print(next(Cab))"
   ]
  },
  {
   "cell_type": "code",
   "execution_count": null,
   "metadata": {},
   "outputs": [],
   "source": [
    "print(next(Cab))"
   ]
  },
  {
   "cell_type": "code",
   "execution_count": null,
   "metadata": {},
   "outputs": [],
   "source": [
    "print(next(Cab))"
   ]
  },
  {
   "cell_type": "code",
   "execution_count": null,
   "metadata": {},
   "outputs": [],
   "source": [
    "print(next(Cab))"
   ]
  },
  {
   "cell_type": "code",
   "execution_count": null,
   "metadata": {},
   "outputs": [],
   "source": [
    "print(next(Cab))"
   ]
  },
  {
   "cell_type": "code",
   "execution_count": null,
   "metadata": {},
   "outputs": [],
   "source": [
    "print(next(Cab))"
   ]
  },
  {
   "cell_type": "markdown",
   "metadata": {},
   "source": [
    "## Who was that masked man?"
   ]
  },
  {
   "cell_type": "code",
   "execution_count": null,
   "metadata": {},
   "outputs": [],
   "source": [
    "from collections.abc import Iterable\n",
    "\n",
    "print(isinstance(Cab, Iterable))\n",
    "\n",
    "print(hasattr(Cab, '__iter__'))"
   ]
  },
  {
   "cell_type": "markdown",
   "metadata": {},
   "source": [
    "### Let's write a simple counter, wraping the yield in a loop"
   ]
  },
  {
   "cell_type": "code",
   "execution_count": null,
   "metadata": {},
   "outputs": [],
   "source": [
    "def genCounter(limit: int):\n",
    "    count = 1\n",
    "    while count <= limit:\n",
    "        yield count\n",
    "        count = count + 1"
   ]
  },
  {
   "cell_type": "code",
   "execution_count": null,
   "metadata": {},
   "outputs": [],
   "source": [
    "for i in genCounter(10):\n",
    "    print(i, end=', ')"
   ]
  },
  {
   "cell_type": "code",
   "execution_count": null,
   "metadata": {},
   "outputs": [],
   "source": [
    "g = genCounter(5)"
   ]
  },
  {
   "cell_type": "code",
   "execution_count": null,
   "metadata": {},
   "outputs": [],
   "source": [
    "print(next(g))"
   ]
  },
  {
   "cell_type": "code",
   "execution_count": null,
   "metadata": {},
   "outputs": [],
   "source": [
    "from collections.abc import Iterable\n",
    "\n",
    "g = genCounter(5)\n",
    "\n",
    "print(isinstance(g, Iterable))\n",
    "\n",
    "print(hasattr(g, '__iter__'))"
   ]
  },
  {
   "cell_type": "markdown",
   "metadata": {},
   "source": [
    "## Generator Advantages\n",
    "\n",
    "- Generators are simpler to write than an iterator\n",
    "- Less memory than building a list\n",
    "- Lazy evaluation - only work when we need a new value\n",
    "- Natural fit for pipelines"
   ]
  },
  {
   "cell_type": "markdown",
   "metadata": {},
   "source": [
    "# Filter the scandir generator: before  "
   ]
  },
  {
   "cell_type": "code",
   "execution_count": null,
   "metadata": {},
   "outputs": [],
   "source": [
    "import os\n",
    "\n",
    "for entry in os.scandir('..'):\n",
    "    print(entry) "
   ]
  },
  {
   "cell_type": "code",
   "execution_count": null,
   "metadata": {},
   "outputs": [],
   "source": [
    "def subdirs(path):\n",
    "    \"\"\"Yield directory names not starting with '.' under given path.\"\"\"\n",
    "    for entry in os.scandir(path):\n",
    "        if not entry.name.startswith('.') and entry.is_dir():\n",
    "            yield entry.name\n",
    "            \n",
    "it = subdirs('..')\n",
    "for name in it:\n",
    "    print(name)"
   ]
  },
  {
   "cell_type": "markdown",
   "metadata": {},
   "source": [
    "## Collatz sequence\n",
    "### In section 7.3, Downey discusses the \n",
    "\n",
    "https://xkcd.com/710/\n",
    "\n",
    "You will be asked to write a Collatz generator.\n",
    "Here is the sequence, generated by an iterator"
   ]
  },
  {
   "cell_type": "code",
   "execution_count": null,
   "metadata": {},
   "outputs": [],
   "source": [
    "class Collatz:\n",
    "    '''Iterator that yields the next number in the Collatz sequence'''\n",
    "\n",
    "    # Initialize the starting point\n",
    "    def __init__(self, start: int):\n",
    "        self.val  = start\n",
    "        self.done = False    # Used to stop iteration\n",
    "\n",
    "    # Return an iterator\n",
    "    def __iter__(self):\n",
    "        return self\n",
    "\n",
    "    # Produce the next element of the sequence\n",
    "    def __next__(self) -> int:\n",
    "        \n",
    "        # Stick a fork in it - are we done?\n",
    "        if self.done:\n",
    "            raise StopIteration(\"That's all, folks!\")\n",
    "            \n",
    "        res = self.val      # Return the next value\n",
    "        \n",
    "        # Compute the next value\n",
    "        if (self.val % 2) == 0:\n",
    "            self.val = self.val // 2\n",
    "        else:\n",
    "            self.val = self.val * 3 + 1\n",
    "            \n",
    "        # Is this the last time?\n",
    "        self.done = (res == 1)\n",
    "        \n",
    "        return res"
   ]
  },
  {
   "cell_type": "markdown",
   "metadata": {},
   "source": [
    "## *Return starting point and the final 1, and then raise StopIteration.*\n",
    "# *Your generator must do the same*"
   ]
  },
  {
   "cell_type": "code",
   "execution_count": null,
   "metadata": {},
   "outputs": [],
   "source": [
    "from collections.abc import Iterable\n",
    "\n",
    "seq = Collatz(11)\n",
    "print(seq)\n",
    "print(type(seq))\n",
    "print(seq.__class__)\n",
    "print(seq.__doc__)\n",
    "print(isinstance(seq, Iterable))"
   ]
  },
  {
   "cell_type": "code",
   "execution_count": null,
   "metadata": {},
   "outputs": [],
   "source": [
    "print(hasattr(seq, '__iter__'))"
   ]
  },
  {
   "cell_type": "code",
   "execution_count": null,
   "metadata": {},
   "outputs": [],
   "source": [
    "for i in seq:\n",
    "    print(i)"
   ]
  },
  {
   "cell_type": "markdown",
   "metadata": {},
   "source": [
    "## Try this by hand: call the function next()"
   ]
  },
  {
   "cell_type": "code",
   "execution_count": null,
   "metadata": {},
   "outputs": [],
   "source": [
    "seq = Collatz(43)\n",
    " \n",
    "while True:\n",
    "    print(next(seq))"
   ]
  },
  {
   "cell_type": "markdown",
   "metadata": {},
   "source": [
    "## Catch the exception"
   ]
  },
  {
   "cell_type": "code",
   "execution_count": null,
   "metadata": {},
   "outputs": [],
   "source": [
    "seq = Collatz(43)\n",
    " \n",
    "while True:\n",
    "    try:\n",
    "        print(next(seq))\n",
    "    except StopIteration:\n",
    "        break"
   ]
  },
  {
   "cell_type": "markdown",
   "metadata": {},
   "source": [
    "## We can enumrate() iterables"
   ]
  },
  {
   "cell_type": "code",
   "execution_count": null,
   "metadata": {},
   "outputs": [],
   "source": [
    "seq = Collatz(43)\n",
    " \n",
    "for pos, val in enumerate(seq):\n",
    "    print('%3d %d' % (pos, val))"
   ]
  },
  {
   "cell_type": "markdown",
   "metadata": {},
   "source": [
    "# Here is a generator that gives us the next month"
   ]
  },
  {
   "cell_type": "code",
   "execution_count": null,
   "metadata": {},
   "outputs": [],
   "source": [
    "# Month generator\n",
    "# Takes a starting month\n",
    "# Yields following months\n",
    "#\n",
    "def months(m: int) -> int:\n",
    "    '''Generator for the next month''' \n",
    "    while (True):\n",
    "        m = (m % 12) + 1\n",
    "        yield m"
   ]
  },
  {
   "cell_type": "markdown",
   "metadata": {},
   "source": [
    "## In use"
   ]
  },
  {
   "cell_type": "code",
   "execution_count": null,
   "metadata": {},
   "outputs": [],
   "source": [
    "from collections.abc import Iterable\n",
    "\n",
    "gen = months(7)\n",
    "\n",
    "print(gen)\n",
    "print(type(gen))\n",
    "print(gen.__class__)\n",
    "print(gen.__doc__)\n",
    "print(isinstance(gen, Iterable))\n",
    "print(hasattr(gen, '__iter__'))\n",
    "print()\n",
    "\n",
    "# Get the next 20 months\n",
    "for i in range(20):\n",
    "    print(next(gen))"
   ]
  },
  {
   "cell_type": "markdown",
   "metadata": {},
   "source": [
    "# What will happen here?"
   ]
  },
  {
   "cell_type": "code",
   "execution_count": null,
   "metadata": {},
   "outputs": [],
   "source": [
    "gen = months(7)\n",
    "\n",
    "for i in gen:\n",
    "    print(i)"
   ]
  },
  {
   "cell_type": "markdown",
   "metadata": {},
   "source": [
    "### Will will ask you to write generator that returns month /names/"
   ]
  },
  {
   "cell_type": "markdown",
   "metadata": {},
   "source": [
    "## We can iterate over the lines in a file"
   ]
  },
  {
   "cell_type": "code",
   "execution_count": null,
   "metadata": {},
   "outputs": [],
   "source": [
    "import csv\n",
    " \n",
    "def next_line(filename: str) -> str:\n",
    "    with open(filename, newline='') as File:  \n",
    "        reader = csv.reader(File)\n",
    "        for row in reader:\n",
    "            yield row\n",
    "        \n",
    "gen = next_line('listComp.py')\n",
    "print(type(gen))\n",
    "print(hasattr(gen, '__iter__'))\n",
    "\n",
    "for i in range(10):\n",
    "    print(next(gen))"
   ]
  },
  {
   "cell_type": "code",
   "execution_count": null,
   "metadata": {},
   "outputs": [],
   "source": [
    "for i in range(10):\n",
    "    print(next(gen))"
   ]
  },
  {
   "cell_type": "code",
   "execution_count": null,
   "metadata": {},
   "outputs": [],
   "source": [
    "print(type(gen))"
   ]
  },
  {
   "cell_type": "markdown",
   "metadata": {},
   "source": [
    "# Generator Expressions\n",
    "\n",
    "## A compact way to create a generator\n",
    "\n",
    "## Reminder: List Comprehension"
   ]
  },
  {
   "cell_type": "code",
   "execution_count": null,
   "metadata": {},
   "outputs": [],
   "source": [
    "# Is a list an iterable?\n",
    "\n",
    "lst = [x for x in range(10)]\n",
    "\n",
    "print(lst)\n",
    "print(type(lst))\n",
    "print(lst.__class__)\n",
    "print(lst.__doc__)\n",
    "print()\n",
    "\n",
    "# Can we iterate over a list\n",
    "for i in range(20):\n",
    "    print(next(lst))"
   ]
  },
  {
   "cell_type": "code",
   "execution_count": null,
   "metadata": {},
   "outputs": [],
   "source": [
    "from collections.abc import Iterable\n",
    "\n",
    "print(isinstance(lst, collections.Iterable))"
   ]
  },
  {
   "cell_type": "markdown",
   "metadata": {},
   "source": [
    "## A list is Iterable, but not itself an iterator"
   ]
  },
  {
   "cell_type": "code",
   "execution_count": null,
   "metadata": {},
   "outputs": [],
   "source": [
    "it = iter(lst)\n",
    "\n",
    "for i in it:\n",
    "    print(i)"
   ]
  },
  {
   "cell_type": "markdown",
   "metadata": {},
   "source": [
    "# We can create a generator expression\n",
    "\n",
    "Replace [] with ()"
   ]
  },
  {
   "cell_type": "code",
   "execution_count": null,
   "metadata": {},
   "outputs": [],
   "source": [
    "# Rather than a list, create a generator\n",
    "from collections.abc import Iterable\n",
    "\n",
    "gen = (x for x in range(10))\n",
    "\n",
    "print(gen)\n",
    "print(type(gen))\n",
    "print(gen.__class__)\n",
    "print(gen.__doc__)\n",
    "print(isinstance(gen, Iterable))\n",
    "print(hasattr(gen, '__iter__'))\n",
    "print()\n",
    "\n",
    "# Can we iterate over a generator expression?\n",
    "for i in gen:\n",
    "    print(i)"
   ]
  },
  {
   "cell_type": "markdown",
   "metadata": {},
   "source": [
    "## In use"
   ]
  },
  {
   "cell_type": "code",
   "execution_count": null,
   "metadata": {},
   "outputs": [],
   "source": [
    "gen = (x for x in range(10))\n",
    "\n",
    "while True:\n",
    "    try:\n",
    "        print(next(gen))\n",
    "    except StopIteration:\n",
    "        break"
   ]
  },
  {
   "cell_type": "markdown",
   "metadata": {},
   "source": [
    "## We can fold a generator expression into utility functions like sum()"
   ]
  },
  {
   "cell_type": "code",
   "execution_count": null,
   "metadata": {},
   "outputs": [],
   "source": [
    "# Add up the first 100 numbers\n",
    "# See https://tinyurl.com/y9foxus9\n",
    "#\n",
    "g = (x for x in range(101))  \n",
    "\n",
    "print(sum(g))"
   ]
  },
  {
   "cell_type": "markdown",
   "metadata": {},
   "source": [
    "## Hamming using Generators\n",
    "\n",
    "Two things to note:\n",
    "### Summing Boolean expresion\n",
    "```python\n",
    "    sum(ch1 != ch2 ...\n",
    "```\n",
    "### Replaced [] with implicit (): \n",
    "```python\n",
    "( ( ) ) == ( )\n",
    "```"
   ]
  },
  {
   "cell_type": "code",
   "execution_count": null,
   "metadata": {},
   "outputs": [],
   "source": [
    "## What does Python do when you ask to sum Booleans?\n",
    "\n",
    "sum([True, False, True])"
   ]
  },
  {
   "cell_type": "code",
   "execution_count": null,
   "metadata": {},
   "outputs": [],
   "source": [
    "# Return the number of differences \n",
    "def hamming_distance(str1, str2):\n",
    "    # check to make sure the strings are the same length\n",
    "    if len(str1) != len(str2):\n",
    "        raise ValueError(\"the strings have different lengths\")\n",
    "    \n",
    "    return sum(ch1 != ch2 for ch1, ch2 in zip(str1.lower(), str2.lower()))\n",
    "\n",
    "hamming_distance('dog', 'cat')"
   ]
  },
  {
   "cell_type": "markdown",
   "metadata": {},
   "source": [
    "# Return to our example of Pythagorean Triples"
   ]
  },
  {
   "cell_type": "code",
   "execution_count": null,
   "metadata": {},
   "outputs": [],
   "source": [
    "pyt = ((x, y, z) \n",
    "           for z in range(30) \n",
    "               for y in range(1, z) \n",
    "                   for x in range(1, y) \n",
    "                       if x*x + y*y == z*z)\n",
    "\n",
    "for t in pyt:\n",
    "    print(t)"
   ]
  },
  {
   "cell_type": "markdown",
   "metadata": {},
   "source": [
    "# Wow! That's Fantastic - Memory Usage"
   ]
  },
  {
   "cell_type": "markdown",
   "metadata": {},
   "source": [
    "## Compare memory usage in generators and list comprehensions"
   ]
  },
  {
   "cell_type": "code",
   "execution_count": null,
   "metadata": {},
   "outputs": [],
   "source": [
    "# generator2.py\n",
    "# \n",
    "# Compare memory usage of list comprehensions and generators\n",
    "#\n",
    "# Usage:\n",
    "#      % python generator2.py\n",
    "\n",
    "import sys\n",
    "\n",
    "limit = 10000              # Number of squares to generate\n",
    "\n",
    "\n",
    "def test(limit: int):\n",
    "    # Generator\n",
    "    squares = (num ** 2 for num in range(limit))\n",
    "    print(\"Size of generator\", sys.getsizeof(squares)) ####\n",
    "\n",
    "    sum = 0\n",
    "    for val in squares:\n",
    "        sum = sum + val\n",
    "    print(f\"Sum \\t {sum}\")\n",
    "\n",
    "    # List comprehension\n",
    "    squares = [num ** 2 for num in range(limit)]\n",
    "    print(f\"Size of List {sys.getsizeof(squares)}\") ####\n",
    "\n",
    "    sum = 0\n",
    "    for val in squares:\n",
    "        sum = sum + val\n",
    "    print(f\"Sum \\t {sum}\")"
   ]
  },
  {
   "cell_type": "markdown",
   "metadata": {},
   "source": [
    "## Sample output"
   ]
  },
  {
   "cell_type": "code",
   "execution_count": null,
   "metadata": {},
   "outputs": [],
   "source": [
    "test(limit)"
   ]
  },
  {
   "cell_type": "markdown",
   "metadata": {},
   "source": [
    "```python\n",
    "Size of generator 112\n",
    "Sum \t 333283335000\n",
    "Size of List 87616\n",
    "Sum \t 333283335000\n",
    "```"
   ]
  },
  {
   "cell_type": "markdown",
   "metadata": {},
   "source": [
    "# More Generator Examples\n",
    "\n",
    "Two examples from Mark Goldstein"
   ]
  },
  {
   "cell_type": "code",
   "execution_count": null,
   "metadata": {},
   "outputs": [],
   "source": [
    "# Take a string and appends numbers to it to form unique IDs. \n",
    "def unique_ID_maker(s: str) -> str:\n",
    "    i = 0\n",
    "    while True:\n",
    "        yield s+str(i)\n",
    "        i += 1"
   ]
  },
  {
   "cell_type": "code",
   "execution_count": null,
   "metadata": {},
   "outputs": [],
   "source": [
    "g = unique_ID_maker(\"examples\")\n",
    "print(next(g))\n",
    "print(next(g))\n",
    "print(next(g))"
   ]
  },
  {
   "cell_type": "code",
   "execution_count": null,
   "metadata": {},
   "outputs": [],
   "source": [
    "# We could also create a generator that creates\n",
    "# a limited amount of values\n",
    "\n",
    "def limited_seq(name: str, n: int) -> str:\n",
    "    for i in range(n):\n",
    "        yield name+str(i)\n",
    "\n",
    "gen = limited_seq('tester', 10)\n",
    "for s in gen:\n",
    "    print(s)"
   ]
  },
  {
   "cell_type": "markdown",
   "metadata": {},
   "source": [
    "# Sorting\n",
    "## Sorting out Sorting\n",
    "https://www.youtube.com/watch?v=gv0JUEqaAXo"
   ]
  },
  {
   "cell_type": "markdown",
   "metadata": {},
   "source": [
    "# Heapsort\n",
    "\n",
    "https://en.wikipedia.org/wiki/Heapsort\n",
    "    \n",
    "Video \n",
    "https://www.youtube.com/watch?v=MtQL_ll5KhQ\n",
    "\n",
    "Sorting Out Sorting 20:37\n",
    "https://www.youtube.com/watch?v=SJwEwA5gOkM"
   ]
  },
  {
   "cell_type": "markdown",
   "metadata": {},
   "source": [
    "# Source Control\n",
    "\n",
    "The CMU \"Software Measures and the Capability Maturity Model\"\n",
    "\n",
    "Key requirement is the use of Source Control\n",
    "\n",
    "The ability to build today what you shipped last quarter\n",
    "\n",
    "Your current release is not ready, but you have a patch for an issue cricical to a key customer"
   ]
  },
  {
   "cell_type": "code",
   "execution_count": null,
   "metadata": {},
   "outputs": [],
   "source": [
    "! git status ."
   ]
  },
  {
   "cell_type": "markdown",
   "metadata": {},
   "source": [
    "```python\n",
    "On branch master\n",
    "Changes not staged for commit:\n",
    "  (use \"git add <file>...\" to update what will be committed)\n",
    "  (use \"git checkout -- <file>...\" to discard changes in working directory)\n",
    "\n",
    "\tmodified:   Day9.ipynb\n",
    "\n",
    "no changes added to commit (use \"git add\" and/or \"git commit -a\")\n",
    "```"
   ]
  },
  {
   "cell_type": "code",
   "execution_count": null,
   "metadata": {},
   "outputs": [],
   "source": [
    "! ls"
   ]
  },
  {
   "cell_type": "code",
   "execution_count": null,
   "metadata": {},
   "outputs": [],
   "source": [
    "! git diff Day9.ipynb"
   ]
  },
  {
   "cell_type": "markdown",
   "metadata": {},
   "source": [
    "```python\n",
    "diff --git a/Programs/day9/Day9.ipynb b/Programs/day9/Day9.ipynb\n",
    "index 221fb2b..da547ee 100644\n",
    "--- a/Programs/day9/Day9.ipynb\n",
    "+++ b/Programs/day9/Day9.ipynb\n",
    "@@ -18,10 +18,10 @@\n",
    "     \"### Homework - Generators & Flatten\\n\",\n",
    "     \"### HeapSort - A faster sort\\n\",\n",
    "     \"### Source Control - GIT\\n\",\n",
    "-    \"    GIT Diff\\n\",\n",
    "+    \"#### GIT Diff\\n\",\n",
    "     \"### Saving program State\\n\",\n",
    "-    \"    Pickle\\n\",\n",
    "-    \"    Json\\n\",\n",
    "+    \"#### Pickle\\n\",\n",
    "+    \"#### Json\\n\",\n",
    "     \"### Unicode - you have to know the encoding!\"\n",
    "    ]\n",
    "   },\n",
    "@@ -1074,12 +1074,11 @@\n",
    "    ]\n",
    "   },\n",
    "   {\n",
    "-   \"cell_type\": \"code\",\n",
    "-   \"execution_count\": null,\n",
    "+   \"cell_type\": \"markdown\",\n",
    "    \"metadata\": {},\n",
    "-   \"outputs\": [],\n",
    "    \"source\": [\n",
    "-    \"# I have edited the output - removing all but one mention of most issues\\n\",\n",
    "+    \"### I have edited the output - removing all but one mention of most issues\\n\",\n",
    "+    \"```python\\n\",\n",
    "     \"% pylint merge.py\\n\",\n",
    "     \"\\n\",\n",
    "     \"************* Module\\n\",\n",
    "```"
   ]
  },
  {
   "cell_type": "code",
   "execution_count": null,
   "metadata": {},
   "outputs": [],
   "source": [
    "!git log -p reverse.py"
   ]
  },
  {
   "cell_type": "markdown",
   "metadata": {},
   "source": [
    "```python\n",
    "commit 04bcdf11d3d110b2bbb1ebb0125a09363dd21eab\n",
    "Author: Jeff Parker <jeff_parker@harvard.edu>\n",
    "Date:   Tue Jul 24 15:04:17 2018 -0400\n",
    "\n",
    "    Change Profile\n",
    "\n",
    "diff --git a/Programs/day9/reverse.py b/Programs/day9/reverse.py\n",
    "index 3f773cb..15c4f97 100755\n",
    "--- a/Programs/day9/reverse.py\n",
    "+++ b/Programs/day9/reverse.py\n",
    "@@ -11,11 +11,11 @@\n",
    " # July 2017\n",
    " \n",
    " import sys\n",
    "+import cProfile\n",
    " \n",
    " # Build a Dictionary of all words\n",
    " # Takes a file, and returns a dictionary\n",
    " #\n",
    "-@profile\n",
    " def build_dict(fin):\n",
    "     words = {}\n",
    " \n",
    "@@ -32,7 +32,6 @@ def build_dict(fin):\n",
    " # Create a list of all word's whose reverse are also words\n",
    " # Takes a dictionary of words, and returns a list of pairs\n",
    " #\n",
    "-@profile\n",
    " def build_list(d):\n",
    "     res = []\n",
    " \n",
    "@@ -47,7 +46,6 @@ def build_list(d):\n",
    " # Main routine to do the work\n",
    " # Takes a file, and returns a list of pairs\n",
    " #\n",
    "-@profile\n",
    " def find_pairs(fin):\n",
    "     # Build a dictionary of all words\n",
    "     d = build_dict(fin)\n",
    "@@ -69,7 +67,7 @@ else:\n",
    "     fin = open(sys.argv[1])\n",
    " \n",
    "     # See how long it takes to find the results\n",
    "-    lst = find_pairs(fin)\n",
    "+    cProfile.run('lst = find_pairs(fin)')\n",
    "     \n",
    "     # How many pairs where there?     \n",
    "     print(len(lst))\n",
    "```"
   ]
  },
  {
   "cell_type": "markdown",
   "metadata": {},
   "source": [
    "## GIT documentation\n",
    "\n",
    "- https://git-scm.com/about\n",
    "- https://www.learnenough.com/git-tutorial\n",
    "- https://guides.github.com/activities/hello-world/\n",
    "- http://www.vogella.com/tutorials/Git/article.html"
   ]
  },
  {
   "cell_type": "markdown",
   "metadata": {},
   "source": [
    "# Save your program's state\n",
    "\n",
    "Motivation: you have a fabulous Draw program\n",
    "    \n",
    "Users can create marvelous paintings\n",
    "\n",
    "However, they cannot store their results"
   ]
  },
  {
   "cell_type": "markdown",
   "metadata": {},
   "source": [
    "### It is convenient to be able to store an object in a file in a manner that we can restore\n",
    "\n",
    "- Storing your program’s state\n",
    "- Store your CD collection\n",
    "- Data Bases\n",
    "\n",
    "## Start with the Pickle library\n",
    "### *We pickle cucumbers to preserve them for later use*"
   ]
  },
  {
   "cell_type": "markdown",
   "metadata": {},
   "source": [
    "Open two shell windows running python in the same directory\n",
    "\n",
    "We will save some data to a file in one shell\n",
    "\n",
    "We will read the data in the second shell"
   ]
  },
  {
   "cell_type": "code",
   "execution_count": null,
   "metadata": {},
   "outputs": [],
   "source": [
    "shell = 1\n",
    "import time\n",
    "\n",
    "course = {}\n",
    "course['Name'] = \"Introduction to Programming with Python\"\n",
    "course['Number'] = \"CSCI-S 7\"\n",
    "\n",
    "course['FirstDay'] = time.strptime('Wed Sep 5 17:50:00 2018') \n",
    "course['Tuition'] = \"Too Much!\"\n",
    "course['Credit'] = True\n",
    "\n",
    "course['Subjects'] = ('Programming', 'Python', 'XKCD')\n",
    "\n",
    "print(course)"
   ]
  },
  {
   "cell_type": "code",
   "execution_count": null,
   "metadata": {},
   "outputs": [],
   "source": [
    "! ls"
   ]
  },
  {
   "cell_type": "markdown",
   "metadata": {},
   "source": [
    "## Now save the data to a file"
   ]
  },
  {
   "cell_type": "raw",
   "metadata": {},
   "source": [
    "import pickle\n",
    "with open('course.pickle', 'wb') as f:\n",
    "    pickle.dump(course, f)"
   ]
  },
  {
   "cell_type": "code",
   "execution_count": null,
   "metadata": {},
   "outputs": [],
   "source": [
    "! ls"
   ]
  },
  {
   "cell_type": "markdown",
   "metadata": {},
   "source": [
    "### Look at course.pickle"
   ]
  },
  {
   "cell_type": "code",
   "execution_count": null,
   "metadata": {},
   "outputs": [],
   "source": [
    "! od -c course.pickle"
   ]
  },
  {
   "cell_type": "markdown",
   "metadata": {},
   "source": [
    "# Here is what I see...\n",
    "\n",
    "```python\n",
    "% ls -ltr\n",
    "... course.pickle ...\n",
    "\n",
    "% od -c course.pickle \n",
    "0000000  200 003   }   q  \\0   (   X  \\b  \\0  \\0  \\0   F   i   r   s   t\n",
    "0000020    D   a   y   q 001   c   t   i   m   e  \\n   s   t   r   u   c\n",
    "0000040    t   _   t   i   m   e  \\n   q 002   (   M 342  \\a   K 006   K\n",
    "0000060  031   K  \\f   K  \\0   K  \\0   K  \\0   K 260   J 377 377 377 377\n",
    "0000100    t   q 003   }   q 004   (   X  \\t  \\0  \\0  \\0   t   m   _   g\n",
    "0000120    m   t   o   f   f   q 005   N   X  \\a  \\0  \\0  \\0   t   m   _\n",
    "0000140    z   o   n   e   q 006   N   u 206   q  \\a   R   q  \\b   X  \\a\n",
    "0000160   \\0  \\0  \\0   T   u   i   t   i   o   n   q  \\t   X  \\t  \\0  \\0\n",
    "0000200   \\0   T   o   o       M   u   c   h   !   q  \\n   X  \\b  \\0  \\0\n",
    "0000220   \\0   S   u   b   j   e   c   t   s   q  \\v   X  \\v  \\0  \\0  \\0\n",
    "0000240    P   r   o   g   r   a   m   m   i   n   g   q  \\f   X 006  \\0\n",
    "0000260   \\0  \\0   P   y   t   h   o   n   q  \\r   X 004  \\0  \\0  \\0   X\n",
    "0000300    K   C   D   q 016 207   q 017   X 006  \\0  \\0  \\0   C   r   e\n",
    "0000320    d   i   t   q 020 210   X 006  \\0  \\0  \\0   N   u   m   b   e\n",
    "0000340    r   q 021   X  \\b  \\0  \\0  \\0   C   S   C   I   -   S       7\n",
    "0000360    q 022   X 004  \\0  \\0  \\0   N   a   m   e   q 023   X   '  \\0\n",
    "0000400   \\0  \\0   I   n   t   r   o   d   u   c   t   i   o   n       t\n",
    "0000420    o       P   r   o   g   r   a   m   m   i   n   g       w   i\n",
    "0000440    t   h       P   y   t   h   o   n   q 024   u   .            \n",
    "```"
   ]
  },
  {
   "cell_type": "markdown",
   "metadata": {},
   "source": [
    "## Open a third terminal window in the same directory"
   ]
  },
  {
   "cell_type": "code",
   "execution_count": null,
   "metadata": {},
   "outputs": [],
   "source": [
    "shell = 2\n",
    "\n",
    "import pickle\n",
    "\n",
    "with open('course.pickle', 'rb') as f:\n",
    "    course = pickle.load(f)\n",
    "\n",
    "print(course)"
   ]
  },
  {
   "cell_type": "markdown",
   "metadata": {},
   "source": [
    "## Preserves (many) types\n",
    "\n",
    "- Course is still a dictionary\n",
    "- Subjects is still a tuple\n",
    "- First Day is a time"
   ]
  },
  {
   "cell_type": "markdown",
   "metadata": {},
   "source": [
    "## We can pickle in place"
   ]
  },
  {
   "cell_type": "code",
   "execution_count": null,
   "metadata": {},
   "outputs": [],
   "source": [
    "import pickle\n",
    "\n",
    "print(shell)\n",
    "\n",
    "b = pickle.dumps(course)\n",
    "print(type(b))\n",
    "print(repr(b))"
   ]
  },
  {
   "cell_type": "code",
   "execution_count": null,
   "metadata": {},
   "outputs": [],
   "source": [
    "print(shell)\n",
    "\n",
    "b = pickle.dumps(course)\n",
    "course3 = pickle.loads(b)\n",
    "course3 == course"
   ]
  },
  {
   "cell_type": "markdown",
   "metadata": {},
   "source": [
    "## PIckle Tools disassembler\n",
    "\n",
    "If you like that kind of thing, then this is the kind of thing you'll like.  "
   ]
  },
  {
   "cell_type": "code",
   "execution_count": null,
   "metadata": {},
   "outputs": [],
   "source": [
    "import pickletools\n",
    "with open('course.pickle', 'rb') as f:\n",
    "    pickletools.dis(f)"
   ]
  },
  {
   "cell_type": "markdown",
   "metadata": {},
   "source": [
    "```python\n",
    "    0: \\x80 PROTO      3\n",
    "    2: }    EMPTY_DICT\n",
    "    3: q    BINPUT     0\n",
    "    5: (    MARK\n",
    "    6: X        BINUNICODE 'Name'\n",
    "   15: q        BINPUT     1\n",
    "   17: X        BINUNICODE 'Intro to programming with Python'\n",
    "   54: q        BINPUT     2\n",
    "   56: X        BINUNICODE 'Number'\n",
    "   67: q        BINPUT     3\n",
    "   69: X        BINUNICODE 'CSCI-S 7'\n",
    "   82: q        BINPUT     4\n",
    "   84: X        BINUNICODE 'FirstDay'\n",
    "   97: q        BINPUT     5\n",
    "   99: c        GLOBAL     'time struct_time'\n",
    "  117: q        BINPUT     6\n",
    "  119: (        MARK\n",
    "  120: M            BININT2    2018\n",
    "  123: K            BININT1    6\n",
    "  125: K            BININT1    25\n",
    "  127: K            BININT1    12\n",
    "  ...\n",
    "```"
   ]
  },
  {
   "cell_type": "markdown",
   "metadata": {},
   "source": [
    "# Caveats\n",
    "\n",
    "- Pickle is a Python only protocol\n",
    "-- Other languages may not (may not?  Will not!) understand your file\n",
    "- Slower than other methods and produces larger files\n",
    "- Security risk: You can pickle a malicious shell command\n"
   ]
  },
  {
   "cell_type": "markdown",
   "metadata": {},
   "source": [
    "# Alternatives - Json\n",
    "\n",
    "www.youtube.com/watch?v=zhVdWQWKRqM"
   ]
  },
  {
   "cell_type": "code",
   "execution_count": null,
   "metadata": {},
   "outputs": [],
   "source": [
    "#  shell = 1\n",
    "import json\n",
    "with open ('course.json', mode='w', encoding='utf-8') as f:\n",
    "    json.dump(course, f)"
   ]
  },
  {
   "cell_type": "markdown",
   "metadata": {},
   "source": [
    "### Look for course.json"
   ]
  },
  {
   "cell_type": "code",
   "execution_count": null,
   "metadata": {},
   "outputs": [],
   "source": [
    "! ls"
   ]
  },
  {
   "cell_type": "markdown",
   "metadata": {},
   "source": [
    "## Let's look in the file system"
   ]
  },
  {
   "cell_type": "code",
   "execution_count": null,
   "metadata": {},
   "outputs": [],
   "source": [
    "! od -c course.json "
   ]
  },
  {
   "cell_type": "markdown",
   "metadata": {},
   "source": [
    "```python\n",
    "% od -c course.json \n",
    "0000000    {   \"   N   a   m   e   \"   :       \"   I   n   t   r   o   d\n",
    "0000020    u   c   t   i   o   n       t   o       P   r   o   g   r   a\n",
    "0000040    m   m   i   n   g       w   i   t   h       P   y   t   h   o\n",
    "0000060    n   \"   ,       \"   T   u   i   t   i   o   n   \"   :       \"\n",
    "0000100    T   o   o       M   u   c   h   !   \"   ,       \"   F   i   r\n",
    "0000120    s   t   D   a   y   \"   :       [   2   0   1   8   ,       6\n",
    "0000140    ,       2   5   ,       1   2   ,       0   ,       0   ,    \n",
    "0000160    0   ,       1   7   6   ,       -   1   ]   ,       \"   C   r\n",
    "0000200    e   d   i   t   \"   :       t   r   u   e   ,       \"   N   u\n",
    "0000220    m   b   e   r   \"   :       \"   C   S   C   I   -   S       7\n",
    "0000240    \"   ,       \"   S   u   b   j   e   c   t   s   \"   :       [\n",
    "0000260    \"   P   r   o   g   r   a   m   m   i   n   g   \"   ,       \"\n",
    "0000300    P   y   t   h   o   n   \"   ,       \"   X   K   C   D   \"   ]\n",
    "0000320    } \n",
    "```"
   ]
  },
  {
   "cell_type": "markdown",
   "metadata": {},
   "source": [
    "## The file is pure text"
   ]
  },
  {
   "cell_type": "code",
   "execution_count": null,
   "metadata": {},
   "outputs": [],
   "source": [
    "! cat course.json "
   ]
  },
  {
   "cell_type": "markdown",
   "metadata": {},
   "source": [
    "```python\n",
    "{\"Name\": \"Introduction to Programming with Python\", \"Tuition\": \"Too Much!\", \n",
    " \"FirstDay\": [2018, 6, 25, 12, 0, 0, 0, 176, -1], \"Credit\": true, \n",
    " \"Number\": \"CSCI-S 7\", \"Subjects\": [\"Programming\", \"Python\", \"XKCD\"]}\n",
    "```"
   ]
  },
  {
   "cell_type": "markdown",
   "metadata": {},
   "source": [
    "## But we can do better"
   ]
  },
  {
   "cell_type": "code",
   "execution_count": null,
   "metadata": {},
   "outputs": [],
   "source": [
    "with open ('pretty-course.json', mode='w', encoding='utf-8') as f:\n",
    "    json.dump(course, f, indent=2)"
   ]
  },
  {
   "cell_type": "markdown",
   "metadata": {},
   "source": [
    "## Now look in the file system"
   ]
  },
  {
   "cell_type": "code",
   "execution_count": null,
   "metadata": {},
   "outputs": [],
   "source": [
    "! more pretty-course.json "
   ]
  },
  {
   "cell_type": "markdown",
   "metadata": {
    "collapsed": true
   },
   "source": [
    "```python\n",
    "{\n",
    "  \"Name\": \"Introduction to Programming with Python\",\n",
    "  \"Tuition\": \"Too Much!\",\n",
    "  \"FirstDay\": [\n",
    "    2018,\n",
    "    6,\n",
    "    25,\n",
    "    12,\n",
    "    0,\n",
    "    0,\n",
    "    0,\n",
    "    176,\n",
    "    -1\n",
    "  ],\n",
    "  \"Credit\": true,\n",
    "  \"Number\": \"CSCI-S 7\",\n",
    "  \"Subjects\": [\n",
    "    \"Programming\",\n",
    "    \"Python\",\n",
    "    \"XKCD\"\n",
    "  ]\n",
    "}\n",
    "```"
   ]
  },
  {
   "cell_type": "markdown",
   "metadata": {},
   "source": [
    "## In shell 2, import the course"
   ]
  },
  {
   "cell_type": "code",
   "execution_count": null,
   "metadata": {},
   "outputs": [],
   "source": [
    "import json\n",
    "with open('course.json', 'r') as f:\n",
    "    course = json.load(f)\n",
    "\n",
    "print(course)"
   ]
  },
  {
   "cell_type": "markdown",
   "metadata": {
    "collapsed": true
   },
   "source": [
    "```python\n",
    "{'Credit': True, 'Subjects': ['Programming', 'Python', 'XKCD'], \n",
    " 'FirstDay': [2018, 6, 25, 12, 0, 0, 0, 176, -1], \n",
    " 'Tuition': 'Too Much!', 'Number': 'CSCI-S 7', \n",
    " 'Name': 'Introduction to Programming with Python'}\n",
    "```"
   ]
  },
  {
   "cell_type": "markdown",
   "metadata": {},
   "source": [
    "## Notice what we have lost\n",
    "\n",
    "- First Day is not a time struct\n",
    "- Subjects is a list, not a tuple\n",
    "\n",
    "### Json does not understand all Python Types\n",
    "- Some it knows well enough to do something\n",
    "- You can define handlers to deal with new types\n",
    "\n",
    "### Json is more portable\n",
    "- Json is widely used and understood \n",
    "- Your Json file can be read by many languages "
   ]
  },
  {
   "cell_type": "markdown",
   "metadata": {},
   "source": [
    "## Serialization Summary\n",
    "\n",
    "- We often wish to access data stored online\n",
    "- We may wish to save something we create\n",
    "- This is called “serialization” \n",
    "- To see why this is hard, think about serializing a network graph, which doesn’t have a natural first or last element\n",
    "\n",
    "- Pickle is a Python serialization protocol\n",
    "- Json is a serialization protocol understood by many languages \n",
    "- Json does not know all Python Types"
   ]
  },
  {
   "cell_type": "markdown",
   "metadata": {
    "collapsed": true
   },
   "source": [
    "# Lecture Summary"
   ]
  },
  {
   "cell_type": "markdown",
   "metadata": {
    "collapsed": true
   },
   "source": [
    "- Homework - Generators and Merge\n",
    "- HeapSort - A faster sort\n",
    "- Source Control - GIT\n",
    "    -   GIT Diff\n",
    "- Saving program State\n",
    "    -   Pickle\n",
    "    - Json\n",
    "- Unicode - you have to know the encoding!"
   ]
  }
 ],
 "metadata": {
  "kernelspec": {
   "display_name": "Python 3",
   "language": "python",
   "name": "python3"
  },
  "language_info": {
   "codemirror_mode": {
    "name": "ipython",
    "version": 3
   },
   "file_extension": ".py",
   "mimetype": "text/x-python",
   "name": "python",
   "nbconvert_exporter": "python",
   "pygments_lexer": "ipython3",
   "version": "3.8.11"
  }
 },
 "nbformat": 4,
 "nbformat_minor": 1
}
