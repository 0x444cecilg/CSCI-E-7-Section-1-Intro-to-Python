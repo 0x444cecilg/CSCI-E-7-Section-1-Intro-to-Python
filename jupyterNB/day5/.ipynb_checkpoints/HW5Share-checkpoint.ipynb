{
 "cells": [
  {
   "cell_type": "markdown",
   "metadata": {},
   "source": [
    "## HW 5 Share\n",
    "\n",
    "These are some problems I'd be happy to help you solve online, in office hours, or in Section\n",
    "\n",
    "We will see a number of filtering problems"
   ]
  },
  {
   "cell_type": "markdown",
   "metadata": {},
   "source": [
    "## 1) Shorten Paths\n",
    "\n",
    "Let's implement the Pseudo Code problem from HW #2\n",
    "\n",
    "Given an absolute pathname that may include . or .. , return the shortest standardized path.\n",
    "\n",
    "For example, given \n",
    "```python\n",
    "path = \"/usr/bin/../bin/./scripts/../\"\n",
    "```\n",
    "return \"/usr/bin/\".\n",
    "\n",
    "'.' means the current directory, and '..' means the parent directory.  Thus \"/bin/./ is still /bin, and /bin/../bin/ is \"descend into directory bin, go back up one level, and descend again into bin\", so it is also still /bin/\n",
    "\n",
    "A useful Python string method we will learn is split().  path.split() returns a list of the components.   \n",
    "\n",
    "## Attempt one\n",
    "\n",
    "The first version deals with examples on a Unix file system.  We show an example where it doesn't work correctly.  \n",
    "\n",
    "We will fix both limitations in the next draft"
   ]
  },
  {
   "cell_type": "code",
   "execution_count": null,
   "metadata": {},
   "outputs": [],
   "source": [
    "\"\"\"\n",
    "Split string at separator - / or \\ and create a new list workspace\n",
    "Create an empty list result\n",
    "Look at each element in workspace from first to last\n",
    "If the element is '.', ignore it\n",
    "If the element is '..', ignore it and remove the previous item from results\n",
    "else add the element to the tail of result\n",
    "When you have processed all elements, make a string out of list result by inserting separators\n",
    "\"\"\"\n",
    "\n",
    "def shorten_path(path: str) -> str:\n",
    "    \"Take a path and give simplest version\"\n",
    "    result = []\n",
    "    lst = path.split('/')\n",
    "    \n",
    "    # Process the new path element\n",
    "    for item in lst:\n",
    "        # Ignore '.'\n",
    "        if item != '.':\n",
    "            # Pop for '..'\n",
    "            if item == '..':\n",
    "                # EAFP\n",
    "                try:\n",
    "                    result.pop()\n",
    "                except:\n",
    "                    return f\"I couldn't handle {path}\"\n",
    "            # Otherwise append\n",
    "            else:\n",
    "                result.append(item)\n",
    "\n",
    "    # Use the string join() method to turn list into string\n",
    "    return '/'.join(result)"
   ]
  },
  {
   "cell_type": "code",
   "execution_count": null,
   "metadata": {},
   "outputs": [],
   "source": [
    "## This works on this path\n",
    "\n",
    "shorten_path(\"C:/Documents/Newsletters/../Newsletters/./Summer2018.pdf\")"
   ]
  },
  {
   "cell_type": "code",
   "execution_count": null,
   "metadata": {},
   "outputs": [],
   "source": [
    "## But not on this path\n",
    "\n",
    "shorten_path('../Documents/Newsletters/../../../../Summer2018.pdf')"
   ]
  },
  {
   "cell_type": "markdown",
   "metadata": {},
   "source": [
    "## Use os.path.sep to work on Windows or Unix\n",
    "\n",
    "## Keep track of the times we couldn't pop and replay them\n",
    "\n",
    "We could use LBYL for the case of '..', but we already have an EAFP version\n",
    "\n",
    "We cannot put '..' in with the results until we are done, as we shouldn't pop() a '..' when we see another '..'\n",
    "\n",
    "This version uses os.path.sep to run on Windows machines.  To be clear, it will deal with Windows paths on a Windows machine, and Unix paths on a Unix machine.  "
   ]
  },
  {
   "cell_type": "code",
   "execution_count": null,
   "metadata": {},
   "outputs": [],
   "source": [
    "import os.path\n",
    "\n",
    "def shorten_path(path: str) -> str:\n",
    "    \"Take a path and give simplest version\"\n",
    "\n",
    "    result = []\n",
    "    count = 0     # How many '..' should we add?\n",
    "    lst = path.split(os.path.sep)  # / or \\\\\n",
    "    \n",
    "    # Process the new path element\n",
    "    for item in lst:\n",
    "        # Ignore '.'\n",
    "        if item != '.':           \n",
    "            \n",
    "            if item == '..':\n",
    "                # Back up one step\n",
    "                try:\n",
    "                    result.pop()\n",
    "                except:\n",
    "                    count = count + 1\n",
    "            \n",
    "            # Otherwise append\n",
    "            else:\n",
    "                result.append(item)\n",
    "                \n",
    "    # Put back the missing steps\n",
    "    result = ['..']*count + result\n",
    "    \n",
    "    # Stitch it together\n",
    "    sep = os.path.sep\n",
    "    return sep.join(result)"
   ]
  },
  {
   "cell_type": "code",
   "execution_count": null,
   "metadata": {},
   "outputs": [],
   "source": [
    "## Try this on a Unix machine: this won't work on Windows\n",
    "\n",
    "shorten_path(\"C:/Documents/Newsletters/../Newsletters/./Summer2018.pdf\")"
   ]
  },
  {
   "cell_type": "code",
   "execution_count": null,
   "metadata": {},
   "outputs": [],
   "source": [
    "## Try this on a Windows machine: this won't work on Unix\n",
    "\n",
    "shorten_path(\"C:\\\\Documents\\\\Newsletters\\\\..\\\\Newsletters\\\\.\\\\Summer2018.pdf\")"
   ]
  },
  {
   "cell_type": "code",
   "execution_count": null,
   "metadata": {},
   "outputs": [],
   "source": [
    "## Try this on a Unix machine\n",
    "\n",
    "shorten_path('../Documents/Newsletters/../../../../Summer2018.pdf')"
   ]
  },
  {
   "cell_type": "code",
   "execution_count": null,
   "metadata": {},
   "outputs": [],
   "source": [
    "## Try this on a Windows machine\n",
    "\n",
    "shorten_path('..\\\\Documents\\\\Newsletters\\\\..\\\\..\\\\..\\\\..\\\\Summer2018.pdf')"
   ]
  },
  {
   "cell_type": "markdown",
   "metadata": {},
   "source": [
    "## 2) Odd Numbers\n",
    "\n",
    "Write a function that takes a list of integers, and returns the odd integers in the same order\n",
    "\n",
    "Given [2, 4, 3, 1, 6, 8, 7], you should return [3, 1, 7]"
   ]
  },
  {
   "cell_type": "markdown",
   "metadata": {},
   "source": [
    "## 3) Odd Length\n",
    "\n",
    "Take a list of strings, and return a list of the elements of odd length.\n",
    "\n",
    "The elements might be words, lists, or anything else that len() can measure.  "
   ]
  },
  {
   "cell_type": "markdown",
   "metadata": {},
   "source": [
    "## 4) Zero Crossings\n",
    "\n",
    "Given a sequence of numbers, return the position of each index where the numbers cross from negative to positive or back.  \n",
    "\n",
    "Given [1 2 -1 -3 -1 2 ...] you should return [2, 5 ...] \n",
    "\n",
    "For purposes of this problem, assume that zero is a positive number"
   ]
  },
  {
   "cell_type": "markdown",
   "metadata": {},
   "source": [
    "## 5) Remove Duplicates\n",
    "\n",
    "Given a list of items, produce a version of the items without consecutive duplicates.  \n",
    "\n",
    "Given [1, 1, 2, 3, 2, 3, 4, 4], you should return [1, 2, 3, 2, 3, 4]\n",
    "\n",
    "Given ['a', 'b', 'a', 'a', 'c', 'a', 'b', 'b'] you should return ['a', 'b', 'a', 'c', 'a', 'b']\n",
    "\n",
    "Given [1, 'a', 'a', 2, 2, 3.0] you should return [1, 'a', 2, 3.0]"
   ]
  },
  {
   "cell_type": "code",
   "execution_count": null,
   "metadata": {},
   "outputs": [],
   "source": [
    "def prune(lst):\n",
    "    pass"
   ]
  },
  {
   "cell_type": "markdown",
   "metadata": {},
   "source": [
    "### Unit Tests"
   ]
  },
  {
   "cell_type": "code",
   "execution_count": null,
   "metadata": {},
   "outputs": [],
   "source": [
    "def validate_prune():\n",
    "    assert prune([1, 1, 2, 3, 2, 3, 4, 4]) == [1, 2, 3, 2, 3, 4]   \n",
    "    assert prune(['a', 'b', 'a', 'a', 'c', 'a', 'b', 'b']) == ['a', 'b', 'a', 'c', 'a', 'b']\n",
    "    assert prune([1, 'a', 'a', 2, 2, 3.0]) == [1, 'a', 2, 3.0]\n",
    "    \n",
    "    print('Success!')\n",
    "    \n",
    "validate_prune()"
   ]
  },
  {
   "cell_type": "markdown",
   "metadata": {},
   "source": [
    "## 6) Shortest Representatives\n",
    "\n",
    "Given a string and a set of characters, return the shortest substring containing all the characters in the set.\n",
    "For example, given the string \"figehaeci\" and the set of characters {a, e, i}, you should return \"aeci\".\n",
    "\n",
    "If there are two minimal substrings, you can return either one. "
   ]
  },
  {
   "cell_type": "markdown",
   "metadata": {},
   "source": [
    "## 7) Histogram\n",
    "\n",
    "You are asked to draw a histogram consisting of rectangles of different heights. These heights are represented in an input list, such as [1, 3, 2, 5], which corresponds to the following diagram:\n",
    "\n",
    "```python\n",
    "      x\n",
    "      x\n",
    "  x   x\n",
    "  x x x\n",
    "x x x x\n",
    "```\n",
    "\n",
    "Use print statements to draw a histogram representing the numbers.  The difficulty is that the diagram is running in the wrong direction: it would be easier to draw\n",
    "\n",
    "```python\n",
    "x\n",
    "xxx\n",
    "xx\n",
    "xxxxx\n",
    "```\n",
    "\n",
    "I found it helpful to think about drawing the background spaces.  "
   ]
  },
  {
   "cell_type": "markdown",
   "metadata": {},
   "source": [
    "## 8) Histogram bis\n",
    "\n",
    "You are given a histogram represented with blanks and x's.  \n",
    "Return the list holding the hights of each bar.\n",
    "\n",
    "```python\n",
    "   x\n",
    "   x\n",
    " x x\n",
    " xxx\n",
    "xxxx\n",
    "```\n",
    "\n",
    "Given the list below, return [1, 3, 2, 5]"
   ]
  },
  {
   "cell_type": "code",
   "execution_count": null,
   "metadata": {},
   "outputs": [],
   "source": [
    "lst = ['   x', '   x', ' x x', ' xxx', 'xxxx']\n",
    "\n",
    "for item in lst:\n",
    "    print(item)"
   ]
  },
  {
   "cell_type": "markdown",
   "metadata": {},
   "source": [
    "## 9) Strip Comments\n",
    "Downey provides a program to strip comments that use '#'\n",
    "\n",
    "```python\n",
    "# stripComments.py\n",
    "#\n",
    "# Remove the comments from a file\n",
    "# Usage:\n",
    "#      $ python stripComments.py old new\n",
    "\n",
    "import sys\n",
    "\n",
    "\n",
    "def filterFile(oldFile: str, newFile: str):\n",
    "    \"\"\"Take lines from old file and write to new:\n",
    "       Don't copy lines that start with '#'\"\"\"\n",
    "\n",
    "    with open(oldFile, 'r') as old:\n",
    "        with open(newFile, 'w') as new:\n",
    "\n",
    "            # For each line of the old file\n",
    "            for text in old:\n",
    "\n",
    "                # If it isn't a comment, copy to new file\n",
    "                if text[0] != '#':\n",
    "                    new.write(text)       \n",
    "```\n",
    "However, he only removes lines that begin with '#'.  Here is the result of stripping the fragment above. The comments on the for loop and if statement remain.  \n",
    "\n",
    "\n",
    "```python\n",
    "import sys\n",
    "\n",
    "\n",
    "def filterFile(oldFile: str, newFile: str):\n",
    "    \"\"\"Take lines from old file and write to new:\n",
    "       Don't copy lines that start with '#'\"\"\"\n",
    "\n",
    "    with open(oldFile, 'r') as old:\n",
    "        with open(newFile, 'w') as new:\n",
    "\n",
    "            # For each line of the old file\n",
    "            for text in old:\n",
    "\n",
    "                # If it isn't a comment, copy to new file\n",
    "                if text[0] != '#':\n",
    "                    new.write(text)\n",
    "```\n",
    "\n",
    "A better version would remove lines that begin with '#', but would also trim lines that have a '#' later in the string.\n",
    "Try running your program on itself: does it leave a legal program? Does it deal correctly with\n",
    "\n",
    "\n",
    "```python\n",
    "                if text[0] != '#':\n",
    "```\n",
    "\n",
    "Show the output of your program on Downey's stripComments.py"
   ]
  },
  {
   "cell_type": "markdown",
   "metadata": {},
   "source": [
    "## Problem 10: Find Python files\n",
    "\n",
    "Starting with Downey's walk.py, write a function find_python_files() to return a list of all Python files below a directory in the file system.\n",
    "\n",
    "```python\n",
    "    def find_python_files(dirName: str) -> List[str]:\n",
    "```\n",
    "\n",
    "When I call it on my directory 'Python/Programs', I get a list like this:\n",
    "    \n",
    "```python\n",
    "./day4/cross.py\n",
    "./day4/hanoi.py\n",
    "./day4/isvowel.py\n",
    "./day4/Koch.py\n",
    "./day4/dragon.py\n",
    "./day3/binary_search.py\n",
    "./day3/file2.py\n",
    "./day3/reverse.py\n",
    "./day3/longwords2.py\n",
    "./day3/paint.py\n",
    "./day3/file3.py\n",
    "...\n",
    "```\n",
    "\n",
    "Incude in your notebook output an example with at least this level of complexity: multiple levels and multiple directories.  \n",
    "(You may need to create some directories and copy some file around to achieve that.)"
   ]
  },
  {
   "cell_type": "code",
   "execution_count": null,
   "metadata": {},
   "outputs": [],
   "source": []
  }
 ],
 "metadata": {
  "kernelspec": {
   "display_name": "Python 3",
   "language": "python",
   "name": "python3"
  },
  "language_info": {
   "codemirror_mode": {
    "name": "ipython",
    "version": 3
   },
   "file_extension": ".py",
   "mimetype": "text/x-python",
   "name": "python",
   "nbconvert_exporter": "python",
   "pygments_lexer": "ipython3",
   "version": "3.8.11"
  }
 },
 "nbformat": 4,
 "nbformat_minor": 1
}
