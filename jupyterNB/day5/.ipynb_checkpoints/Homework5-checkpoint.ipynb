{
 "cells": [
  {
   "cell_type": "markdown",
   "metadata": {},
   "source": [
    "# Homework 5: Fall 2021\n",
    "## Due Oct 4, 4PM EST\n",
    "### Fill in your name"
   ]
  },
  {
   "cell_type": "code",
   "execution_count": null,
   "metadata": {},
   "outputs": [],
   "source": [
    "first_name = \"Cecil\"\n",
    "last_name = \"Gilliard\"\n",
    "\n",
    "assert(len(first_name) != 0)\n",
    "assert(len(last_name) != 0)"
   ]
  },
  {
   "cell_type": "markdown",
   "metadata": {},
   "source": [
    "## Problem 1: Intersection\n",
    "Given two lists, return a list of the items that appear in both lists, in the order they appear in the first list.\n",
    "\n",
    "Given [1, 3, 2, 5, 6, 0, 7] and [7, 4, 3, 2, 1], you should return [1, 3, 2, 7]\n",
    "\n",
    "```python\n"
   ]
  },
  {
   "cell_type": "code",
   "execution_count": 4,
   "metadata": {},
   "outputs": [
    {
     "name": "stdout",
     "output_type": "stream",
     "text": [
      "[1, 3, 2, 7]\n"
     ]
    }
   ],
   "source": [
    "from typing import List\n",
    "# Define your function here\n",
    "\n",
    "def intersection(lst1: List, lst2: List) -> List:\n",
    "    finalLst = []\n",
    "    for item in lst1:\n",
    "        for thing in lst2:\n",
    "            if item == thing:\n",
    "                finalLst.append(item)\n",
    "    return finalLst\n",
    "    \n",
    "lst1 = [1, 3, 2, 5, 6, 0, 7]\n",
    "lst2 = [7, 4, 3, 2, 1]\n",
    "\n",
    "print(intersection(lst1, lst2))"
   ]
  },
  {
   "cell_type": "markdown",
   "metadata": {},
   "source": [
    "<div class=\"alert alert-block alert-info\">\n",
    "Run the Unit Tests below.\n",
    "</div>"
   ]
  },
  {
   "cell_type": "code",
   "execution_count": 5,
   "metadata": {},
   "outputs": [
    {
     "name": "stdout",
     "output_type": "stream",
     "text": [
      "Success!\n"
     ]
    }
   ],
   "source": [
    "def test_intersection():\n",
    "    assert [1, 3, 2, 7] == intersection([1, 3, 2, 5, 6, 0, 7], [7, 4, 3, 2, 1])\n",
    "    assert [1, 2, 3, 4] == intersection([1, 2, 3, 4], [4, 3, 2, 1])\n",
    "    assert [] == intersection([], [4, 3, 2, 1])\n",
    "    assert [] == intersection([1, 2, 3, 4], [])\n",
    "    \n",
    "    print('Success!')\n",
    "    \n",
    "test_intersection()"
   ]
  },
  {
   "cell_type": "markdown",
   "metadata": {},
   "source": [
    "## 2) Rotation\n",
    "\n",
    "Take a list, and 'rotate' it one step. \n",
    "\n",
    "[1, 2, 3, 4] -> [2, 3, 4, 1]"
   ]
  },
  {
   "cell_type": "code",
   "execution_count": 24,
   "metadata": {},
   "outputs": [
    {
     "data": {
      "text/plain": [
       "[2, 3, 4, 1]"
      ]
     },
     "execution_count": 24,
     "metadata": {},
     "output_type": "execute_result"
    }
   ],
   "source": [
    "# Define your function here\n",
    "\n",
    "from typing import List\n",
    "\n",
    "def rotate(lst: List) -> List:\n",
    "    twista = lst[1:] + lst[:1]\n",
    "    \n",
    "    return twista\n",
    "    \n",
    "lst = [1, 2, 3, 4]\n",
    "rotate(lst)    "
   ]
  },
  {
   "cell_type": "markdown",
   "metadata": {},
   "source": [
    "<div class=\"alert alert-block alert-info\">\n",
    "Run the Unit Tests below.\n",
    "</div>"
   ]
  },
  {
   "cell_type": "code",
   "execution_count": 25,
   "metadata": {},
   "outputs": [
    {
     "name": "stdout",
     "output_type": "stream",
     "text": [
      "Success!\n"
     ]
    }
   ],
   "source": [
    "def test_rotate():\n",
    "    assert [2, 3, 4, 1] == rotate([1, 2, 3, 4])\n",
    "    assert [] == rotate([])\n",
    "    assert [2] == rotate([2])\n",
    "    assert [1, 2] == rotate([2, 1])\n",
    "    assert ['two', 'three', 'one'] == rotate(['one', 'two', 'three'])\n",
    "    \n",
    "    print('Success!')\n",
    "    \n",
    "test_rotate()"
   ]
  },
  {
   "cell_type": "markdown",
   "metadata": {},
   "source": [
    "## Problem 3: Hamming Distance\n",
    "\n",
    "The Hamming distance between two strings is the number of places where the strings don't agree. \n",
    "\n",
    "We consider 'A' and 'a' to be the same letter. \n",
    "\n",
    "\n",
    "```python\n",
    "    def hamming_distance(word1: str, word2: str) -> int:\n",
    "```\n",
    "\n",
    "### Examples:\n",
    "\n",
    "\n",
    "\n",
    "```python\n",
    "hamming_distance('sugar', 'spice') = 4\n",
    "```\n",
    "as the two strings differ in every spot but the first.\n",
    "\n",
    "```python\n",
    "hamming_distance(\"GGACG\", \"GGTCG\") == 1\n",
    "```\n",
    "as the two strings only differ in the third place: A != T.\n",
    "\n",
    "```python\n",
    "hamming_distance(\"tag\", \"GAT\") == 2\n",
    "```\n",
    "as the strings differ in the first and third place.  We treat 'a' and 'A' as equal.  \n",
    "\n",
    "```python\n",
    "hamming_distance(\"hot\", \"cold\") \n",
    "```\n",
    "is not defined, as the strings have different lengths. Raise an Exception.  \n",
    "\n",
    "### If the strings have different lengths, your function should throw an ValueError exception with text describing the problem in your own words    "
   ]
  },
  {
   "cell_type": "markdown",
   "metadata": {},
   "source": [
    "<div class=\"alert alert-block alert-info\">\n",
    "Fill in your function definition in the cell below.\n",
    "</div>"
   ]
  },
  {
   "cell_type": "code",
   "execution_count": 15,
   "metadata": {},
   "outputs": [],
   "source": [
    "# Return the number of differences \n",
    "# Takes two strings, return non-negative integer\n",
    "# Throws ValueError if the strings have different length\n",
    "#\n",
    "def hamming_distance(strand_a: str, strand_b: str) -> int:\n",
    "    \"Return the Hamming distance between the two strands\"\n",
    "    strand_a = strand_a.lower()\n",
    "    strand_b = strand_b.lower()\n",
    "    # set variable to keep count of like characters\n",
    "    count = 0\n",
    "    # make some lists \n",
    "    lstA = []\n",
    "    lstB = []\n",
    "   \n",
    "    # error message if strings don't match in length\n",
    "    try:\n",
    "        if len(strand_a) != len(strand_b):\n",
    "            raise ValueError(f'Error: The length of \"{strand_a}\" must equal the length of \"{strand_b}\"!')\n",
    "    \n",
    "        # for loops to make lists of the strings\n",
    "        for ch in strand_a:\n",
    "            lstA.append(ch)\n",
    "        \n",
    "        for char in strand_b:\n",
    "            lstB.append(char)\n",
    "        # check if strings match\n",
    "        if lstA == lstB:\n",
    "            count += 0\n",
    "        # had to find this zip feature because nesting loops wasn't workig like it did above\n",
    "        for i, j in zip(lstA, lstB):\n",
    "            if i != j:\n",
    "                count += 1\n",
    "        return count\n",
    "    except ValueError as ve:\n",
    "        raise ve\n",
    "    \n",
    "\n",
    "       "
   ]
  },
  {
   "cell_type": "markdown",
   "metadata": {},
   "source": [
    "<div class=\"alert alert-block alert-danger\">\n",
    "Run the Unit Tests below\n",
    "</div>"
   ]
  },
  {
   "cell_type": "code",
   "execution_count": 16,
   "metadata": {},
   "outputs": [
    {
     "name": "stdout",
     "output_type": "stream",
     "text": [
      "Success\n"
     ]
    }
   ],
   "source": [
    "### Test case for hamming_distance()\n",
    "\n",
    "def test_hamming():\n",
    "    assert hamming_distance(\"A\", \"A\") == 0, \"Same string\"\n",
    "    assert hamming_distance(\"GGACTGA\", \"GGACTGA\") == 0, \"Same string\"\n",
    "    assert hamming_distance(\"A\", \"G\") == 1, \"Differ in every place\"\n",
    "    assert hamming_distance(\"AG\", \"CT\") == 2, \"Differ in every place\"\n",
    "    assert hamming_distance(\"AT\", \"CT\") == 1, \"Differ in first place\"\n",
    "    assert hamming_distance(\"GGACG\", \"GGTCG\") == 1, \"Differ in third place\"\n",
    "    assert hamming_distance(\"ggACG\", \"GGtCG\") == 1, \"Differ in third place\"\n",
    "    assert hamming_distance(\"GGACG\", \"ggtCG\") == 1, \"Differ in third place\"\n",
    "    assert hamming_distance(\"ACCAGGG\", \"ACTATGG\") == 2, \"Differ in two places\"\n",
    "    assert hamming_distance(\"AAG\", \"AAA\") == 1, \"Differ in third place\"\n",
    "    assert hamming_distance(\"AAA\", \"AAG\") == 1, \"Differ in third place\"\n",
    "    assert hamming_distance(\"TAG\", \"GAT\") == 2, \"Differ in first and third place\"\n",
    "    assert hamming_distance(\"GATACA\", \"GCATAA\") == 4, \"Differ in four places\"\n",
    "    assert hamming_distance(\"GGACGGATTCTG\", \"AGGACGGATTCT\") == 9, \"Differ in nine places\"\n",
    "\n",
    "    print('Success')\n",
    "\n",
    "test_hamming()"
   ]
  },
  {
   "cell_type": "markdown",
   "metadata": {},
   "source": [
    "<div class=\"alert alert-block alert-danger\">\n",
    "Run the Unit Test below to see if you can raise an Exception.\n",
    "\"If the strings have different lengths, your function should throw an ValueError exception with text describing the problem in your own words\"\n",
    "</div>"
   ]
  },
  {
   "cell_type": "code",
   "execution_count": 12,
   "metadata": {},
   "outputs": [
    {
     "name": "stdout",
     "output_type": "stream",
     "text": [
      "Success\n"
     ]
    }
   ],
   "source": [
    "# Test Case for Raising an Exception\n",
    "#\n",
    "# Your function should throw an ValueError exception if the strings have different lengths\n",
    "#\n",
    "# If you don't, I will\n",
    "#\n",
    "try:\n",
    "    hamming_distance(\"AATG\", \"AAA\")\n",
    "    assert 1 == 2, \"You were supposed to raise an Exception!\"\n",
    "except ValueError:\n",
    "    print(\"Success\")\n",
    "except:\n",
    "    assert 1 == 2, \"You were supposed to raise an ValueError Exception!\""
   ]
  },
  {
   "cell_type": "markdown",
   "metadata": {
    "collapsed": true
   },
   "source": [
    "## Problem 4: Find reversals in Words.txt\n",
    "\n",
    "### Write a program that finds the reversals in Downey's word list.\n",
    "\n",
    "Returns a list representing each word in the file whose reverse is also in the file.\n",
    "\n",
    "Each pair, such as 'abut', 'tuba', should be represented by the first element encountered. \n",
    "\n",
    "Don't report the same pairs twice, and don't list palindromes.\n",
    "\n",
    "```python\n",
    "    def find_reversals_in_file(fileName: str) -> List[str]:\n",
    "```\n",
    "\n",
    "### If you try to open a file that does not exist, you should catch a FileNotFoundError and print an error message in your own words"
   ]
  },
  {
   "cell_type": "markdown",
   "metadata": {},
   "source": [
    "<div class=\"alert alert-block alert-info\">\n",
    "Fill in your function definition in the cell below.\n",
    "</div>"
   ]
  },
  {
   "cell_type": "code",
   "execution_count": 5,
   "metadata": {},
   "outputs": [
    {
     "name": "stdout",
     "output_type": "stream",
     "text": [
      "['c', 'a', 't', 'e', 'r', 'p', 'i']\n"
     ]
    }
   ],
   "source": [
    "x = list(\"caterpillar\")\n",
    "print(x[:7])"
   ]
  },
  {
   "cell_type": "code",
   "execution_count": 18,
   "metadata": {},
   "outputs": [],
   "source": [
    "# Enter your function  here\n",
    "\n",
    "def find_reversals_in_file(filename):\n",
    "    \"Return a list with the a representative of each pair of reversed element, such as abut and tuba\"\n",
    "    revLstA = []\n",
    "    revLstB = []\n",
    "    try:    \n",
    "        # open file for reading and copy contents to list\n",
    "        with open(filename, 'r') as rev_file:\n",
    "        \n",
    "            for line in rev_file:\n",
    "                line = line.lower()\n",
    "                line = line.strip()\n",
    "                revLstA.append(line)\n",
    "            for item in revLstA:\n",
    "                # check for palindromes and remove if so\n",
    "                begin = item[:len(item)//2 + 1]\n",
    "                end = item[len(item)//2:]\n",
    "                if begin == end[::-1]:\n",
    "                    revLstA.remove(item)\n",
    "            for ting in revLstA:\n",
    "                revLstB.append(ting + ', ' + ting[::-1])\n",
    "            \n",
    "            return revLstB   \n",
    "        \n",
    "    except FileNotFoundError:\n",
    "        print(f'Error: \"{filename}\" not found!')\n",
    "        \n",
    "\n",
    "        \n"
   ]
  },
  {
   "cell_type": "markdown",
   "metadata": {},
   "source": [
    "<div class=\"alert alert-block alert-info\">\n",
    "Call your function in the cell below.  You may change the path to point to your copy of words.txt\n",
    "</div>"
   ]
  },
  {
   "cell_type": "code",
   "execution_count": 19,
   "metadata": {},
   "outputs": [
    {
     "name": "stdout",
     "output_type": "stream",
     "text": [
      "There were 113736 reversals\n",
      "aa, aa\n",
      "aah, haa\n",
      "aahed, dehaa\n",
      "aahing, gnihaa\n",
      "aahs, shaa\n",
      "aal, laa\n",
      "aalii, iilaa\n",
      "aaliis, siilaa\n",
      "aals, slaa\n",
      "aardvark, kravdraa\n"
     ]
    }
   ],
   "source": [
    "# Call your function here\n",
    "lst = find_reversals_in_file(\"words.txt\")\n",
    "\n",
    "print(f\"There were {len(lst)} reversals\")\n",
    "\n",
    "for word in lst[:10]:\n",
    "    print(word)"
   ]
  },
  {
   "cell_type": "markdown",
   "metadata": {},
   "source": [
    "<div class=\"alert alert-block alert-info\">\n",
    "Call your function on a file that doesn't exist\n",
    "    You should catch the exception and print a message in your own words\n",
    "</div>"
   ]
  },
  {
   "cell_type": "code",
   "execution_count": 20,
   "metadata": {},
   "outputs": [
    {
     "name": "stdout",
     "output_type": "stream",
     "text": [
      "Error: \"mxyzptlk.txt\" not found!\n"
     ]
    }
   ],
   "source": [
    "# Call your function here on a file that doesn't exist\n",
    "# You should catch the exception and print your own useful error message\n",
    "#\n",
    "lst = find_reversals_in_file(\"mxyzptlk.txt\")"
   ]
  },
  {
   "cell_type": "markdown",
   "metadata": {},
   "source": [
    "## Problem 5: Digital Detective\n",
    "\n",
    "*Last year we asked the following problem:*\n",
    "\n",
    "### Sum of Two\n",
    "\n",
    "Write a function that takes an integer target k and a list of integers, and decides if you can represent k as the sum of two different numbers in the list. \n",
    "\n",
    "```python\n",
    "    def sum_of_two(k: int, lst : List[int]) -> bool:\n",
    "```\n",
    "\n",
    "#### Examples:\n",
    "\n",
    "```python\n",
    "sum_of_two(17, [1, 15, 3, 4, 5, 6, 7, 2]) \n",
    "```\n",
    "returns True, as 17 = 15 + 2\n",
    "\n",
    "```python\n",
    "sum_of_two(4, [1, 2])\n",
    "```\n",
    "returns False, as you cannot reuse the 2, and 4 is not 2 + 1."
   ]
  },
  {
   "cell_type": "markdown",
   "metadata": {},
   "source": [
    "### Digital Detective \n",
    "\n",
    "Below is function sum_of_two that passes the test cases but has logic issues and would be simpler if we replaced the 'while' loop with a 'for' loop.  \n",
    "\n",
    "Fix the 3 syntax errors and rewrite the code, replacing the while loop with a for loop.  Add some print statements to help you follow what is going on.\n",
    "\n",
    "In your submission add comments to explain what the algorithm is doing.  \n",
    "\n",
    "There is a bug in the code.  Can you come up with a test case where the algorithm fails?  "
   ]
  },
  {
   "cell_type": "code",
   "execution_count": 45,
   "metadata": {},
   "outputs": [],
   "source": [
    "def sum_of_two(k, lst):\n",
    "    \"Can we represent k as the sum of two distinct numbers in lst?\"\n",
    "    # i set at beginning of list j set at the end\n",
    "    i = 0\n",
    "    j = len (lst) - 1\n",
    "    sum = []\n",
    "    # while loop summing each element from the list \n",
    "    while i < j:\n",
    "      sum = lst[i] + lst[j]\n",
    "    # if statement to check if the sum of 2 numbers in list equal k if so return True\n",
    "      if sum == k:\n",
    "        return True\n",
    "    # elif & else statements to continue iterating through list \n",
    "      elif sum < k:\n",
    "        i += 1\n",
    "      else:\n",
    "        j -= 1\n",
    "    # return False if no match \n",
    "    return False "
   ]
  },
  {
   "cell_type": "markdown",
   "metadata": {},
   "source": [
    "<div class=\"alert alert-block alert-info\">\n",
    "When you fix the syntax errors, the function will pass all my tests\n",
    "</div>"
   ]
  },
  {
   "cell_type": "code",
   "execution_count": 46,
   "metadata": {},
   "outputs": [
    {
     "name": "stdout",
     "output_type": "stream",
     "text": [
      "Sucess\n"
     ]
    }
   ],
   "source": [
    "def test_sum():\n",
    "    assert not sum_of_two(0, []), \"Empty List\"\n",
    "    assert not sum_of_two(3, [3]), \"Singleton list\"\n",
    "    assert sum_of_two(3, [1, 2]), \"3 = 1 + 2\"\n",
    "    assert sum_of_two(17, [10, 15, 3, 7]),  \"17 = 10 + 7\"\n",
    "    assert sum_of_two(4, [1, 2, 5, 2]), \"4 = 2 + 2\"\n",
    "    assert sum_of_two(4, [0, 1, 2, 4]), \"4 = 0 + 4\"\n",
    "    assert sum_of_two(4, [4, 2, 1, 0]), \"4 = 4 + 0\"\n",
    "    assert sum_of_two(17, [1, 15, 3, 4, 5, 6, 7, 2]), \"17 = 15 + 2\"\n",
    "\n",
    "    assert not sum_of_two(17, [10, 15, 4, 8]), \"Cannot write 17 as sum of elements\"\n",
    "    assert not sum_of_two(4, [1, 2]), \"Can't use the same 2 twice\"\n",
    "\n",
    "    print('Success')\n",
    "\n",
    "test_sum()"
   ]
  },
  {
   "cell_type": "markdown",
   "metadata": {},
   "source": [
    "<div class=\"alert alert-block alert-info\">\n",
    "Rewrite the function, replacing the while loop with a for loop, and cleaning up the syntax errors.  \n",
    "\n",
    "Show that it still passes the Unit Tests\n",
    "</div>"
   ]
  },
  {
   "cell_type": "code",
   "execution_count": 81,
   "metadata": {},
   "outputs": [
    {
     "data": {
      "text/plain": [
       "True"
      ]
     },
     "execution_count": 81,
     "metadata": {},
     "output_type": "execute_result"
    }
   ],
   "source": [
    "def sum_of_two(k, lst):\n",
    "    \"Can we represent k as the sum of two distinct numbers in lst?\"\n",
    "    i = 0\n",
    "    j = len (lst) - 1\n",
    "    sum = []\n",
    "    for i in range(j):\n",
    "        sum = lst[i] + lst[j]\n",
    "        if sum == k:\n",
    "            return True\n",
    "        elif sum < k:\n",
    "            i += 1\n",
    "        else:\n",
    "            j -= 1\n",
    "    return False \n",
    "\n",
    "sum_of_two(17, [1, 15, 3, 4, 5, 6, 7, 2])"
   ]
  },
  {
   "cell_type": "markdown",
   "metadata": {},
   "source": [
    "<div class=\"alert alert-block alert-info\">\n",
    "Run the Unit Tests\n",
    "</div>"
   ]
  },
  {
   "cell_type": "code",
   "execution_count": 82,
   "metadata": {},
   "outputs": [
    {
     "name": "stdout",
     "output_type": "stream",
     "text": [
      "Sucess\n"
     ]
    }
   ],
   "source": [
    "test_sum()"
   ]
  },
  {
   "cell_type": "markdown",
   "metadata": {},
   "source": [
    "<div class=\"alert alert-block alert-info\">\n",
    "The original algorithm has a problem that we will discuss.  \n",
    "    \n",
    "That is, there is an array and a target that fools the algorithm.\n",
    "</div>"
   ]
  },
  {
   "cell_type": "markdown",
   "metadata": {},
   "source": [
    "# Post Mortem"
   ]
  },
  {
   "cell_type": "markdown",
   "metadata": {},
   "source": [
    "How long did it take you to solve this problem set?\n",
    "\n",
    "Did anything confuse you or cause difficulty?"
   ]
  },
  {
   "cell_type": "code",
   "execution_count": null,
   "metadata": {},
   "outputs": [],
   "source": [
    "# Enter your thoughts\n",
    "I took quite awhile to solve this set for me, maybe 6-8 hrs\n",
    "Try except gave me quite the time, and nesting loops is still confusing to me. You can see my \n",
    "solution to the first problem with nested loops, but then when I tried a similar solution\n",
    "to the third problem, it didn't work, and instead I needed to go with the zip function.\n",
    "Maybe it's the notebook, it does funny things...\n"
   ]
  }
 ],
 "metadata": {
  "kernelspec": {
   "display_name": "Python 3",
   "language": "python",
   "name": "python3"
  },
  "language_info": {
   "codemirror_mode": {
    "name": "ipython",
    "version": 3
   },
   "file_extension": ".py",
   "mimetype": "text/x-python",
   "name": "python",
   "nbconvert_exporter": "python",
   "pygments_lexer": "ipython3",
   "version": "3.8.11"
  }
 },
 "nbformat": 4,
 "nbformat_minor": 1
}
