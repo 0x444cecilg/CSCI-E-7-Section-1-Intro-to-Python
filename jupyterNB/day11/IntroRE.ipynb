{
 "cells": [
  {
   "cell_type": "markdown",
   "id": "946054e6",
   "metadata": {},
   "source": [
    "# Intro to Regular Expressions\n",
    "\n",
    "Regular Expressions are a powerful tool. \n",
    "\n",
    "They can be found in some Operating Sytems and many languages"
   ]
  },
  {
   "cell_type": "code",
   "execution_count": null,
   "id": "57d67a0d",
   "metadata": {},
   "outputs": [],
   "source": [
    "# First look at the Unix Shell\n",
    "\n",
    "! ls"
   ]
  },
  {
   "cell_type": "code",
   "execution_count": null,
   "id": "26e9d3bb",
   "metadata": {},
   "outputs": [],
   "source": [
    "! ls *.txt"
   ]
  },
  {
   "cell_type": "code",
   "execution_count": null,
   "id": "709028ea",
   "metadata": {},
   "outputs": [],
   "source": [
    "! ls N*m*"
   ]
  },
  {
   "cell_type": "markdown",
   "id": "ff1d5291",
   "metadata": {},
   "source": [
    "## Stop and think\n",
    "\n",
    "List all the Python programs in a directory"
   ]
  },
  {
   "cell_type": "markdown",
   "id": "c45cc4c9",
   "metadata": {},
   "source": [
    "## Let's look at the Unix command grep \n",
    "## Global Regular Expression Print"
   ]
  },
  {
   "cell_type": "code",
   "execution_count": null,
   "id": "f2e33b2d",
   "metadata": {},
   "outputs": [],
   "source": [
    "! grep ^c.t.$ ../words.txt"
   ]
  },
  {
   "cell_type": "markdown",
   "id": "e8124183",
   "metadata": {},
   "source": [
    "```python\n",
    "^c.t.$\n",
    "```\n",
    "- ^ - match start of string\n",
    "- $ - match end of string\n",
    "- . - match a single character\n",
    "\n",
    "```python\n",
    "cat\n",
    "cot\n",
    "cut\n",
    "```\n",
    "The last period matches the newline"
   ]
  },
  {
   "cell_type": "code",
   "execution_count": null,
   "id": "e3de5141",
   "metadata": {},
   "outputs": [],
   "source": [
    "## Four letter words starting in a and ending in t\n",
    "    \n",
    "! grep ^a..t.$ ../words.txt\n",
    "\n",
    "## The last period matches the newline"
   ]
  },
  {
   "cell_type": "markdown",
   "id": "57b35d62",
   "metadata": {},
   "source": [
    "# Regular Expressions in Python\n",
    "\n",
    "## Problem:\n",
    "\n",
    "Take a string of the form \"Smith, C\" and turn it into \"C. Smith\".\n",
    "\n",
    "We will use Regular Expressions to break the string into components and reassemble it.\n",
    "\n",
    "We will need to understand our tools to accomplish this"
   ]
  },
  {
   "cell_type": "code",
   "execution_count": null,
   "id": "23b1e9db",
   "metadata": {},
   "outputs": [],
   "source": [
    "import re\n",
    "\n",
    "text = 'I yam what I yam'\n",
    "\n",
    "pattern = r'yam'"
   ]
  },
  {
   "cell_type": "markdown",
   "id": "526db697",
   "metadata": {},
   "source": [
    "### We are using the 'raw' string format\n",
    "\n",
    "```python\n",
    "pattern = r'yam'\n",
    "```\n",
    "\n",
    "While is won't be needed for these examples, it is needed for some RE patterns"
   ]
  },
  {
   "cell_type": "markdown",
   "id": "d4cb7191",
   "metadata": {},
   "source": [
    "### We look at search(), findall(), and split()"
   ]
  },
  {
   "cell_type": "code",
   "execution_count": null,
   "id": "83c396dc",
   "metadata": {},
   "outputs": [],
   "source": [
    "m = re.search(r'yam', text)    # Finds first\n",
    "\n",
    "m"
   ]
  },
  {
   "cell_type": "code",
   "execution_count": null,
   "id": "c2e95eb8",
   "metadata": {},
   "outputs": [],
   "source": [
    "print(f\"[{m.start()}:{m.end()}]\")"
   ]
  },
  {
   "cell_type": "code",
   "execution_count": null,
   "id": "60ae6196",
   "metadata": {},
   "outputs": [],
   "source": [
    "text[m.start():m.end()]"
   ]
  },
  {
   "cell_type": "code",
   "execution_count": null,
   "id": "e87b2616",
   "metadata": {},
   "outputs": [],
   "source": [
    "## There is a simpler way to get the result\n",
    "\n",
    "m.group()"
   ]
  },
  {
   "cell_type": "code",
   "execution_count": null,
   "id": "a3ced3e1",
   "metadata": {},
   "outputs": [],
   "source": [
    "re.findall(r'yam', text) "
   ]
  },
  {
   "cell_type": "code",
   "execution_count": null,
   "id": "410c9052",
   "metadata": {},
   "outputs": [],
   "source": [
    "re.split(r'yam', text)  "
   ]
  },
  {
   "cell_type": "markdown",
   "id": "7ee2d4a6",
   "metadata": {},
   "source": [
    "## New Example\n",
    "\n",
    "Finding an exact match is easy.  Regular Expressions can find patterns.\n",
    "\n",
    "We start with '.', which matches any single character\n",
    "\n",
    "We are using findall(), but the patterns work with all methods"
   ]
  },
  {
   "cell_type": "code",
   "execution_count": null,
   "id": "d85ce06b",
   "metadata": {},
   "outputs": [],
   "source": [
    "s = 'have heat, hear heart, hold hard hat' \n",
    "m = re.findall(r'h.t', s)    # '.' == match any character\n",
    "\n",
    "m"
   ]
  },
  {
   "cell_type": "code",
   "execution_count": null,
   "id": "c28db470",
   "metadata": {},
   "outputs": [],
   "source": [
    "## Take two\n",
    "\n",
    "s = 'have heat, hear heart, hold hard hat' \n",
    "m = re.findall(r'h..t', s)    # '.' == match any character\n",
    "m"
   ]
  },
  {
   "cell_type": "markdown",
   "id": "6e8b187b",
   "metadata": {},
   "source": [
    "## New example"
   ]
  },
  {
   "cell_type": "code",
   "execution_count": null,
   "id": "d871e573",
   "metadata": {},
   "outputs": [],
   "source": [
    "import re\n",
    "\n",
    "s = 'put the pot upon the spit' \n",
    "m = re.findall(r'p.t', s)    # '.' == match any character\n",
    "m"
   ]
  },
  {
   "cell_type": "markdown",
   "id": "095a3a36",
   "metadata": {},
   "source": [
    "## Anchors\n",
    "\n",
    "We can match the start of a string with ‘^’ and the end of string with ‘$’"
   ]
  },
  {
   "cell_type": "code",
   "execution_count": null,
   "id": "3eba0f4b",
   "metadata": {},
   "outputs": [],
   "source": [
    "s = 'put the pot upon the spit'\n",
    "\n",
    "re.findall(r'^p.t', s)       # Find at start"
   ]
  },
  {
   "cell_type": "code",
   "execution_count": null,
   "id": "63bdf3cc",
   "metadata": {},
   "outputs": [],
   "source": [
    "re.findall(r'p.t$', s)       # Find at end"
   ]
  },
  {
   "cell_type": "markdown",
   "id": "0e18d309",
   "metadata": {},
   "source": [
    "## This is useful to validate a string"
   ]
  },
  {
   "cell_type": "markdown",
   "id": "a12e6dd6",
   "metadata": {},
   "source": [
    "## Match multiple targets\n",
    "\n",
    "We can specify a set of characters to match \n",
    "\n",
    "```python\n",
    "'p [aeou] t'\n",
    "```\n",
    "\n",
    "[aeou] means a, e, o, or u"
   ]
  },
  {
   "cell_type": "code",
   "execution_count": null,
   "id": "118f1727",
   "metadata": {},
   "outputs": [],
   "source": [
    "s = 'put the pot upon the spit'\n",
    "\n",
    "re.findall(r'p[aeou]t', s)"
   ]
  },
  {
   "cell_type": "code",
   "execution_count": null,
   "id": "404d2bdd",
   "metadata": {},
   "outputs": [],
   "source": [
    "re.findall(r'p[aeiu]t', s)"
   ]
  },
  {
   "cell_type": "code",
   "execution_count": null,
   "id": "a731bde4",
   "metadata": {},
   "outputs": [],
   "source": [
    "re.findall(r'p[a-i]t', s)     # Match any letters in range a...i"
   ]
  },
  {
   "cell_type": "markdown",
   "id": "cf425f46",
   "metadata": {},
   "source": [
    "## Negation\n",
    "\n",
    "We can negate a set with ^\n",
    "```python\n",
    "[^aeou]\n",
    "```\n",
    "### *We have also used ^ to anchor the start*\n",
    "\n",
    "They are used in different contexts: Python will not be confused"
   ]
  },
  {
   "cell_type": "code",
   "execution_count": null,
   "id": "b0900992",
   "metadata": {},
   "outputs": [],
   "source": [
    "s = 'put the pot upon the spit'\n",
    "\n",
    "re.findall(r'p[^aeou]t', s)"
   ]
  },
  {
   "cell_type": "markdown",
   "id": "fb2fad9b",
   "metadata": {},
   "source": [
    "## Stop and think\n",
    "\n",
    "Write two different expressions that will match 'put' and 'pit', but not pot "
   ]
  },
  {
   "cell_type": "markdown",
   "id": "4adaea89",
   "metadata": {},
   "source": [
    "## Classes of Characters"
   ]
  },
  {
   "cell_type": "code",
   "execution_count": null,
   "id": "4addd8ec",
   "metadata": {},
   "outputs": [],
   "source": [
    "import string\n",
    "\n",
    "print(string.printable)"
   ]
  },
  {
   "cell_type": "code",
   "execution_count": null,
   "id": "3fe68818",
   "metadata": {},
   "outputs": [],
   "source": [
    "import string\n",
    "\n",
    "printable = string.printable\n",
    "re.findall(r'\\d', printable)     # \\d == digit"
   ]
  },
  {
   "cell_type": "markdown",
   "id": "463edddc",
   "metadata": {},
   "source": [
    "## Definitions\n",
    "\n",
    "```python\n",
    "\\d Digit                    [0-9]\n",
    "\\D Non-digit                [^0-9]\n",
    "\\w Alphanumeric             [a-zA-Z0-9_]\n",
    "\\W Non alphanumeric         [^a-zA-Z0-9_]\n",
    "\\s Whitespace               [' \\t\\n\\r\\x0b\\x0c']\n",
    "\\S Non whitespace           [^' \\t\\n\\r\\x0b\\x0c']\n",
    "\\b Word boundary\n",
    "\\B Non word boundary\n",
    "```"
   ]
  },
  {
   "cell_type": "markdown",
   "id": "b1c82e55",
   "metadata": {},
   "source": [
    "## Problem: Match a Social Security Number"
   ]
  },
  {
   "cell_type": "code",
   "execution_count": null,
   "id": "a8a03f1f",
   "metadata": {},
   "outputs": [],
   "source": [
    "text = 'Do I have 203-45-7834 in the string?'\n",
    "\n",
    "# Looking for 9 digits in text of the form 123-45-6789 \n",
    "\n",
    "re.search(r'\\d\\d\\d-\\d\\d-\\d\\d\\d\\d', text)"
   ]
  },
  {
   "cell_type": "markdown",
   "id": "b2b5ba32",
   "metadata": {},
   "source": [
    "## Stop and Think\n",
    "\n",
    "License plates in Fredonia have 3 capital letters, followed by a dash and 3 digits.  Write an expression to match Fredonian plates and test your work.  Add any tests that I forgot to include.  \n",
    "\n",
    "CAT-492"
   ]
  },
  {
   "cell_type": "code",
   "execution_count": null,
   "id": "b5eef8f4",
   "metadata": {},
   "outputs": [],
   "source": [
    "s = 'DOG-gone Cat-1234 DOG-4567 BIG-123'\n",
    "\n",
    "re.findall(<pattern>, s)"
   ]
  },
  {
   "cell_type": "markdown",
   "id": "27f5eed4",
   "metadata": {},
   "source": [
    "## We can include a count"
   ]
  },
  {
   "cell_type": "code",
   "execution_count": null,
   "id": "3581adbd",
   "metadata": {},
   "outputs": [],
   "source": [
    "## Before\n",
    "\n",
    "re.search(r'\\d\\d\\d-\\d\\d-\\d\\d\\d\\d', text)"
   ]
  },
  {
   "cell_type": "markdown",
   "id": "9063809c",
   "metadata": {},
   "source": [
    "### Included counts"
   ]
  },
  {
   "cell_type": "code",
   "execution_count": null,
   "id": "6dcd5007",
   "metadata": {},
   "outputs": [],
   "source": [
    "re.search(r'\\d{3}-\\d{2}-\\d{4}', text)"
   ]
  },
  {
   "cell_type": "markdown",
   "id": "3138c4e2",
   "metadata": {},
   "source": [
    "## Stop and Think\n",
    "\n",
    "Rewrite the Fredonian match using counts"
   ]
  },
  {
   "cell_type": "code",
   "execution_count": null,
   "id": "4ad65ccb",
   "metadata": {},
   "outputs": [],
   "source": [
    "s = 'DOG-gone Cat-1234 DOG-4567 BIG-123'\n",
    "\n",
    "re.findall(<pattern>, s)"
   ]
  },
  {
   "cell_type": "markdown",
   "id": "3056abe0",
   "metadata": {},
   "source": [
    "## Quantifiers: Non-explicit counts: \\*, +, ?"
   ]
  },
  {
   "cell_type": "code",
   "execution_count": null,
   "id": "508cd3bc",
   "metadata": {},
   "outputs": [],
   "source": [
    "s = 'a b1 c23'"
   ]
  },
  {
   "cell_type": "code",
   "execution_count": null,
   "id": "2e0e1644",
   "metadata": {},
   "outputs": [],
   "source": [
    "# One letter, one digit\n",
    "\n",
    "re.findall(r'[a-z]\\d', s) "
   ]
  },
  {
   "cell_type": "code",
   "execution_count": null,
   "id": "1d9dad2e",
   "metadata": {},
   "outputs": [],
   "source": [
    "# One letter and zero or more digits (*)\n",
    "\n",
    "re.findall(r'[a-z]\\d*', s)"
   ]
  },
  {
   "cell_type": "code",
   "execution_count": null,
   "id": "f45ec9c4",
   "metadata": {},
   "outputs": [],
   "source": [
    "# One letter and one or more digits (+)\n",
    "\n",
    "re.findall(r'[a-z]\\d+', s) "
   ]
  },
  {
   "cell_type": "code",
   "execution_count": null,
   "id": "f5f0ba1d",
   "metadata": {},
   "outputs": [],
   "source": [
    "# Optional digit: One letter and zero or one digit (?)\n",
    "\n",
    "re.findall(r'[a-z]\\d?', s)"
   ]
  },
  {
   "cell_type": "markdown",
   "id": "8773a2de",
   "metadata": {},
   "source": [
    "## Matching is greedy by default\n",
    "\n",
    "```python\n",
    "re.findall(r'[a-z]\\d+', 'a b1 c23')\n",
    "\n",
    "[b1', 'c23']\n",
    "```\n",
    "We will need to take steps to turn off greedy matching"
   ]
  },
  {
   "cell_type": "markdown",
   "id": "86004d4a",
   "metadata": {},
   "source": [
    "## Stop and Think\n",
    "\n",
    "Write an RE to break a sentence into words."
   ]
  },
  {
   "cell_type": "code",
   "execution_count": null,
   "id": "514a530f",
   "metadata": {},
   "outputs": [],
   "source": [
    "s = \"In Hertford, Hereford, and Hampshire, hurricanes hardly ever happen\"\n",
    "\n",
    "re.findall(<pattern>, s)"
   ]
  },
  {
   "cell_type": "markdown",
   "id": "e6cff41e",
   "metadata": {},
   "source": [
    "## Problem: Find all words with only vowels\n",
    "\n",
    "Use Downey's Dictionary to find words with only vowels\n",
    "\n",
    "```python\n",
    "r'^[aeiou]+$'\n",
    "```\n",
    "From start of string to end, nothing but vowels"
   ]
  },
  {
   "cell_type": "code",
   "execution_count": null,
   "id": "73884556",
   "metadata": {},
   "outputs": [],
   "source": [
    "def find_words( ): \n",
    "    lst = []\n",
    "    pattern = r'^[aeiou]+$'\n",
    "    with open('../words.txt', 'r') as f: \n",
    "        for line in f:\n",
    "            word = line.strip()\n",
    "            if re.search(pattern, word): \n",
    "                lst.append(word)\n",
    "    return lst\n",
    "\n",
    "find_words()"
   ]
  },
  {
   "cell_type": "markdown",
   "id": "3b5d36ca",
   "metadata": {},
   "source": [
    "## Matching Special Characters\n",
    "\n",
    "Some characters, such as +, (, or ?, have special meaning\n",
    "\n",
    "We can still match them with the 'escape character' \\\n",
    "\n",
    "https://xkcd.com/234/"
   ]
  },
  {
   "cell_type": "code",
   "execution_count": null,
   "id": "d9a11250",
   "metadata": {},
   "outputs": [],
   "source": [
    "s = 'find this ( for me'\n",
    "\n",
    "re.findall(r'\\(', s)"
   ]
  },
  {
   "cell_type": "code",
   "execution_count": null,
   "id": "b94fdff8",
   "metadata": {},
   "outputs": [],
   "source": [
    "s = 'find that * for me'\n",
    "\n",
    "re.findall(r'\\*', s)"
   ]
  },
  {
   "cell_type": "markdown",
   "id": "c2d22380",
   "metadata": {},
   "source": [
    "## We can use RE to edit strings\n",
    "\n",
    "Take a string of the form \"Smith, C\" and turn it into \"C. Smith\".\n",
    "\n",
    "### First, we define a pattern"
   ]
  },
  {
   "cell_type": "code",
   "execution_count": null,
   "id": "7b3a9102",
   "metadata": {},
   "outputs": [],
   "source": [
    "pattern = r'^[A-Z]\\w+,?\\s*[A-Z]$'\n",
    "\n",
    "re.findall(pattern, 'Smith, C')"
   ]
  },
  {
   "cell_type": "code",
   "execution_count": null,
   "id": "82d5d36a",
   "metadata": {},
   "outputs": [],
   "source": [
    "re.findall(pattern, 'C Smith')"
   ]
  },
  {
   "cell_type": "code",
   "execution_count": null,
   "id": "ab162768",
   "metadata": {},
   "outputs": [],
   "source": [
    "re.findall(pattern, 'Jones K')"
   ]
  },
  {
   "cell_type": "markdown",
   "id": "cc7ce2c8",
   "metadata": {},
   "source": [
    "## Break the pattern down\n",
    "\n",
    "```python\n",
    "pattern = ‘^[A-Z]\\w+,?\\s*[A-Z]$' \n",
    "           ^ Start of string\n",
    "            [A-Z] One upper case letter \n",
    "            \\w+ One or more alphanumeric \n",
    "            ,? Optional comma\n",
    "            \\s* Zero or more white space \n",
    "            [A-Z] One upper case letter\n",
    "            $ End of string\n",
    "```        "
   ]
  },
  {
   "cell_type": "code",
   "execution_count": null,
   "id": "5b6035b9",
   "metadata": {},
   "outputs": [],
   "source": [
    "re.findall(pattern, 'Smith, C')"
   ]
  },
  {
   "cell_type": "code",
   "execution_count": null,
   "id": "0085641c",
   "metadata": {},
   "outputs": [],
   "source": [
    "re.findall(pattern, 'Potter-Phirbright, Q')"
   ]
  },
  {
   "cell_type": "code",
   "execution_count": null,
   "id": "86e3b3eb",
   "metadata": {},
   "outputs": [],
   "source": [
    "re.findall(pattern, 'Potter_Phirbright, Q')"
   ]
  },
  {
   "cell_type": "markdown",
   "id": "c1b58060",
   "metadata": {},
   "source": [
    "## Take the pattern and break it into groups\n",
    "\n",
    "We use parenthesis to define grouping within the pattern"
   ]
  },
  {
   "cell_type": "code",
   "execution_count": null,
   "id": "1dc24b13",
   "metadata": {},
   "outputs": [],
   "source": [
    "#  Before ‘^[A-Z]\\w+,?\\s*[A-Z]$’ \n",
    "#  Now add parens to break into two groups\n",
    "\n",
    "pattern = r'^([A-Z]\\w+)(,?\\s*[A-Z])$'\n",
    "\n",
    "match = re.search(pattern, 'Smith, C')"
   ]
  },
  {
   "cell_type": "code",
   "execution_count": null,
   "id": "d45fd2a9",
   "metadata": {},
   "outputs": [],
   "source": [
    "## group 0 is the whole mishpucha\n",
    "\n",
    "print(match.group(0))"
   ]
  },
  {
   "cell_type": "code",
   "execution_count": null,
   "id": "5e727f88",
   "metadata": {},
   "outputs": [],
   "source": [
    "# First group is '[A-Z]\\w+'\n",
    "\n",
    "print(match.group(1))"
   ]
  },
  {
   "cell_type": "code",
   "execution_count": null,
   "id": "7fe515d1",
   "metadata": {},
   "outputs": [],
   "source": [
    "# Second group is ',?\\s*[A-Z]$'\n",
    "\n",
    "print(match.group(2))"
   ]
  },
  {
   "cell_type": "markdown",
   "id": "8416379b",
   "metadata": {},
   "source": [
    "## We need to break group 2 down even more\n",
    "\n",
    "We want to remove the comma"
   ]
  },
  {
   "cell_type": "code",
   "execution_count": null,
   "id": "2ebd6153",
   "metadata": {},
   "outputs": [],
   "source": [
    "pattern = r'^([A-Z]\\w+)(,?\\s*)([A-Z])$'\n",
    "\n",
    "match = re.search(pattern, 'Smith, C')"
   ]
  },
  {
   "cell_type": "code",
   "execution_count": null,
   "id": "bc629118",
   "metadata": {},
   "outputs": [],
   "source": [
    "print(match.group(0))"
   ]
  },
  {
   "cell_type": "code",
   "execution_count": null,
   "id": "5cd059b8",
   "metadata": {},
   "outputs": [],
   "source": [
    "# '^([A-Z]\\w+)'\n",
    "\n",
    "print(match.group(1))"
   ]
  },
  {
   "cell_type": "code",
   "execution_count": null,
   "id": "d79cc32a",
   "metadata": {},
   "outputs": [],
   "source": [
    "# '(,?\\s*)'\n",
    "\n",
    "print(match.group(2))"
   ]
  },
  {
   "cell_type": "code",
   "execution_count": null,
   "id": "499be8b3",
   "metadata": {},
   "outputs": [],
   "source": [
    "# '([A-Z])$'\n",
    "\n",
    "print(match.group(3))"
   ]
  },
  {
   "cell_type": "markdown",
   "id": "8c47d04f",
   "metadata": {},
   "source": [
    "## Put it all back together"
   ]
  },
  {
   "cell_type": "code",
   "execution_count": null,
   "id": "b6aac47d",
   "metadata": {},
   "outputs": [],
   "source": [
    "pattern = r'^([A-Z]\\w+)(,?\\s*)([A-Z])$'\n",
    "\n",
    "match = re.search(pattern, 'Smith, C')\n",
    "\n",
    "match.group(3) + '. ' + match.group(1)"
   ]
  },
  {
   "cell_type": "markdown",
   "id": "4d19c907",
   "metadata": {},
   "source": [
    "## Stop and Think: Spoonerism\n",
    "\n",
    "*The Lord is a shoving leopard*\n",
    "\n",
    "A word game that never fails to amuse the very young is to \n",
    "exchange the first letters of a pair.   \n",
    "\n",
    "Write a fragment that turns pairs like 'toy boat' into 'boy toat'"
   ]
  },
  {
   "cell_type": "markdown",
   "id": "064c8096",
   "metadata": {},
   "source": [
    "## Read more about it:\n",
    "\n",
    "https://pymotw.com/3/re/\n",
    "http://evc-cit.info/comsc020/python-regex-tutorial/#"
   ]
  }
 ],
 "metadata": {
  "kernelspec": {
   "display_name": "Python 3",
   "language": "python",
   "name": "python3"
  },
  "language_info": {
   "codemirror_mode": {
    "name": "ipython",
    "version": 3
   },
   "file_extension": ".py",
   "mimetype": "text/x-python",
   "name": "python",
   "nbconvert_exporter": "python",
   "pygments_lexer": "ipython3",
   "version": "3.8.8"
  }
 },
 "nbformat": 4,
 "nbformat_minor": 5
}
