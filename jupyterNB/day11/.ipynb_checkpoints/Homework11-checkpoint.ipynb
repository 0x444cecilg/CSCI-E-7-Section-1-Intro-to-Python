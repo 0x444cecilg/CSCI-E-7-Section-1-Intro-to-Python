{
 "cells": [
  {
   "cell_type": "markdown",
   "metadata": {},
   "source": [
    "# Homework 11\n",
    "## Nov 2021\n",
    "\n",
    "## Fill in your name"
   ]
  },
  {
   "cell_type": "code",
   "execution_count": 1,
   "metadata": {},
   "outputs": [],
   "source": [
    "first_name = \"Cecil\"\n",
    "last_name = \"Gilliard\"\n",
    "\n",
    "assert(len(first_name) != 0)\n",
    "assert(len(last_name)  != 0)"
   ]
  },
  {
   "cell_type": "markdown",
   "metadata": {},
   "source": [
    "# Regular Expressions (RE or regexp)\n",
    "\n",
    "RE is a powerful language that lets you specify patterns.  We will use REs to search and to validate in this assignment.  \n",
    "\n",
    "You'll find two videos on REs in Modules/Video Links/Libraries\n",
    "\n",
    "\n",
    "# 1) Four or more\n",
    "\n",
    "You goal is to find the words in Downey's words.txt that have 4 consecutive vowels.  (That is, four vowels in a row)\n",
    "\n",
    "Write a Regular Expression that matches 4 vowels in a row, and use it to search the word list."
   ]
  },
  {
   "cell_type": "code",
   "execution_count": 1,
   "metadata": {},
   "outputs": [],
   "source": [
    "import re\n",
    "\n",
    "def four_or_more(phrase: str) -> bool:\n",
    "    \"\"\"Does this string have 4 vowels in a row?\"\"\"\n",
    "    # create regular expression for 4 consecutive vowels\n",
    "    pattern = r'[aeiou]{4}'\n",
    "    m = re.findall(pattern, phrase)\n",
    "    # if the pattern is found return True else return False\n",
    "    if len(m) > 0:\n",
    "        return True\n",
    "    return False\n",
    "            \n"
   ]
  },
  {
   "cell_type": "markdown",
   "metadata": {},
   "source": [
    "## Unit tests for four_or_more\n",
    "\n",
    "Write a function that uses your RE to search Downey's words.txt.\n",
    "\n",
    "Print all the matches you find."
   ]
  },
  {
   "cell_type": "code",
   "execution_count": 4,
   "metadata": {},
   "outputs": [
    {
     "name": "stdout",
     "output_type": "stream",
     "text": [
      "['aqueous', 'beauish', 'cliqueier', 'cliqueiest', 'cooee', 'cooeed', 'cooeeing', 'cooees', 'epopoeia', 'epopoeias', 'giaour', 'giaours', 'gooier', 'gooiest', 'guaiac', 'guaiacol', 'guaiacols', 'guaiacs', 'guaiacum', 'guaiacums', 'guaiocum', 'guaiocums', 'looie', 'looies', 'louie', 'louies', 'maieutic', 'miaou', 'miaoued', 'miaouing', 'miaous', 'obsequious', 'obsequiously', 'obsequiousness', 'obsequiousnesses', 'onomatopoeia', 'plateaued', 'plateauing', 'queue', 'queued', 'queueing', 'queuer', 'queuers', 'queues', 'queuing', 'sequoia', 'sequoias', 'zoeae', 'zoogloeae']\n"
     ]
    }
   ],
   "source": [
    "##\n",
    "def four_vowels(filename):\n",
    "    \"\"\"Searches file and gets words that have 4 consecutive vowels\"\"\"\n",
    "    lst = []\n",
    "    # open the file\n",
    "    with open(filename, \"r\") as word_file:\n",
    "        # for loop to create list of words with 4 consecutive vowels\n",
    "        for line in word_file:\n",
    "            line = line.strip()\n",
    "            if four_or_more(line) == True:\n",
    "                lst.append(line)\n",
    "        return lst\n",
    "\n",
    "\n",
    "print(four_vowels(\"words.txt\"))"
   ]
  },
  {
   "cell_type": "markdown",
   "metadata": {},
   "source": [
    "# 2) Valid Integers\n",
    "\n",
    "Write a RE that decides if a string holds a valid integer.  "
   ]
  },
  {
   "cell_type": "code",
   "execution_count": 83,
   "metadata": {},
   "outputs": [],
   "source": [
    "def is_integer(s: str) -> bool:\n",
    "    \"\"\"Is this string a valid integer?\"\"\"\n",
    "    pattern0 = r' \\d'\n",
    "    pattern1 = r'\\d\\.\\d'\n",
    "    pattern2 = r'\\d'\n",
    "    pattern3 = r'[a-z]'\n",
    "    \n",
    "    if(re.findall(pattern0, s)):\n",
    "        return False\n",
    "    elif(re.findall(pattern1, s)):\n",
    "        return False\n",
    "    elif(re.findall(pattern3, s)):\n",
    "        return False\n",
    "    elif not (re.findall(pattern2, s)):\n",
    "        return False\n",
    "    return True\n"
   ]
  },
  {
   "cell_type": "markdown",
   "metadata": {},
   "source": [
    "## Unit Tests"
   ]
  },
  {
   "cell_type": "code",
   "execution_count": 82,
   "metadata": {},
   "outputs": [
    {
     "name": "stdout",
     "output_type": "stream",
     "text": [
      "Success!!\n"
     ]
    }
   ],
   "source": [
    "def test_is_integer():\n",
    "    assert is_integer(\"5\")\n",
    "    assert not is_integer(\"a5\")\n",
    "    assert not is_integer(\"5a\")\n",
    "    assert is_integer(\"5000\")\n",
    "    assert is_integer(\"-999\")\n",
    "    assert is_integer(\"+999\")\n",
    "    assert is_integer(\"00\")\n",
    "    assert not is_integer(\"0.0\")\n",
    "    assert not is_integer(\"-\")\n",
    "    assert not is_integer(\" 5\")\n",
    "    assert not is_integer(\"\")\n",
    "    \n",
    "    print('Success!!')\n",
    "    \n",
    "test_is_integer()"
   ]
  },
  {
   "cell_type": "markdown",
   "metadata": {},
   "source": [
    "# 3) Graph Global Mile records\n",
    "\n",
    "Produce a version of the chart shown in the Canvas Assignment page\n",
    "\n",
    "Take a look at the data here: you can harvest it from the web, or use a CSV file we'll provide.  \n",
    "\n",
    "https://github.com/KarenWest/FundamentalsOfDataAnalysisInLanguageR/blob/master/WorldRecords.csv\n",
    "\n",
    "We haven't discussed many of the points below: you will need to explore the documentation on your own. \n",
    "\n",
    "https://matplotlib.org/3.2.1/contents.html\n",
    "    \n",
    "The CSV file has many records. \n",
    "Plot the world records for the mile.  Let X be the year and Y be the time in seconds.  \n",
    "\n",
    "Map the Mens and Womens records on the same graph in different colors.\n",
    "\n",
    "Since records for men and women were set in different years, you won't be able to use plot().  Use a scatter plot instead.\n",
    "\n",
    "Make sure your X and Y values are numbers, rather than the strings in the table.  \n",
    "Include labels for the X and Y axis, and a legend telling us what the colors mean.\n",
    "\n",
    "Include a horizontal line at y = 240: the 4 minute barrier has been a touchstone and a benchmark for years.    \n",
    "\n",
    "You will want the Y axis to include 0 so that we can judge the times relative to the time it takes to run a mile, but you don't want to include the origin: you don't want to go back to 0 AD.  We don't have good records until the 20th century.  \n",
    "\n",
    "### Hint: here are some matplotlib calls to investigate\n",
    "\n",
    "```python\n",
    "    plt.scatter()     # Be sure to investigate the optional parameters\n",
    "    plt.legend()\n",
    "    plt.xlabel()\n",
    "    plt.ylabel()\n",
    "    plt.ylim()\n",
    "```"
   ]
  },
  {
   "cell_type": "markdown",
   "metadata": {},
   "source": [
    "## Your Solution"
   ]
  },
  {
   "cell_type": "code",
   "execution_count": 78,
   "metadata": {},
   "outputs": [
    {
     "data": {
      "image/png": "[encoded data removed]",
      "text/plain": [
       "<Figure size 640x480 with 1 Axes>"
      ]
     },
     "metadata": {},
     "output_type": "display_data"
    },
    {
     "name": "stdout",
     "output_type": "stream",
     "text": [
      "None\n"
     ]
    }
   ],
   "source": [
    "import matplotlib.pyplot as plt\n",
    "import csv\n",
    "\n",
    "from sklearn.datasets import load_iris\n",
    "\n",
    "def winnner(filename):\n",
    "    # open the file and figure this out; make lists, gonna need them\n",
    "    women_years = []\n",
    "    men_years = []\n",
    "    women_times = []\n",
    "    men_times = []\n",
    "    # open file \n",
    "    with open(filename, \"r\") as chicken_dinner:\n",
    "        potpie = csv.reader(chicken_dinner)\n",
    "        next(potpie)\n",
    "        # create list of mile records\n",
    "        miles = [line for line in potpie if line[0] == \"Mens Mile\" or line[0] == \"Womens Mile\"]\n",
    "        # I shouldn't have to do this but making seperate lst comps wasn't working\n",
    "        # For loop to collect mens years and times to lists taking\n",
    "        # care to get the ints and floats, not the strings\n",
    "        for item in miles:\n",
    "            if item[0] == \"Womens Mile\":\n",
    "                women_times.append(float(item[2]))\n",
    "                women_years.append(int(item[6]))\n",
    "            elif item[0] == \"Mens Mile\":\n",
    "                men_times.append(float(item[2]))\n",
    "                men_years.append(int(item[6]))\n",
    "        benchmark = 240\n",
    "        # couldn't figur out how to draw horizontal line\n",
    "        # https://stackoverflow.com/questions/33382619/plot-a-horizontal-line-using-matplotlib/50444098\n",
    "        # plot men and womens times/years and the 240 line\n",
    "        # reorganization didn't reorganixe the legend???\n",
    "        plt.scatter(women_years, women_times, c='blue', label='Women')\n",
    "        plt.scatter(men_years, men_times, c='red', label='Men')\n",
    "        plt.axhline(y=benchmark, color='g', linestyle='-', label='4 Mins')\n",
    "        plt.legend()\n",
    "        # plot the limits of x & y\n",
    "        plt.ylim(0, 300)\n",
    "        plt.xlim(1913, 2010)\n",
    "        # label x axis\n",
    "        plt.xlabel('Year')\n",
    "        # label y axis\n",
    "        plt.ylabel('Time to run a mile in seconds')\n",
    "        # show graph\n",
    "        plt.show()\n",
    "    \n",
    "print(winnner(\"WorldRecords.csv\"))"
   ]
  },
  {
   "cell_type": "markdown",
   "metadata": {},
   "source": [
    "# 4) People\n",
    "\n",
    "We define a class Person which describes a citizen with a name.\n",
    "Students and Employees are subclasses of Persons.\n",
    "\n",
    "You will need to define or redefine methods for the three classes below to make the unit tests pass.\n",
    "\n",
    "We have made a start defining a Student, but have done nothing for Employee.  Run the Unit Tests to see what you will need to add or change.  \n",
    "\n",
    "Hint: You may make changes in all three classes"
   ]
  },
  {
   "cell_type": "code",
   "execution_count": 21,
   "metadata": {},
   "outputs": [],
   "source": [
    "class Person:\n",
    "\n",
    "    def __init__(self, first, last):\n",
    "        self.firstname = first.capitalize()\n",
    "        self.lastname = last.capitalize()\n",
    "\n",
    "    def __str__(self):\n",
    "        return self.firstname + \" \" + self.lastname\n",
    "\n",
    "    def __eq__(self, other):\n",
    "        return (self.firstname == other.firstname) \\\n",
    "            and (self.lastname == other.lastname)\n",
    "\n",
    "    def is_employed(self):\n",
    "        return False\n",
    "\n",
    "\n",
    "class Student(Person):\n",
    "    \"Person who is a student\"\n",
    "\n",
    "    def __init__(self, first, last, school, id):\n",
    "        # Call Superclass to set common information\n",
    "        super().__init__(first, last)\n",
    "        self.school = school\n",
    "        self.id = id\n",
    "\n",
    "    def __str__(self):\n",
    "        # Call Superclass to dispaly common information\n",
    "        return super().__str__() + \", \" + str(self.id) + ' at ' + self.school\n",
    "\n",
    "    def __eq__(self, other):\n",
    "        # Took me awhile to find this\n",
    "        # https://www.w3schools.com/python/ref_func_isinstance.asp\n",
    "        if isinstance(other, Student):\n",
    "            return super().__eq__(other) and (self.id == other.id)\\\n",
    "            and (self.school == other.school)\n",
    "        else:\n",
    "            return False\n",
    "    \n",
    "class Employee(Person):\n",
    "    \"Person who is employed\"\n",
    "    def __init__(self, first, last, company, id):\n",
    "        # Call Superclass to dispaly common information\n",
    "        super().__init__(first, last)\n",
    "        self.company = company\n",
    "        self.id = id\n",
    "        \n",
    "    def __str__(self):\n",
    "        # Call Superclass to dispaly common information\n",
    "        return super().__str__() + \", \" + str(self.id) + ' at ' + str(self.company) \n",
    "    \n",
    "    def __eq__(self, other):\n",
    "        # just repeated the process from above and it finally worked\n",
    "        if isinstance(other, Employee):\n",
    "            return super().__eq__(other) and (self.id == other.id)\\\n",
    "            and (self.company == other.company)\n",
    "        else:\n",
    "            return False\n",
    "            \n",
    "        \n"
   ]
  },
  {
   "cell_type": "markdown",
   "metadata": {},
   "source": [
    "## Unit Tests for Person"
   ]
  },
  {
   "cell_type": "code",
   "execution_count": 20,
   "metadata": {},
   "outputs": [
    {
     "name": "stdout",
     "output_type": "stream",
     "text": [
      "Success!\n"
     ]
    }
   ],
   "source": [
    "def test_person():\n",
    "    \n",
    "    # People\n",
    "    man1 = Person(\"Homer\", \"Simpson\")\n",
    "    man2 = Person(\"homer\", \"simpson\")\n",
    "    assert man1 == man2\n",
    "    assert not man1.is_employed()\n",
    "    assert man1.__str__() == 'Homer Simpson'\n",
    "    assert man2.__str__() == 'Homer Simpson'\n",
    "    \n",
    "    # Students\n",
    "    woman1 = Student(\"Marge\", \"Simpson\", 'Simmons', 107)\n",
    "    woman2 = Student(\"Marge\", \"Simpson\", 'Wheelock', 153)\n",
    "    assert woman1.__str__() == \"Marge Simpson, 107 at Simmons\"\n",
    "    assert woman2.__str__() == \"Marge Simpson, 153 at Wheelock\"\n",
    "    assert not woman1 == woman2\n",
    "\n",
    "    # Employees\n",
    "    moe1 = Employee(\"Moe\", \"Szyslak\", 'Tavern', 153)\n",
    "    assert moe1.__str__() == \"Moe Szyslak, 153 at Tavern\"\n",
    "    assert not moe1 == woman2\n",
    "\n",
    "    moe = Employee(\"Moe\", \"Szyslak\", 'Tavern', 153)\n",
    "    assert moe.__str__() == \"Moe Szyslak, 153 at Tavern\"\n",
    "    assert not moe == woman2\n",
    "\n",
    "    waylon = Employee(\"Waylon\", \"Smithers\", \"Springfield Power\", 2)\n",
    "    assert not moe == waylon\n",
    "   \n",
    "    # Cross Check\n",
    "    moe2 = Student(\"Moe\", \"Szyslak\", 'BC', 153)\n",
    "    assert moe2.__str__() == \"Moe Szyslak, 153 at BC\"\n",
    "    assert not moe == moe2\n",
    "    assert not moe2 == moe\n",
    "\n",
    "    print('Success!')\n",
    "    \n",
    "test_person()"
   ]
  },
  {
   "cell_type": "markdown",
   "metadata": {},
   "source": [
    "## Post Mortem\n",
    "\n",
    "How long did it take you to solve this problem set?\n",
    "\n",
    "Did anything confuse you or cause difficulty?"
   ]
  },
  {
   "cell_type": "code",
   "execution_count": null,
   "metadata": {},
   "outputs": [],
   "source": [
    "# Your thoughts\n",
    "# finding isinstance and how to compare 2 subclasses was one of my big challenges this week.\n",
    "# also jumping into mathplotlib blind was anxiety filled\n",
    "# I think this notebook has it out for me..."
   ]
  }
 ],
 "metadata": {
  "kernelspec": {
   "display_name": "Python 3",
   "language": "python",
   "name": "python3"
  },
  "language_info": {
   "codemirror_mode": {
    "name": "ipython",
    "version": 3
   },
   "file_extension": ".py",
   "mimetype": "text/x-python",
   "name": "python",
   "nbconvert_exporter": "python",
   "pygments_lexer": "ipython3",
   "version": "3.8.11"
  }
 },
 "nbformat": 4,
 "nbformat_minor": 1
}
