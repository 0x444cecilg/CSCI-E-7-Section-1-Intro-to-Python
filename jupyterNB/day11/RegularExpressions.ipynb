{
 "cells": [
  {
   "cell_type": "markdown",
   "metadata": {},
   "source": [
    "# PyMOTW RE exmples\n",
    "\n",
    "Examples from https://pymotw.com/3/re/"
   ]
  },
  {
   "cell_type": "markdown",
   "metadata": {},
   "source": [
    "## Applications for Regular Expressions\n",
    "\n",
    "Validation - Is this a legal phone number?  Typically anchor \n",
    "```python\n",
    "pattern = r'^<pattern>$'\n",
    "```\n",
    "\n",
    "Search - Can I find this?\n",
    "\n",
    "Normalizing - convert to standard form - 9 digit zip to 5\n",
    "\n",
    "Documentation: https://docs.python.org/3/library/re.html"
   ]
  },
  {
   "cell_type": "code",
   "execution_count": null,
   "metadata": {},
   "outputs": [],
   "source": [
    "import re\n",
    "\n",
    "pattern = r'this'\n",
    "text = 'A bit of this and that.'\n",
    "\n",
    "match = re.search(pattern, text)\n",
    "\n",
    "s = match.start()\n",
    "e = match.end()\n",
    "\n",
    "print(f'Found \"{match.re.pattern}\"\\nin \"{match.string}\"\\nfrom {s} to {e} \"{text[s:e]}\"')"
   ]
  },
  {
   "cell_type": "markdown",
   "metadata": {},
   "source": [
    "## To speed up search, compile the pattern"
   ]
  },
  {
   "cell_type": "code",
   "execution_count": null,
   "metadata": {},
   "outputs": [],
   "source": [
    "## Compile the patterns\n",
    "import re\n",
    "\n",
    "# Precompile the patterns\n",
    "regexes = [\n",
    "    re.compile(p)\n",
    "    for p in [r'this', r'that', r'thing']\n",
    "]\n",
    "\n",
    "text = 'A bit of this and that.'\n",
    "\n",
    "print('Text: {!r}\\n'.format(text))\n",
    "\n",
    "for regex in regexes:\n",
    "    print(f'Seeking \"{regex.pattern}\" ->',  end=' ')\n",
    "\n",
    "    if regex.search(text):\n",
    "        print('match!')\n",
    "    else:\n",
    "        print('no match')"
   ]
  },
  {
   "cell_type": "markdown",
   "metadata": {},
   "source": [
    "## Multiple matches"
   ]
  },
  {
   "cell_type": "code",
   "execution_count": null,
   "metadata": {},
   "outputs": [],
   "source": [
    "import re\n",
    "\n",
    "text = 'abbaaabbbbaaaaa'\n",
    "\n",
    "pattern = r'ab'\n",
    "\n",
    "for match in re.findall(pattern, text):\n",
    "    print(f'Found {match}')"
   ]
  },
  {
   "cell_type": "markdown",
   "metadata": {},
   "source": [
    "## Create an iterator"
   ]
  },
  {
   "cell_type": "code",
   "execution_count": null,
   "metadata": {},
   "outputs": [],
   "source": [
    "import re\n",
    "\n",
    "text = 'abbaaabbbbaaaaa'\n",
    "\n",
    "pattern = r'ab'\n",
    "\n",
    "for match in re.finditer(pattern, text):\n",
    "    s = match.start()\n",
    "    e = match.end()\n",
    "    print(f'Found {text[s:e]} at {s}:{e}')"
   ]
  },
  {
   "cell_type": "markdown",
   "metadata": {},
   "source": [
    "## Patern Syntax"
   ]
  },
  {
   "cell_type": "code",
   "execution_count": null,
   "metadata": {},
   "outputs": [],
   "source": [
    "import re\n",
    "\n",
    "\n",
    "def test_patterns(text, patterns):\n",
    "    \"\"\"Given source text and a list of patterns, look for\n",
    "    matches for each pattern within the text and print\n",
    "    them to stdout.\n",
    "    \"\"\"\n",
    "    # Look for each pattern in the text and print the results\n",
    "    for pattern, desc in patterns:\n",
    "        print(f\"'{pattern}' ({desc})\\n\")\n",
    "        print(f\"  '{text}'\")\n",
    "        for match in re.finditer(pattern, text):\n",
    "            s = match.start()\n",
    "            e = match.end()\n",
    "            substr = text[s:e]\n",
    "            n_backslashes = text[:s].count('\\\\')\n",
    "            prefix = '.' * (s + n_backslashes)\n",
    "            print(f\"  {prefix}'{substr}'\")\n",
    "        print()\n",
    "    return\n",
    "\n",
    "\n",
    "if __name__ == '__main__':\n",
    "    test_patterns('abbaaabbbbaaaaa',\n",
    "                  [(r'ab', \"'a' followed by 'b'\"),\n",
    "                   ])"
   ]
  },
  {
   "cell_type": "markdown",
   "metadata": {},
   "source": [
    "## Run it\n",
    "\n",
    "Matching is greedy by default.  We can use '?' to limit this."
   ]
  },
  {
   "cell_type": "code",
   "execution_count": null,
   "metadata": {},
   "outputs": [],
   "source": [
    "test_patterns(\n",
    "    'abbaabbba',\n",
    "    [(r'ab*', 'a followed by zero or more b'),\n",
    "     (r'ab+', 'a followed by one or more b'),\n",
    "     (r'ab?', 'a followed by zero or one b'),\n",
    "     (r'ab{3}', 'a followed by three b'),\n",
    "     (r'ab{2,3}', 'a followed by two to three b')],\n",
    ")"
   ]
  },
  {
   "cell_type": "markdown",
   "metadata": {},
   "source": [
    "## Turn off Greediness by following the repetition instruction with ?"
   ]
  },
  {
   "cell_type": "code",
   "execution_count": null,
   "metadata": {},
   "outputs": [],
   "source": [
    "test_patterns(\n",
    "    'abbaabbba',\n",
    "    [(r'ab*?', 'a followed by zero or more b'),\n",
    "     (r'ab+?', 'a followed by one or more b'),\n",
    "     (r'ab??', 'a followed by zero or one b'),\n",
    "     (r'ab{3}?', 'a followed by three b'),\n",
    "     (r'ab{2,3}?', 'a followed by two to three b')],\n",
    ")"
   ]
  },
  {
   "cell_type": "markdown",
   "metadata": {},
   "source": [
    "## Character Sets"
   ]
  },
  {
   "cell_type": "code",
   "execution_count": null,
   "metadata": {},
   "outputs": [],
   "source": [
    "test_patterns(\n",
    "    'abbaabbba',\n",
    "    [(r'[ab]', 'either a or b'),\n",
    "     (r'a[ab]+', 'a followed by 1 or more a or b'),\n",
    "     (r'a[ab]+?', 'a followed by 1 or more a or b, not greedy')],\n",
    ")"
   ]
  },
  {
   "cell_type": "code",
   "execution_count": null,
   "metadata": {},
   "outputs": [],
   "source": [
    "test_patterns(\n",
    "    'This is some text -- with punctuation.',\n",
    "    [(r'[^-. ]+', 'sequences without -, ., or space')],\n",
    ")\n"
   ]
  },
  {
   "cell_type": "code",
   "execution_count": null,
   "metadata": {},
   "outputs": [],
   "source": [
    "test_patterns(\n",
    "    'This is some text -- with punctuation.',\n",
    "    [(r'[a-z]+', 'sequences of lowercase letters'),\n",
    "     (r'[A-Z]+', 'sequences of uppercase letters'),\n",
    "     (r'[a-zA-Z]+', 'sequences of letters of either case'),\n",
    "     (r'[A-Z][a-z]+', 'one uppercase followed by lowercase')],\n",
    ")"
   ]
  },
  {
   "cell_type": "markdown",
   "metadata": {},
   "source": [
    "## Extending Counts\n",
    "\n",
    "We can use the slice notation on counts"
   ]
  },
  {
   "cell_type": "code",
   "execution_count": null,
   "metadata": {},
   "outputs": [],
   "source": [
    "test_patterns(\n",
    "    'abbaabbba',\n",
    "    [(r'ab{3}', 'a followed by three b'),\n",
    "     (r'ab{2,3}', 'a followed by two to three b'),\n",
    "     (r'ab{,3}', 'a followed by up to three b'),\n",
    "     (r'ab{2,}', 'a followed by two or more b'),\n",
    "     ],\n",
    ")"
   ]
  },
  {
   "cell_type": "markdown",
   "metadata": {},
   "source": [
    "## Modifying search\n",
    "\n",
    "Search takes a third parameter\n",
    "\n",
    "```\n",
    "m = search(pattern, string, re.IGNORECASE)\n",
    "```"
   ]
  },
  {
   "cell_type": "code",
   "execution_count": null,
   "metadata": {},
   "outputs": [],
   "source": [
    "import re\n",
    "\n",
    "string = 'abbAABBA'\n",
    "pattern = r'ab{2}'\n",
    "\n",
    "re.findall(pattern, string, re.IGNORECASE)"
   ]
  },
  {
   "cell_type": "markdown",
   "metadata": {},
   "source": [
    "## Match Zip Codes"
   ]
  },
  {
   "cell_type": "code",
   "execution_count": null,
   "metadata": {},
   "outputs": [],
   "source": [
    "import re\n",
    "\n",
    "string = '1234 90210-1234 01702'\n",
    "pattern = r'(\\d{5})(-\\d{4})' \n",
    "\n",
    "re.findall(pattern, string)"
   ]
  },
  {
   "cell_type": "code",
   "execution_count": null,
   "metadata": {},
   "outputs": [],
   "source": [
    "string = '1234 90210-1234 01702'\n",
    "pattern = r'(\\d{5})(-\\d{4})?' \n",
    "\n",
    "re.findall(pattern, string)"
   ]
  },
  {
   "cell_type": "markdown",
   "metadata": {},
   "source": [
    "## Finding TLAs"
   ]
  },
  {
   "cell_type": "code",
   "execution_count": null,
   "metadata": {},
   "outputs": [],
   "source": [
    "string = 'I forgot to find a TLA for my FOMO at the ATM!'\n",
    "pattern = r'\\b[A-Z]{3}\\b' \n",
    "\n",
    "re.findall(pattern, string)"
   ]
  },
  {
   "cell_type": "code",
   "execution_count": null,
   "metadata": {},
   "outputs": [],
   "source": [
    "pattern = r'\\b[A-Z]{3}\\b' \n",
    "\n",
    "re.findall(pattern, string)"
   ]
  },
  {
   "cell_type": "code",
   "execution_count": null,
   "metadata": {},
   "outputs": [],
   "source": []
  }
 ],
 "metadata": {
  "kernelspec": {
   "display_name": "Python 3",
   "language": "python",
   "name": "python3"
  },
  "language_info": {
   "codemirror_mode": {
    "name": "ipython",
    "version": 3
   },
   "file_extension": ".py",
   "mimetype": "text/x-python",
   "name": "python",
   "nbconvert_exporter": "python",
   "pygments_lexer": "ipython3",
   "version": "3.8.8"
  }
 },
 "nbformat": 4,
 "nbformat_minor": 4
}
