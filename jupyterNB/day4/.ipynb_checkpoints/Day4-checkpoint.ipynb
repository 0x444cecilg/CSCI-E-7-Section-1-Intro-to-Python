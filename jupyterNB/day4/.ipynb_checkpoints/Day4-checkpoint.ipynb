{
 "cells": [
  {
   "cell_type": "markdown",
   "metadata": {},
   "source": [
    "# Introduction to Programming with Python\n",
    "## Day 4 Notebook \n",
    "## Booleans, Control Flow, reading Text Files\n",
    "## Fall 2021 (c) Jeff Parker "
   ]
  },
  {
   "cell_type": "code",
   "execution_count": 2,
   "metadata": {},
   "outputs": [
    {
     "name": "stdout",
     "output_type": "stream",
     "text": [
      "Sample.txt\n",
      "\n",
      "\n",
      "\n",
      "Sample text file to read\n",
      "\n",
      "\n",
      "\n"
     ]
    }
   ],
   "source": [
    "with open('sample.txt', 'r') as my_file:\n",
    "    for line in my_file:\n",
    "        print(line)"
   ]
  },
  {
   "cell_type": "markdown",
   "metadata": {},
   "source": [
    "# Topics\n",
    "\n",
    "- If statement\n",
    "- Boolean conditions \n",
    "- equals and is\n",
    "- or and and\n",
    "- not and in\n",
    "- Reading and writing text files"
   ]
  },
  {
   "cell_type": "markdown",
   "metadata": {},
   "source": [
    "# Lessons from Homework\n",
    "\n",
    "- Functions can simplify your work\n",
    "- Factor out the parts you do more than once\n",
    "- Functions are our unit of design \n",
    "- Do one thing to one type of thing\n",
    "\n",
    "## Good Function Names: Verb, VerbNoun or IsAdjective\n",
    "```python\n",
    "    printGreeting()\n",
    "    strip()\n",
    "    lower()\n",
    "    isalpha()\n",
    "```"
   ]
  },
  {
   "cell_type": "markdown",
   "metadata": {},
   "source": [
    "# Some elements of Code Style\n",
    "\n",
    "From Python Enhancement Proposal 8 (PEP 8)\n",
    "\n",
    "https://www.python.org/dev/peps/pep-0008/\n",
    "\n",
    "### Doc Strings for functions\n",
    "\n",
    "```python\n",
    "def block(num_cols: int) -> str:\n",
    "    \"Return a string one block high\"\n",
    "    ...\n",
    "```\n",
    "### Two spaces between functions\n",
    "\n",
    "### Keep lines short: 79 characters max\n",
    "Trey Hunner discusses this: https://treyhunner.com/2017/07/craft-your-python-like-poetry/\n",
    "\n",
    "### ... *many more ...*"
   ]
  },
  {
   "cell_type": "markdown",
   "metadata": {},
   "source": [
    "# Control Flow\n",
    "## We may want to do this or to do that: \n",
    "- Add a number or forget it\n",
    "- Finish a calculation or keep going\n",
    "- Draw a line or draw a circle\n",
    "\n",
    "## To decide what do, we test a Boolean Condition\n",
    "\n",
    "### Boolean Conditions are named after George Boole\n",
    "\n",
    "Since they are named after someone, the term should be capitalized: 'Boolean expression', not 'boolean expression'\n",
    "\n",
    "Alas, the Python type hint is bool, not Boole"
   ]
  },
  {
   "cell_type": "markdown",
   "metadata": {},
   "source": [
    "## Predict what this will print"
   ]
  },
  {
   "cell_type": "code",
   "execution_count": null,
   "metadata": {},
   "outputs": [],
   "source": [
    "def example(name):\n",
    "    if len(name) > 0:\n",
    "        return f\"Hello, {name}!\""
   ]
  },
  {
   "cell_type": "code",
   "execution_count": null,
   "metadata": {},
   "outputs": [],
   "source": [
    "print(example('Sam'))"
   ]
  },
  {
   "cell_type": "markdown",
   "metadata": {},
   "source": [
    "## Predict what this will print"
   ]
  },
  {
   "cell_type": "code",
   "execution_count": null,
   "metadata": {},
   "outputs": [],
   "source": [
    "print(example(''))"
   ]
  },
  {
   "cell_type": "markdown",
   "metadata": {},
   "source": [
    "## Predict what this will print"
   ]
  },
  {
   "cell_type": "code",
   "execution_count": null,
   "metadata": {},
   "outputs": [],
   "source": [
    "def example_two(name):\n",
    "    if name:\n",
    "        return f\"Hello, {name}!\"\n",
    "    \n",
    "print(example_two('Sam'))"
   ]
  },
  {
   "cell_type": "code",
   "execution_count": null,
   "metadata": {},
   "outputs": [],
   "source": [
    "print(example_two(''))"
   ]
  },
  {
   "cell_type": "markdown",
   "metadata": {},
   "source": [
    "### '' isn't False, but it is Falsy\n",
    "\n",
    "https://www.freecodecamp.org/news/truthy-and-falsy-values-in-python/\n",
    "\n",
    "Things that aren't Falsy are Truthy.  \n",
    "\n",
    "*No relation to Colbert's Truthiness*"
   ]
  },
  {
   "cell_type": "markdown",
   "metadata": {},
   "source": [
    "# Boolean Tests"
   ]
  },
  {
   "cell_type": "code",
   "execution_count": null,
   "metadata": {
    "scrolled": true
   },
   "outputs": [],
   "source": [
    "# Boolean \n",
    "4 == 4"
   ]
  },
  {
   "cell_type": "code",
   "execution_count": null,
   "metadata": {
    "scrolled": true
   },
   "outputs": [],
   "source": [
    "4 == 'cat'"
   ]
  },
  {
   "cell_type": "markdown",
   "metadata": {},
   "source": [
    "# Boolean tests: =="
   ]
  },
  {
   "cell_type": "code",
   "execution_count": null,
   "metadata": {
    "scrolled": true
   },
   "outputs": [],
   "source": [
    "s1 = 'cat'\n",
    "s2 = 'cat'\n",
    "\n",
    "s1 == s2"
   ]
  },
  {
   "cell_type": "code",
   "execution_count": null,
   "metadata": {
    "scrolled": true
   },
   "outputs": [],
   "source": [
    "L1 = ['cat']\n",
    "L2 = ['cat']\n",
    "\n",
    "L1 == L2"
   ]
  },
  {
   "cell_type": "markdown",
   "metadata": {},
   "source": [
    "# Boolean tests: is"
   ]
  },
  {
   "cell_type": "code",
   "execution_count": null,
   "metadata": {
    "scrolled": true
   },
   "outputs": [],
   "source": [
    "s1 = 'cat'\n",
    "s2 = 'cat'\n",
    "\n",
    "s1 is s2"
   ]
  },
  {
   "cell_type": "code",
   "execution_count": null,
   "metadata": {
    "scrolled": true
   },
   "outputs": [],
   "source": [
    "L1 = ['cat']\n",
    "L2 = ['cat']\n",
    "\n",
    "L1 is L2"
   ]
  },
  {
   "cell_type": "markdown",
   "metadata": {},
   "source": [
    "## The strings are the same\n",
    "## The lists are different\n",
    "### Look at their addresses in memory"
   ]
  },
  {
   "cell_type": "code",
   "execution_count": null,
   "metadata": {},
   "outputs": [],
   "source": [
    "help(id)"
   ]
  },
  {
   "cell_type": "markdown",
   "metadata": {},
   "source": [
    "```python\n",
    "id(object)\n",
    "    Return the “identity” of an object. This is an integer which is guaranteed to be unique and constant for this object during its lifetime. Two objects with non-overlapping lifetimes may have the same id() value.\n",
    "\n",
    "    CPython implementation detail: This is the address of the object in memory.\n",
    "```"
   ]
  },
  {
   "cell_type": "code",
   "execution_count": null,
   "metadata": {
    "scrolled": true
   },
   "outputs": [],
   "source": [
    "## Addresses of the two strings\n",
    "\n",
    "print(id(s1))\n",
    "print(id(s2))"
   ]
  },
  {
   "cell_type": "code",
   "execution_count": null,
   "metadata": {
    "scrolled": true
   },
   "outputs": [],
   "source": [
    "## Addresses of the two lists\n",
    "\n",
    "print(id(L1))\n",
    "print(id(L2))"
   ]
  },
  {
   "cell_type": "markdown",
   "metadata": {},
   "source": [
    "## Why the difference?"
   ]
  },
  {
   "cell_type": "code",
   "execution_count": null,
   "metadata": {
    "scrolled": true
   },
   "outputs": [],
   "source": [
    "print('L1', L1)\n",
    "print('L2', L2)"
   ]
  },
  {
   "cell_type": "code",
   "execution_count": null,
   "metadata": {},
   "outputs": [],
   "source": [
    "## Modify one list\n",
    "L2.pop()\n",
    "\n",
    "print('L1', L1)\n",
    "print('L2', L2)"
   ]
  },
  {
   "cell_type": "markdown",
   "metadata": {},
   "source": [
    "## When I paint L2 black, L1 doesn't change color"
   ]
  },
  {
   "cell_type": "markdown",
   "metadata": {},
   "source": [
    "## L2 has changed, but is still in the same location"
   ]
  },
  {
   "cell_type": "code",
   "execution_count": null,
   "metadata": {
    "scrolled": true
   },
   "outputs": [],
   "source": [
    "print(id(L1))\n",
    "print(id(L2))"
   ]
  },
  {
   "cell_type": "markdown",
   "metadata": {},
   "source": [
    "# My sons Max und Moritz are identical twins \n",
    "\n",
    "They look the same, but they live in different appartments \n",
    "\n",
    "The lists are different, but they hold the same values"
   ]
  },
  {
   "cell_type": "markdown",
   "metadata": {},
   "source": [
    "# Twin cats"
   ]
  },
  {
   "cell_type": "code",
   "execution_count": null,
   "metadata": {
    "scrolled": true
   },
   "outputs": [],
   "source": [
    "s1 = 'cat'\n",
    "s2 = 'cat'\n",
    "\n",
    "print(id(s2))\n",
    "print(id(s2))"
   ]
  },
  {
   "cell_type": "code",
   "execution_count": null,
   "metadata": {
    "scrolled": true
   },
   "outputs": [],
   "source": [
    "s1 is s2"
   ]
  },
  {
   "cell_type": "markdown",
   "metadata": {},
   "source": [
    "## Why is there only one copy of the string?\n",
    "\n",
    "Since strings are imutable, we only need one copy of 'cat' "
   ]
  },
  {
   "cell_type": "markdown",
   "metadata": {},
   "source": [
    "# Franken-cat"
   ]
  },
  {
   "cell_type": "code",
   "execution_count": null,
   "metadata": {
    "scrolled": true
   },
   "outputs": [],
   "source": [
    "## What if we ask Igor for some spare parts and we assemble a cat?\n",
    "ch1 = 'c'\n",
    "ch2 = 'a'\n",
    "ch3 = 't'\n",
    "\n",
    "frankenCat = ch1 + ch2 + ch3\n",
    "print(frankenCat)"
   ]
  },
  {
   "cell_type": "markdown",
   "metadata": {},
   "source": [
    "## Predict what will happen"
   ]
  },
  {
   "cell_type": "code",
   "execution_count": null,
   "metadata": {
    "scrolled": true
   },
   "outputs": [],
   "source": [
    "s1 == frankenCat"
   ]
  },
  {
   "cell_type": "code",
   "execution_count": null,
   "metadata": {
    "scrolled": true
   },
   "outputs": [],
   "source": [
    "s1 is frankenCat"
   ]
  },
  {
   "cell_type": "code",
   "execution_count": null,
   "metadata": {
    "scrolled": true
   },
   "outputs": [],
   "source": [
    "print(id(s1))\n",
    "print(id(frankenCat))"
   ]
  },
  {
   "cell_type": "markdown",
   "metadata": {},
   "source": [
    "# Boolean condition 'in'\n",
    "\n",
    "### *Is this object in that collection?*"
   ]
  },
  {
   "cell_type": "markdown",
   "metadata": {},
   "source": [
    "## Strings support 'in'\n",
    "\n",
    "We use 'in' in two ways: as part of a for loop, and as a Boolean test\n",
    "\n",
    "These are different meanings for the same word, but are used in different contexts.  Python will not be confused."
   ]
  },
  {
   "cell_type": "code",
   "execution_count": null,
   "metadata": {},
   "outputs": [],
   "source": [
    "import string\n",
    "\n",
    "print(string.ascii_lowercase)"
   ]
  },
  {
   "cell_type": "code",
   "execution_count": null,
   "metadata": {},
   "outputs": [],
   "source": [
    "import string\n",
    "\n",
    "s = 'Peanut'\n",
    "\n",
    "for ch in string.ascii_lowercase:\n",
    "    if ch in s:\n",
    "        print(f\"String {s} includes {ch}\")"
   ]
  },
  {
   "cell_type": "markdown",
   "metadata": {},
   "source": [
    "## Lists support 'in'"
   ]
  },
  {
   "cell_type": "code",
   "execution_count": null,
   "metadata": {},
   "outputs": [],
   "source": [
    "lst = ['c', 'a', 't']\n",
    "\n",
    "for ch in string.ascii_lowercase:\n",
    "    if ch in lst:\n",
    "        print(f\"List includes {ch}\")"
   ]
  },
  {
   "cell_type": "markdown",
   "metadata": {},
   "source": [
    "# One Boolean condition with two outcomes\n",
    "\n",
    "### *Is you is or is you ain't my baby?*\n",
    "\n",
    "https://www.youtube.com/watch?v=VP1Bcx1D3c8&vl=ja"
   ]
  },
  {
   "cell_type": "code",
   "execution_count": null,
   "metadata": {
    "scrolled": true
   },
   "outputs": [],
   "source": [
    "x = -1\n",
    "\n",
    "if x > 0:\n",
    "    print(f'{x} is positive')\n",
    "else:\n",
    "    print(f'{x} is negative')"
   ]
  },
  {
   "cell_type": "markdown",
   "metadata": {},
   "source": [
    "## *What kind of bug is that?*"
   ]
  },
  {
   "cell_type": "code",
   "execution_count": null,
   "metadata": {
    "scrolled": true
   },
   "outputs": [],
   "source": [
    "x = 0\n",
    "\n",
    "if x > 0:\n",
    "    print(f'{x} is positive')\n",
    "else:\n",
    "    print(f'{x} is negative')"
   ]
  },
  {
   "cell_type": "markdown",
   "metadata": {},
   "source": [
    "# Use 'elif' for more than two outcomes\n",
    "\n",
    "'elif' takes a Boolean condition, just as 'if' does.  "
   ]
  },
  {
   "cell_type": "code",
   "execution_count": null,
   "metadata": {
    "scrolled": true
   },
   "outputs": [],
   "source": [
    "x = 121\n",
    "\n",
    "if x > 0: \n",
    "    print(f'{x} is positive')\n",
    "elif x == 0:                       # Note ‘==‘, not '=''\n",
    "    print(f'{x} is zero')\n",
    "else: \n",
    "    print(f'{x} is negative')"
   ]
  },
  {
   "cell_type": "markdown",
   "metadata": {},
   "source": [
    "## Python checks the conditions in order\n",
    "\n",
    "- If first is false, check next\n",
    "- If a condition is True, run that branch and skip the remaning tests\n",
    "- *If multiple conditions are True, only the first True branch runs.*\n",
    "- The final, unguarded else runs if none of the conditions are True\n",
    "\n",
    "```python\n",
    "    if x == ...\n",
    "        print(...)\n",
    "    elif x == ...\n",
    "        print(...)\n",
    "    elif x == ...\n",
    "        print(...)\n",
    "    elif x == ...\n",
    "        print(...)\n",
    "    elif x == ...\n",
    "        print(...)\n",
    "    elif x == ...\n",
    "         print(...)\n",
    "    else:\n",
    "         print(...)\n",
    "```"
   ]
  },
  {
   "cell_type": "markdown",
   "metadata": {},
   "source": [
    "# Parallel construction"
   ]
  },
  {
   "cell_type": "code",
   "execution_count": null,
   "metadata": {
    "scrolled": true
   },
   "outputs": [],
   "source": [
    "if hasHammer: \n",
    "    print('Hammer in Morning') \n",
    "    \n",
    "if hasBell: \n",
    "    print('Ring in Morning')\n",
    "    \n",
    "if hasSong: \n",
    "    print('All over this land') "
   ]
  },
  {
   "cell_type": "markdown",
   "metadata": {},
   "source": [
    "## In that example, we always check each condition\n",
    "### All or none of the conditions can fire"
   ]
  },
  {
   "cell_type": "markdown",
   "metadata": {},
   "source": [
    "# Compound examples"
   ]
  },
  {
   "cell_type": "code",
   "execution_count": null,
   "metadata": {
    "scrolled": true
   },
   "outputs": [],
   "source": [
    "time = 9\n",
    "\n",
    "if (time < 8): \n",
    "    print('Please take a seat.')\n",
    "elif (time > 12):\n",
    "    print('Please take a seat.')\n",
    "else: \n",
    "    print('Please come in.')"
   ]
  },
  {
   "cell_type": "markdown",
   "metadata": {},
   "source": [
    "## Combine two clauses with same result with 'or'\n",
    "### If this is True OR if that is True"
   ]
  },
  {
   "cell_type": "code",
   "execution_count": null,
   "metadata": {
    "scrolled": true
   },
   "outputs": [],
   "source": [
    "if (time < 8) or (time > 12):\n",
    "    print('Please have a seat.')\n",
    "else: \n",
    "    print('Please come in.')"
   ]
  },
  {
   "cell_type": "markdown",
   "metadata": {},
   "source": [
    "# What if we must pass two tests?"
   ]
  },
  {
   "cell_type": "code",
   "execution_count": null,
   "metadata": {
    "scrolled": true
   },
   "outputs": [],
   "source": [
    "x = 13\n",
    "\n",
    "if 0 < x: \n",
    "    if x < 10: \n",
    "        print('x is a positive digit')"
   ]
  },
  {
   "cell_type": "markdown",
   "metadata": {},
   "source": [
    "## Both conditions must be True: this AND that."
   ]
  },
  {
   "cell_type": "code",
   "execution_count": null,
   "metadata": {
    "scrolled": true
   },
   "outputs": [],
   "source": [
    "if (0 < x) and (x < 10): \n",
    "    print('x is positive digit')"
   ]
  },
  {
   "cell_type": "code",
   "execution_count": null,
   "metadata": {},
   "outputs": [],
   "source": [
    "if (0 < x and < 10): \n",
    "    print('x is positive digit')"
   ]
  },
  {
   "cell_type": "markdown",
   "metadata": {},
   "source": [
    "## Nesting If Statements"
   ]
  },
  {
   "cell_type": "code",
   "execution_count": null,
   "metadata": {
    "scrolled": true
   },
   "outputs": [],
   "source": [
    "x = 3\n",
    "y = 5\n",
    "\n",
    "if x == y: \n",
    "    print('x and y equal') \n",
    "else: \n",
    "    if x < y: \n",
    "        print('x is less')\n",
    "    else:\n",
    "        print('x is greater')"
   ]
  },
  {
   "cell_type": "markdown",
   "metadata": {},
   "source": [
    "##  I find it clearer to rewrite this one with elif"
   ]
  },
  {
   "cell_type": "code",
   "execution_count": null,
   "metadata": {
    "scrolled": true
   },
   "outputs": [],
   "source": [
    "if x == y: \n",
    "    print('x and y equal') \n",
    "elif x < y: \n",
    "    print('x is less')\n",
    "else:\n",
    "    print('x is greater')"
   ]
  },
  {
   "cell_type": "markdown",
   "metadata": {},
   "source": [
    "## Boolean Inequalities"
   ]
  },
  {
   "cell_type": "code",
   "execution_count": null,
   "metadata": {},
   "outputs": [],
   "source": [
    "## Assignment\n",
    "x = 3\n",
    "y = 5\n",
    "\n",
    "## Equality\n",
    "x == y      # Not x = y\n",
    "\n",
    "## Inequalities\n",
    "x != y\n",
    "x > y\n",
    "x < y\n",
    "x >= y\n",
    "x <= y\n",
    "\n",
    "print('All Done')"
   ]
  },
  {
   "cell_type": "markdown",
   "metadata": {},
   "source": [
    "# Application: Leap Year \n",
    "## Write Boolean function to tell if a year is a leap year"
   ]
  },
  {
   "cell_type": "markdown",
   "metadata": {},
   "source": [
    "## Why is this hard?\n",
    "## Digression: Unix calendar command cal\n",
    "### *DOS doesn't have an equivalent*"
   ]
  },
  {
   "cell_type": "code",
   "execution_count": null,
   "metadata": {},
   "outputs": [],
   "source": [
    "! cal"
   ]
  },
  {
   "cell_type": "markdown",
   "metadata": {},
   "source": [
    "```python\n",
    "     June 2021        \n",
    "Su Mo Tu We Th Fr Sa  \n",
    "       1  2  3  4  5  \n",
    " 6  7  8  9 10 11 12  \n",
    "13 14 15 16 17 18 19  \n",
    "20 21 22 23 24 25 26  \n",
    "27 28 29 30        \n",
    "```"
   ]
  },
  {
   "cell_type": "markdown",
   "metadata": {},
   "source": [
    "## And one more"
   ]
  },
  {
   "cell_type": "code",
   "execution_count": null,
   "metadata": {},
   "outputs": [],
   "source": [
    "## 9th month of 1752\n",
    "\n",
    "! cal 9 1752"
   ]
  },
  {
   "cell_type": "markdown",
   "metadata": {},
   "source": [
    "```python   September 1752     \n",
    "Su Mo Tu We Th Fr Sa  \n",
    "       1  2 14 15 16  \n",
    "17 18 19 20 21 22 23  \n",
    "24 25 26 27 28 29 30  \n",
    "```"
   ]
  },
  {
   "cell_type": "markdown",
   "metadata": {},
   "source": [
    "## *Why, that's fantastic!*"
   ]
  },
  {
   "cell_type": "markdown",
   "metadata": {},
   "source": [
    "## Julien Calendar  \n",
    "Imposed in 46 AD by Julius Cesear.\n",
    "\n",
    "Every fourth year is a Leap Year.\n",
    "\n",
    "By 1500 Easter was moving into Summer: reform was needed.\n",
    "\n",
    "Pope Gregory changed the rules in 1582.\n",
    "\n",
    "The new rules are more complex, but keep the moveable feasts in place.\n",
    "\n",
    "## Gregorian Calendar was not adopted in UK until 1752"
   ]
  },
  {
   "cell_type": "code",
   "execution_count": null,
   "metadata": {},
   "outputs": [],
   "source": [
    "! cal 1752"
   ]
  },
  {
   "cell_type": "markdown",
   "metadata": {},
   "source": [
    "## *Give us back our 11 days!*\n",
    "\n",
    "https://www.historic-uk.com/HistoryUK/HistoryofBritain/Give-us-our-eleven-days/\n",
    "\n",
    "\n",
    "\"William Willett of Endon. \n",
    "    \n",
    "\"Always keen on a joke, he apparently wagered that he could dance non-stop for 12 days and 12 nights. On the evening of September 2nd 1752, he started to jig around the village and continued all through the night. The next morning, September 14th by the new calendar, he stopped dancing and claimed his bets!\""
   ]
  },
  {
   "cell_type": "markdown",
   "metadata": {},
   "source": [
    "## Which are the leap years?\n",
    "\n",
    "\"These extra days occur in years which are multiples of four (with the exception of centennial years not divisible by 400)\" - Wikipedia\n",
    "\n",
    "### Algorithm\n",
    "We have a leap year\n",
    "- On every year that is evenly divisible by 4\n",
    "- Except every year that is evenly divisible by 100\n",
    "- Unless the year is also evenly divisible by 400\n",
    "\n",
    "### *We are ignoring the years before 1752*"
   ]
  },
  {
   "cell_type": "markdown",
   "metadata": {},
   "source": [
    "# Test for our leap year function\n",
    "\n",
    "Always a good idea to write the tests before you write the code.\n",
    "\n",
    "Once you have written the code, you tend to share it's bugs.\n",
    "\n",
    "You can be much clearer **before** you have a dog in the fight."
   ]
  },
  {
   "cell_type": "code",
   "execution_count": null,
   "metadata": {
    "scrolled": true
   },
   "outputs": [],
   "source": [
    "# Which should be True and which should be False?\n",
    "\n",
    "def test_leap_year() -> bool:\n",
    "    assert not is_leap_year(2021), \"2021 Not divisible by 4\"\n",
    "    assert is_leap_year(2020), \"2020 is divisible by 4 and not by 100\"\n",
    "    assert not is_leap_year(1900), \"1900 is divisible by 100, but not by 400\"\n",
    "    assert is_leap_year(2000), \"2000 divisible by 400\"\n",
    "    \n",
    "    print(\"Passed 4 tests\")"
   ]
  },
  {
   "cell_type": "markdown",
   "metadata": {},
   "source": [
    "## Our first Boolean Function\n",
    "### *Make it run, make it right, make it fast* - Kent Beck"
   ]
  },
  {
   "cell_type": "code",
   "execution_count": null,
   "metadata": {
    "scrolled": true
   },
   "outputs": [],
   "source": [
    "# Signature is right, but the logic is wrong\n",
    "# This says no year is a leap year: right 75% of the time\n",
    "#\n",
    "def is_leap_year(year: int) -> bool:\n",
    "    \"Is this a leap year?\"\n",
    "    return False\n",
    "\n",
    "print(is_leap_year(2021))"
   ]
  },
  {
   "cell_type": "markdown",
   "metadata": {},
   "source": [
    "## Let's try it"
   ]
  },
  {
   "cell_type": "code",
   "execution_count": null,
   "metadata": {
    "scrolled": true
   },
   "outputs": [],
   "source": [
    "test_leap_year()"
   ]
  },
  {
   "cell_type": "markdown",
   "metadata": {},
   "source": [
    "## Detour: Testing if a value is divisible by 2\n",
    "\n",
    "We use '%', which returns the remainder"
   ]
  },
  {
   "cell_type": "code",
   "execution_count": null,
   "metadata": {},
   "outputs": [],
   "source": [
    "x = 3\n",
    "\n",
    "def isOdd(x):\n",
    "    if x % 2 == 0:\n",
    "        return False\n",
    "    else:\n",
    "        return True\n",
    "    \n",
    "print(f\"{x} is odd? {isOdd(x)}\")"
   ]
  },
  {
   "cell_type": "markdown",
   "metadata": {},
   "source": [
    "# You often see this as a test for non-zero\n",
    "\n",
    "3 % 2 is 1, which is 'Truthy\"\n",
    "\n",
    "4 % 2 is 0, which is 'Falsy'\n",
    "\n",
    "Any non-zero integer is 'Truthy'"
   ]
  },
  {
   "cell_type": "code",
   "execution_count": null,
   "metadata": {},
   "outputs": [],
   "source": [
    "def isOdd(x):\n",
    "    return x % 2"
   ]
  },
  {
   "cell_type": "code",
   "execution_count": null,
   "metadata": {},
   "outputs": [],
   "source": [
    "print(f\"{x} is odd? {isOdd(x)}\")\n",
    "\n",
    "if isOdd(x):\n",
    "    print(\"That's odd\")"
   ]
  },
  {
   "cell_type": "markdown",
   "metadata": {},
   "source": [
    "## That works, and you will see that IRL\n",
    "\n",
    "You may prefer to return a Boolean"
   ]
  },
  {
   "cell_type": "code",
   "execution_count": null,
   "metadata": {},
   "outputs": [],
   "source": [
    "def isOdd(x):\n",
    "    return (x % 2 != 0)"
   ]
  },
  {
   "cell_type": "code",
   "execution_count": null,
   "metadata": {},
   "outputs": [],
   "source": [
    "print(f\"{x} is odd? {isOdd(x)}\")\n",
    "\n",
    "if isOdd(x):\n",
    "    print(\"That's odd\")"
   ]
  },
  {
   "cell_type": "markdown",
   "metadata": {},
   "source": [
    "## Take our test for divisibility to is_leap_year()"
   ]
  },
  {
   "cell_type": "code",
   "execution_count": null,
   "metadata": {
    "scrolled": true
   },
   "outputs": [],
   "source": [
    "# Grow a solution\n",
    "\n",
    "def is_leap_year(year: int) -> bool:\n",
    "    if (year % 4 == 0):\n",
    "        return True\n",
    "    else:\n",
    "        return False"
   ]
  },
  {
   "cell_type": "code",
   "execution_count": null,
   "metadata": {
    "scrolled": true
   },
   "outputs": [],
   "source": [
    "test_leap_year()"
   ]
  },
  {
   "cell_type": "markdown",
   "metadata": {},
   "source": [
    "## Rather than \"if true, return true\", just return condition\n",
    "\n",
    "Replace\n",
    "```python\n",
    "    if <Condition is True>\n",
    "        return True\n",
    "    else:\n",
    "        return False\n",
    "``` \n",
    "with\n",
    "```python\n",
    "    return Condition\n",
    "```"
   ]
  },
  {
   "cell_type": "code",
   "execution_count": null,
   "metadata": {
    "scrolled": true
   },
   "outputs": [],
   "source": [
    "# The same function, but more compact\n",
    "# Still has bug\n",
    "#\n",
    "def is_leap_year(year: int) -> bool:\n",
    "    return (year % 4 == 0)"
   ]
  },
  {
   "cell_type": "code",
   "execution_count": null,
   "metadata": {
    "scrolled": true
   },
   "outputs": [],
   "source": [
    "test_leap_year()"
   ]
  },
  {
   "cell_type": "markdown",
   "metadata": {},
   "source": [
    "## *Passes test 2 now, but fails on test 3*"
   ]
  },
  {
   "cell_type": "markdown",
   "metadata": {},
   "source": [
    "# What do we think of this solution?"
   ]
  },
  {
   "cell_type": "code",
   "execution_count": null,
   "metadata": {
    "scrolled": true
   },
   "outputs": [],
   "source": [
    "def is_leap_year(year):\n",
    "    if year % 4 == 0:\n",
    "        if year % 100 == 0 and year % 400 != 0:\n",
    "            return False\n",
    "        elif year % 100 != 0:\n",
    "            return True\n",
    "        elif year % 400 == 0:\n",
    "            return True\n",
    "        else:\n",
    "            return False\n",
    "    else:\n",
    "        return False"
   ]
  },
  {
   "cell_type": "code",
   "execution_count": null,
   "metadata": {},
   "outputs": [],
   "source": [
    "test_leap_year()"
   ]
  },
  {
   "cell_type": "markdown",
   "metadata": {},
   "source": [
    "### Two issues:\n",
    "- Looks complex\n",
    "- Runs lots of tests\n",
    "\n",
    "In general, this\n",
    "```python\n",
    "    if year % 4 != 0:\n",
    "        return False\n",
    "\n",
    "    if year % 100 == 0 and year % 400 != 0:\n",
    "        return False\n",
    "    ...\n",
    "```\n",
    "is clearer than\n",
    "```python\n",
    "    if year % 4 == 0:\n",
    "        if year % 100 == 0 and year % 400 != 0:\n",
    "            return False\n",
    "        ...\n",
    "    else:\n",
    "        return False\n",
    " ```\n",
    " The condition (not a multiple of 4) is too far from the result (return False)\n",
    " \n",
    " The name for this simplification is \"Left Align the Happy Path\""
   ]
  },
  {
   "cell_type": "markdown",
   "metadata": {},
   "source": [
    "## Can we simplify?"
   ]
  },
  {
   "cell_type": "code",
   "execution_count": null,
   "metadata": {
    "scrolled": true
   },
   "outputs": [],
   "source": [
    "def is_leap_year(year: int) -> bool:\n",
    "    if year % 4:\n",
    "        return False\n",
    "    \n",
    "    # So we know that year is divisible by 4\n",
    "    if year % 400 == 0:\n",
    "        return True\n",
    "    \n",
    "    return year % 100 != 0"
   ]
  },
  {
   "cell_type": "code",
   "execution_count": null,
   "metadata": {
    "scrolled": true
   },
   "outputs": [],
   "source": [
    "test_leap_year()"
   ]
  },
  {
   "cell_type": "markdown",
   "metadata": {},
   "source": [
    "# What about this one?"
   ]
  },
  {
   "cell_type": "code",
   "execution_count": null,
   "metadata": {
    "scrolled": true
   },
   "outputs": [],
   "source": [
    "def is_leap_year(year: int) -> bool:\n",
    "    if year % 100 == 0:\n",
    "        return year % 400 == 0\n",
    "    return year % 4 == 0"
   ]
  },
  {
   "cell_type": "code",
   "execution_count": null,
   "metadata": {
    "scrolled": true
   },
   "outputs": [],
   "source": [
    "test_leap_year()"
   ]
  },
  {
   "cell_type": "markdown",
   "metadata": {},
   "source": [
    "# What makes a good function?\n",
    "## a) Short\n",
    "## b) Fast\n",
    "## c) Understandable"
   ]
  },
  {
   "cell_type": "markdown",
   "metadata": {},
   "source": [
    "## Stop and Think\n",
    "\n",
    "Does it meet all 3 conditons?\n",
    "\n",
    "```python\n",
    "def is_leap_year(year: int) -> bool:\n",
    "    if year % 100 == 0:\n",
    "        return year % 400 == 0\n",
    "    return year % 4 == 0\n",
    "```\n",
    "\n",
    "Short function, but always makes 2 tests\n",
    "\n",
    "Can we do better?  *What should we test first?*"
   ]
  },
  {
   "cell_type": "code",
   "execution_count": null,
   "metadata": {},
   "outputs": [],
   "source": [
    "# Write your function and test it\n",
    "def is_leap_year(year: int) -> bool:\n",
    "    # Insert your definition\n",
    "    pass"
   ]
  },
  {
   "cell_type": "code",
   "execution_count": null,
   "metadata": {},
   "outputs": [],
   "source": [
    "test_leap_year()"
   ]
  },
  {
   "cell_type": "markdown",
   "metadata": {},
   "source": [
    "# Reading Text Files"
   ]
  },
  {
   "cell_type": "markdown",
   "metadata": {},
   "source": [
    "Text files have the following structure:\n",
    "\n",
    "- A sequence of lines\n",
    "\n",
    "- Each line of a Unix text file is a sequence of characters ending with a ‘\\n’\n",
    "\n",
    "- Each line of a DOS text file is a sequence of characters ending with a ‘\\r\\n’\n",
    "\n",
    "However, Python always returns a sequence ending with '\\n'\n",
    "\n",
    "If we need to see ‘\\r’, we open it as a file of bytes, 8-bit ASCII characters"
   ]
  },
  {
   "cell_type": "code",
   "execution_count": null,
   "metadata": {
    "scrolled": true
   },
   "outputs": [],
   "source": [
    "! more sample.txt"
   ]
  },
  {
   "cell_type": "markdown",
   "metadata": {},
   "source": [
    "```python\n",
    "   Sample.txt\n",
    "\n",
    "   Sample text file to read\n",
    "\n",
    "```"
   ]
  },
  {
   "cell_type": "code",
   "execution_count": null,
   "metadata": {},
   "outputs": [],
   "source": [
    "## Unix Word Count program\n",
    "\n",
    "! wc sample.txt"
   ]
  },
  {
   "cell_type": "markdown",
   "metadata": {},
   "source": [
    "## WordCount Program tells us text file sample.txt has:\n",
    "\n",
    "```python\n",
    "    ! wc sample.txt\n",
    "        4       6      38 sample.txt\n",
    "```\n",
    "\n",
    "4 lines    6 words   38 characters"
   ]
  },
  {
   "cell_type": "markdown",
   "metadata": {},
   "source": [
    "## Reading a text file in Python\n",
    "\n",
    "In this example, we\n",
    "\n",
    "- Open the file\n",
    "- Read a line at a time\n",
    "- Print the line"
   ]
  },
  {
   "cell_type": "code",
   "execution_count": null,
   "metadata": {
    "scrolled": true
   },
   "outputs": [],
   "source": [
    "with open('sample.txt', 'r') as my_file:\n",
    "    for line in my_file:\n",
    "        print(line)"
   ]
  },
  {
   "cell_type": "markdown",
   "metadata": {},
   "source": [
    "### *The 'with' clause closes the file when you exit the block*"
   ]
  },
  {
   "cell_type": "markdown",
   "metadata": {},
   "source": [
    "# Crossword Puzzle Example\n",
    "\n",
    "## Great!  Let's write a program to help with crosswords!\n",
    "\n",
    "## Downey gives us words.txt with 113K English Words\n",
    "\n",
    "## I want all 4-letter words that end in 't'\n",
    "\n",
    "- Open the file\n",
    "- Read a line at a time\n",
    "- Print the lines that match the pattern: 4 letter words ending in 't'"
   ]
  },
  {
   "cell_type": "code",
   "execution_count": null,
   "metadata": {
    "scrolled": true
   },
   "outputs": [],
   "source": [
    "## To run this cell, you need words.txt in the parent directory\n",
    "## I put it there so I can see if from each week's subdirectory\n",
    "\n",
    "print(\"Four letter words ending in t\")\n",
    "\n",
    "with open('../words.txt', 'r') as words:\n",
    "    for line in words:\n",
    "        if (len(line) == 4) and (line[-1] == 't'):\n",
    "            print(line)\n",
    "            \n",
    "print(\"Done\")"
   ]
  },
  {
   "cell_type": "markdown",
   "metadata": {},
   "source": [
    "### What did we expect?  \n",
    "### What did we get?"
   ]
  },
  {
   "cell_type": "markdown",
   "metadata": {},
   "source": [
    "## Debug the issue with print \n",
    "repr() shows representation"
   ]
  },
  {
   "cell_type": "code",
   "execution_count": null,
   "metadata": {},
   "outputs": [],
   "source": [
    "help(repr)"
   ]
  },
  {
   "cell_type": "code",
   "execution_count": null,
   "metadata": {
    "scrolled": true
   },
   "outputs": [],
   "source": [
    "print(\"Find four letter words ending in t\\n\")\n",
    "\n",
    "with open('../words.txt', 'r') as words:\n",
    "    for line in words:\n",
    "        print(repr(line))                       # <<<<<<< Debug\n",
    "        if (len(line) == 4) and (line[-1] == 't'):\n",
    "            print(line)"
   ]
  },
  {
   "cell_type": "markdown",
   "metadata": {},
   "source": [
    "```python\n",
    "Find four letter words ending in t\n",
    "\n",
    "'aa\\n'\n",
    "'aah\\n'\n",
    "'aahed\\n'\n",
    "...\n",
    "```\n",
    "## Which test is failing?  Rework test and debug print"
   ]
  },
  {
   "cell_type": "code",
   "execution_count": null,
   "metadata": {},
   "outputs": [],
   "source": [
    "print(\"Find four letter words ending in t\\n\")\n",
    "\n",
    "with open('../words.txt', 'r') as words:\n",
    "    for line in words:\n",
    "        if (len(line) == 4):\n",
    "            print(repr(line))      # <<<<<<< Debug\n",
    "            if (line[-1] == 't'):\n",
    "                print(line)"
   ]
  },
  {
   "cell_type": "markdown",
   "metadata": {},
   "source": [
    "```python\n",
    "Find four letter words ending in t\n",
    "\n",
    "'aah\\n'\n",
    "'aal\\n'\n",
    "'aas\\n'\n",
    "...\n",
    "```"
   ]
  },
  {
   "cell_type": "markdown",
   "metadata": {},
   "source": [
    "## We are including the trailing \\n\n",
    "No line ends with 't'.  They all end with '\\n'\n",
    "\n",
    "We will use the string method strip()\n",
    "\n",
    "https://docs.python.org/3/library/stdtypes.html"
   ]
  },
  {
   "cell_type": "code",
   "execution_count": null,
   "metadata": {},
   "outputs": [],
   "source": [
    "help(strip)"
   ]
  },
  {
   "cell_type": "code",
   "execution_count": null,
   "metadata": {},
   "outputs": [],
   "source": [
    "help(str.strip)"
   ]
  },
  {
   "cell_type": "code",
   "execution_count": null,
   "metadata": {
    "scrolled": true
   },
   "outputs": [],
   "source": [
    "print(\"Find four letter words ending in t\\n\")\n",
    "with open('../words.txt') as words:\n",
    "    for line in words:\n",
    "        \n",
    "        line = line.strip()                 # <<<<<<<\n",
    "        \n",
    "        if (len(line) == 4) and (line[-1] == 't'):\n",
    "            print(line)"
   ]
  },
  {
   "cell_type": "markdown",
   "metadata": {},
   "source": [
    "```python\n",
    "    Find four letter words ending in t\n",
    "\n",
    "    abet\n",
    "    abut\n",
    "    adit\n",
    "    airt\n",
    "    ...\n",
    "```"
   ]
  },
  {
   "cell_type": "markdown",
   "metadata": {
    "collapsed": true
   },
   "source": [
    "# Command Line Parameters - mycopy.py\n",
    "## *Will not work in Notebook - it uses argv parameters*\n",
    "## Our first program with an interesting usage line\n",
    "\n",
    "```python\n",
    "        python mycopy.py <original> <copy>\n",
    "````"
   ]
  },
  {
   "cell_type": "markdown",
   "metadata": {},
   "source": [
    "### *The cell below will not complete the task from notebook*\n",
    "\n",
    "```python\n",
    "FileNotFoundError: [Errno 2] No such file or directory: '-f'\n",
    "```\n",
    "Save the contents as the file mycopy.py and run that"
   ]
  },
  {
   "cell_type": "code",
   "execution_count": null,
   "metadata": {},
   "outputs": [],
   "source": [
    "import sys\n",
    "\n",
    "print(sys.argv)"
   ]
  },
  {
   "cell_type": "code",
   "execution_count": null,
   "metadata": {
    "scrolled": true
   },
   "outputs": [],
   "source": [
    "# mycopy.py\n",
    "#\n",
    "# Copy file\n",
    "# Usage:\n",
    "#      % python mycopy.py <original> <copy>\n",
    "#\n",
    "# Jeff Parker, September, 2018\n",
    "\n",
    "import sys\n",
    "\n",
    "\n",
    "def copy(source: str, dest: str):\n",
    "    \"Copy one file to another\"\n",
    "\n",
    "    # Open the files\n",
    "    with open(source, 'r') as fin:\n",
    "        with open(dest, 'w') as fout:\n",
    "\n",
    "            # Iterate over the input, write to output\n",
    "            for line in fin:\n",
    "                fout.write(line)\n",
    "\n",
    "\n",
    "if (len(sys.argv) == 3):\n",
    "    copy(sys.argv[1], sys.argv[2])\n",
    "else:\n",
    "    print(\"Usage: mycopy <from> <to>\")"
   ]
  },
  {
   "cell_type": "code",
   "execution_count": null,
   "metadata": {},
   "outputs": [],
   "source": [
    "! cat mycopy.py"
   ]
  },
  {
   "cell_type": "code",
   "execution_count": null,
   "metadata": {},
   "outputs": [],
   "source": [
    "! ls *leap*"
   ]
  },
  {
   "cell_type": "markdown",
   "metadata": {},
   "source": [
    "```python\n",
    "    leapyear.py      test_leapYear.py\n",
    "```"
   ]
  },
  {
   "cell_type": "code",
   "execution_count": null,
   "metadata": {},
   "outputs": [],
   "source": [
    "! python mycopy.py"
   ]
  },
  {
   "cell_type": "markdown",
   "metadata": {},
   "source": [
    "## We didn't include parameters, so we get the final line\n",
    "```python\n",
    "    Usage: mycopy <from> <to>\n",
    "```\n",
    "## Give it parameters: file *from* and *to*"
   ]
  },
  {
   "cell_type": "code",
   "execution_count": null,
   "metadata": {},
   "outputs": [],
   "source": [
    "! python mycopy.py leapyear.py newleap.py"
   ]
  },
  {
   "cell_type": "markdown",
   "metadata": {},
   "source": [
    "## Did we create a new file newleap.py?"
   ]
  },
  {
   "cell_type": "code",
   "execution_count": null,
   "metadata": {},
   "outputs": [],
   "source": [
    "! ls *leap*"
   ]
  },
  {
   "cell_type": "markdown",
   "metadata": {},
   "source": [
    "```python\n",
    "    leapyear.py      newleap.py       test_leapYear.py\n",
    "```"
   ]
  },
  {
   "cell_type": "markdown",
   "metadata": {},
   "source": [
    "## We have created a file.  Is it the same as leapyear.py?"
   ]
  },
  {
   "cell_type": "code",
   "execution_count": null,
   "metadata": {},
   "outputs": [],
   "source": [
    "## Unix command diff looks for differences \n",
    "\n",
    "! diff leapyear.py newleap.py"
   ]
  },
  {
   "cell_type": "code",
   "execution_count": null,
   "metadata": {},
   "outputs": [],
   "source": [
    "! wc leapyear.py\n",
    "! wc newleap.py"
   ]
  },
  {
   "cell_type": "code",
   "execution_count": null,
   "metadata": {},
   "outputs": [],
   "source": [
    "! diff leapyear.py test_leapYear.py"
   ]
  },
  {
   "cell_type": "markdown",
   "metadata": {},
   "source": [
    "## The two files are the same\n",
    "We made a copy of the text file leapyear.py\n",
    "\n",
    "We can use mycopy.py to copy any textfile"
   ]
  },
  {
   "cell_type": "markdown",
   "metadata": {},
   "source": [
    "## Stop and Think\n",
    "\n",
    "A) Will this work correctly on a Windows textfile?\n",
    "\n",
    "Try it and see.  \n",
    "\n",
    "B) Write a program that decides if two files are the same.\n",
    "\n",
    "Print the first pair of lines that differ\n",
    "\n",
    "Implementing the full diff program is 'diff occult'.  I hope to discuss the algorithm later"
   ]
  },
  {
   "cell_type": "markdown",
   "metadata": {},
   "source": [
    "# Recursion in action - traverse directory tree\n",
    "\n",
    "We will learn how to do this in Python soon"
   ]
  },
  {
   "cell_type": "code",
   "execution_count": null,
   "metadata": {
    "scrolled": true
   },
   "outputs": [],
   "source": [
    "# DOS version\n",
    "\n",
    "! dir /s"
   ]
  },
  {
   "cell_type": "code",
   "execution_count": null,
   "metadata": {
    "scrolled": true
   },
   "outputs": [],
   "source": [
    "# Unix version\n",
    "\n",
    "! find .."
   ]
  },
  {
   "cell_type": "markdown",
   "metadata": {},
   "source": [
    "## My directory holds something like this:\n",
    "```python\n",
    ".\n",
    "./hanoi2.py\n",
    "./cross.py\n",
    "./hanoi.py\n",
    "./isvowel.py\n",
    "./Koch.py\n",
    "./reverse.py\n",
    "./__pycache__\n",
    "./__pycache__/isvowel.cpython-37.pyc\n",
    "./fakecopy.py\n",
    "./traverse.py\n",
    "./read2.py\n",
    "./cli.py\n",
    "./mycopy.py\n",
    "./Day4.ipynb\n",
    "./crossword.py\n",
    "./find.py\n",
    "./.ipynb_checkpoints\n",
    "./.ipynb_checkpoints/Day4-checkpoint.ipynb\n",
    "./double.py\n",
    "./square.py\n",
    "./day4.py\n",
    "./test_vowel.py\n",
    "./sample.txt\n",
    "./read.py\n",
    "./match.py\n",
    "```"
   ]
  },
  {
   "cell_type": "markdown",
   "metadata": {},
   "source": [
    "# Summary\n",
    "Now we have loops, conditions, and functions\n",
    "\n",
    "We know how to read text files\n",
    "\n",
    "We can start to write interesting programs"
   ]
  },
  {
   "cell_type": "code",
   "execution_count": null,
   "metadata": {},
   "outputs": [],
   "source": []
  }
 ],
 "metadata": {
  "kernelspec": {
   "display_name": "Python 3",
   "language": "python",
   "name": "python3"
  },
  "language_info": {
   "codemirror_mode": {
    "name": "ipython",
    "version": 3
   },
   "file_extension": ".py",
   "mimetype": "text/x-python",
   "name": "python",
   "nbconvert_exporter": "python",
   "pygments_lexer": "ipython3",
   "version": "3.8.11"
  }
 },
 "nbformat": 4,
 "nbformat_minor": 2
}
