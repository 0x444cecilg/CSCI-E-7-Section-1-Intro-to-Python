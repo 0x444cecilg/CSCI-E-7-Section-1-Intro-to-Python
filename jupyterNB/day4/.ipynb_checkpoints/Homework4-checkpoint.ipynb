{
 "cells": [
  {
   "cell_type": "markdown",
   "metadata": {},
   "source": [
    "# Homework 4\n",
    "## Fill in your name"
   ]
  },
  {
   "cell_type": "code",
   "execution_count": null,
   "metadata": {},
   "outputs": [],
   "source": [
    "# Fill in your name\n",
    "\n",
    "first_name = 'Cecil'\n",
    "last_name  = 'Gilliard'\n",
    "\n",
    "assert len(first_name) != 0, \"First name is blank\"\n",
    "assert len(last_name)  != 0, \"Last name is blank\""
   ]
  },
  {
   "cell_type": "markdown",
   "metadata": {},
   "source": [
    "## This assignment uses an idiom called Filtering\n",
    "\n",
    "**Filtering** - running through a sequence of items, and testing each item with a Boolean function.  \n",
    "\n",
    "We filter your luggage at the airport.  We look at each item in your suitcase, and stop you if you have a gun, explosives, or a bottle of water.  \n",
    "\n",
    "*We use filtering to decide if we should let you board*\n",
    "\n",
    "We filter our reciepts after a trip.  We can charge the meals and the room to the company, but can't charge the tickets to see Buddy Guy.  \n",
    "\n",
    "*We are filtering to find the sublist of items to claim*"
   ]
  },
  {
   "cell_type": "markdown",
   "metadata": {},
   "source": [
    "## Problem 1"
   ]
  },
  {
   "cell_type": "markdown",
   "metadata": {},
   "source": [
    "## is_vowel()\n",
    "\n",
    "Is this character a vowel?  \n",
    "\n",
    "This function takes a string and returns a Boolean.\n",
    "\n",
    "```python\n",
    "    def is_vowel(ch: str) -> bool:\n",
    "```\n",
    "\n",
    "*Hint: Study the Unit Tests*"
   ]
  },
  {
   "cell_type": "markdown",
   "metadata": {},
   "source": [
    "<div class=\"alert alert-block alert-info\">\n",
    "Fill in your function definition in the cell below.\n",
    "</div>"
   ]
  },
  {
   "cell_type": "code",
   "execution_count": 8,
   "metadata": {},
   "outputs": [],
   "source": [
    "\n",
    "def is_vowel(ch):\n",
    "    \"Is the character ch a vowel?\"\n",
    "    # check if the character entered is a vowel\n",
    "    if (ch == 'a') or (ch == 'A'): \n",
    "        return True\n",
    "    elif (ch == 'e') or (ch == 'E'):\n",
    "        return True\n",
    "    elif (ch == 'i') or (ch == 'I'):\n",
    "        return True\n",
    "    elif (ch == 'o') or (ch == 'O'):\n",
    "        return True\n",
    "    elif (ch == 'u') or (ch == 'U'):\n",
    "        return True\n",
    "    else:\n",
    "        return False\n",
    "    "
   ]
  },
  {
   "cell_type": "code",
   "execution_count": 11,
   "metadata": {},
   "outputs": [
    {
     "data": {
      "text/plain": [
       "True"
      ]
     },
     "execution_count": 11,
     "metadata": {},
     "output_type": "execute_result"
    }
   ],
   "source": [
    "is_vowel('o')"
   ]
  },
  {
   "cell_type": "markdown",
   "metadata": {},
   "source": [
    "### Test cases for is_vowel()"
   ]
  },
  {
   "cell_type": "markdown",
   "metadata": {},
   "source": [
    "<div class=\"alert alert-block alert-danger\">\n",
    "Run the cell below to call your function.\n",
    "</div>"
   ]
  },
  {
   "cell_type": "code",
   "execution_count": 12,
   "metadata": {},
   "outputs": [
    {
     "name": "stdout",
     "output_type": "stream",
     "text": [
      "Success!\n"
     ]
    }
   ],
   "source": [
    "import string\n",
    "\n",
    "def validate_vowel():\n",
    "    for ch in 'aeiouAEIOU':\n",
    "        assert is_vowel(ch), f\"'{ch}' should be a vowel\"\n",
    "\n",
    "    for ch in string.ascii_lowercase:\n",
    "        if ch not in 'aeiou':\n",
    "            assert not is_vowel(ch), f\"'{ch}' is not a vowel\"\n",
    "            assert not is_vowel(ch.upper()), f\"'{ch.upper()}' is not a vowel\"\n",
    "            \n",
    "    print('Success!')\n",
    "\n",
    "validate_vowel()"
   ]
  },
  {
   "cell_type": "markdown",
   "metadata": {},
   "source": [
    "### Our Unit Test uses filtering\n",
    "\n",
    "In this unit test, we run through a list of vowels looking for a counterexample.  "
   ]
  },
  {
   "cell_type": "markdown",
   "metadata": {},
   "source": [
    "## Problem 2: has_all_vowels()\n",
    "\n",
    "Does the string contain all the vowels?\n",
    "\n",
    "This function takes a string and returns a Boolean.\n",
    "\n",
    "```python\n",
    "    def has_all_vowels(word: str) -> bool:\n",
    "```"
   ]
  },
  {
   "cell_type": "markdown",
   "metadata": {},
   "source": [
    "<div class=\"alert alert-block alert-info\">\n",
    "Fill in your function definition in the cell below.\n",
    "</div>"
   ]
  },
  {
   "cell_type": "code",
   "execution_count": 49,
   "metadata": {},
   "outputs": [
    {
     "name": "stdout",
     "output_type": "stream",
     "text": [
      "5\n"
     ]
    }
   ],
   "source": [
    "very = [1, 2, 3, 4, 5]\n",
    "print(len(very))"
   ]
  },
  {
   "cell_type": "code",
   "execution_count": 54,
   "metadata": {},
   "outputs": [
    {
     "data": {
      "text/plain": [
       "True"
      ]
     },
     "execution_count": 54,
     "metadata": {},
     "output_type": "execute_result"
    }
   ],
   "source": [
    "def has_all_vowels(word):\n",
    "    \"Does word have all the vowels?\"\n",
    "    # convert string to lowercase\n",
    "    word = word.lower()\n",
    "    # make a list of vowels\n",
    "    vowels = ['a', 'e', 'i', 'o', 'u']\n",
    "    # iterate throught the string if a letter  is vowel, remove from list\n",
    "    for letter in word:\n",
    "        if letter in vowels:\n",
    "            vowels.remove(letter)\n",
    "    \n",
    "    # If the list is empty the string contains all of the vowels\n",
    "    if len(vowels) == 0:\n",
    "        return True\n",
    "    else:\n",
    "        return False        \n",
    "        \n",
    "has_all_vowels(\"ASEHSIOSVU\")"
   ]
  },
  {
   "cell_type": "markdown",
   "metadata": {},
   "source": [
    "### Test cases for has_all_vowels()"
   ]
  },
  {
   "cell_type": "markdown",
   "metadata": {},
   "source": [
    "<div class=\"alert alert-block alert-danger\">\n",
    "Run the cell below to call your function.\n",
    "</div>"
   ]
  },
  {
   "cell_type": "code",
   "execution_count": 55,
   "metadata": {},
   "outputs": [
    {
     "name": "stdout",
     "output_type": "stream",
     "text": [
      "Success!\n"
     ]
    }
   ],
   "source": [
    "def validate_all_vowels():\n",
    "    assert has_all_vowels('vexatious'), \"'vexatious' has all the vowels\"\n",
    "    assert has_all_vowels('VEXATIOUS'), \"'VEXATIOUS' has all the vowels\"\n",
    "\n",
    "    # Now remove one vowel at a time\n",
    "    # Each function call should return False\n",
    "    assert not has_all_vowels('aaaaaeeeeeiiiiioooo'), \"Missing 'u'\"\n",
    "    assert not has_all_vowels('aaeio'), \"Missing 'u'\"\n",
    "    assert not has_all_vowels('vxatious'), \"Missing 'e'\"\n",
    "    assert not has_all_vowels('vextious'), \"Missing 'a'\"\n",
    "    assert not has_all_vowels('vexatous'), \"Missing 'i'\"\n",
    "    assert not has_all_vowels('vexatius'), \"Missing 'o'\"\n",
    "    assert not has_all_vowels('vexatios'), \"Missing 'u'\"\n",
    "\n",
    "    print('Success!')\n",
    "    \n",
    "validate_all_vowels()"
   ]
  },
  {
   "cell_type": "markdown",
   "metadata": {},
   "source": [
    "## Problem 3: is_all_vowels()\n",
    "\n",
    "Is every character in a string a vowel?\n",
    "\n",
    "This function takes a string and returns a Boolean.\n",
    "\n",
    "```python\n",
    "    def is_all_vowels(word: str) -> bool:\n",
    "```"
   ]
  },
  {
   "cell_type": "markdown",
   "metadata": {},
   "source": [
    "<div class=\"alert alert-block alert-info\">\n",
    "Fill in your function definition in the cell below.\n",
    "</div>"
   ]
  },
  {
   "cell_type": "code",
   "execution_count": 74,
   "metadata": {},
   "outputs": [
    {
     "data": {
      "text/plain": [
       "True"
      ]
     },
     "execution_count": 74,
     "metadata": {},
     "output_type": "execute_result"
    }
   ],
   "source": [
    "def is_all_vowels(word):\n",
    "    \"Is every character in word a vowel?\"\n",
    "    # convert string to lowercase\n",
    "    word = word.lower()\n",
    "    # make a list of vowels\n",
    "    vowels = ['a', 'e', 'i', 'o', 'u']\n",
    "    # iterate throught the string if a letter is not a vowel return False\n",
    "    for letter in word:\n",
    "        if letter not in vowels:\n",
    "            return False\n",
    "        else:\n",
    "            pass\n",
    "    return True\n",
    "        \n",
    "is_all_vowels(\"aieo\")"
   ]
  },
  {
   "cell_type": "markdown",
   "metadata": {},
   "source": [
    "### Test case for is_all_vowels()"
   ]
  },
  {
   "cell_type": "markdown",
   "metadata": {},
   "source": [
    "<div class=\"alert alert-block alert-danger\">\n",
    "Run the cell below to call your function.\n",
    "</div>"
   ]
  },
  {
   "cell_type": "code",
   "execution_count": 75,
   "metadata": {},
   "outputs": [
    {
     "name": "stdout",
     "output_type": "stream",
     "text": [
      "Success!\n"
     ]
    }
   ],
   "source": [
    "def validate_is_all_vowels():\n",
    "    assert is_all_vowels('aie'), \"'aie' is all vowels\"\n",
    "    assert is_all_vowels('Aie'), \"'Aie' is all vowels\"\n",
    "    assert is_all_vowels('AeIoU'), \"'AeIoU' is all vowels\"\n",
    "\n",
    "    assert not is_all_vowels('kaie'), \"has a k\"\n",
    "    assert not is_all_vowels('akie'), \"has a k\"\n",
    "    assert not is_all_vowels('aike'), \"has a k\"\n",
    "    assert not is_all_vowels('aiek'), \"has a k\"\n",
    "    \n",
    "    print('Success!')\n",
    "    \n",
    "validate_is_all_vowels()"
   ]
  },
  {
   "cell_type": "markdown",
   "metadata": {},
   "source": [
    "## Problem 4: is_palindrome()"
   ]
  },
  {
   "cell_type": "markdown",
   "metadata": {},
   "source": [
    "### Write a function that decides if a word is a palindrome.  \n",
    "\n",
    "Is the word the same, read forwards or backwards, like madam or Radar?\n",
    "\n",
    "Your function is_palindrome() should take a string and return a Boolean\n",
    "\n",
    "```python\n",
    "    def is_palindrome(word: str) -> bool:\n",
    "```"
   ]
  },
  {
   "cell_type": "markdown",
   "metadata": {},
   "source": [
    "<div class=\"alert alert-block alert-info\">\n",
    "Fill in your function definition in the cell below.\n",
    "</div>"
   ]
  },
  {
   "cell_type": "code",
   "execution_count": 96,
   "metadata": {},
   "outputs": [
    {
     "data": {
      "text/plain": [
       "False"
      ]
     },
     "execution_count": 96,
     "metadata": {},
     "output_type": "execute_result"
    }
   ],
   "source": [
    "def is_palindrome(word):\n",
    "    \"Is the word a palindrome?\"\n",
    "    # convert string to lowercase\n",
    "    word = word.lower()\n",
    "    # Divide string in half\n",
    "    begin = word[:len(word)//2 + 1]\n",
    "    end = word[len(word)//2:]\n",
    "    # If the first half matches the second in reverse, palindrome found\n",
    "    if begin == end[::-1]:\n",
    "        return True\n",
    "    else:\n",
    "        return False\n",
    "    \n",
    "is_palindrome(\"cecil\")"
   ]
  },
  {
   "cell_type": "markdown",
   "metadata": {},
   "source": [
    "### Test cases for is_palindrome"
   ]
  },
  {
   "cell_type": "markdown",
   "metadata": {},
   "source": [
    "<div class=\"alert alert-block alert-danger\">\n",
    "Run the cell below to call your function.\n",
    "</div>"
   ]
  },
  {
   "cell_type": "code",
   "execution_count": 97,
   "metadata": {},
   "outputs": [
    {
     "name": "stdout",
     "output_type": "stream",
     "text": [
      "Success!\n"
     ]
    }
   ],
   "source": [
    "def validate_palindrome():\n",
    "    lst = ['A', 'radar', 'Radar', 'Ada', 'madaM']\n",
    "    for word in lst:\n",
    "        assert is_palindrome(word), f\"'{word}' is a palindrome\"\n",
    "        \n",
    "    lst = ['adar', 'loop', 'leal']\n",
    "    for word in lst:\n",
    "        assert not is_palindrome(word), f\"'{word}' is not a palindrome\"\n",
    "\n",
    "\n",
    "    print('Success!')\n",
    "\n",
    "validate_palindrome()"
   ]
  },
  {
   "cell_type": "markdown",
   "metadata": {},
   "source": [
    "## Problem 5: Crossword Puzzle"
   ]
  },
  {
   "cell_type": "markdown",
   "metadata": {},
   "source": [
    "### is_match() detects five letter words 'aXXXt'.\n",
    "\n",
    "Your function is_match() should take a string and return a Boolean telling us if it is a five letter word that starts with 'a' and ends with 't'.\n",
    "\n",
    "\n",
    "```python\n",
    "    def is_match(word: str) -> bool:\n",
    "```"
   ]
  },
  {
   "cell_type": "markdown",
   "metadata": {},
   "source": [
    "<div class=\"alert alert-block alert-info\">\n",
    "Fill in your function definition in the cell below.\n",
    "</div>"
   ]
  },
  {
   "cell_type": "code",
   "execution_count": 106,
   "metadata": {},
   "outputs": [
    {
     "data": {
      "text/plain": [
       "True"
      ]
     },
     "execution_count": 106,
     "metadata": {},
     "output_type": "execute_result"
    }
   ],
   "source": [
    "def is_match(word):\n",
    "    \"Is 'word' a five letter string starting with 'a' and ending in 't'?\"\n",
    "    # Convert string to lowercase\n",
    "    word = word.lower()\n",
    "    # Check if string is five letters in length\n",
    "    if len(word) != 5:\n",
    "        return False\n",
    "    elif word[0] != 'a':\n",
    "        return False\n",
    "    elif word[4] != 't':\n",
    "        return False\n",
    "    else:\n",
    "        return True\n",
    "    \n",
    "is_match(\"ArmyT\")   "
   ]
  },
  {
   "cell_type": "markdown",
   "metadata": {},
   "source": [
    "<div class=\"alert alert-block alert-danger\">\n",
    "Run the cell below to call your function.\n",
    "</div>"
   ]
  },
  {
   "cell_type": "code",
   "execution_count": 107,
   "metadata": {},
   "outputs": [
    {
     "name": "stdout",
     "output_type": "stream",
     "text": [
      "Success!\n"
     ]
    }
   ],
   "source": [
    "def validate_match():\n",
    "    for word in ['A', 'Radar', 'at', 'splat', 'adotp']:\n",
    "        assert not is_match(word), f\"'{word}' is not a match\"\n",
    "        \n",
    "    for word in ['adopt', 'agent', 'argot', 'avast', 'adult']:\n",
    "        assert is_match(word), f\"'{word}' should be a match\"\n",
    " \n",
    "    print('Success!')\n",
    "\n",
    "validate_match()"
   ]
  },
  {
   "cell_type": "markdown",
   "metadata": {},
   "source": [
    "## Problem 6: Find all matches in the Dictionary"
   ]
  },
  {
   "cell_type": "markdown",
   "metadata": {},
   "source": [
    "### Write a function that takes a Boolean function and a filename and prints the matches\n",
    "\n",
    "Open the file words.txt, and find all five letter words that start with 'a' and end in 't'.\n",
    "\n",
    "Your function find_match() should take a function and a filename and return a list of strings.\n",
    "\n",
    "The function you pass in to find_match should take a string and return a Boolean.  \n",
    "\n",
    "We can use Python's Type Hints to describe the interface.  This looks complicated, but this is a complicated idea.\n",
    "\n",
    "```python\n",
    "    f: Callable[[str], bool]\n",
    "```\n",
    "says: the parameter f is a function (Callable) that takes a string and returns a Boolean.\n",
    "\n",
    "The return value for find_match() is:\n",
    "\n",
    "```python\n",
    "    -> List[str]:\n",
    "```\n",
    "which means \"The function returns a list of strings\".\n",
    "\n",
    "The full description is:\n",
    "\n",
    "```python\n",
    "    from typing import List, Callable\n",
    "    \n",
    "    def find_match(f: Callable[[str], bool], filename: str) -> List[str]:\n",
    "```"
   ]
  },
  {
   "cell_type": "markdown",
   "metadata": {},
   "source": [
    "<div class=\"alert alert-block alert-info\">\n",
    "Fill in your function definition in the cell below.\n",
    "</div>"
   ]
  },
  {
   "cell_type": "code",
   "execution_count": 16,
   "metadata": {},
   "outputs": [
    {
     "data": {
      "text/plain": [
       "['abaft',\n",
       " 'abbot',\n",
       " 'abort',\n",
       " 'about',\n",
       " 'adapt',\n",
       " 'adept',\n",
       " 'admit',\n",
       " 'adopt',\n",
       " 'adult',\n",
       " 'adust',\n",
       " 'afoot',\n",
       " 'afrit',\n",
       " 'agent',\n",
       " 'agist',\n",
       " 'aglet',\n",
       " 'alant',\n",
       " 'alert',\n",
       " 'alist',\n",
       " 'allot',\n",
       " 'aloft',\n",
       " 'ambit',\n",
       " 'ament',\n",
       " 'amort',\n",
       " 'anent',\n",
       " 'angst',\n",
       " 'apart',\n",
       " 'aport',\n",
       " 'argot',\n",
       " 'arhat',\n",
       " 'armet',\n",
       " 'ascot',\n",
       " 'asset',\n",
       " 'atilt',\n",
       " 'audit',\n",
       " 'aught',\n",
       " 'avast',\n",
       " 'avert',\n",
       " 'await']"
      ]
     },
     "execution_count": 16,
     "metadata": {},
     "output_type": "execute_result"
    }
   ],
   "source": [
    "# Write a function that uses your is_match() to filter the contents of words.txt  \n",
    "\n",
    "# Your function find_match takes a function: pass in your function is_match()\n",
    "# find_match should return a list holding the words in the file words.txt that satify the function passed in\n",
    "  \n",
    "def is_match(filename):\n",
    "    # make a new empty list\n",
    "    at_list = []\n",
    "    # open the file for reading \n",
    "    with open(filename, 'r') as x_file:\n",
    "        for line in x_file:\n",
    "            line = line.lower()\n",
    "            line = line.strip()\n",
    "            # Check if string is five letters in length starts with 'a' & ends with 't'\n",
    "            if len(line) == 5 and line[0] == 'a' and line[4] == 't':\n",
    "                # add to list\n",
    "                at_list.append(line)   \n",
    "            else:\n",
    "                pass \n",
    "            \n",
    "        return at_list         \n",
    "       \n",
    "        \n",
    "def find_match(func, filename):\n",
    "    \"Returns a list of all lines matching the condition that function func() checks.\"\n",
    "    at_list = func(filename)\n",
    "    return at_list\n",
    "\n",
    "find_match(is_match, \"words.txt\")           "
   ]
  },
  {
   "cell_type": "markdown",
   "metadata": {},
   "source": [
    "<div class=\"alert alert-block alert-danger\">\n",
    "Run the cell below to call your function.\n",
    "    \n",
    "Be sure you have Downey's **words.txt** in the same directory as your notebook\n",
    "</div>"
   ]
  },
  {
   "cell_type": "code",
   "execution_count": 17,
   "metadata": {},
   "outputs": [
    {
     "name": "stdout",
     "output_type": "stream",
     "text": [
      "38\n",
      "['abaft', 'abbot', 'abort', 'about', 'adapt', 'adept', 'admit', 'adopt', 'adult', 'adust', 'afoot', 'afrit', 'agent', 'agist', 'aglet', 'alant', 'alert', 'alist', 'allot', 'aloft', 'ambit', 'ament', 'amort', 'anent', 'angst', 'apart', 'aport', 'argot', 'arhat', 'armet', 'ascot', 'asset', 'atilt', 'audit', 'aught', 'avast', 'avert', 'await']\n"
     ]
    }
   ],
   "source": [
    "# Call your function to find the matches \n",
    "\n",
    "lst = find_match(is_match, \"words.txt\")\n",
    "\n",
    "print(len(lst))\n",
    "print(lst)"
   ]
  },
  {
   "cell_type": "markdown",
   "metadata": {},
   "source": [
    "## Problem 7: Find the palindromes in words.txt.\n",
    "\n",
    "Use your function from Problem 6, but use is_palindrome(), the Boolean function you defined in problem 4, as the filter.  \n",
    "\n",
    "You should be able to use your work from problems 4 and 6 without changing them\n",
    "\n",
    "<div class=\"alert alert-block alert-danger\">\n",
    "Be sure you have Downey's **words.txt** in the same directory as your notebook.\n",
    "    \n",
    "Print the number of palindromes in the file.\n",
    "\n",
    "Print the first 10 palindromes in the file.\n",
    "</div>"
   ]
  },
  {
   "cell_type": "code",
   "execution_count": 22,
   "metadata": {},
   "outputs": [
    {
     "name": "stdout",
     "output_type": "stream",
     "text": [
      "73\n",
      "['aba', 'aga', 'aha', 'ala', 'alula', 'ama', 'ana', 'ava', 'awa', 'bib']\n"
     ]
    }
   ],
   "source": [
    "# Write a Python fragment that uses your work from problems 4 and 6\n",
    "def is_palindrome(filename):\n",
    "    # make a new empty list\n",
    "    pali_list = []\n",
    "    # open the file for reading \n",
    "    with open(filename, 'r') as x_file:\n",
    "        for line in x_file:\n",
    "            line = line.lower()\n",
    "            line = line.strip()\n",
    "            # Check if string is a palindrome\n",
    "            # Divide string in half\n",
    "            begin = line[:len(line)//2 + 1]\n",
    "            end = line[len(line)//2:]\n",
    "            # If the first half matches the second in reverse, palindrome found\n",
    "            if begin == end[::-1]:\n",
    "                # add to list\n",
    "                pali_list.append(line)\n",
    "            else:\n",
    "                pass \n",
    "            \n",
    "        return pali_list         \n",
    "       \n",
    "        \n",
    "def find_match(func, filename):\n",
    "    \"Returns a list of all lines matching the condition that function func() checks.\"\n",
    "    pali_list = func(filename)\n",
    "    return pali_list\n",
    "\n",
    "\n",
    "lst = find_match(is_palindrome, \"words.txt\")\n",
    "\n",
    "print(len(lst))\n",
    "print(lst[:10])"
   ]
  },
  {
   "cell_type": "markdown",
   "metadata": {},
   "source": [
    "# Post Mortem"
   ]
  },
  {
   "cell_type": "markdown",
   "metadata": {},
   "source": [
    "<div class=\"alert alert-block alert-info\">\n",
    "\n",
    "How long did it take you to solve this problem set?\n",
    "    maybe 4-5 hrs\n",
    "\n",
    "Did anything confuse you or cause difficulty?\n",
    "    I was pretty stuck on problem six, not knowing that I needed an un populated list,\n",
    "    and just figuring out how to link one function to the other.\n",
    "    On the plindrome problem, figuring out how to make the two halves match was a bit \n",
    "    to figure out.\n",
    "</div>"
   ]
  },
  {
   "cell_type": "code",
   "execution_count": null,
   "metadata": {},
   "outputs": [],
   "source": [
    "# Enter your thoughts\n",
    "enjoying the course thus far.\n"
   ]
  }
 ],
 "metadata": {
  "kernelspec": {
   "display_name": "Python 3",
   "language": "python",
   "name": "python3"
  },
  "language_info": {
   "codemirror_mode": {
    "name": "ipython",
    "version": 3
   },
   "file_extension": ".py",
   "mimetype": "text/x-python",
   "name": "python",
   "nbconvert_exporter": "python",
   "pygments_lexer": "ipython3",
   "version": "3.8.11"
  }
 },
 "nbformat": 4,
 "nbformat_minor": 1
}
