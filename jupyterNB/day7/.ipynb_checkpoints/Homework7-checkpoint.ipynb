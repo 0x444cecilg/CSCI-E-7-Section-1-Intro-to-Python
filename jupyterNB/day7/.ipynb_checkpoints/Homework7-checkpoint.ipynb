{
 "cells": [
  {
   "cell_type": "markdown",
   "metadata": {},
   "source": [
    "# Homework 7\n",
    "## Fill in your name"
   ]
  },
  {
   "cell_type": "code",
   "execution_count": 1,
   "metadata": {},
   "outputs": [],
   "source": [
    "first_name = \"Cecil\"\n",
    "last_name = \"Gilliard\"\n",
    "\n",
    "assert(len(first_name) != 0)\n",
    "assert(len(last_name)  != 0)"
   ]
  },
  {
   "cell_type": "markdown",
   "metadata": {},
   "source": [
    "# Problem 1: List of Squares\n",
    "\n",
    "The List Comprehension below takes an integer N and returns the squares of the first N integers.  \n",
    "\n",
    "Rewrite the function without using List Comprehensions\n",
    "\n",
    "```python\n",
    "    def squares(N):\n",
    "        return [i * i for i in range(N+1)]\n",
    "```"
   ]
  },
  {
   "cell_type": "code",
   "execution_count": 36,
   "metadata": {},
   "outputs": [],
   "source": [
    "# Takes an integer and returns a list of the squares up to N*N\n",
    "# squares(4) would return [0, 1, 4, 9, 16]\n",
    "def squares(N: int)-> list:\n",
    "    # declare list\n",
    "    lst = []\n",
    "    # check for integer input\n",
    "    if type(N) == int:\n",
    "        # iterate in range of int input\n",
    "        for i in range(N+1):\n",
    "            # append square of i to lst\n",
    "            lst.append(i*i)\n",
    "    # raise typeerror if incorrect input\n",
    "    else:      \n",
    "        raise TypeError(\"TypeError: integer input expected\")\n",
    "        \n",
    "    return lst\n",
    "        \n"
   ]
  },
  {
   "cell_type": "markdown",
   "metadata": {},
   "source": [
    "### Unit Tests for Squares"
   ]
  },
  {
   "cell_type": "code",
   "execution_count": 37,
   "metadata": {},
   "outputs": [
    {
     "data": {
      "text/plain": [
       "'Success'"
      ]
     },
     "execution_count": 37,
     "metadata": {},
     "output_type": "execute_result"
    }
   ],
   "source": [
    "def test_squares():\n",
    "    assert(squares(1) == [0, 1])\n",
    "    assert(squares(4) == [0, 1, 4, 9, 16])\n",
    "    assert(squares(9) == [0, 1, 4, 9, 16, 25, 36, 49, 64, 81])\n",
    "    \n",
    "    return 'Success'\n",
    "\n",
    "test_squares()"
   ]
  },
  {
   "cell_type": "markdown",
   "metadata": {},
   "source": [
    "## Problem 2: Whozit\n",
    "\n",
    "The List Comprehension below takes an integer and returns a list.\n",
    "\n",
    "Rewrite Whozit without using a List Comprehension\n",
    "\n",
    "```python\n",
    "    def whozit(n):\n",
    "        return [i for i in range(n) if '3' in str(i)]\n",
    "```"
   ]
  },
  {
   "cell_type": "code",
   "execution_count": 41,
   "metadata": {},
   "outputs": [
    {
     "data": {
      "text/plain": [
       "[3, 13]"
      ]
     },
     "execution_count": 41,
     "metadata": {},
     "output_type": "execute_result"
    }
   ],
   "source": [
    "def whozit(n: int)-> list:\n",
    "    lst = []\n",
    "    # check for int input\n",
    "    if type(n) == int:\n",
    "        # for loop to replace list comprehesion\n",
    "        for i in range(n):\n",
    "            if '3' in str(i):\n",
    "                lst.append(i)\n",
    "    # raise typeerror if incorrect input\n",
    "    else:      \n",
    "        raise TypeError(\"TypeError: integer input expected\")\n",
    "    return lst\n",
    "whozit(23)"
   ]
  },
  {
   "cell_type": "markdown",
   "metadata": {},
   "source": [
    "### Unit tests for Whozit"
   ]
  },
  {
   "cell_type": "code",
   "execution_count": 42,
   "metadata": {},
   "outputs": [
    {
     "name": "stdout",
     "output_type": "stream",
     "text": [
      "Success\n"
     ]
    }
   ],
   "source": [
    "def test_whozit():\n",
    "    assert whozit(20) == [3, 13]\n",
    "    assert whozit(30) == [3, 13, 23]\n",
    "    assert whozit(40) == [3, 13, 23, 30, 31, 32, 33, 34, 35, 36, 37, 38, 39]\n",
    "\n",
    "    print(\"Success\")\n",
    "    \n",
    "test_whozit()"
   ]
  },
  {
   "cell_type": "markdown",
   "metadata": {},
   "source": [
    "## Problem 3: Loop Garou\n",
    "\n",
    "Rewrite loop_garou as a List Comprehension, and describe what it does\n",
    "\n",
    "```python\n",
    "    def loop_garou(s):\n",
    "        res = []\n",
    "        for ch in s:\n",
    "            if ch in 'aeiou':\n",
    "                res.append(ch)\n",
    "        return '-'.join(res)\n",
    "```"
   ]
  },
  {
   "cell_type": "code",
   "execution_count": 40,
   "metadata": {},
   "outputs": [
    {
     "data": {
      "text/plain": [
       "'e-i-i-i-a'"
      ]
     },
     "execution_count": 40,
     "metadata": {},
     "output_type": "execute_result"
    }
   ],
   "source": [
    "def loop_garou(s: str)-> list:\n",
    "    '''Takes a string input and returns a list containing the vowels in the string, seperated by hyphen'''\n",
    "    find_vowels = '-'.join([ch for ch in s\n",
    "                                    if ch in 'aeiou'])\n",
    "    return find_vowels\n",
    "\n",
    "loop_garou('Cecil Gilliard')"
   ]
  },
  {
   "cell_type": "markdown",
   "metadata": {},
   "source": [
    "### Unit tests for Loop Garou"
   ]
  },
  {
   "cell_type": "code",
   "execution_count": 41,
   "metadata": {},
   "outputs": [
    {
     "name": "stdout",
     "output_type": "stream",
     "text": [
      "Success\n"
     ]
    }
   ],
   "source": [
    "def test_loop_garou():\n",
    "    assert loop_garou('We are his sisters') == 'e-a-e-i-i-e'\n",
    "    assert loop_garou('his cousins and his aunts') == 'i-o-u-i-a-i-a-u'\n",
    "    \n",
    "    print('Success')\n",
    "    \n",
    "test_loop_garou()"
   ]
  },
  {
   "cell_type": "markdown",
   "metadata": {},
   "source": [
    "## Problem 4: Intersection\n",
    "\n",
    "Use List Comprehension to write a function common that takes two lists, and return a list of the items that appear in both lists, in the order they appear in the first list.\n",
    "\n",
    "Given [1, 3, 2, 5, 6, 0, 7] and [7, 4, 3, 2, 1], you should return [1, 3, 2, 7]"
   ]
  },
  {
   "cell_type": "code",
   "execution_count": 57,
   "metadata": {},
   "outputs": [],
   "source": [
    "tobi = [1, 3, 2, 5, 6, 0, 7] \n",
    "kufta = [7, 4, 3, 2, 1] "
   ]
  },
  {
   "cell_type": "code",
   "execution_count": 61,
   "metadata": {},
   "outputs": [
    {
     "data": {
      "text/plain": [
       "[1, 3, 2, 7]"
      ]
     },
     "execution_count": 61,
     "metadata": {},
     "output_type": "execute_result"
    }
   ],
   "source": [
    "def intersection(lst1, lst2):\n",
    "    cross = [i for i in lst1 if i in lst2]\n",
    "    return cross\n",
    "intersection(tobi, kufta)"
   ]
  },
  {
   "cell_type": "markdown",
   "metadata": {},
   "source": [
    "## Unit Tests for Intersection"
   ]
  },
  {
   "cell_type": "code",
   "execution_count": 62,
   "metadata": {},
   "outputs": [
    {
     "name": "stdout",
     "output_type": "stream",
     "text": [
      "Success\n"
     ]
    }
   ],
   "source": [
    "def test_intersection():\n",
    "    assert intersection([1, 3, 2, 5, 6, 0, 7], [7, 4, 3, 2, 1]) == [1, 3, 2, 7]\n",
    "    assert intersection([1, 2, 3, 4, 5], [7, 5, 3, 1]) == [1, 3, 5]\n",
    "    assert intersection([7, 5, 3, 1], [1, 2, 3, 4, 5]) == [5, 3, 1]\n",
    "    assert intersection([7, 5, 3, 1], []) == []\n",
    "    assert intersection([], [1, 2, 3, 4, 5]) == []\n",
    "    assert intersection([3*i for i in range(7)], [2*i for i in range(10)]) == [0, 6, 12, 18]\n",
    "      \n",
    "    print('Success')\n",
    "    \n",
    "test_intersection()"
   ]
  },
  {
   "cell_type": "markdown",
   "metadata": {},
   "source": [
    "## Problem 5: How much space are my pictures taking?\n",
    "\n",
    "Write a function that takes a directory and returns the combined size, in bytes, of all the .jpg files below the directory\n",
    "\n",
    "You may be storing more files in a different format: you can look for those files instead.\n",
    "\n",
    "Hint: This is a filter, followed by a map, followed by a reduce to combine the file sizes into a total.  You don't need to treat it that way: you can just keep track of the running total.  \n",
    "\n",
    "    def allocation(dir: str) -> int:"
   ]
  },
  {
   "cell_type": "code",
   "execution_count": 80,
   "metadata": {},
   "outputs": [
    {
     "data": {
      "text/plain": [
       "1771266"
      ]
     },
     "execution_count": 80,
     "metadata": {},
     "output_type": "execute_result"
    }
   ],
   "source": [
    "import os\n",
    "\n",
    "def allocation(dir: str) -> int:\n",
    "    \"\"\"takes a directory and returns the combined size, in bytes, of all the .jpg files below the directory\"\"\"\n",
    "    lst = []\n",
    "    # walk directory and sub directories\n",
    "    for dirpath, dirnames, files in os.walk(dir):\n",
    "        # iterate over list of files in tuple, look for jpgs \n",
    "        for file in files:\n",
    "            if '.jpg' in file:\n",
    "                # get size of file\n",
    "                fp = os.path.join(dirpath, file)\n",
    "                fs = os.path.getsize(fp)\n",
    "                # append size of desired file to list\n",
    "                lst.append(fs)\n",
    "    # return sum of all files in list\n",
    "    return sum(lst)\n",
    "allocation(\"../../../downloads\")"
   ]
  },
  {
   "cell_type": "markdown",
   "metadata": {},
   "source": [
    "### Try your function out\n",
    "\n",
    "You may need to change the directory to find some images"
   ]
  },
  {
   "cell_type": "code",
   "execution_count": 81,
   "metadata": {},
   "outputs": [
    {
     "name": "stdout",
     "output_type": "stream",
     "text": [
      "1771266\n"
     ]
    }
   ],
   "source": [
    "## Call your function\n",
    "\n",
    "print(allocation('../../../downloads'))"
   ]
  },
  {
   "cell_type": "markdown",
   "metadata": {},
   "source": [
    "## Problem 6: Austin City Limits\n",
    "\n",
    "We will provide a CSV files listing several years worth of shows at Austin City Limits, a concert venue that has spawned a TV show.  \n",
    "\n",
    "Each concert has a number of attributes, including a Genre.  Bubble Gum and and Smooth Jazz are poorly represented, but there are a number of other Genres.  Find the frequency of each Genre, and list them in order. "
   ]
  },
  {
   "cell_type": "code",
   "execution_count": 8,
   "metadata": {},
   "outputs": [
    {
     "data": {
      "text/plain": [
       "[[68, 'Rock/Folk/Indie'],\n",
       " [18, 'Country'],\n",
       " [17, 'Singer-Songwriter'],\n",
       " [13, 'Jazz/Blues']]"
      ]
     },
     "execution_count": 8,
     "metadata": {},
     "output_type": "execute_result"
    }
   ],
   "source": [
    "import csv\n",
    "from collections import defaultdict\n",
    "\n",
    "def genre_freq(file):\n",
    "   \n",
    "    temp_dict = defaultdict (int)\n",
    "    # open file for reading \n",
    "    with open(file, 'r') as freq_file:\n",
    "        reader = csv.reader(freq_file)\n",
    "        # skip first line in file\n",
    "        next(reader)\n",
    "        # list comprehension appending genre to a list\n",
    "        temp_lst = [row[:][8] for row in reader]\n",
    "        # create a default dict to get frequency of genres\n",
    "        for item in temp_lst:\n",
    "            temp_dict[item] = temp_dict[item] + 1\n",
    "        # make dict into a nice list to return sorted    \n",
    "        genre_lst = [[temp_dict[thing], thing] for thing in temp_dict]   \n",
    "        return (sorted(genre_lst, reverse=True))\n",
    "        \n",
    "            \n",
    "genre_freq('AustinCityLimits.csv')"
   ]
  },
  {
   "cell_type": "markdown",
   "metadata": {},
   "source": [
    "# Post Mortem"
   ]
  },
  {
   "cell_type": "markdown",
   "metadata": {},
   "source": [
    "How long did it take you to solve this problem set?\n",
    "\n",
    "Did anything confuse you or cause difficulty?"
   ]
  },
  {
   "cell_type": "code",
   "execution_count": 40,
   "metadata": {},
   "outputs": [
    {
     "ename": "SyntaxError",
     "evalue": "invalid syntax (<ipython-input-40-290c2f534471>, line 2)",
     "output_type": "error",
     "traceback": [
      "\u001b[0;36m  File \u001b[0;32m\"<ipython-input-40-290c2f534471>\"\u001b[0;36m, line \u001b[0;32m2\u001b[0m\n\u001b[0;31m    much better this week!\u001b[0m\n\u001b[0m         ^\u001b[0m\n\u001b[0;31mSyntaxError\u001b[0m\u001b[0;31m:\u001b[0m invalid syntax\n"
     ]
    }
   ],
   "source": [
    "# Enter your thoughts\n",
    "much better this week! "
   ]
  }
 ],
 "metadata": {
  "kernelspec": {
   "display_name": "Python 3",
   "language": "python",
   "name": "python3"
  },
  "language_info": {
   "codemirror_mode": {
    "name": "ipython",
    "version": 3
   },
   "file_extension": ".py",
   "mimetype": "text/x-python",
   "name": "python",
   "nbconvert_exporter": "python",
   "pygments_lexer": "ipython3",
   "version": "3.8.11"
  }
 },
 "nbformat": 4,
 "nbformat_minor": 1
}
