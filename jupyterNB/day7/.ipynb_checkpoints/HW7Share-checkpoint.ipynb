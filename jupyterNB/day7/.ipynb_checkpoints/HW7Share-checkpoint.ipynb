{
 "cells": [
  {
   "cell_type": "markdown",
   "metadata": {},
   "source": [
    "# Homework 7 Share\n",
    "## 2021 \n",
    "\n",
    "Several of these problems revolve around how you represent the data.\n",
    "\n",
    "You may find some of the later problems simpler than ones that preceed them, so skip around. "
   ]
  },
  {
   "cell_type": "markdown",
   "metadata": {},
   "source": [
    "# Problem 1: DNA Complement\n",
    "\n",
    "In representing DNA strings, symbols 'A' and 'T' are complements of each other, as are 'C' and 'G'.\n",
    "\n",
    "The reverse complement of a DNA string text is the string formed by reversing the string text, and then taking the complement of each symbol.\n",
    "\n",
    "Write a function that takes a string representing a DNA sequence, and returns the Complement.\n",
    "\n",
    "Your function should use a Dictionary to map a symbol, such as 'A', to its complement, 'T'.\n",
    "\n",
    "```python\n",
    "def dna_complement(text: str) -> str:\n",
    "    pass\n",
    "```"
   ]
  },
  {
   "cell_type": "markdown",
   "metadata": {},
   "source": [
    "# Problem 2: Slice\n",
    "\n",
    "Given a string, find the shortest slice that contains every distinct character. \n",
    "Characters may appear more than once in the window.\n",
    "\n",
    "For example, given \"jiujitsu\", you should return the tuple (3, 8), corresponding to the slice with the final five letters."
   ]
  },
  {
   "cell_type": "code",
   "execution_count": null,
   "metadata": {},
   "outputs": [],
   "source": [
    "s = \"jiujitsu\"\n",
    "\n",
    "s[3:8]"
   ]
  },
  {
   "cell_type": "markdown",
   "metadata": {},
   "source": [
    "# Problem 3: Closest Points\n",
    "\n",
    "Given a list of points, a central point, and an integer k, \n",
    "find the nearest k points from the central point.\n",
    "\n",
    "For example, given the list of points [(0, 0), (5, 4), (3, 1)], \n",
    "the central point (1, 2), and k = 2, return [(0, 0), (3, 1)].\n",
    "\n",
    "Hint: There is no need to take a square root here"
   ]
  },
  {
   "cell_type": "markdown",
   "metadata": {},
   "source": [
    "# Problem 4: Reduce\n",
    "\n",
    "Given a list of possibly overlapping intervals, \n",
    "return a new list of intervals where all overlapping intervals have been merged.\n",
    "\n",
    "The input list is not necessarily ordered in any way.\n",
    "\n",
    "For example, given [(1, 3), (5, 8), (4, 10), (20, 25)], \n",
    "you should return [(1, 3), (4, 10), (20, 25)].\n",
    "\n",
    "Hint: Write a function to decide if two tuples overlap.\n",
    "\n",
    "Hint: Write a function that takes two overlapping tuples and merges them."
   ]
  },
  {
   "cell_type": "markdown",
   "metadata": {},
   "source": [
    "# Problem 5: Intersection\n",
    "\n",
    "Given rectangles represented as oposing corners, decide if two rectangles intersect.\n",
    "\n",
    "For example, [(12, 10) (1, 2)] and [(0, 0), (4, 5)] intersect, while \n",
    "[(12, 10) (8, 6)] and [(0, 0), (4, 5)] do not.\n",
    "\n",
    "Hint: You may wish to change the representation of the rectangles.  \n",
    "For example, it would be easier if the first tuple was the upper-left corner.  \n",
    "Some rectangle you can normalize by exchanging tuples: [(12, 10) (1, 2)] \n",
    "becomes [(1, 2) (12, 10)]\n",
    "\n",
    "Other rectangles need to be rewritten: [(0, 10) (5, 0)] is easier to handle as\n",
    "[(0, 0), (5, 10)]"
   ]
  },
  {
   "cell_type": "markdown",
   "metadata": {},
   "source": [
    "# Problem 6: Breakout\n",
    "\n",
    "A wall consists of several rows of bricks of various integer lengths and uniform height. \n",
    "\n",
    "For example, suppose the input is as follows, where values in each row represent the \n",
    "lengths of bricks in that row:\n",
    "\n",
    "```python\n",
    "[[3, 5, 1, 1],\n",
    " [2, 3, 3, 2],\n",
    " [5, 5],\n",
    " [4, 4, 2],\n",
    " [1, 3, 3, 3],\n",
    " [1, 1, 6, 1, 1]]\n",
    "```\n",
    "1) Draw a representation of the bricks.  For example, the list above looks like this:\n",
    "\n",
    "```python\n",
    "[    ][        ][][]\n",
    "[  ][    ][    ][  ]\n",
    "[        ][        ]\n",
    "[      ][      ][  ]\n",
    "[][    ][    ][    ]\n",
    "[][][          ][][]\n",
    "```\n",
    "2) Your goal is to find a vertical line going from the top to the bottom of the wall that \n",
    "cuts through the fewest number of bricks. \n",
    "If the line goes through the edge between two bricks, this does not count as a cut.\n",
    "\n",
    "\n",
    "The best we can we do here is to draw a line after the eighth unit, \n",
    "which will only require cutting through the bricks in the third and fifth row.\n",
    "\n",
    "Given an input consisting of brick lengths for each row such as the one above, \n",
    "return the fewest number of bricks that must be cut to create a vertical line\n",
    "and the position of the cut.\n",
    "\n",
    "Hint: How do you represent a row?  \n",
    "\n",
    "```python\n",
    "[    ][        ] | [][]\n",
    "[  ][    ][    ] | [  ]\n",
    "[        ][      |    ]\n",
    "[      ][      ] | [  ]\n",
    "[][    ][    ][  |    ]\n",
    "[][][          ] | [][]\n",
    "```"
   ]
  },
  {
   "cell_type": "markdown",
   "metadata": {},
   "source": [
    "# Problem 7: Import This\n",
    "\n",
    "The library this.py contains the following program.\n",
    "\n",
    "There is a long string at the start, and then 5 lines of code.\n",
    "\n",
    "Write comments for each line of code"
   ]
  },
  {
   "cell_type": "code",
   "execution_count": 1,
   "metadata": {},
   "outputs": [
    {
     "name": "stdout",
     "output_type": "stream",
     "text": [
      "The Zen of Python, by Tim Peters\n",
      "\n",
      "Beautiful is better than ugly.\n",
      "Explicit is better than implicit.\n",
      "Simple is better than complex.\n",
      "Complex is better than complicated.\n",
      "Flat is better than nested.\n",
      "Sparse is better than dense.\n",
      "Readability counts.\n",
      "Special cases aren't special enough to break the rules.\n",
      "Although practicality beats purity.\n",
      "Errors should never pass silently.\n",
      "Unless explicitly silenced.\n",
      "In the face of ambiguity, refuse the temptation to guess.\n",
      "There should be one-- and preferably only one --obvious way to do it.\n",
      "Although that way may not be obvious at first unless you're Dutch.\n",
      "Now is better than never.\n",
      "Although never is often better than *right* now.\n",
      "If the implementation is hard to explain, it's a bad idea.\n",
      "If the implementation is easy to explain, it may be a good idea.\n",
      "Namespaces are one honking great idea -- let's do more of those!\n"
     ]
    }
   ],
   "source": [
    "s = \"\"\"Gur Mra bs Clguba, ol Gvz Crgref\n",
    "\n",
    "Ornhgvshy vf orggre guna htyl.\n",
    "Rkcyvpvg vf orggre guna vzcyvpvg.\n",
    "Fvzcyr vf orggre guna pbzcyrk.\n",
    "Pbzcyrk vf orggre guna pbzcyvpngrq.\n",
    "Syng vf orggre guna arfgrq.\n",
    "Fcnefr vf orggre guna qrafr.\n",
    "Ernqnovyvgl pbhagf.\n",
    "Fcrpvny pnfrf nera'g fcrpvny rabhtu gb oernx gur ehyrf.\n",
    "Nygubhtu cenpgvpnyvgl orngf chevgl.\n",
    "Reebef fubhyq arire cnff fvyragyl.\n",
    "Hayrff rkcyvpvgyl fvyraprq.\n",
    "Va gur snpr bs nzovthvgl, ershfr gur grzcgngvba gb thrff.\n",
    "Gurer fubhyq or bar-- naq cersrenoyl bayl bar --boivbhf jnl gb qb vg.\n",
    "Nygubhtu gung jnl znl abg or boivbhf ng svefg hayrff lbh'er Qhgpu.\n",
    "Abj vf orggre guna arire.\n",
    "Nygubhtu arire vf bsgra orggre guna *evtug* abj.\n",
    "Vs gur vzcyrzragngvba vf uneq gb rkcynva, vg'f n onq vqrn.\n",
    "Vs gur vzcyrzragngvba vf rnfl gb rkcynva, vg znl or n tbbq vqrn.\n",
    "Anzrfcnprf ner bar ubaxvat terng vqrn -- yrg'f qb zber bs gubfr!\"\"\"\n",
    "\n",
    "d = {}\n",
    "for c in (65, 97):\n",
    "    for i in range(26):\n",
    "        d[chr(i+c)] = chr((i+13) % 26 + c)\n",
    "\n",
    "print(\"\".join([d.get(c, c) for c in s]))"
   ]
  },
  {
   "cell_type": "code",
   "execution_count": null,
   "metadata": {},
   "outputs": [],
   "source": [
    "import this"
   ]
  }
 ],
 "metadata": {
  "kernelspec": {
   "display_name": "Python 3",
   "language": "python",
   "name": "python3"
  },
  "language_info": {
   "codemirror_mode": {
    "name": "ipython",
    "version": 3
   },
   "file_extension": ".py",
   "mimetype": "text/x-python",
   "name": "python",
   "nbconvert_exporter": "python",
   "pygments_lexer": "ipython3",
   "version": "3.8.11"
  }
 },
 "nbformat": 4,
 "nbformat_minor": 1
}
