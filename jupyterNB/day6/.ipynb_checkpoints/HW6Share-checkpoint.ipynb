{
 "cells": [
  {
   "cell_type": "markdown",
   "metadata": {},
   "source": [
    "# Homework 6: Share"
   ]
  },
  {
   "cell_type": "markdown",
   "metadata": {},
   "source": [
    "# Problem 1: Even Numbers\n",
    "Write a function that takes a list of integers and returns a new list with just the even numbers in the same order.  \n",
    "To decide if num is even, you can look at (num % 2), the remainder after dividing num by 2"
   ]
  },
  {
   "cell_type": "code",
   "execution_count": 1,
   "metadata": {},
   "outputs": [],
   "source": [
    "# Take a list of strings and return a string\n",
    "def even_numbers(lst):\n",
    "    \"\"\"Take a list of integers, and return the even integers\"\"\"\n",
    "    res = []\n",
    "    \n",
    "    for itm in lst:\n",
    "        if (itm % 2) == 0:\n",
    "            res.append(itm)\n",
    "            \n",
    "    return res"
   ]
  },
  {
   "cell_type": "markdown",
   "metadata": {},
   "source": [
    "## Unit Test cases for even_numbers()\n",
    "## *Do not edit this cell*"
   ]
  },
  {
   "cell_type": "code",
   "execution_count": 2,
   "metadata": {},
   "outputs": [
    {
     "name": "stdout",
     "output_type": "stream",
     "text": [
      "Pass!\n"
     ]
    }
   ],
   "source": [
    "def test_even():\n",
    "    assert even_numbers([]) == []\n",
    "    assert even_numbers([1, 2, 3, 4]) == [2, 4] \n",
    "    assert even_numbers([3, 5, 1, 9]) == [] \n",
    "    assert(even_numbers([4, 2, 4, 6, 2]) == [4, 2, 4, 6, 2])\n",
    "\n",
    "    print('Pass!')\n",
    "    \n",
    "test_even()"
   ]
  },
  {
   "cell_type": "markdown",
   "metadata": {},
   "source": [
    "## 2) Safe Rotate\n",
    "\n",
    "The goal of this is to leave the original list untouched\n",
    "\n",
    "Can you simplify this function?"
   ]
  },
  {
   "cell_type": "code",
   "execution_count": 10,
   "metadata": {},
   "outputs": [],
   "source": [
    "cof = [3, 4, 5, 6, 7, 8]"
   ]
  },
  {
   "cell_type": "code",
   "execution_count": 11,
   "metadata": {},
   "outputs": [
    {
     "name": "stdout",
     "output_type": "stream",
     "text": [
      "None\n"
     ]
    }
   ],
   "source": [
    "def rotater(lst):\n",
    "    '''Rotate list by 1'''\n",
    "    # if lst is None type, return empty list\n",
    "    if not lst:\n",
    "        return []\n",
    "    \n",
    "    # declares new list for the result\n",
    "    result_lst = []\n",
    "    \n",
    "    if len(lst) > 1:\n",
    "        new_lst = lst[1:] + lst[:1]\n",
    "        for num in new_lst:\n",
    "            result_lst.append(num)\n",
    "        return result_lst\n",
    "    else:\n",
    "        return lst\n",
    "    \n",
    "print(rotater(cof))"
   ]
  },
  {
   "cell_type": "code",
   "execution_count": 3,
   "metadata": {},
   "outputs": [],
   "source": [
    "def rotate(my_list):\n",
    "    \"\"\"Take a list, and return a 'rotation' of the list. Remove the first element and add it to the end.\"\"\"\n",
    "    \n",
    "    # If my_list is None type, returns an empty list.\n",
    "    if not my_list:\n",
    "        return []\n",
    "    \n",
    "    # Declares a list, result_list to hold the answer.\n",
    "    result_list = []\n",
    "    \n",
    "    # Tests if my_list has more than one item in it. If not, simply returns my_list.\n",
    "    if len(my_list) > 1:\n",
    "        \n",
    "        # Sets every item in the list except the first item (at index 0) into a list named end_tail.\n",
    "        end_tail = my_list[1:]\n",
    "        \n",
    "        # Iterates through every number in end_tail and appends it to result_list.\n",
    "        for number in end_tail:\n",
    "            result_list.append(number)\n",
    "        \n",
    "        # Appends the first element of my_list to the end of result_list.\n",
    "        result_list.append(my_list[0])\n",
    "        \n",
    "        # The function returns the answer, result_list.\n",
    "        return result_list\n",
    "    else:\n",
    "        return my_list\n",
    "    "
   ]
  },
  {
   "cell_type": "markdown",
   "metadata": {},
   "source": [
    "## Unit Test"
   ]
  },
  {
   "cell_type": "code",
   "execution_count": 6,
   "metadata": {},
   "outputs": [
    {
     "ename": "TypeError",
     "evalue": "can only concatenate list (not \"int\") to list",
     "output_type": "error",
     "traceback": [
      "\u001b[0;31m---------------------------------------------------------------------------\u001b[0m",
      "\u001b[0;31mTypeError\u001b[0m                                 Traceback (most recent call last)",
      "\u001b[0;32m<ipython-input-6-7a17ec1250a5>\u001b[0m in \u001b[0;36m<module>\u001b[0;34m\u001b[0m\n\u001b[1;32m     22\u001b[0m     \u001b[0mprint\u001b[0m\u001b[0;34m(\u001b[0m\u001b[0;34m'Pass!'\u001b[0m\u001b[0;34m)\u001b[0m\u001b[0;34m\u001b[0m\u001b[0;34m\u001b[0m\u001b[0m\n\u001b[1;32m     23\u001b[0m \u001b[0;34m\u001b[0m\u001b[0m\n\u001b[0;32m---> 24\u001b[0;31m \u001b[0mtest_rotate\u001b[0m\u001b[0;34m(\u001b[0m\u001b[0;34m)\u001b[0m\u001b[0;34m\u001b[0m\u001b[0;34m\u001b[0m\u001b[0m\n\u001b[0m",
      "\u001b[0;32m<ipython-input-6-7a17ec1250a5>\u001b[0m in \u001b[0;36mtest_rotate\u001b[0;34m()\u001b[0m\n\u001b[1;32m      9\u001b[0m \u001b[0;34m\u001b[0m\u001b[0m\n\u001b[1;32m     10\u001b[0m     \u001b[0mlst\u001b[0m \u001b[0;34m=\u001b[0m \u001b[0;34m[\u001b[0m\u001b[0;36m1\u001b[0m\u001b[0;34m,\u001b[0m \u001b[0;36m2\u001b[0m\u001b[0;34m]\u001b[0m\u001b[0;34m\u001b[0m\u001b[0;34m\u001b[0m\u001b[0m\n\u001b[0;32m---> 11\u001b[0;31m     \u001b[0;32massert\u001b[0m\u001b[0;34m(\u001b[0m\u001b[0mrotate\u001b[0m\u001b[0;34m(\u001b[0m\u001b[0mlst\u001b[0m\u001b[0;34m)\u001b[0m \u001b[0;34m==\u001b[0m \u001b[0;34m[\u001b[0m\u001b[0;36m2\u001b[0m\u001b[0;34m,\u001b[0m \u001b[0;36m1\u001b[0m\u001b[0;34m]\u001b[0m\u001b[0;34m)\u001b[0m\u001b[0;34m\u001b[0m\u001b[0;34m\u001b[0m\u001b[0m\n\u001b[0m\u001b[1;32m     12\u001b[0m     \u001b[0;32massert\u001b[0m\u001b[0;34m(\u001b[0m\u001b[0mlst\u001b[0m \u001b[0;34m==\u001b[0m \u001b[0;34m[\u001b[0m\u001b[0;36m1\u001b[0m\u001b[0;34m,\u001b[0m \u001b[0;36m2\u001b[0m\u001b[0;34m]\u001b[0m\u001b[0;34m)\u001b[0m\u001b[0;34m\u001b[0m\u001b[0;34m\u001b[0m\u001b[0m\n\u001b[1;32m     13\u001b[0m \u001b[0;34m\u001b[0m\u001b[0m\n",
      "\u001b[0;32m<ipython-input-5-2dd42bc99f80>\u001b[0m in \u001b[0;36mrotate\u001b[0;34m(my_list)\u001b[0m\n\u001b[1;32m     13\u001b[0m \u001b[0;34m\u001b[0m\u001b[0m\n\u001b[1;32m     14\u001b[0m         \u001b[0;31m# Sets every item in the list except the first item (at index 0) into a list named end_tail.\u001b[0m\u001b[0;34m\u001b[0m\u001b[0;34m\u001b[0m\u001b[0;34m\u001b[0m\u001b[0m\n\u001b[0;32m---> 15\u001b[0;31m         \u001b[0mend_tail\u001b[0m \u001b[0;34m=\u001b[0m \u001b[0mmy_list\u001b[0m\u001b[0;34m[\u001b[0m\u001b[0;36m1\u001b[0m\u001b[0;34m:\u001b[0m\u001b[0;34m]\u001b[0m \u001b[0;34m+\u001b[0m \u001b[0mmy_list\u001b[0m\u001b[0;34m[\u001b[0m\u001b[0;36m0\u001b[0m\u001b[0;34m]\u001b[0m\u001b[0;34m\u001b[0m\u001b[0;34m\u001b[0m\u001b[0m\n\u001b[0m\u001b[1;32m     16\u001b[0m \u001b[0;34m\u001b[0m\u001b[0m\n\u001b[1;32m     17\u001b[0m         \u001b[0;31m# Iterates through every number in end_tail and appends it to result_list.\u001b[0m\u001b[0;34m\u001b[0m\u001b[0;34m\u001b[0m\u001b[0;34m\u001b[0m\u001b[0m\n",
      "\u001b[0;31mTypeError\u001b[0m: can only concatenate list (not \"int\") to list"
     ]
    }
   ],
   "source": [
    "def test_rotate():\n",
    "    lst = []\n",
    "    assert(rotate(lst) == lst)\n",
    "    assert(lst == [])\n",
    "\n",
    "    lst = [1]\n",
    "    assert(rotate(lst) == lst)\n",
    "    assert(lst == [1])\n",
    "\n",
    "    lst = [1, 2]\n",
    "    assert(rotate(lst) == [2, 1])\n",
    "    assert(lst == [1, 2])\n",
    "\n",
    "    lst = [1, 2, 3]\n",
    "    assert(rotate(lst) == [2, 3, 1])\n",
    "    assert(lst == [1, 2, 3])\n",
    "\n",
    "    lst = [3, 1, 4, 1, 5, 9]\n",
    "    assert(rotate(lst) == [1, 4, 1, 5, 9, 3])\n",
    "    assert(lst == [3, 1, 4, 1, 5, 9])\n",
    "\n",
    "    print('Pass!')\n",
    "\n",
    "test_rotate()"
   ]
  },
  {
   "cell_type": "markdown",
   "metadata": {},
   "source": [
    "## Why not use append?"
   ]
  },
  {
   "cell_type": "code",
   "execution_count": null,
   "metadata": {},
   "outputs": [],
   "source": [
    "def rotate(lst):\n",
    "    if not lst:\n",
    "        return []\n",
    "    \n",
    "    return lst[1:].append(lst[0])\n",
    "\n",
    "test_rotate()"
   ]
  },
  {
   "cell_type": "markdown",
   "metadata": {},
   "source": [
    "## 3) isogram\n",
    "\n",
    "A string is an isogram if no letter appears more than once\n",
    "\n",
    "Write a function that decides if a string is an isogram\n",
    "\n",
    "Write one version that uses a Dictionary, and another version that uses a Set"
   ]
  },
  {
   "cell_type": "code",
   "execution_count": null,
   "metadata": {},
   "outputs": [],
   "source": [
    "def is_isogram(s: str) -> bool:\n",
    "    pass"
   ]
  },
  {
   "cell_type": "code",
   "execution_count": null,
   "metadata": {},
   "outputs": [],
   "source": [
    "def test_isogram():\n",
    "    assert is_isogram(\"\")\n",
    "    assert is_isogram(\"isogram\")\n",
    "    assert not is_isogram(\"eleven\") \n",
    "    assert not is_isogram(\"zzyzx\") \n",
    "    assert is_isogram(\"subdermatoglyphic\") \n",
    "    assert not is_isogram(\"Alphabet\") \n",
    "    assert not is_isogram(\"alphAbet\") \n",
    "    assert is_isogram(\"thumbscrew-japingly\") \n",
    "    assert not is_isogram(\"thumbscrew-jappingly\") \n",
    "    assert is_isogram(\"six-year-old\") \n",
    "    assert is_isogram(\"Emily Jung Schwartzkopf\") \n",
    "    assert not is_isogram(\"accentor\") \n",
    "    assert not is_isogram(\"angola\") \n",
    "    assert not is_isogram(\"Aleph Bot Chap\")\n",
    "    \n",
    "    print('Success!')    \n",
    "    \n",
    "test_isogram()"
   ]
  },
  {
   "cell_type": "markdown",
   "metadata": {},
   "source": [
    "## 4) Panagram\n",
    "\n",
    "A panagram is a string that uses every one of the 26 letters\n",
    "\n",
    "Write a function to decide if a string is a panagram"
   ]
  },
  {
   "cell_type": "code",
   "execution_count": null,
   "metadata": {},
   "outputs": [],
   "source": [
    "def is_pangram(s: str) -> bool:\n",
    "    pass"
   ]
  },
  {
   "cell_type": "code",
   "execution_count": null,
   "metadata": {},
   "outputs": [],
   "source": [
    "def test_panagram():\n",
    "    assert not is_pangram('') \n",
    "    assert is_pangram('abcdefghijklmnopqrstuvwxyz') \n",
    "    assert is_pangram('the quick brown fox jumps over the lazy dog') \n",
    "    assert not is_pangram('a quick movement of the enemy will jeopardize five gunboats') \n",
    "    assert not is_pangram('five boxing wizards jump quickly at it') \n",
    "    assert is_pangram('the_quick_brown_fox_jumps_over_the_lazy_dog') \n",
    "    assert is_pangram('the 1 quick brown fox jumps over the 2 lazy dogs') \n",
    "    assert not is_pangram('7h3 qu1ck brown fox jumps ov3r 7h3 lazy dog') \n",
    "    assert is_pangram('\"Five quacking Zephyrs jolt my wax bed.\"')\n",
    "    \n",
    "    print('Success')\n",
    "\n",
    "test_panagram()"
   ]
  },
  {
   "cell_type": "markdown",
   "metadata": {},
   "source": [
    "## 5) Longest Item\n",
    "Take a list, and return the longest item in the list.  \n",
    "Measure the length of each item with the function len().\n",
    "\n",
    "## Two approaches:\n",
    "### 1) Keep one variable, candidate\n",
    "### 2) Keep two variables, candidate and candidate_length\n",
    "\n",
    "### Rewrite the function \n",
    "Pick better names and better initial values"
   ]
  },
  {
   "cell_type": "code",
   "execution_count": null,
   "metadata": {},
   "outputs": [],
   "source": [
    "def longest_item(lst):\n",
    "    if len(lst)==0:\n",
    "        return None # Empty variable for assigning the longest element in a list\n",
    "    \n",
    "    longest_number = ''\n",
    "    \n",
    "    for number in lst: \n",
    "        # If length of element in list is longer than previous,\n",
    "        # longest_number gets updated.\n",
    "        if len(number) > len(longest_number):\n",
    "            longest_number = number\n",
    "            \n",
    "    return longest_number"
   ]
  },
  {
   "cell_type": "code",
   "execution_count": null,
   "metadata": {},
   "outputs": [],
   "source": [
    "def test_longest_item():\n",
    "    assert(longest_item([]) == None)\n",
    "    assert(longest_item(['one', 'two', 'three']) == 'three')\n",
    "    assert(longest_item(['four', 'six', 'ten']) == 'four')\n",
    "    assert(longest_item(['one', 'nine', 'six']) == 'nine')\n",
    "\n",
    "    res = longest_item(['one', 'four', 'two', 'five'])\n",
    "    assert(res == 'four' or res == 'five')\n",
    "    assert(longest_item(['one', [1, 2, 3, 4], 'six']) == [1, 2, 3, 4])\n",
    "\n",
    "    print('Pass')\n",
    "    \n",
    "test_longest_item()"
   ]
  },
  {
   "cell_type": "markdown",
   "metadata": {},
   "source": [
    "## Algorithm 2: Keep value and length\n",
    "\n",
    "Fill in the blanks"
   ]
  },
  {
   "cell_type": "code",
   "execution_count": null,
   "metadata": {},
   "outputs": [],
   "source": [
    "def longest_item(my_list):\n",
    "    \"\"\"Take a list, and return the longest item in the list.\"\"\"\n",
    "    # Tests if my_list is empty; returns None if it is.\n",
    "        \n",
    "    # Initiates a variable max_item that contains the first item in my_list.\n",
    "\n",
    "    # Initiates an integer max_length.\n",
    "\n",
    "    \n",
    "    # Iterates over every item in my_list.\n",
    "\n",
    "        # If the length of the item is greater than the max_length, set the new max_lenth\n",
    "        # to the length of the item and max_item to that item in the list.\n",
    "            \n",
    "    # The function returns the answer\n"
   ]
  },
  {
   "cell_type": "code",
   "execution_count": null,
   "metadata": {},
   "outputs": [],
   "source": [
    "test_longest_item()"
   ]
  },
  {
   "cell_type": "markdown",
   "metadata": {},
   "source": [
    "## 6) Longest Increasing Sequence\n",
    "\n",
    "Write a function that takes a list of integers, and returns the longest consecutive sequence of increasing numbers\n",
    "\n",
    "Write some Unit Tests for your function"
   ]
  },
  {
   "cell_type": "code",
   "execution_count": null,
   "metadata": {},
   "outputs": [],
   "source": [
    "def longest_increasing_sequence(lst):\n",
    "    pass"
   ]
  }
 ],
 "metadata": {
  "kernelspec": {
   "display_name": "Python 3",
   "language": "python",
   "name": "python3"
  },
  "language_info": {
   "codemirror_mode": {
    "name": "ipython",
    "version": 3
   },
   "file_extension": ".py",
   "mimetype": "text/x-python",
   "name": "python",
   "nbconvert_exporter": "python",
   "pygments_lexer": "ipython3",
   "version": "3.8.11"
  }
 },
 "nbformat": 4,
 "nbformat_minor": 1
}
