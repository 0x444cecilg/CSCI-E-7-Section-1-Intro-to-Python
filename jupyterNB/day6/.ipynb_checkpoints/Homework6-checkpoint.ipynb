{
 "cells": [
  {
   "cell_type": "markdown",
   "metadata": {},
   "source": [
    "# Homework 6: Fall 2020\n",
    "## Fill in your name"
   ]
  },
  {
   "cell_type": "code",
   "execution_count": null,
   "metadata": {},
   "outputs": [],
   "source": [
    "first_name = \"Cecil\"\n",
    "last_name = \"Gilliard\"\n",
    "\n",
    "assert(len(first_name) != 0)\n",
    "assert(len(last_name)  != 0)"
   ]
  },
  {
   "cell_type": "markdown",
   "metadata": {},
   "source": [
    "## Problem 1:  Game Scores\n",
    "\n",
    "You are writing a library for a video game.  Each user has a list of all their scores.  \n",
    "\n",
    "You must take a list of scores, and return the most recent score, the best score, and the top three scores.\n",
    "\n",
    "Hint: To find the top three, investigate the Python list method sort() and function sorted()"
   ]
  },
  {
   "cell_type": "markdown",
   "metadata": {},
   "source": [
    "<div class=\"alert alert-block alert-info\">\n",
    "Fill in your function below.\n",
    "</div>"
   ]
  },
  {
   "cell_type": "code",
   "execution_count": 103,
   "metadata": {},
   "outputs": [],
   "source": [
    "weak = [4, 8 ,91, 1, 22, 45, 76, 32, 44, 64, 11, 9]\n",
    "hev = []\n",
    "nope = [100, 90, 70]"
   ]
  },
  {
   "cell_type": "code",
   "execution_count": 11,
   "metadata": {},
   "outputs": [
    {
     "data": {
      "text/plain": [
       "[100, 90, 70]"
      ]
     },
     "execution_count": 11,
     "metadata": {},
     "output_type": "execute_result"
    }
   ],
   "source": [
    "from typing import List\n",
    "\n",
    "def recent(scores: List[int]) -> int:\n",
    "    \"The most recent score\"\n",
    "    # check for content in list if none return empty list\n",
    "    if len(scores) == 0:\n",
    "        return scores\n",
    "    # return the most recent score\n",
    "    elif len(scores) >= 1:\n",
    "        return scores[-1]\n",
    "    \n",
    "\n",
    "def best(scores: List[int]) -> int:\n",
    "    \"The best score\"\n",
    "    # check for content in list if none return empty list\n",
    "    if len(scores) == 0:\n",
    "        return scores\n",
    "    # sort list ascending\n",
    "    best_sort = sorted(scores)\n",
    "    # return highest score\n",
    "    return best_sort[-1]\n",
    "\n",
    "\n",
    "def top_triple(scores: List[int]) -> List[int]:\n",
    "    \"The three best scores\"\n",
    "    # check for content in list if none return empty list\n",
    "    if len(scores) == 0:\n",
    "        return scores\n",
    "    # sort list ascending assigning top 3 scores to variable\n",
    "    top_triple = sorted(scores, reverse=True)[:3]\n",
    "    # return top 3 scores\n",
    "    return top_triple\n",
    "\n",
    "top_triple(nope)"
   ]
  },
  {
   "cell_type": "markdown",
   "metadata": {},
   "source": [
    "### Test cases for Game Scores"
   ]
  },
  {
   "cell_type": "code",
   "execution_count": 12,
   "metadata": {},
   "outputs": [
    {
     "data": {
      "text/plain": [
       "'Success!'"
      ]
     },
     "execution_count": 12,
     "metadata": {},
     "output_type": "execute_result"
    }
   ],
   "source": [
    "def test_game_scores():\n",
    "    assert recent([100, 0, 90, 30]) == 30\n",
    "    assert best([40, 100, 70]) == 100\n",
    "    \n",
    "    \n",
    "    scores = [10, 30, 90, 30, 100, 20, 10, 0, 30, 40, 40, 70, 33]  \n",
    "    assert recent(scores) == 33\n",
    "    assert top_triple(scores) == [100, 90, 70]\n",
    "    assert best(scores) == 100\n",
    "    assert recent(scores) == 33, \"Did you reorder the list?\"\n",
    "    \n",
    "    assert top_triple([20, 10, 30]) == [30, 20, 10]\n",
    "    assert top_triple([40, 20, 40, 30]) == [40, 40, 30] \n",
    "    assert top_triple([30, 70]) == [70, 30] \n",
    "    assert top_triple([30]) == [30] \n",
    "    assert top_triple([]) == [] \n",
    "    \n",
    "    return('Success!')\n",
    "\n",
    "test_game_scores()"
   ]
  },
  {
   "cell_type": "markdown",
   "metadata": {},
   "source": [
    "## Problem 2: Mystical Listicle\n",
    "\n",
    "You are given a list.  Some of the items in the list are themselves lists.  Sublists will not contain lists.  \n",
    "\n",
    "Return a list of the items in order.\n",
    "\n",
    "You can use the method isinstance() to tell if an item is a list."
   ]
  },
  {
   "cell_type": "code",
   "execution_count": 13,
   "metadata": {},
   "outputs": [
    {
     "name": "stdout",
     "output_type": "stream",
     "text": [
      "[2]\n",
      "[3, 4]\n"
     ]
    }
   ],
   "source": [
    "## Demo of isinstance()\n",
    "\n",
    "lst = [1, [2], [3, 4]]\n",
    "\n",
    "for item in lst:\n",
    "    if isinstance(item, list):\n",
    "        print(item)"
   ]
  },
  {
   "cell_type": "markdown",
   "metadata": {},
   "source": [
    "<div class=\"alert alert-block alert-info\">\n",
    "Fill in your function below.\n",
    "</div>"
   ]
  },
  {
   "cell_type": "code",
   "execution_count": 109,
   "metadata": {},
   "outputs": [
    {
     "data": {
      "text/plain": [
       "[1, 4, 8, 9, 11, 22, 32, 44, 45, 64, 76, 91]"
      ]
     },
     "execution_count": 109,
     "metadata": {},
     "output_type": "execute_result"
    }
   ],
   "source": [
    "from typing import List\n",
    "lol = [12,[1,3,4], [2,5,6], [7,8,9], 10]\n",
    "\n",
    "def listicle(lst: List) -> List:\n",
    "    # declare new list\n",
    "    lsty = []\n",
    "    # check for content in list if none return empty list\n",
    "    if len(lst) == 0:\n",
    "        return lst\n",
    "     # check if list contains all integers, if so append to new list\n",
    "    if (all(isinstance(thin, int) for thin in lst)):\n",
    "            lst.sort()\n",
    "            return lst\n",
    "    for item in lst:\n",
    "        # check if length of list is 1 and item is a list return list\n",
    "        if len(lst) == 1 and isinstance(item, list):\n",
    "            return item\n",
    "        # if length 1 return the list\n",
    "        elif len(lst) == 1: \n",
    "            return lst\n",
    "        elif len(lst) > 1:\n",
    "            if not isinstance(item, list):\n",
    "            \n",
    "                lsty.append(item)\n",
    "                lst.remove(item)\n",
    "\n",
    "    for item in lst:\n",
    "        for num in item:\n",
    "            lsty.append(num)\n",
    "    return sorted(lsty)\n",
    "\n",
    "\n",
    "listicle(weak)\n"
   ]
  },
  {
   "cell_type": "markdown",
   "metadata": {},
   "source": [
    "### Unit Tests"
   ]
  },
  {
   "cell_type": "code",
   "execution_count": 110,
   "metadata": {},
   "outputs": [
    {
     "name": "stdout",
     "output_type": "stream",
     "text": [
      "Success!\n"
     ]
    }
   ],
   "source": [
    "def test_listicle():\n",
    "    assert listicle([]) == []\n",
    "    assert listicle([1]) == [1]\n",
    "    assert listicle([0, 1, 2]) == [0, 1, 2]\n",
    "    assert listicle([1, [2]]) == [1, 2]\n",
    "    assert listicle([[1], 2]) == [1, 2]\n",
    "    assert listicle([1, [2, 3, 4, 5, 6, 7], 8]) == [1, 2, 3, 4, 5, 6, 7, 8]\n",
    "    assert listicle([[]]) == []  \n",
    "    assert listicle([1, []]) == [1] \n",
    "    assert listicle([1, [], 2]) == [1, 2] \n",
    "    \n",
    "    print('Success!')\n",
    "    \n",
    "test_listicle()\n",
    "    "
   ]
  },
  {
   "cell_type": "markdown",
   "metadata": {},
   "source": [
    "## Problem 3: Parentheses\n",
    "### Decide if a string contains valid nested parentheses\n",
    "\n",
    "You are given a string consisting only of parentheses - (, ), {, }, [, and ]. Write a Boolean function is_valid_parens() that takes a string and decides if it consists of valid nested parenthesis.\n",
    "\n",
    "Hint: Your function should take open parentheses, such as '(',  and 'push it on a stack' and should take closing parentheses, and pop the stack and compare.  If the close parenthesis doesn't match the open parenthesis on top of the stack, the string is invalid.  If the stack is empty too soon, or is not empty when you finish the string, the string is invalid.  \n",
    "\n",
    "You can read about stacks here: \n",
    "\n",
    "https://en.wikipedia.org/wiki/Stack_(abstract_data_type)\n",
    "\n",
    "Implement your stack with a list, pushing and poping the final element.  "
   ]
  },
  {
   "cell_type": "markdown",
   "metadata": {},
   "source": [
    "<div class=\"alert alert-block alert-info\">\n",
    "Fill in your function below.\n",
    "</div>"
   ]
  },
  {
   "cell_type": "code",
   "execution_count": 6,
   "metadata": {},
   "outputs": [],
   "source": [
    "v = \"{()[{}}]\""
   ]
  },
  {
   "cell_type": "code",
   "execution_count": 17,
   "metadata": {},
   "outputs": [],
   "source": [
    "x = \"{[)][]}\"\n"
   ]
  },
  {
   "cell_type": "code",
   "execution_count": 21,
   "metadata": {},
   "outputs": [
    {
     "data": {
      "text/plain": [
       "False"
      ]
     },
     "execution_count": 21,
     "metadata": {},
     "output_type": "execute_result"
    }
   ],
   "source": [
    "import string\n",
    "# Takes a string, and returns a Boolean \n",
    "#  '{()[{}]}' is valid:    return True\n",
    "#  '{()[{}}' is not:       return False\n",
    "def is_valid_parens(s):\n",
    "    \"Is this a well-nested set of parentheses?\"\n",
    "    # declare new lists, I know this can be done easier, but afters hours of trial and error, here i am \n",
    "    stack = [\"{\", \"}\", \"(\", \")\", \"[\", \"]\"]\n",
    "    right_stack = [\"}\", \")\", \"]\"]\n",
    "    left_stack = [\"{\", \"(\", \"[\"]\n",
    "    # declare empty list\n",
    "    empty_stack = []\n",
    "    # no idea why this needed to be here to work\n",
    "    if s == \"\":\n",
    "        return True\n",
    "    # check if string is valid\n",
    "    for par in s:\n",
    "        if par not in stack:\n",
    "            return False\n",
    "    # if open parentheses append to empty list, if closed parentheses and the stack is not empty,  \n",
    "    # compare the top of the stack, if a match, pop the stack, if not a match return false\n",
    "    # again I know there must be an easier way to do this...\n",
    "    for ch in s:\n",
    "        if ch in left_stack:\n",
    "            empty_stack.append(ch)    \n",
    "        elif ch in right_stack:\n",
    "            # check to make sure stack isn't empty\n",
    "            if len(empty_stack) > 0: \n",
    "                # compare\n",
    "                if empty_stack[-1] == \"[\" and ch == \"]\" or empty_stack[-1] == \"(\" and ch == \")\" or empty_stack[-1] == \"{\" and ch == \"}\":\n",
    "                    empty_stack.pop()\n",
    "                else:\n",
    "                    return False\n",
    "    # if empty stack is not empty return False, else return true\n",
    "    if len(empty_stack) > 0:\n",
    "        return False\n",
    "    else:\n",
    "        return True\n",
    "            \n",
    "    \n",
    "    \n",
    "    \n",
    "is_valid_parens(x)\n"
   ]
  },
  {
   "cell_type": "markdown",
   "metadata": {},
   "source": [
    "### Test case for is_valid_parens()"
   ]
  },
  {
   "cell_type": "code",
   "execution_count": 22,
   "metadata": {},
   "outputs": [
    {
     "data": {
      "text/plain": [
       "'Success!'"
      ]
     },
     "execution_count": 22,
     "metadata": {},
     "output_type": "execute_result"
    }
   ],
   "source": [
    "def test_parens():\n",
    "    assert(is_valid_parens(\"\"))\n",
    "    assert(is_valid_parens(\"[]\"))\n",
    "    assert(is_valid_parens('{()[{}]}'))\n",
    "    assert(is_valid_parens(\"{}\"))\n",
    "    assert(is_valid_parens(\"{[]}\"))\n",
    "    assert(is_valid_parens(\"{}[]\"))\n",
    "    assert(is_valid_parens(\"([{}({}[])])\"))\n",
    "\n",
    "    assert not is_valid_parens('{()[{}}]'), 'Interlaced parentheses'\n",
    "    assert not is_valid_parens(\"[[\"), \"Unmatched opens\"\n",
    "    assert not is_valid_parens(\"}{\"), \"Unmatched close\"\n",
    "    assert not is_valid_parens(\"{]\"), \"Mismatched parentheses\"\n",
    "    assert not is_valid_parens(\"{[])\"), \"Mismatched parentheses\"\n",
    "    assert not is_valid_parens(\"{[)][]}\"), \"Mismatched parentheses\"\n",
    "    assert not is_valid_parens(\"([{])\"), \"Mismatched parentheses\"\n",
    "    assert not is_valid_parens(\"[({]})\"), \"Mismatched parentheses\"\n",
    "    \n",
    "    return 'Success!'\n",
    "\n",
    "test_parens()"
   ]
  },
  {
   "cell_type": "markdown",
   "metadata": {},
   "source": [
    "## Problem 4: Find Large Files\n",
    "\n",
    "Write a function that takes a directory and a size in bytes, \n",
    "and returns a list of files in the directory or below that \n",
    "are larger than the size.  \n",
    "\n",
    "*For example, you can use this function to look for files larger than 1 Meg below your Home directory.*\n",
    "\n",
    "You will find a Python function that gives you the size of a file in the os.path library: \n",
    "\n",
    "https://pymotw.com/3/os.path/"
   ]
  },
  {
   "cell_type": "markdown",
   "metadata": {},
   "source": [
    "<div class=\"alert alert-block alert-info\">\n",
    "Fill in your function below.\n",
    "</div>"
   ]
  },
  {
   "cell_type": "code",
   "execution_count": 24,
   "metadata": {},
   "outputs": [
    {
     "data": {
      "text/plain": [
       "['Cecil_Gilliard_Homework4.ipynb',\n",
       " 'Day4.ipynb',\n",
       " 'words.txt',\n",
       " 'Cecil_Gilliard_Homework4_Jupyter_Notebook.pdf',\n",
       " 'Day4-checkpoint.ipynb',\n",
       " 'Homework4-checkpoint.ipynb',\n",
       " 'Day3.ipynb',\n",
       " 'Day3-checkpoint.ipynb',\n",
       " 'HW2Share.ipynb',\n",
       " 'Cecil_Gilliard_Homework2.ipynb',\n",
       " 'Day2.ipynb',\n",
       " 'Cecil_Gilliard_Homework2 _Jupyter_Notebook.pdf',\n",
       " 'sys.data.json',\n",
       " 'mmap.data.json',\n",
       " 'typing.data.json',\n",
       " 'posixpath.data.json',\n",
       " 'abc.data.json',\n",
       " 'subprocess.data.json',\n",
       " 'genericpath.data.json',\n",
       " 'builtins.data.json',\n",
       " 'io.data.json',\n",
       " 'codecs.data.json',\n",
       " 'ast.data.json',\n",
       " 'types.data.json',\n",
       " 'array.data.json',\n",
       " 'posix.data.json',\n",
       " '_ast.data.json',\n",
       " 'typing_extensions.data.json',\n",
       " '__init__.data.json',\n",
       " '__init__.data.json',\n",
       " 'machinery.data.json',\n",
       " 'abc.data.json',\n",
       " '__init__.data.json',\n",
       " 'Homework2-checkpoint.ipynb',\n",
       " 'Day2-checkpoint.ipynb',\n",
       " 'Cecil_Gilliard_Homework2-checkpoint.ipynb',\n",
       " 'HW2Share-checkpoint.ipynb',\n",
       " 'Cecil_Gilliard_Homework5 _Jupyter_Notebook.pdf',\n",
       " 'HW5Share.ipynb',\n",
       " 'Cecil_Gilliard_Homework4Solutions.ipynb',\n",
       " 'words.txt',\n",
       " 'Homework5.ipynb',\n",
       " 'Day5.ipynb',\n",
       " 'HW5Share-checkpoint.ipynb',\n",
       " 'Day5-checkpoint.ipynb',\n",
       " 'Homework5-checkpoint.ipynb',\n",
       " 'banklist.csv',\n",
       " 'Homework6 (3).ipynb',\n",
       " 'Homework6.ipynb',\n",
       " 'HW6Share.ipynb',\n",
       " 'Beer_Wine.csv',\n",
       " 'HW5Solutions.ipynb',\n",
       " 'Homework6-checkpoint.ipynb',\n",
       " 'HW5Solutions-checkpoint.ipynb',\n",
       " 'HW6Share-checkpoint.ipynb',\n",
       " 'Homework6 (3)-checkpoint.ipynb',\n",
       " 'Cecil_Gilliard_Homework1.ipynb',\n",
       " 'Day1.ipynb',\n",
       " 'Cecil_Gilliard_Python_Hwk1.pdf',\n",
       " 'Day1-checkpoint.ipynb',\n",
       " 'Homework1-checkpoint.ipynb']"
      ]
     },
     "execution_count": 24,
     "metadata": {},
     "output_type": "execute_result"
    }
   ],
   "source": [
    "import os\n",
    "\n",
    "def find_large_files(dirname, filesize):\n",
    "    \"Return a list of large files below this point\"\n",
    "    # Declare list\n",
    "    result_lst = []\n",
    "    # walk directory and sub directories\n",
    "    for dirpath, dirnames, files in os.walk(dirname):\n",
    "        # iterate over list of files in tuple\n",
    "        for file in files:\n",
    "            # get size of file and compare to user input, if greater in size append to list\n",
    "            fp = os.path.join(dirpath, file)\n",
    "            fs = os.path.getsize(fp)\n",
    "            if fs > filesize:\n",
    "                result_lst.append(file)\n",
    "    return result_lst\n",
    "find_large_files(\"..\", 10100)"
   ]
  },
  {
   "cell_type": "markdown",
   "metadata": {},
   "source": [
    "### Show your program in action\n",
    "Give the parameters and show the results for your program\n",
    "\n",
    "I looked for files larger than a Megabyte found below the directory one step up.   "
   ]
  },
  {
   "cell_type": "code",
   "execution_count": 26,
   "metadata": {},
   "outputs": [
    {
     "name": "stdout",
     "output_type": "stream",
     "text": [
      "3\n",
      "Day4.ipynb\n",
      "words.txt\n",
      "words.txt\n"
     ]
    }
   ],
   "source": [
    "lst = find_large_files('..', 1048576)\n",
    "print(len(lst))\n",
    "\n",
    "for path in lst:\n",
    "    print(path)"
   ]
  },
  {
   "cell_type": "markdown",
   "metadata": {},
   "source": [
    "## Problem 5: Wine and Beer\n",
    "\n",
    "Find the top beer and wine suppliers listed in a CSV file.\n",
    "\n",
    "The CSV file Beer__Wine.csv lists beer and wine suppliers to one state. Each line of the file records a different supplier, and includes a 5 or 9 digit zip code. When you see a 9-digit zip code, truncate the last 4 digits.  Find the 5-digit zip codes that hold the most suppliers to the state. \n",
    "\n",
    "Your function should return a list of lists, with the frequency and the zip code. Organize the list in decreasing order of frequency.\n",
    "Here are three items from my list of 720 zip codes\n",
    "```python\n",
    "    [ ... [9, '65616'], [8, '94573'], [8, '63103'] ...]\n",
    "```\n",
    "This tells me that Branson, Missouri, has 9 beer or wine suppliers to the state, and Rutherford, California, has 8.\n",
    "Print the number of suppliers and the zip code for the 10 most common zip codes in the file.\n",
    "\n",
    "Use the csv library to read the textfile. Use the idiom \"Dictionary as a Counter\" (section 11.1 of Downey) to count the number of times you see each zip code. Traverse the Dictionary and build a list of lists, and use the functions sort() or sorted() to organize your list so the most common zip codes are first.\n",
    "\n",
    "To validate your results, you can check the three zip codes above, and you can use Google to map the zip code to a location and check that that is a likely source for wine or beer."
   ]
  },
  {
   "cell_type": "markdown",
   "metadata": {},
   "source": [
    "<div class=\"alert alert-block alert-info\">\n",
    "Fill in your function below.\n",
    "</div>"
   ]
  },
  {
   "cell_type": "code",
   "execution_count": 3,
   "metadata": {},
   "outputs": [
    {
     "name": "stdout",
     "output_type": "stream",
     "text": [
      "defaultdict(<class 'int'>, {1: 3, 3: 1, 4: 4, 2: 3, 65: 1, 5: 1, 6: 3, 7: 1, 8: 1, 9: 1, 24: 1})\n"
     ]
    }
   ],
   "source": [
    "import csv\n",
    "from collections import defaultdict\n",
    "from typing import List\n",
    "\n",
    "lst = [1, 3, 4, 2, 65, 4, 2, 1, 1, 5, 6 , 7 , 8, 9, 4, 6, 4, 2, 24, 6]\n",
    "\n",
    "d = defaultdict (int)\n",
    "\n",
    "for item in lst:\n",
    "    d[item] = d[item] + 1\n",
    "\n",
    "print(d)"
   ]
  },
  {
   "cell_type": "code",
   "execution_count": 3,
   "metadata": {},
   "outputs": [],
   "source": [
    "# Put your implementation there\n",
    "import csv\n",
    "from collections import defaultdict\n",
    "from typing import List\n",
    "\n",
    "# Declare new lists\n",
    "temp_zip = []\n",
    "zip_list = []\n",
    "def list_zips(filename: str) -> List:\n",
    "    \n",
    "    # declare new dict\n",
    "    zip_dict = defaultdict (int)\n",
    "    # open file for reading\n",
    "    with open(filename, 'r') as beer_file:\n",
    "        reader = csv.reader(beer_file)\n",
    "        # skip the first row of file which are column headers\n",
    "        next(reader)\n",
    "        # take the zip codes from the file and append the 1st 5 digits to a new list\n",
    "        for row in reader:\n",
    "            temp_zip.append(row[1])\n",
    "        for item in temp_zip:\n",
    "            zip_list.append(item[0:5])\n",
    "        \n",
    "#         add the list of zip codes to a dictionary keeping track of number of times each appear\n",
    "        \n",
    "        for zip in zip_list:\n",
    "            \n",
    "            zip_dict[zip] = zip_dict[zip] + 1\n",
    "        # make new list\n",
    "        zipcode_lst = []\n",
    "        # add items & count from dict to a list returning a list of lists\n",
    "        for item in zip_dict:\n",
    "            zipcode_lst.append([zip_dict[item], item])\n",
    "        return sorted(zipcode_lst, reverse=True)    \n",
    "          \n"
   ]
  },
  {
   "cell_type": "code",
   "execution_count": 4,
   "metadata": {},
   "outputs": [
    {
     "name": "stdout",
     "output_type": "stream",
     "text": [
      "720\n",
      "[[54, '94558'], [41, '94574'], [27, '95448'], [18, '95476'], [18, '94515'], [16, '95472'], [16, '93446'], [12, '95403'], [11, '99362'], [11, '94562']]\n"
     ]
    }
   ],
   "source": [
    "lst = list_zips(\"Beer_Wine.csv\")\n",
    "\n",
    "print(len(lst))\n",
    "print(lst[:10])"
   ]
  },
  {
   "cell_type": "code",
   "execution_count": 53,
   "metadata": {},
   "outputs": [
    {
     "name": "stdout",
     "output_type": "stream",
     "text": [
      "['01007', '01949', '02048', '02066', '02136', '02155', '02210', '02364', '02536', '02720']\n"
     ]
    }
   ],
   "source": [
    "print(zip_list[:10])\n",
    "lst = zip_list"
   ]
  },
  {
   "cell_type": "markdown",
   "metadata": {},
   "source": [
    "## Find the longest sequence of consecutive zip codes\n",
    "\n",
    "64110, 64111, and 64112 are all Zip codes found in the file.\n",
    "\n",
    "Find the longest sequence of consecutive zip codes in the file.  If two sequences have the same length, print the first one.  "
   ]
  },
  {
   "cell_type": "code",
   "execution_count": 54,
   "metadata": {},
   "outputs": [
    {
     "data": {
      "text/plain": [
       "['01949',\n",
       " '02048',\n",
       " '02066',\n",
       " '02136',\n",
       " '02155',\n",
       " '02210',\n",
       " '02364',\n",
       " '02536',\n",
       " '02720',\n",
       " '02780',\n",
       " '03965',\n",
       " '05770',\n",
       " '05843',\n",
       " '06370',\n",
       " '06514',\n",
       " '06851',\n",
       " '08057',\n",
       " '08360',\n",
       " '08837',\n",
       " '08873',\n",
       " '10001',\n",
       " '49423',\n",
       " '49503',\n",
       " '52247',\n",
       " '52753',\n",
       " '53151',\n",
       " '53204',\n",
       " '53208',\n",
       " '53566']"
      ]
     },
     "execution_count": 54,
     "metadata": {},
     "output_type": "execute_result"
    }
   ],
   "source": [
    "def find_longest_sequence(lst):\n",
    "    lst.sort()\n",
    "    prev = lst[0]\n",
    "    temp_lst = []\n",
    "    new_lst = []\n",
    "    final_lst = []\n",
    "    \n",
    "    pos = -1           # current position\n",
    "    max_len = 1        # Longest sequence so far\n",
    "    max_pos = 0        # starting point of longest sequence\n",
    "    ln = 1             # length of current run\n",
    "    \n",
    "    for pos, curr in enumerate(lst[1:]):\n",
    "#         print(f\"{pos = } {curr = }\")\n",
    "        if prev < curr:\n",
    "            ln = ln + 1\n",
    "            if ln > max_len:\n",
    "                max_len = ln\n",
    "                max_pos = pos - ln + 2\n",
    "                temp_lst.append(curr)\n",
    "                new_lst = temp_lst\n",
    "            elif max_len > ln:\n",
    "                final_lst = new_lst\n",
    "        else:\n",
    "            ln = 1\n",
    "#             temp_lst.clear()\n",
    "#             print(f\"\\treset\")\n",
    "        prev = curr\n",
    "    return (final_lst)\n",
    "    \n",
    "        \n",
    "find_longest_sequence(lst)"
   ]
  },
  {
   "cell_type": "markdown",
   "metadata": {},
   "source": [
    "## Print the zip codes in the longest consecutive sequence in the file"
   ]
  },
  {
   "cell_type": "code",
   "execution_count": 55,
   "metadata": {},
   "outputs": [
    {
     "name": "stdout",
     "output_type": "stream",
     "text": [
      "['01949', '02048', '02066', '02136', '02155', '02210', '02364', '02536', '02720', '02780', '03965', '05770', '05843', '06370', '06514', '06851', '08057', '08360', '08837', '08873', '10001', '49423', '49503', '52247', '52753', '53151', '53204', '53208', '53566']\n"
     ]
    }
   ],
   "source": [
    "seq = find_longest_sequence(lst)\n",
    "\n",
    "print(seq)"
   ]
  },
  {
   "cell_type": "markdown",
   "metadata": {},
   "source": [
    "# Post Mortem"
   ]
  },
  {
   "cell_type": "markdown",
   "metadata": {},
   "source": [
    "How long did it take you to solve this problem set?\n",
    "\n",
    "Did anything confuse you or cause difficulty?"
   ]
  },
  {
   "cell_type": "markdown",
   "metadata": {},
   "source": [
    "# Enter your thoughts\n",
    "It took me TOO long... And without going to office hrs no way I would have made it through the consequtive longest \n",
    "sequence... Tough week. Thankful I'm finished, but I need lots of practice.\n",
    "No idea yet on what I'm doing for my final project so there is that!\n",
    "Cheers!"
   ]
  },
  {
   "cell_type": "code",
   "execution_count": null,
   "metadata": {},
   "outputs": [],
   "source": []
  }
 ],
 "metadata": {
  "kernelspec": {
   "display_name": "Python 3",
   "language": "python",
   "name": "python3"
  },
  "language_info": {
   "codemirror_mode": {
    "name": "ipython",
    "version": 3
   },
   "file_extension": ".py",
   "mimetype": "text/x-python",
   "name": "python",
   "nbconvert_exporter": "python",
   "pygments_lexer": "ipython3",
   "version": "3.8.11"
  }
 },
 "nbformat": 4,
 "nbformat_minor": 1
}
