{
 "cells": [
  {
   "cell_type": "markdown",
   "metadata": {},
   "source": [
    "# Homework 8\n",
    "\n",
    "## 2021\n",
    "\n",
    "### Fill in your name"
   ]
  },
  {
   "cell_type": "code",
   "execution_count": null,
   "metadata": {},
   "outputs": [],
   "source": [
    "first_name = \"Cecil\"\n",
    "last_name = \"Gilliard\"\n",
    "\n",
    "assert(len(first_name) != 0)\n",
    "assert(len(last_name)  != 0)"
   ]
  },
  {
   "cell_type": "markdown",
   "metadata": {},
   "source": [
    "## Problem 1: Secret Code\n",
    "\n",
    "We looked at ROT-13, a simple substitution cipher, in Office Hours last week.\n",
    "\n",
    "This week we will write another cipher:\n",
    "\n",
    "```text\n",
    "Plain:  abcdefghijklmnopqrstuvwxyz\n",
    "Cipher: zyxwvutsrqponmlkjihgfedcba\n",
    "```\n",
    "\n",
    "To hide our tracks, when we encode, we split the string into blocks of 5 characters.  See the Unit Tests for examples.\n",
    "\n",
    "Write functions encode and decode that take a string and return an encoded or decoded string."
   ]
  },
  {
   "cell_type": "code",
   "execution_count": 96,
   "metadata": {},
   "outputs": [
    {
     "name": "stdout",
     "output_type": "stream",
     "text": [
      "retval = 'gvhgr mt123 gvhgr mt'\n"
     ]
    },
    {
     "data": {
      "text/plain": [
       "'cecilisgoingtothestore'"
      ]
     },
     "execution_count": 96,
     "metadata": {},
     "output_type": "execute_result"
    }
   ],
   "source": [
    "import string\n",
    "\n",
    "def encode(text: str) -> str:\n",
    "    # make list of alphabet\n",
    "    alpha = list(string.ascii_lowercase)\n",
    "    # make reverse list of alphabet\n",
    "    omega = alpha[::-1]\n",
    "    # add the 2 lists to a dict\n",
    "    cypher_d = dict(zip(alpha, omega))\n",
    "    # add the string equivalent of the integers to the dict\n",
    "    for i in range(10):\n",
    "        cypher_d[str(i)] = str(i)\n",
    "    # convert string to lowercase\n",
    "    lowercase = text.lower()\n",
    "    # if a character from the string appears in the dict as a key, return the value \n",
    "    # and create a list\n",
    "    coded = (\"\".join([cypher_d[c] for c in lowercase if c in cypher_d]))\n",
    "    x = 5\n",
    "    # return a list of the ciphertext in blocks of 5 characters\n",
    "    return \" \".join([coded[i:i+x] for i in range(0, len(coded), x)])\n",
    "   \n",
    "                   \n",
    "retval = encode(\"Testing, 1 2 3, testing.\")\n",
    "print(f\"{retval = }\")\n",
    "\n",
    "\n",
    "def decode(ciphered_text: str) -> str:\n",
    "    # make list of alphabet\n",
    "    alpha = list(string.ascii_lowercase)\n",
    "    # make reverse list of alphabet\n",
    "    omega = alpha[::-1]\n",
    "    # add the 2 lists to a dict\n",
    "    uncypher_d = dict(zip(omega, alpha))\n",
    "    # add the string equivalent of the integers to the dict\n",
    "    for i in range(10):\n",
    "        uncypher_d[str(i)] = str(i)\n",
    "    # convert string to lowercase \n",
    "    lowercase = ciphered_text.lower()\n",
    "    # if a character from the string appears in the dict as a key, return the value\n",
    "    coded = [uncypher_d[c] for c in lowercase if c in uncypher_d]\n",
    "    return(\"\".join(coded))\n",
    "\n",
    "decode(\"xvxro rh tlrmt gl gsv hgliv\")"
   ]
  },
  {
   "cell_type": "markdown",
   "metadata": {},
   "source": [
    "## Unit Tests"
   ]
  },
  {
   "cell_type": "code",
   "execution_count": 97,
   "metadata": {},
   "outputs": [
    {
     "name": "stdout",
     "output_type": "stream",
     "text": [
      "Success!\n"
     ]
    }
   ],
   "source": [
    "def test_code():\n",
    "    assert encode(\"no\") == \"ml\"\n",
    "    assert encode(\"yes\") == \"bvh\"\n",
    "    assert encode(\"OMG\") == \"lnt\"\n",
    "    assert encode(\"O M G\") == \"lnt\"\n",
    "    assert encode(\"mindblowingly\") == \"nrmwy oldrm tob\"\n",
    "    assert encode(\"Testing, 1 2 3, testing.\") == \"gvhgr mt123 gvhgr mt\"\n",
    "    assert encode(\"Truth is fiction.\") == \"gifgs rhurx grlm\"\n",
    "\n",
    "    plaintext = \"The quick brown fox jumps over the lazy dog.\"\n",
    "    ciphertext = \"gsvjf rxpyi ldmul cqfnk hlevi gsvoz abwlt\"\n",
    "    assert encode(plaintext) == ciphertext\n",
    "    assert decode(\"zmlyh\") == \"anobs\"\n",
    "    assert decode(\"zmlyh gzxov rhlug vmzhg vkkrm thglm v\") == \"anobstacleisoftenasteppingstone\"\n",
    "    assert decode(\"gvhgr mt123 gvhgr mt\") == \"testing123testing\"\n",
    "\n",
    "    ciphertext = \"gsvjf rxpyi ldmul cqfnk hlevi gsvoz abwlt\"\n",
    "    plaintext = \"thequickbrownfoxjumpsoverthelazydog\"\n",
    "    assert decode(ciphertext) == plaintext\n",
    "\n",
    "    ciphertext = \"zmlyhgzxovrhlugvmzhgvkkrmthglmv\"\n",
    "    plaintext = \"anobstacleisoftenasteppingstone\"\n",
    "    assert decode(ciphertext) == plaintext\n",
    "    \n",
    "    assert decode(encode(\"Testing, 1 2 3, testing.\")) == \"testing123testing\"\n",
    "    \n",
    "    print('Success!')\n",
    "    \n",
    "test_code()"
   ]
  },
  {
   "cell_type": "markdown",
   "metadata": {},
   "source": [
    "## Problem 2: Dates\n",
    "\n",
    "Fill in the defintion of the three method below for a class Date "
   ]
  },
  {
   "cell_type": "code",
   "execution_count": 7,
   "metadata": {},
   "outputs": [],
   "source": [
    "class Date(object):\n",
    "    \"Represents a Calendar date\"\n",
    "    \n",
    "    def __init__(self, day=0, month=0, year=0):\n",
    "        \"Initialize\"\n",
    "        self.day = day\n",
    "        self.month = month\n",
    "        self.year = year\n",
    "\n",
    "\n",
    "    def __str__(self):\n",
    "        \"Return a printable string representing the date: m/d/y\"\n",
    "        return '%.1d/%.1d/%.1d' % (self.month, self.day, self.year)\n",
    "    \n",
    "\n",
    "    def before(self, dt):\n",
    "        \"Is this date before other?\"\n",
    "        return (self.year, self.month, self.day) < (dt.year, dt.month, dt.day)\n",
    "        \n"
   ]
  },
  {
   "cell_type": "markdown",
   "metadata": {},
   "source": [
    "## Unit Tests"
   ]
  },
  {
   "cell_type": "code",
   "execution_count": 8,
   "metadata": {},
   "outputs": [
    {
     "name": "stdout",
     "output_type": "stream",
     "text": [
      "Success!\n"
     ]
    }
   ],
   "source": [
    "def test_dates():\n",
    "    t1 = Date(1, 2, 3)\n",
    "    assert t1.__str__() == '2/1/3'\n",
    "    t2 = Date(4, 5, 2)\n",
    "    assert t2.__str__() == '5/4/2'\n",
    "    \n",
    "    assert not t1.before(t1)\n",
    "    assert t2.before(t1)\n",
    "    assert not t1.before(t2)\n",
    " \n",
    "    t2 = Date(4, 1, 3)\n",
    "    assert t2.__str__() == '1/4/3'\n",
    "    \n",
    "    assert not t1.before(t1)\n",
    "    assert t2.before(t1)\n",
    "\n",
    "    t1 = Date(2, 2, 3)\n",
    "    t2 = Date(1, 2, 3)\n",
    "    assert t2.__str__() == '2/1/3'\n",
    "    \n",
    "    assert not t1.before(t1)\n",
    "    assert not t1.before(t2)\n",
    "    assert t2.before(t1)\n",
    "\n",
    "    print(\"Success!\")\n",
    "    \n",
    "test_dates()"
   ]
  },
  {
   "cell_type": "code",
   "execution_count": 9,
   "metadata": {},
   "outputs": [
    {
     "name": "stdout",
     "output_type": "stream",
     "text": [
      "False\n"
     ]
    }
   ],
   "source": [
    "class Interval(object):\n",
    "    \n",
    "    def __init__(self, a, b):\n",
    "        \"\"\"Initialize an inteval\"\"\"\n",
    "        self.a = a\n",
    "        self.b = b\n",
    "    \n",
    "    \n",
    "    def __eq__(self, other):\n",
    "        \"\"\"Are two intervals equal?\"\"\"\n",
    "        if (self.a == other.b and self.b == other.a):\n",
    "             return True\n",
    "        elif (self.a == other.a and self.b == other.b):\n",
    "            return True\n",
    "            \n",
    "        return False\n",
    "                    \n",
    "    def __str__(self):\n",
    "        \"\"\"Return string representing Interval\"\"\"\n",
    "        return \"[%i..%i]\" % (self.a, self.b)\n",
    "    \n",
    "    \n",
    "ik = Interval(4, 3)\n",
    "il = Interval(1, 3)\n",
    "\n",
    "print(ik.__eq__(il))"
   ]
  },
  {
   "cell_type": "markdown",
   "metadata": {},
   "source": [
    "## Problem 3: Intervals\n",
    "\n",
    "This problems takes one of the share problems from Day 7 and solves it using Objects.\n",
    "\n",
    "Finish the definition of the class Interval.  The interval '[a..b]' includes all it\n",
    "Decide if two intervals are equal.  Print an interval as [a..b].  \n",
    "Decide if two intervals overlap, and merge two intervals.  "
   ]
  },
  {
   "cell_type": "code",
   "execution_count": 2,
   "metadata": {},
   "outputs": [
    {
     "name": "stdout",
     "output_type": "stream",
     "text": [
      "(1, 4)\n"
     ]
    }
   ],
   "source": [
    "class Interval(object):\n",
    "    \n",
    "    def __init__(self, a, b):\n",
    "        \"\"\"Initialize an inteval\"\"\"\n",
    "        self.a = a\n",
    "        self.b = b\n",
    "    \n",
    "    # very very very frustrating portion of the assignment for me!!\n",
    "    def __eq__(self, other):\n",
    "        \"\"\"Are two intervals equal?\"\"\"\n",
    "        if (self.a == other.b and self.b == other.a):\n",
    "             return True\n",
    "        elif (self.a == other.a and self.b == other.b):\n",
    "            return True\n",
    "            \n",
    "        return False\n",
    "                    \n",
    "    def __str__(self):\n",
    "        \"\"\"Return string representing Interval\"\"\"\n",
    "        return \"[%i..%i]\" % (self.a, self.b)\n",
    "    \n",
    "    def intersect(self, other):\n",
    "        \"\"\"Do two Intervals intersect?\"\"\"\n",
    "        # I got this idea from Lena's section and I got set intersection from Web3 schools\n",
    "        seta = set(list(range(self.a, self.b+1)))\n",
    "        setb = set(list(range(other.a, other.b+1)))\n",
    "        # check for intersection\n",
    "        if (seta.intersection(setb)):\n",
    "            return True\n",
    "        return False\n",
    "    def merge(self, other):\n",
    "        \"\"\"Merge two intersecting Intervals\"\"\"\n",
    "        # assign the minimum value from self to variable\n",
    "        mini = min(list(range(self.a, self.b+1)))\n",
    "        # assign maximum value from other to variable\n",
    "        maxi = max(list(range(other.a, other.b+1)))\n",
    "        # return merged interval\n",
    "        return(f'({mini}, {maxi})')\n",
    "    \n",
    "# This is a function, not a method\n",
    "def contains(p, i):\n",
    "    \"\"\"Is the value i within the closed interval p?\"\"\"\n",
    "    # assign the interval to variables\n",
    "    mini = p.a\n",
    "    maxi = p.b\n",
    "    # check if i between interval\n",
    "    if (mini < i < maxi):\n",
    "        return True\n",
    "    return False\n",
    "    \n",
    "    \n",
    "ia = Interval(1, 3)\n",
    "ib = Interval(3, 1)\n",
    "\n",
    "ic = Interval(2, 4)\n",
    "id = Interval(2, 4)\n",
    "\n",
    "ie = Interval(2, 4)\n",
    "ig = Interval(1, 3)\n",
    "\n",
    "print(ia.merge(ie))"
   ]
  },
  {
   "cell_type": "markdown",
   "metadata": {},
   "source": [
    "## Unit Tests"
   ]
  },
  {
   "cell_type": "code",
   "execution_count": 13,
   "metadata": {},
   "outputs": [
    {
     "ename": "AttributeError",
     "evalue": "'str' object has no attribute 'b'",
     "output_type": "error",
     "traceback": [
      "\u001b[0;31m---------------------------------------------------------------------------\u001b[0m",
      "\u001b[0;31mAttributeError\u001b[0m                            Traceback (most recent call last)",
      "\u001b[0;32m<ipython-input-13-88812baf5f4b>\u001b[0m in \u001b[0;36m<module>\u001b[0;34m\u001b[0m\n\u001b[1;32m      9\u001b[0m     \u001b[0mprint\u001b[0m\u001b[0;34m(\u001b[0m\u001b[0;34m'Success!'\u001b[0m\u001b[0;34m)\u001b[0m\u001b[0;34m\u001b[0m\u001b[0;34m\u001b[0m\u001b[0m\n\u001b[1;32m     10\u001b[0m \u001b[0;34m\u001b[0m\u001b[0m\n\u001b[0;32m---> 11\u001b[0;31m \u001b[0mtest_interval\u001b[0m\u001b[0;34m(\u001b[0m\u001b[0;34m)\u001b[0m\u001b[0;34m\u001b[0m\u001b[0;34m\u001b[0m\u001b[0m\n\u001b[0m",
      "\u001b[0;32m<ipython-input-13-88812baf5f4b>\u001b[0m in \u001b[0;36mtest_interval\u001b[0;34m()\u001b[0m\n\u001b[1;32m      5\u001b[0m     \u001b[0;32massert\u001b[0m \u001b[0mInterval\u001b[0m\u001b[0;34m(\u001b[0m\u001b[0;36m1\u001b[0m\u001b[0;34m,\u001b[0m \u001b[0;36m3\u001b[0m\u001b[0;34m)\u001b[0m\u001b[0;34m.\u001b[0m\u001b[0mintersect\u001b[0m\u001b[0;34m(\u001b[0m\u001b[0mInterval\u001b[0m\u001b[0;34m(\u001b[0m\u001b[0;36m2\u001b[0m\u001b[0;34m,\u001b[0m \u001b[0;36m4\u001b[0m\u001b[0;34m)\u001b[0m\u001b[0;34m)\u001b[0m\u001b[0;34m\u001b[0m\u001b[0;34m\u001b[0m\u001b[0m\n\u001b[1;32m      6\u001b[0m     \u001b[0;32massert\u001b[0m \u001b[0;32mnot\u001b[0m \u001b[0mInterval\u001b[0m\u001b[0;34m(\u001b[0m\u001b[0;36m1\u001b[0m\u001b[0;34m,\u001b[0m \u001b[0;36m3\u001b[0m\u001b[0;34m)\u001b[0m\u001b[0;34m.\u001b[0m\u001b[0mintersect\u001b[0m\u001b[0;34m(\u001b[0m\u001b[0mInterval\u001b[0m\u001b[0;34m(\u001b[0m\u001b[0;36m4\u001b[0m\u001b[0;34m,\u001b[0m \u001b[0;36m7\u001b[0m\u001b[0;34m)\u001b[0m\u001b[0;34m)\u001b[0m\u001b[0;34m\u001b[0m\u001b[0;34m\u001b[0m\u001b[0m\n\u001b[0;32m----> 7\u001b[0;31m     \u001b[0;32massert\u001b[0m \u001b[0mInterval\u001b[0m\u001b[0;34m(\u001b[0m\u001b[0;36m1\u001b[0m\u001b[0;34m,\u001b[0m \u001b[0;36m3\u001b[0m\u001b[0;34m)\u001b[0m\u001b[0;34m.\u001b[0m\u001b[0mmerge\u001b[0m\u001b[0;34m(\u001b[0m\u001b[0mInterval\u001b[0m\u001b[0;34m(\u001b[0m\u001b[0;36m2\u001b[0m\u001b[0;34m,\u001b[0m \u001b[0;36m4\u001b[0m\u001b[0;34m)\u001b[0m\u001b[0;34m)\u001b[0m \u001b[0;34m==\u001b[0m \u001b[0mInterval\u001b[0m\u001b[0;34m(\u001b[0m\u001b[0;36m1\u001b[0m\u001b[0;34m,\u001b[0m \u001b[0;36m4\u001b[0m\u001b[0;34m)\u001b[0m\u001b[0;34m\u001b[0m\u001b[0;34m\u001b[0m\u001b[0m\n\u001b[0m\u001b[1;32m      8\u001b[0m \u001b[0;34m\u001b[0m\u001b[0m\n\u001b[1;32m      9\u001b[0m     \u001b[0mprint\u001b[0m\u001b[0;34m(\u001b[0m\u001b[0;34m'Success!'\u001b[0m\u001b[0;34m)\u001b[0m\u001b[0;34m\u001b[0m\u001b[0;34m\u001b[0m\u001b[0m\n",
      "\u001b[0;32m<ipython-input-12-0c04b2bd7448>\u001b[0m in \u001b[0;36m__eq__\u001b[0;34m(self, other)\u001b[0m\n\u001b[1;32m     11\u001b[0m     \u001b[0;32mdef\u001b[0m \u001b[0m__eq__\u001b[0m\u001b[0;34m(\u001b[0m\u001b[0mself\u001b[0m\u001b[0;34m,\u001b[0m \u001b[0mother\u001b[0m\u001b[0;34m)\u001b[0m\u001b[0;34m:\u001b[0m\u001b[0;34m\u001b[0m\u001b[0;34m\u001b[0m\u001b[0m\n\u001b[1;32m     12\u001b[0m         \u001b[0;34m\"\"\"Are two intervals equal?\"\"\"\u001b[0m\u001b[0;34m\u001b[0m\u001b[0;34m\u001b[0m\u001b[0m\n\u001b[0;32m---> 13\u001b[0;31m         \u001b[0;32mif\u001b[0m \u001b[0;34m(\u001b[0m\u001b[0mself\u001b[0m\u001b[0;34m.\u001b[0m\u001b[0ma\u001b[0m \u001b[0;34m==\u001b[0m \u001b[0mother\u001b[0m\u001b[0;34m.\u001b[0m\u001b[0mb\u001b[0m \u001b[0;32mand\u001b[0m \u001b[0mself\u001b[0m\u001b[0;34m.\u001b[0m\u001b[0mb\u001b[0m \u001b[0;34m==\u001b[0m \u001b[0mother\u001b[0m\u001b[0;34m.\u001b[0m\u001b[0ma\u001b[0m\u001b[0;34m)\u001b[0m\u001b[0;34m:\u001b[0m\u001b[0;34m\u001b[0m\u001b[0;34m\u001b[0m\u001b[0m\n\u001b[0m\u001b[1;32m     14\u001b[0m              \u001b[0;32mreturn\u001b[0m \u001b[0;32mTrue\u001b[0m\u001b[0;34m\u001b[0m\u001b[0;34m\u001b[0m\u001b[0m\n\u001b[1;32m     15\u001b[0m         \u001b[0;32melif\u001b[0m \u001b[0;34m(\u001b[0m\u001b[0mself\u001b[0m\u001b[0;34m.\u001b[0m\u001b[0ma\u001b[0m \u001b[0;34m==\u001b[0m \u001b[0mother\u001b[0m\u001b[0;34m.\u001b[0m\u001b[0ma\u001b[0m \u001b[0;32mand\u001b[0m \u001b[0mself\u001b[0m\u001b[0;34m.\u001b[0m\u001b[0mb\u001b[0m \u001b[0;34m==\u001b[0m \u001b[0mother\u001b[0m\u001b[0;34m.\u001b[0m\u001b[0mb\u001b[0m\u001b[0;34m)\u001b[0m\u001b[0;34m:\u001b[0m\u001b[0;34m\u001b[0m\u001b[0;34m\u001b[0m\u001b[0m\n",
      "\u001b[0;31mAttributeError\u001b[0m: 'str' object has no attribute 'b'"
     ]
    }
   ],
   "source": [
    "def test_interval():\n",
    "    assert Interval(1, 3) == Interval(1, 3)\n",
    "    assert Interval(1, 3) == Interval(3, 1)\n",
    "    assert Interval(1, 3).__str__() == '[1..3]'\n",
    "    assert Interval(1, 3).intersect(Interval(2, 4))\n",
    "    assert not Interval(1, 3).intersect(Interval(4, 7))\n",
    "    assert Interval(1, 3).merge(Interval(2, 4)) == Interval(1, 4)\n",
    "    \n",
    "    print('Success!')\n",
    "    \n",
    "test_interval()"
   ]
  },
  {
   "cell_type": "code",
   "execution_count": null,
   "metadata": {},
   "outputs": [],
   "source": []
  }
 ],
 "metadata": {
  "kernelspec": {
   "display_name": "Python 3",
   "language": "python",
   "name": "python3"
  },
  "language_info": {
   "codemirror_mode": {
    "name": "ipython",
    "version": 3
   },
   "file_extension": ".py",
   "mimetype": "text/x-python",
   "name": "python",
   "nbconvert_exporter": "python",
   "pygments_lexer": "ipython3",
   "version": "3.8.11"
  }
 },
 "nbformat": 4,
 "nbformat_minor": 1
}
