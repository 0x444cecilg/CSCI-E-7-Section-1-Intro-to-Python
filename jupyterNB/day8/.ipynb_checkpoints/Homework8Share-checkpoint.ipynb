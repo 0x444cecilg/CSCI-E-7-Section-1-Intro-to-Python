{
 "cells": [
  {
   "cell_type": "code",
   "execution_count": null,
   "metadata": {},
   "outputs": [],
   "source": []
  },
  {
   "cell_type": "code",
   "execution_count": null,
   "metadata": {},
   "outputs": [],
   "source": []
  },
  {
   "cell_type": "code",
   "execution_count": null,
   "metadata": {},
   "outputs": [],
   "source": []
  },
  {
   "cell_type": "markdown",
   "metadata": {},
   "source": [
    "# Homework 8 Share\n",
    "## 2021"
   ]
  },
  {
   "cell_type": "markdown",
   "metadata": {},
   "source": [
    "## Problem 1: Vectors\n",
    "\n",
    "Fill in the methods for a class of 2-D Vectores"
   ]
  },
  {
   "cell_type": "code",
   "execution_count": 4,
   "metadata": {},
   "outputs": [],
   "source": [
    "class Vector(object):\n",
    "    \n",
    "    def __init__(self, x, y):\n",
    "        pass\n",
    "    \n",
    "    def __add__(self, other):\n",
    "        pass\n",
    "    \n",
    "    def __str__(self):\n",
    "        pass\n",
    "    \n",
    "    def __eq__(self, other):\n",
    "        pass"
   ]
  },
  {
   "cell_type": "markdown",
   "metadata": {},
   "source": [
    "## Unit Tests"
   ]
  },
  {
   "cell_type": "code",
   "execution_count": 11,
   "metadata": {},
   "outputs": [
    {
     "name": "stdout",
     "output_type": "stream",
     "text": [
      "Success\n"
     ]
    }
   ],
   "source": [
    "def test_vector():\n",
    "    \n",
    "    v1 = Vector(1, 2)\n",
    "    v2 = Vector(1, 2)\n",
    "    \n",
    "    assert v1 + v2 == Vector(2, 4)\n",
    "    assert v1.__str__() == '<1, 2>'\n",
    "    assert v1 == v2\n",
    "    \n",
    "    print('Success!!!')\n",
    "    \n",
    "test_vector()"
   ]
  },
  {
   "cell_type": "markdown",
   "metadata": {},
   "source": [
    "# Problem 2: Scrabble Score\n",
    "\n",
    "Given a word, compute the scrabble score for that word.\n",
    "\n",
    "## Letter Values\n",
    "\n",
    "You'll need these:\n",
    "\n",
    "```text\n",
    "Letter                           Value\n",
    "A, E, I, O, U, L, N, R, S, T       1\n",
    "D, G                               2\n",
    "B, C, M, P                         3\n",
    "F, H, V, W, Y                      4\n",
    "K                                  5\n",
    "J, X                               8\n",
    "Q, Z                               10\n",
    "```\n",
    "\n",
    "## Examples\n",
    "\n",
    "The word \"cabbage\" is worth 14 points in Scrabble.\n",
    "\n",
    "\n",
    "## *Edit this cell to hold your solution*\n",
    "\n",
    "### Type hints for this would be\n",
    "\n",
    "```python\n",
    "def score(word: str) -> int:\n",
    "```"
   ]
  },
  {
   "cell_type": "code",
   "execution_count": null,
   "metadata": {},
   "outputs": [],
   "source": [
    "def score(word):\n",
    "    \"\"\"Take a string, and return it's scrabble score\"\"\"\n",
    "    pass"
   ]
  },
  {
   "cell_type": "markdown",
   "metadata": {},
   "source": [
    "## Unit Test cases for score()"
   ]
  },
  {
   "cell_type": "code",
   "execution_count": 18,
   "metadata": {},
   "outputs": [
    {
     "name": "stdout",
     "output_type": "stream",
     "text": [
      "Success!\n"
     ]
    }
   ],
   "source": [
    "def test_score():\n",
    "    scr = score('a')\n",
    "    assert(scr == 1)\n",
    "\n",
    "    scr = score('F')\n",
    "    assert(scr == 4)\n",
    "\n",
    "    scr = score('at')\n",
    "    assert(scr == 2)\n",
    "\n",
    "    scr = score('zoo')\n",
    "    assert(scr == 12)\n",
    "\n",
    "    scr = score('street')\n",
    "    assert(scr == 6)\n",
    "\n",
    "    scr = score('quirky')\n",
    "    assert(scr == 22)\n",
    "\n",
    "    print('Success!')\n",
    "    \n",
    "test_score()"
   ]
  },
  {
   "cell_type": "markdown",
   "metadata": {},
   "source": [
    "# Problem 3: Repeats\n",
    "\n",
    "Any sequence that is long enough will have repeats.  If you have a sequence of DNA 5 bases long, some letter will appear twice. If it is 17 bases long, there will be a repeat of length 2.  \n",
    "\n",
    "However, there are repeats far longer than that in typical DNA sequences.  You can read up on transpons or investigate the sequence for Maize to learn more.\n",
    "\n",
    "Write a program to find the longest repeat in a fasta file. \n",
    "\n",
    "Biologists use a simple text file to hold sequences, with the suffix .fasta.\n",
    "FASTA is a program used to look for matching sequences.  \n",
    "\n",
    "The first line in a fasta file describes the sequence.  \n",
    "The data is stored in lines limited to 79 columns.   \n",
    "\n",
    "### Hint: you will need to remove the header and the newlines from the FASTA file\n",
    "\n",
    "Print the location of the repeats, and the sequence"
   ]
  },
  {
   "cell_type": "markdown",
   "metadata": {},
   "source": [
    "### Example\n",
    "\n",
    "```python\n",
    "% wc ../../NewPy/Data/pACYC184.fasta \n",
    "63      65    4355 ../../NewPy/Data/pACYC184.fasta\n",
    "\n",
    "% python repeat.py pACYC184.fasta \n",
    ">gi|58255|emb|X06403.1| Cloning vector pACYC184\n",
    "Found duplicate of length 94\n",
    "2224 AGCTCCTTCCGGTGGGCGCGGGGCATGACTATCGTCGCCGCACTTATGACTGTCTTCTTTATCATGCAACTCGTAGGACAGGTGCCGGCAGCGC\n",
    "3318 AGCTCCTTCCGGTGGGCGCGGGGCATGACTATCGTCGCCGCACTTATGACTGTCTTCTTTATCATGCAACTCGTAGGACAGGTGCCGGCAGCGC\n",
    "```\n",
    "\n",
    "The chances of finding a repeat of length 95 in a rabdin sequence of length 4K are infinitesimal.  "
   ]
  },
  {
   "cell_type": "code",
   "execution_count": 24,
   "metadata": {},
   "outputs": [
    {
     "name": "stdout",
     "output_type": "stream",
     "text": [
      "Saw >gi|58255|emb|X06403.1| Cloning vector pACYC184\n",
      "\n",
      "Found duplicate of length 94\n",
      "2180 AGCTCCTTCCGGTGGGCGCGGGGCATGACTATCGTCGCCGCACTTATGACTGTCTTCTTTATCATGCAACTCGTAGGACAGGTGCCGGCAGCGC\n",
      "3274 AGCTCCTTCCGGTGGGCGCGGGGCATGACTATCGTCGCCGCACTTATGACTGTCTTCTTTATCATGCAACTCGTAGGACAGGTGCCGGCAGCGC\n"
     ]
    }
   ],
   "source": [
    "text = prepare(readFastaFile(filename))\n",
    "(pos, dup, ln) = findLongestRepeat(text)\n",
    "\n",
    "print(\"Found duplicate of length\", ln)\n",
    "print(pos, text[pos:pos+ln])\n",
    "print(dup, text[dup:dup+ln])"
   ]
  },
  {
   "cell_type": "markdown",
   "metadata": {},
   "source": [
    "# Problem 4: Flatten\n",
    "\n",
    "You have written a function that flattens a 2-level list\n",
    "\n",
    "Write a function that flattens an arbitrarily deep list.  "
   ]
  },
  {
   "cell_type": "code",
   "execution_count": 12,
   "metadata": {},
   "outputs": [],
   "source": [
    "def flatten(iterable) -> list:\n",
    "    pass"
   ]
  },
  {
   "cell_type": "markdown",
   "metadata": {},
   "source": [
    "## Unit tests"
   ]
  },
  {
   "cell_type": "code",
   "execution_count": 15,
   "metadata": {},
   "outputs": [
    {
     "name": "stdout",
     "output_type": "stream",
     "text": [
      "Success!!\n"
     ]
    }
   ],
   "source": [
    "def test_flatten():\n",
    "    assert flatten([0, 1, 2]) == [0, 1, 2]\n",
    "\n",
    "    inputs = [1, [2, 3, 4, 5, 6, 7], 8]\n",
    "    expected = [1, 2, 3, 4, 5, 6, 7, 8]\n",
    "    assert flatten(inputs) == expected\n",
    "\n",
    "    inputs = [0, 2, [[2, 3], 8, 100, 4, [[[50]]]], -2]\n",
    "    expected = [0, 2, 2, 3, 8, 100, 4, 50, -2]\n",
    "    assert flatten(inputs) == expected\n",
    "\n",
    "    inputs = [1, [2, [[3]], [4, [[5]]], 6, 7], 8]\n",
    "    expected = [1, 2, 3, 4, 5, 6, 7, 8]\n",
    "    assert flatten(inputs) == expected\n",
    "\n",
    "    inputs = [0, 2, [[2, 3], 8, [[100]], -2]]\n",
    "    expected = [0, 2, 2, 3, 8, 100, -2]\n",
    "    assert flatten(inputs) == expected\n",
    "\n",
    "    assert flatten(['0', ['1', '2']]) == ['0', '1', '2']\n",
    "    print('Success!!')\n",
    "                  \n",
    "test_flatten()\n"
   ]
  }
 ],
 "metadata": {
  "kernelspec": {
   "display_name": "Python 3",
   "language": "python",
   "name": "python3"
  },
  "language_info": {
   "codemirror_mode": {
    "name": "ipython",
    "version": 3
   },
   "file_extension": ".py",
   "mimetype": "text/x-python",
   "name": "python",
   "nbconvert_exporter": "python",
   "pygments_lexer": "ipython3",
   "version": "3.8.11"
  }
 },
 "nbformat": 4,
 "nbformat_minor": 1
}
