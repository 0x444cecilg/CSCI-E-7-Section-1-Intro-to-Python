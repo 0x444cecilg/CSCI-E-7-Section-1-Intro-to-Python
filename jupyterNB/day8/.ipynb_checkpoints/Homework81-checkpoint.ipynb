{
 "cells": [
  {
   "cell_type": "markdown",
   "metadata": {},
   "source": [
    "# Homework 8\n",
    "\n",
    "## 2021\n",
    "\n",
    "### Fill in your name"
   ]
  },
  {
   "cell_type": "code",
   "execution_count": null,
   "metadata": {},
   "outputs": [],
   "source": [
    "first_name = \"\"\n",
    "last_name = \"\"\n",
    "\n",
    "assert(len(first_name) != 0)\n",
    "assert(len(last_name)  != 0)"
   ]
  },
  {
   "cell_type": "markdown",
   "metadata": {},
   "source": [
    "## Problem 1: Secret Code\n",
    "\n",
    "We looked at ROT-13, a simple substitution cipher, in Office Hours last week.\n",
    "\n",
    "This week we will write another cipher:\n",
    "\n",
    "```text\n",
    "Plain:  abcdefghijklmnopqrstuvwxyz\n",
    "Cipher: zyxwvutsrqponmlkjihgfedcba\n",
    "```\n",
    "\n",
    "To hide our tracks, when we encode, we split the string into blocks of 5 characters.  See the Unit Tests for examples.\n",
    "\n",
    "Write functions encode and decode that take a string and return an encoded or decoded string."
   ]
  },
  {
   "cell_type": "code",
   "execution_count": null,
   "metadata": {},
   "outputs": [],
   "source": [
    "def encode(text: str) -> str:\n",
    "    pass\n",
    "\n",
    "\n",
    "def decode(ciphered_text: str) -> str:\n",
    "    pass"
   ]
  },
  {
   "cell_type": "markdown",
   "metadata": {},
   "source": [
    "## Unit Tests"
   ]
  },
  {
   "cell_type": "code",
   "execution_count": null,
   "metadata": {},
   "outputs": [],
   "source": [
    "def test_code():\n",
    "    assert encode(\"no\") == \"ml\"\n",
    "    assert encode(\"yes\") == \"bvh\"\n",
    "    assert encode(\"OMG\") == \"lnt\"\n",
    "    assert encode(\"O M G\") == \"lnt\"\n",
    "    assert encode(\"mindblowingly\") == \"nrmwy oldrm tob\"\n",
    "    assert encode(\"Testing, 1 2 3, testing.\") == \"gvhgr mt123 gvhgr mt\"\n",
    "    assert encode(\"Truth is fiction.\") == \"gifgs rhurx grlm\"\n",
    "\n",
    "    plaintext = \"The quick brown fox jumps over the lazy dog.\"\n",
    "    ciphertext = \"gsvjf rxpyi ldmul cqfnk hlevi gsvoz abwlt\"\n",
    "    assert encode(plaintext) == ciphertext\n",
    "    assert decode(\"zmlyh\") == \"anobs\"\n",
    "    assert decode(\"zmlyh gzxov rhlug vmzhg vkkrm thglm v\") == \"anobstacleisoftenasteppingstone\"\n",
    "    assert decode(\"gvhgr mt123 gvhgr mt\") == \"testing123testing\"\n",
    "\n",
    "    ciphertext = \"gsvjf rxpyi ldmul cqfnk hlevi gsvoz abwlt\"\n",
    "    plaintext = \"thequickbrownfoxjumpsoverthelazydog\"\n",
    "    assert decode(ciphertext) == plaintext\n",
    "\n",
    "    ciphertext = \"zmlyhgzxovrhlugvmzhgvkkrmthglmv\"\n",
    "    plaintext = \"anobstacleisoftenasteppingstone\"\n",
    "    assert decode(ciphertext) == plaintext\n",
    "    \n",
    "    assert decode(encode(\"Testing, 1 2 3, testing.\")) == \"testing123testing\"\n",
    "    \n",
    "    print('Success!')\n",
    "    \n",
    "test_code()"
   ]
  },
  {
   "cell_type": "markdown",
   "metadata": {},
   "source": [
    "## Problem 2: Dates\n",
    "\n",
    "Fill in the defintion of the three method below for a class Date "
   ]
  },
  {
   "cell_type": "code",
   "execution_count": null,
   "metadata": {},
   "outputs": [],
   "source": [
    "class Date(object):\n",
    "    \"Represents a Calendar date\"\n",
    "    \n",
    "    def __init__(self, day=0, month=0, year=0):\n",
    "        \"Initialize\"\n",
    "        pass\n",
    "\n",
    "\n",
    "    def __str__(self):\n",
    "        \"Return a printable string representing the date: m/d/y\"\n",
    "        pass\n",
    "    \n",
    "\n",
    "    def before(self, other):\n",
    "        \"Is this date before other?\""
   ]
  },
  {
   "cell_type": "markdown",
   "metadata": {},
   "source": [
    "## Unit Tests"
   ]
  },
  {
   "cell_type": "code",
   "execution_count": null,
   "metadata": {},
   "outputs": [],
   "source": [
    "def test_dates():\n",
    "    t1 = Date(1, 2, 3)\n",
    "    assert t1.__str__() == '2/1/3'\n",
    "    t2 = Date(4, 5, 2)\n",
    "    assert t2.__str__() == '5/4/2'\n",
    "    \n",
    "    assert not t1.before(t1)\n",
    "    assert t2.before(t1)\n",
    "    assert not t1.before(t2)\n",
    " \n",
    "    t2 = Date(4, 1, 3)\n",
    "    assert t2.__str__() == '1/4/3'\n",
    "    \n",
    "    assert not t1.before(t1)\n",
    "    assert t2.before(t1)\n",
    "\n",
    "    t1 = Date(2, 2, 3)\n",
    "    t2 = Date(1, 2, 3)\n",
    "    assert t2.__str__() == '2/1/3'\n",
    "    \n",
    "    assert not t1.before(t1)\n",
    "    assert not t1.before(t2)\n",
    "    assert t2.before(t1)\n",
    "\n",
    "    print(\"Success!\")\n",
    "    \n",
    "test_dates()"
   ]
  },
  {
   "cell_type": "markdown",
   "metadata": {},
   "source": [
    "## Problem 3: Intervals\n",
    "\n",
    "This problems takes one of the share problems from Day 7 and solves it using Objects.\n",
    "\n",
    "Finish the definition of the class Interval.  The interval '[a..b]' includes all it\n",
    "Decide if two intervals are equal.  Print an interval as [a..b].  \n",
    "Decide if two intervals overlap, and merge two intervals.  "
   ]
  },
  {
   "cell_type": "code",
   "execution_count": null,
   "metadata": {},
   "outputs": [],
   "source": [
    "class Interval(object):\n",
    "    \n",
    "    def __init__(self, a, b):\n",
    "        \"\"\"Initialize an inteval\"\"\"\n",
    "        pass\n",
    "    \n",
    "    def __eq__(self, other):\n",
    "        \"\"\"Are two intervals equal?\"\"\"\n",
    "        pass\n",
    "    \n",
    "    def __str__(self):\n",
    "        \"\"\"Return string representing Interval\"\"\"\n",
    "        pass\n",
    "    \n",
    "    def intersect(self, other):\n",
    "        \"\"\"Do two Intervals intersect?\"\"\"\n",
    "        pass\n",
    "    \n",
    "    def merge(self, other):\n",
    "        \"\"\"Merge two intersecting Intervals\"\"\"\n",
    "        pass\n",
    "    \n",
    "# This is a function, not a method\n",
    "def contains(p, i):\n",
    "    \"\"\"Is the value i within the closed interval p?\"\"\"\n",
    "    pass"
   ]
  },
  {
   "cell_type": "markdown",
   "metadata": {},
   "source": [
    "## Unit Tests"
   ]
  },
  {
   "cell_type": "code",
   "execution_count": null,
   "metadata": {},
   "outputs": [],
   "source": [
    "def test_interval():\n",
    "    assert Interval(1, 3) == Interval(1, 3)\n",
    "    assert Interval(1, 3) == Interval(3, 1)\n",
    "    assert Interval(1, 3).__str__() == '[1..3]'\n",
    "    assert Interval(1, 3).intersect(Interval(2, 4))\n",
    "    assert not Interval(1, 3).intersect(Interval(4, 7))\n",
    "    assert Interval(1, 3).merge(Interval(2, 4)) == Interval(1, 4)\n",
    "    \n",
    "    print('Success!')\n",
    "    \n",
    "test_interval()"
   ]
  }
 ],
 "metadata": {
  "kernelspec": {
   "display_name": "Python 3",
   "language": "python",
   "name": "python3"
  },
  "language_info": {
   "codemirror_mode": {
    "name": "ipython",
    "version": 3
   },
   "file_extension": ".py",
   "mimetype": "text/x-python",
   "name": "python",
   "nbconvert_exporter": "python",
   "pygments_lexer": "ipython3",
   "version": "3.8.11"
  }
 },
 "nbformat": 4,
 "nbformat_minor": 1
}
